{
 "cells": [
  {
   "cell_type": "markdown",
   "metadata": {},
   "source": [
    "## Run Program By Pressing - >>\n",
    "\n",
    "### Note -- Program  send's too many consequtive requests from same IP address in short period of time, So the server may refuse your connection. If that happend pls pls Restart and clear output and Restart and Rerun the Kernal. Program Will run fine\n",
    "ValueError: arrays must all be same length\n"
   ]
  },
  {
   "cell_type": "markdown",
   "metadata": {},
   "source": [
    "# References\n",
    "1. Professor's Lecture and Project Discussion code. , Maximum part of my doubts were cleared here.\n",
    "2. https://www.w3schools.com/python/python_dictionaries.asp ,In case i got confused or got stuck on using dictionary. \n",
    "3. https://stackoverflow.com/questions/49794808/write-list-columnwise-in-csv-file-using-python ,used some idea from here to save data into my csv file."
   ]
  },
  {
   "cell_type": "markdown",
   "metadata": {},
   "source": [
    "### Import all the necessary library's. "
   ]
  },
  {
   "cell_type": "code",
   "execution_count": 1,
   "metadata": {},
   "outputs": [],
   "source": [
    "import urllib.request, urllib.parse, urllib.error\n",
    "from bs4 import BeautifulSoup\n",
    "import ssl\n",
    "import requests"
   ]
  },
  {
   "cell_type": "markdown",
   "metadata": {},
   "source": [
    "### And by pass the SSL certificate"
   ]
  },
  {
   "cell_type": "code",
   "execution_count": 2,
   "metadata": {},
   "outputs": [],
   "source": [
    "ctx = ssl.create_default_context()\n",
    "ctx.check_hostname = False\n",
    "ctx.verify_mode = ssl.CERT_NONE"
   ]
  },
  {
   "cell_type": "markdown",
   "metadata": {},
   "source": [
    "### Creating a user agent"
   ]
  },
  {
   "cell_type": "code",
   "execution_count": 3,
   "metadata": {},
   "outputs": [],
   "source": [
    "headers = {'User-Agent': 'Mozilla/5.0 (Macintosh; Intel Mac OS X 10_13_6) AppleWebKit/537.36 (KHTML, like Gecko) Chrome/70.0.3538.77 Safari/537.36'}"
   ]
  },
  {
   "cell_type": "markdown",
   "metadata": {},
   "source": [
    "## Function to get all the Movie Names"
   ]
  },
  {
   "cell_type": "markdown",
   "metadata": {},
   "source": [
    "Grab all the 500 movie names using the h3 tag from the web page one by one and return the names"
   ]
  },
  {
   "cell_type": "code",
   "execution_count": 4,
   "metadata": {},
   "outputs": [],
   "source": [
    "def get_movie_names():\n",
    "    name = movie.find('h3').text\n",
    "    return name"
   ]
  },
  {
   "cell_type": "markdown",
   "metadata": {},
   "source": [
    "## Function to get all the director Names"
   ]
  },
  {
   "cell_type": "markdown",
   "metadata": {},
   "source": [
    "Pass on the details link and the movie name.\n",
    "Parse the detailed link page using beautiful soup\n",
    "Each page has a table which contains directors names enclosed in a summary tag\n",
    "With in that tag directors name is enclosed in a anchor tag. Program strips out the director name enclosed with in the anchor tag and returns the director name. This will be done for all 500 movies"
   ]
  },
  {
   "cell_type": "code",
   "execution_count": 5,
   "metadata": {},
   "outputs": [],
   "source": [
    "def get_director(movie_name,detail_link):\n",
    "    # scrape the page using soup\n",
    "    url = detail_link\n",
    "    page = requests.get(url, headers = headers)\n",
    "    soup = BeautifulSoup(page.content, \"html.parser\")\n",
    "    \n",
    "    # for some movie director name is present\n",
    "    # and for some director name is not present\n",
    "    director_table = soup.find('table', class_ = 'credits', summary = movie_name + \"'s Director Credits\")\n",
    "    if director_table is None:\n",
    "        director_table = soup.find('table', class_ = 'credits', summary = movie_name + \"' Director Credits\")\n",
    "\n",
    "    director_line = director_table.find_all('td', class_ = 'person')\n",
    "    \n",
    "    if director_line is None:\n",
    "        return\n",
    "    \n",
    "    # once we get the class. we can strip out the director name from the class\n",
    "    directors = list()\n",
    "    for line in director_line:\n",
    "        hyperlink = line.find('a')\n",
    "        director = hyperlink.get_text()\n",
    "        directors.append(director.strip())\n",
    "\n",
    "    return directors\n"
   ]
  },
  {
   "cell_type": "markdown",
   "metadata": {},
   "source": [
    "## Function to get all the Cast Names"
   ]
  },
  {
   "cell_type": "markdown",
   "metadata": {},
   "source": [
    "Inside the detail link page there are information about cast and primary cast available. Both these together form the total cast of the movie."
   ]
  },
  {
   "cell_type": "code",
   "execution_count": 6,
   "metadata": {},
   "outputs": [],
   "source": [
    "# function get the main cast of the movie\n",
    "def get_cast(detail_link):\n",
    "    url = detail_link\n",
    "    page = requests.get(url, headers = headers)\n",
    "    soup = BeautifulSoup(page.content, \"html.parser\")\n",
    "    cast_table = soup.find('table', class_ = 'credits', summary = movie_name + \"'s Cast Credits\")\n",
    "    # check if the main cast is present or no\n",
    "    if cast_table is None:\n",
    "        cast_table = soup.find('table', class_ = 'credits', summary = movie_name + \"' Cast Credits\")\n",
    "\n",
    "    if cast_table is None:\n",
    "        return None\n",
    "    else:\n",
    "        cast_line = cast_table.find_all('td', class_ = 'person')\n",
    "        casts = list()\n",
    "        for line in cast_line:\n",
    "            hyperlink = line.find('a')\n",
    "            cast = hyperlink.get_text()\n",
    "            casts.append(cast.strip())\n",
    "        return casts\n"
   ]
  },
  {
   "cell_type": "code",
   "execution_count": 7,
   "metadata": {},
   "outputs": [],
   "source": [
    "# get the principal cast of movie\n",
    "def p_cast(detail_link):\n",
    "    url = detail_link\n",
    "    page = requests.get(url, headers = headers)\n",
    "    soup = BeautifulSoup(page.content, \"html.parser\")\n",
    "    # principal cast\n",
    "    p_cast_table = soup.find('table', class_ = 'credits', summary = movie_name + \"'s Principal Cast Credits\")\n",
    "    if p_cast_table is None:\n",
    "        p_cast_table = soup.find('table', class_ = 'credits', summary = movie_name + \"' Principal Cast Credits\")\n",
    "        \n",
    "    # check if principal cast of movie are present or no    \n",
    "    if p_cast_table is None:\n",
    "        return None\n",
    "    else:\n",
    "        p_cast_line = p_cast_table.find_all('td', class_ = 'person')\n",
    "        p_casts = list()\n",
    "        for line in p_cast_line:\n",
    "            hyperlink = line.find('a')\n",
    "            p_cast = hyperlink.get_text()\n",
    "            p_casts.append(p_cast.strip())\n",
    "        return p_casts\n"
   ]
  },
  {
   "cell_type": "markdown",
   "metadata": {},
   "source": [
    "## Function to grab all 5 pages containing 500 movies"
   ]
  },
  {
   "cell_type": "code",
   "execution_count": 8,
   "metadata": {},
   "outputs": [
    {
     "name": "stdout",
     "output_type": "stream",
     "text": [
      "500\n"
     ]
    }
   ],
   "source": [
    "container = []\n",
    "for i in range(5):  #0-4, each iteration will give you 100 movies\n",
    "    url = 'https://www.metacritic.com/browse/movies/score/metascore/all/filtered?sort=desc&page=' + str(i)\n",
    "    page = requests.get(url, headers = headers)\n",
    "    soup = BeautifulSoup(page.content, \"html.parser\")\n",
    "    hundred = soup.find_all('td', class_ = 'clamp-summary-wrap') #this hundred is a list containing the 100 movies on each page\n",
    "    container.extend(hundred)  #container is a list, hundred is also a list, so we use extend\n",
    "#     print(container)  # container has 500 pages\n",
    "print(len(container)) # now our container should have the tag for all 500 movies"
   ]
  },
  {
   "cell_type": "markdown",
   "metadata": {},
   "source": [
    "# Main Function that runs over 5 links. asking the web page for 500 movie information."
   ]
  },
  {
   "cell_type": "markdown",
   "metadata": {},
   "source": [
    "## Note --  Program will sending too many consequtive requests from same IP address in short period of time, So the server may refuse your connection. If that happend pls pls Restart and clear output and Restart and Rerun the Kernal. Program Will run fine"
   ]
  },
  {
   "cell_type": "code",
   "execution_count": 9,
   "metadata": {},
   "outputs": [],
   "source": [
    "#in order to make sure our movie name, director, and cast matches, we need to extract all 3 in one go\n",
    "#this is the proper solution\n",
    "\n",
    "count = 0\n",
    "\n",
    "casts = []\n",
    "\n",
    "# create a list of movies, director and casts\n",
    "movies = []\n",
    "directors = []\n",
    "all_cast = []\n",
    "movie_detail_link = []\n",
    "\n",
    "\n",
    "\n",
    "#loop through each of the 500 movies\n",
    "for movie in container:\n",
    "    #use your get_name() function\n",
    "    movie_name = get_movie_names()  # makes a call to function to grab 500 movie name and append it in a list\n",
    "    movies.append(movie_name)\n",
    "\n",
    "\n",
    "    # function gets detailed link of 500 movies\n",
    "    #because we already have the tag, we can extract name directly\n",
    "    movie_link_tag = movie.find('a', class_ = 'title') #then lets get movie link\n",
    "    movie_link = movie_link_tag.get('href', None) # we are only dealing with one movie at a time\n",
    "    movie_link = 'https://www.metacritic.com'+ movie_link\n",
    "    movie_detail_link.append(movie_link)\n",
    "    \n",
    "    detail_page = requests.get(movie_link, headers = headers)\n",
    "    detail_soup = BeautifulSoup(detail_page.content, \"html.parser\")\n",
    "    div = detail_soup('div', class_= 'see_all pad_btm1')\n",
    "    for line in div:\n",
    "        hyperlink = line.find('a')\n",
    "        detail_link = hyperlink.get('href', None) \n",
    "        detail_link = 'https://www.metacritic.com'+ detail_link \n",
    "        #now we have the detail link for each movie, again, we are only dealing with one movie here\n",
    "\n",
    "        \n",
    "#         here we get director name, and append it to a list\n",
    "        director = get_director(movie_name,detail_link)  \n",
    "        \n",
    "        directors.append(director)\n",
    "\n",
    "        # here we get the cast and pricipal cast list\n",
    "        cast = get_cast(detail_link) #now use your get_cast() function\n",
    "\n",
    "\n",
    "        principal_cast = p_cast(detail_link)\n",
    "\n",
    "\n",
    "\n",
    "        # here we get 500 casts. one by one and append all together in one final cast list\n",
    "        \n",
    "        \n",
    "        if cast is None:\n",
    "            casts = principal_cast\n",
    "        elif principal_cast is None:\n",
    "            casts = cast\n",
    "        else:\n",
    "            casts = cast + principal_cast\n",
    "            \n",
    "        all_cast.append(casts)\n",
    "        \n"
   ]
  },
  {
   "cell_type": "markdown",
   "metadata": {},
   "source": [
    "### prints out how many movie, director and cast got appended"
   ]
  },
  {
   "cell_type": "code",
   "execution_count": 10,
   "metadata": {},
   "outputs": [
    {
     "name": "stdout",
     "output_type": "stream",
     "text": [
      "500\n",
      "500\n",
      "500\n",
      "500\n"
     ]
    }
   ],
   "source": [
    "print(len(movies))\n",
    "print(len(directors))\n",
    "print(len(all_cast))\n",
    "print(len(movie_detail_link))"
   ]
  },
  {
   "cell_type": "markdown",
   "metadata": {},
   "source": [
    "## Appending Movie Inforamtion to a file CSV"
   ]
  },
  {
   "cell_type": "code",
   "execution_count": 11,
   "metadata": {},
   "outputs": [],
   "source": [
    "import pandas as pd\n",
    "\n",
    "list1 = movies\n",
    "list2 = movie_detail_link\n",
    "list3 = directors\n",
    "list4 = all_cast\n",
    "\n",
    "\n",
    "list_ThreeToStr = [','.join(ele) for ele in list3]\n",
    "\n",
    "list_FourToStr = []\n",
    "for ele in list4:\n",
    "    if ele is None:\n",
    "        list_FourToStr.append(None)\n",
    "    else:\n",
    "        list_FourToStr.append(','.join(ele))\n",
    "    \n",
    "pd.DataFrame({'Movie Name': list1, 'Movie Detail Link': list2, 'Directors': list_ThreeToStr, 'Casts':list_FourToStr}).to_csv('file.csv', index=False)\n",
    "\n",
    "\n",
    "\n"
   ]
  },
  {
   "cell_type": "markdown",
   "metadata": {},
   "source": [
    "# Adding data into database"
   ]
  },
  {
   "cell_type": "code",
   "execution_count": 12,
   "metadata": {},
   "outputs": [],
   "source": [
    "import sqlite3"
   ]
  },
  {
   "cell_type": "code",
   "execution_count": 13,
   "metadata": {},
   "outputs": [],
   "source": [
    "conn = sqlite3.connect('moviesDemo.sqlite') #this opens the music database, if it does not exist, it will create a new one\n",
    "#it can also connect to remote databases, but we are just doing it on our local server\n",
    "cur = conn.cursor() #cursor reads the database, like open() when we are dealing with files"
   ]
  },
  {
   "cell_type": "code",
   "execution_count": 14,
   "metadata": {},
   "outputs": [],
   "source": [
    "cur.execute('DROP TABLE IF EXISTS Movies') #note we put SQL command between quotation marks '' \n",
    "cur.execute('CREATE TABLE IF NOT EXISTS Movies (movie_name TEXT, movie_link TEXT, director TEXT, primary_cast TEXT)') #CREATE TABLE + {table name} + (Column1 Constraint, Column2 Constraint...)\n",
    "conn.commit()"
   ]
  },
  {
   "cell_type": "code",
   "execution_count": 15,
   "metadata": {},
   "outputs": [],
   "source": [
    "list1 = movies\n",
    "list2 = movie_detail_link\n",
    "list3 = directors\n",
    "list4 = all_cast\n",
    "list_ThreeToStr = [''.join(ele) for ele in list3]\n",
    "\n",
    "list_FourToStr = []\n",
    "for ele in list4:\n",
    "    if ele is None:\n",
    "        list_FourToStr.append(None)\n",
    "    else:\n",
    "        list_FourToStr.append(''.join(ele))\n",
    "\n",
    "for i in range(len(movies)):\n",
    "    cur.execute('INSERT INTO Movies (movie_name, movie_link, director, primary_cast) VALUES (?, ?, ?, ?)', (list1[i], list2[i], list_ThreeToStr[i], list_FourToStr[i]))     "
   ]
  },
  {
   "cell_type": "markdown",
   "metadata": {},
   "source": [
    "### Printing Info from database"
   ]
  },
  {
   "cell_type": "code",
   "execution_count": 16,
   "metadata": {},
   "outputs": [
    {
     "name": "stdout",
     "output_type": "stream",
     "text": [
      "Movies\n",
      "('Citizen Kane', 'https://www.metacritic.com/movie/citizen-kane', 'Orson Welles', 'Agnes MooreheadDorothy ComingoreErskine SanfordEverett SloaneFortunio BonanovaGeorge CoulourisGeorgia BackusGus SchillingHarry ShannonPaul StewartPhilip Van ZandtRay CollinsRuth WarrickWilliam AllandJoseph CottenOrson Welles')\n",
      "('The Godfather', 'https://www.metacritic.com/movie/the-godfather', 'Francis Ford Coppola', 'Abe VigodaAl LettieriDiane KeatonGianni RussoJames CaanJohn CazaleJohn MarleyRichard ConteRichard S. CastellanoRobert DuvallRudy BondSterling HaydenTalia ShireAl PacinoMarlon Brando')\n",
      "('Rear Window', 'https://www.metacritic.com/movie/rear-window', 'Alfred Hitchcock', 'Havis DavenportIrene WinstonJerry AntesJesslyn FaxRand HarperFrank CadyGeorgine DarcyGrace KellyJames StewartJudith EvelynRaymond BurrRoss BagdasarianSara BernerThelma RitterWendell Corey')\n",
      "('Casablanca', 'https://www.metacritic.com/movie/casablanca', 'Michael Curtiz', 'Claude RainsConrad VeidtCurt BoisDooley WilsonEnrique AcostaJohn QualenJoy PageLeonid KinskeyMadeleine LebeauPaul HenreidPeter LorreS.Z. SakallSydney GreenstreetHumphrey BogartIngrid Bergman')\n",
      "('Boyhood', 'https://www.metacritic.com/movie/boyhood', 'Richard Linklater', 'Alyssa PetersenAndrea ChenAndrew VillarrealAngela RawnaBonnie CrossBrad HawkinsCassidy JohnsonDavid BlackwellDeanna BrochinDerek Chase HickeyElijah SmithEthan HawkeEvie ThompsonGreg BagliaJamie HowardJonathan BellJordan HowardLibby VillariLorelei LinklaterMarco PerellaMark FinnMegan DevineMona Lee FultzNatalie WilemonNick KrausePatricia ArquetteRyan PowerSam DillonSavannah WelchShane GrahamSharee FowlerSteven Chester PrinceSydney OrtaTamara JolaineTess AllenZoe GrahamBonnie CrossElijah SmithEllar ColtraneEthan HawkeLibby VillariLorelei LinklaterMarco PerellaPatricia ArquetteSteven Chester Prince')\n",
      "('Three Colors: Red', 'https://www.metacritic.com/movie/three-colors-red', 'Krzysztof Kieslowski', 'Bernard EscalonBrigitte RaulElzbieta JasinskaFrédérique FederJean SchlegelJean-Marie DaunasJean-Pierre LoritLeo RamseyerMarion StalensPaul VermeulenRoland CareySamuel Le BihanTeco CelioIrène JacobJean-Louis Trintignant')\n",
      "('Vertigo', 'https://www.metacritic.com/movie/vertigo', 'Alfred Hitchcock', 'Danny BorzageIsabel AnallaJack AnoJohn BensonMargaret BaconBarbara Bel GeddesDavid AhdarEllen CorbyHenry JonesJames StewartKim NovakKonstantin ShayneLee PatrickRaymond BaileyTom Helmore')\n",
      "('Notorious', 'https://www.metacritic.com/movie/notorious-1946', 'Alfred Hitchcock', 'Bernice BarrettCharles MendlE.A. KrumschmidtFay BakerRicardo CostaAlexis MinotisCary GrantClaude RainsIngrid BergmanIvan TriesaultLeopoldine KonstantinLouis CalhernMoroni OlsenReinhold SchünzelWally Brown')\n",
      "(\"Singin' in the Rain\", 'https://www.metacritic.com/movie/singin-in-the-rain', 'Gene KellyStanley Donen', \"Bette ArlenBetty AllenJimmy BatesMarie ArdellSue AllenCyd CharisseDawn AddamsDebbie ReynoldsDonald O'ConnorDouglas FowleyGene KellyJean HagenJohn AlbrightMillard MitchellRita Moreno\")\n",
      "('City Lights', 'https://www.metacritic.com/movie/city-lights', 'Charles Chaplin', 'Al Ernest GarciaAlbert AustinBetty BlairBuster BrodieEddie BakerFlorence LeeHank MannHarry AyersHarry MyersHenry BergmanJack AlexanderT.S. AlexanderVictor AlexanderCharles ChaplinVirginia Cherrill')\n",
      "('Moonlight', 'https://www.metacritic.com/movie/moonlight-2016', 'Barry Jenkins', \"Alex R. HibbertAndre HollandAshton SandersDuan 'Sandy' SandersonDuan SandersonDuan'Sandy' SandersonEddie BlanchardEdson JeanHerman 'Caheei McGlounJaden PinerJanelle MonáeJharrel JeromeKamal Ani-BellowKeomi GivensLarry AndersonMahershala AliNaomie HarrisPatrick DecileRudi GoblenRudi GoblinShariff EarpStephon BronTanisha CidelTrevante RhodesAlex R. HibbertAshton SandersDuan SandersonHerman 'Caheei McGlounJaden PinerJanelle MonáeMahershala AliNaomie HarrisShariff Earp\")\n",
      "('Intolerance', 'https://www.metacritic.com/movie/intolerance', 'D.W. Griffith', 'Dore DavidsonEdward DillonElmer CliftonFrank BennettJosephine CrowellLucille BrowneMary AldenMiriam CooperMonte BluePearl ElmoreSam De GrasseSpottiswoode AitkenTaylor N. DuncanWilliam H. BrownLillian Gish')\n",
      "('Pinocchio', 'https://www.metacritic.com/movie/pinocchio-1940', 'Ben SharpsteenBill RobertsHamilton LuskeJack KinneyNorman FergusonT. HeeWilfred Jackson', 'Clarence NashJack MercerJohn McLeishMae QuestelPatricia PageThurl RavenscroftCharles JudelsCliff EdwardsDickie JonesDon BrodieFrankie DarroMarion DarlingtonMel BlancStuart BuchananWalter Catlett')\n",
      "('Touch of Evil', 'https://www.metacritic.com/movie/touch-of-evil', 'Orson Welles', 'Joi LansingLalo RiosMichael SargentPhil HarveyVictor MillanAkim TamiroffCharlton HestonDennis WeaverJanet LeighJoanna MooreJoseph CalleiaMort MillsOrson WellesRay CollinsValentin de Vargas')\n",
      "('The Lady Vanishes', 'https://www.metacritic.com/movie/the-lady-vanishes-1938', 'Alfred Hitchcock', 'Catherine LaceyGoogie WithersPhilip LeaverSally StewartSelma Vaz DiasBasil RadfordCecil ParkerDame May WhittyEmile BoreoLinden TraversMargaret LockwoodMary ClareMichael RedgraveNaunton WaynePaul Lukas')\n",
      "('The Treasure of the Sierra Madre', 'https://www.metacritic.com/movie/the-treasure-of-the-sierra-madre', 'John Huston', 'Guillermo CallesJacqueline DalyaRobert BlakeRoberto CañedoSpencer ChanAlfonso BedoyaArturo Soto RangelBarton MacLaneBruce BennettHumphrey BogartJosé TorvayManuel DondéMargarito LunaTim HoltWalter Huston')\n",
      "(\"Pan's Labyrinth\", 'https://www.metacritic.com/movie/pans-labyrinth', 'Guillermo del Toro', 'Álex AnguloCésar VeaDoug JonesEusebio LázaroFrancisco VidalGonzalo UriarteIvan MassaguéJuanjo CucalónLina MiraManolo SoloMaribel VerdúRoger CasamajorAriadna GilIvana BaqueroSergi López')\n",
      "('Some Like It Hot', 'https://www.metacritic.com/movie/some-like-it-hot', 'Billy Wilder', \"Barbara DrewBeverly WillsDave BarryHarry WilsonMike MazurkiBilly GrayGeorge E. StoneGeorge RaftJack LemmonJoan ShawleeJoe E. BrownMarilyn MonroeNehemiah PersoffPat O'BrienTony Curtis\")\n",
      "('North by Northwest', 'https://www.metacritic.com/movie/north-by-northwest', 'Alfred Hitchcock', 'Edward BinnsLes TremaynePatrick McVeyPhilip CoolidgeRobert EllensteinAdam WilliamsCary GrantEdward PlattEva Marie SaintJames MasonJessie Royce LandisJosephine HutchinsonLeo G. CarrollMartin LandauPhilip Ober')\n",
      "('Hoop Dreams', 'https://www.metacritic.com/movie/hoop-dreams', 'Steve James', \"Aretha MitchellArthur 'Bo' AgeeBill GleasonCurtis GatesEarl SmithEmma GatesGene PingatoreIsiah ThomasLuther BedfordMarjorie HeardMarlyn HopewellPatricia WeirSheila AgeeArthur AgeeWilliam Gates\")\n",
      "('Rashomon', 'https://www.metacritic.com/movie/rashomon', 'Akira Kurosawa', 'Daisuke KatôKichijirLeslie DanielsMachiko KyôMasayuki MoriMinoru ChiakiNoriko HonmaTakashi ShimuraToshirô Mifune')\n",
      "('All About Eve', 'https://www.metacritic.com/movie/all-about-eve', 'Joseph L. Mankiewicz', 'Barbara WhiteCraig HillLeland HarrisRandy StuartWalter HampdenAnne BaxterBarbara BatesBette DavisCeleste HolmGary MerrillGeorge SandersGregory RatoffHugh MarloweMarilyn MonroeThelma Ritter')\n",
      "('Jules and Jim', 'https://www.metacritic.com/movie/jules-and-jim', 'François Truffaut', 'Anny NelsenBernard LargemainDanielle BassiakDominique LacarrièreElen BoberHenri SerreKate NoelleMarie DuboisMichel SuborPierre FabreSabine HaudepinSerge RezvaniVanna UrbinoJeanne MoreauOskar Werner')\n",
      "('The Wild Bunch', 'https://www.metacritic.com/movie/the-wild-bunch', 'Sam Peckinpah', \"Albert DekkerBo HopkinsDub TaylorJorge RussekPaul HarperBen JohnsonEdmond O'BrienEmilio FernándezErnest BorgnineJaime SánchezL.Q. JonesRobert RyanStrother MartinWarren OatesWilliam Holden\")\n",
      "('My Left Foot', 'https://www.metacritic.com/movie/my-left-foot', 'Jim Sheridan', \"Alison WhelanCyril CusackDeclan CroghanDerry PowerEanna MacLiamFiona ShawHugh O'ConorKirsten SheridanMarie ConmeePat LaffanPhelim DrewRay McAnallyRuth McCabeBrenda FrickerDaniel Day-Lewis\")\n",
      "('The Third Man', 'https://www.metacritic.com/movie/the-third-man', 'Carol Reed', 'Harold AyerHarry BelcherHedwig BleibtreuJack ArrowNelly ArnoAlida ValliBernard LeeErich PontoErnst DeutschJoseph CottenOrson WellesPaul HörbigerSiegfried BreuerTrevor HowardWilfrid Hyde-White')\n",
      "('Dr. Strangelove or: How I Learned to Stop Worrying and Love the Bomb', 'https://www.metacritic.com/movie/dr-strangelove-or-how-i-learned-to-stop-worrying-and-love-the-bomb', 'Stanley Kubrick', \"Frank BerryGlenn BeckHal GaliliJack CreleyJames Earl JonesKeenan WynnPeter BullRobert O'NeilRoy StephensShane RimmerSlim PickensSterling HaydenTracy ReedGeorge C. ScottPeter Sellers\")\n",
      "('Quo Vadis, Aida?', 'https://www.metacritic.com/movie/quo-vadis-aida', 'Jasmila Zbanic', 'Alban UkajEdita MalovcicErmin BravoJelena KordicJuda GoslingaBoris IsakovicBoris LerDino BajrovicEmir HadzihafizbegovicIzudin BajrovicJasna DjuricicJohan HeldenberghRaymond ThiryReinout BussemakerTeun Luijkx')\n",
      "('Gone with the Wind', 'https://www.metacritic.com/movie/gone-with-the-wind', 'George CukorSam WoodVictor Fleming', \"Alicia RhettAnn RutherfordBarbara O'NeilButterfly McQueenEvelyn KeyesEverett BrownFred CraneGeorge ReevesHattie McDanielHoward C. HickmanLeslie HowardOscar PolkThomas MitchellVictor JoryVivien Leigh\")\n",
      "('4 Months, 3 Weeks and 2 Days', 'https://www.metacritic.com/movie/4-months-3-weeks-and-2-days', 'Cristian Mungiu', 'Adi CarauleanuAlexandru PotoceanCerasela IosifescuConstantin BojogCostica BabuCristina BurbuzDoru AnaEugenia BosânceanuIon SapdaruLaura VasiliuLiliana MocanuLuminita GheorghiuMarioara SterianMihaela AlexandruMonica AlexandrescuTania PopaTeodor CorbanAnamaria MarincaVlad Ivanov')\n",
      "('Psycho', 'https://www.metacritic.com/movie/psycho-1960', 'Alfred Hitchcock', 'Fletcher AllenFrank AlbertsonJohn AndersonJohn GavinJohn McIntireLurene TuttleMartin BalsamMort MillsPatricia HitchcockSimon OaklandVaughn TaylorVera MilesWalter BaconAnthony PerkinsJanet Leigh')\n",
      "('Battleship Potemkin', 'https://www.metacritic.com/movie/battleship-potemkin', 'Sergei M. Eisenstein', 'Beatrice VitoldiDaniil AntonovichIona Biy-BrodskiyJulia EisensteinSergei M. EisensteinA. GlaubermanAleksandr AntonovAleksandr LevshinGrigoriy AleksandrovIvan BobrovKonstantin FeldmanMikhail GomorovN. PoltavtsevaProkhorenkoVladimir Barskiy')\n",
      "('A Streetcar Named Desire', 'https://www.metacritic.com/movie/a-streetcar-named-desire', 'Elia Kazan', 'Dahn Ben AmotzEdna ThomasMarietta CantyMel ArcherMickey KuhnAnn DereKarl MaldenKim HunterMarlon BrandoNick DennisPeg HilliasRichard GarrickRudy BondVivien LeighWright King')\n",
      "('American Graffiti', 'https://www.metacritic.com/movie/american-graffiti', 'George Lucas', 'Beau GentryDeby CelizHarrison FordJana BellanJim BohanBo HopkinsCandy ClarkCharles Martin SmithCindy WilliamsMackenzie PhillipsManuel Padilla Jr.Paul Le MatRichard DreyfussRon HowardWolfman Jack')\n",
      "('Dumbo', 'https://www.metacritic.com/movie/dumbo-1941', 'Ben SharpsteenBill RobertsJack KinneyJohn ElliotteNorman FergusonSamuel ArmstrongWilfred Jackson', 'Hall JohnsonHarold ManleyJames MacDonaldJohn McLeishMalcolm HuttonBilly BletcherCliff EdwardsEddie HoldenEdward BrophyHerman BingJames BaskettJim CarmichaelNoreen GammillSterling HollowayVerna Felton')\n",
      "('Roma', 'https://www.metacritic.com/movie/roma', 'Alfonso Cuarón', 'Jorge Antonio GuerreroJosé Luis López GómezJosé Manuel Guerrero MendozaLatin LoverZarela Lizbeth Chinolla ArellanoAndy CortésCarlos PeraltaDaniela DemesaDiego Cortina AutreyFernando GrediagaMarco GrafMarina de TaviraNancy García GarcíaVerónica GarcíaYalitza Aparicio')\n",
      "('Ran', 'https://www.metacritic.com/movie/ran', 'Akira Kurosawa', 'Hisashi IgawaKazuo KatôKenji KodamaMansai NomuraMasayuki YuiMieko HaradaNorio MatsuiPeterTakashi WatanabeToshiya ItoYoshiko MiyazakiAkira TeraoDaisuke RyûJinpachi NezuTatsuya Nakadai')\n",
      "('The Shop Around the Corner', 'https://www.metacritic.com/movie/the-shop-around-the-corner', 'Ernst Lubitsch', 'Charles ArntCharles HaltonCharles SmithJoan BlairMary CarrEdwin MaxwellFelix BressartFrank MorganInez CourtneyJames StewartJoseph SchildkrautMargaret SullavanSara HadenSarah EdwardsWilliam Tracy')\n",
      "('12 Angry Men', 'https://www.metacritic.com/movie/12-angry-men', 'Sidney Lumet', 'E.G. MarshallEd BegleyEdward BinnsGeorge VoskovecJack KlugmanJack WardenJames KellyJohn FiedlerJoseph SweeneyMartin BalsamRobert WebberRudy BondTom GormanHenry FondaLee J. Cobb')\n",
      "('Manchester by the Sea', 'https://www.metacritic.com/movie/manchester-by-the-sea', 'Kenneth Lonergan', \"Amanda BlattnerAnna BaryshnikovAnthony EstrellaBen HansonBen O'BrienBrian ChamberlainC.J. WilsonCasey AffleckChaunty SpillaneDanae NasonErica McDermottGretchen MolHeather BurnsJeffrey CorazziniJosh HamiltonKara HaywardKyle ChandlerLewis D. WheelerLiam McNeillLucas HedgesMark BurzenskiMary MallenMatthew BroderickMichelle WilliamsMissy YagerOscar WahlbergQuincy Tyler BernstineRichard DonellyRobert SellaRuibo QianStephanie Ann SaundersStephen HendersonSusan PourfarTate DonovanTom KempVirginia Loring CookeCasey AffleckKyle ChandlerLucas HedgesMichelle Williams\")\n",
      "(\"Rosemary's Baby\", 'https://www.metacritic.com/movie/rosemarys-baby', 'Roman Polanski', \"Charles GrodinD'Urville MartinElisha Cook Jr.Emmaline HenryHanna HertelendyHope SummersMaurice EvansPatsy KellyPhil LeedsRalph BellamyRuth GordonSidney BlackmerVictoria VetriJohn CassavetesMia Farrow\")\n",
      "('The Maltese Falcon', 'https://www.metacritic.com/movie/the-maltese-falcon', 'John Huston', 'Charles DrakeChester GanJames BurkeJohn HamiltonMurray AlperBarton MacLaneElisha Cook Jr.Gladys GeorgeHumphrey BogartJerome CowanLee PatrickMary AstorPeter LorreSydney GreenstreetWard Bond')\n",
      "('12 Years a Slave', 'https://www.metacritic.com/movie/12-years-a-slave', 'Steve McQueen', \"Adepero OduyeAlfre WoodardAshley DykeBenedict CumberbatchBill CampBrad PittBryan BattCameron ZeiglerChiwetel EjioforChris ChalkChristopher BerryCraig TateDickie GravoisDwight HenryGarret DillahuntKelsey ScottLupita Nyong'oMarcus Lyle BrownMichael FassbenderMichael K. WilliamsMister Mackey Jr.Paul DanoPaul GiamattiQuvenzhané WallisRuth NeggaSarah PaulsonScoot McNairyTaran KillamTom ProctorTony BentleyAlfre WoodardBenedict CumberbatchBrad PittChiwetel EjioforGarret DillahuntMichael FassbenderMichael K. WilliamsPaul DanoPaul GiamattiSarah Paulson\")\n",
      "('Killer of Sheep', 'https://www.metacritic.com/movie/killer-of-sheep', 'Charles Burnett', 'Angela BurnettCharles BracyChris TerrillEugene CherryHenry G. SandersHomer JaiJack DrummondJohnny SmokeKaycee MooreLawrence PierottRussell MilesAngela BurnettCharles BracyDelores FarleyDorothy StengelEugene CherryHenry G. SandersJack DrummondKaycee MooreSlimTobar Mayo')\n",
      "('Nashville', 'https://www.metacritic.com/movie/nashville', 'Robert Altman', 'Allen GarfieldBarbara HarrisHenry GibsonJeff GoldblumScott GlennBarbara BaxleyDavid ArkinGeraldine ChaplinKaren BlackKeith CarradineNed BeattyRobert DoQuiRonee BlakleyShelley DuvallTimothy Brown')\n",
      "('Ratatouille', 'https://www.metacritic.com/movie/ratatouille', 'Brad Bird', \"Brian DennehyIan HolmJake SteinfeldJames RemarJaneane GarofaloJohn RatzenbergerJulius CallahanPeter O'ToolePeter SohnTeddy NewtonTony FucileWill ArnettBrad GarrettLou RomanoPatton Oswalt\")\n",
      "('Parasite', 'https://www.metacritic.com/movie/parasite', 'Joon-ho Bong', 'Hye-jin JangHyun Seung-minJaeWook ParkJeong EsuzJeong-eun LeeJi-hye LeeJi-rye LeeJung Hyeon-junJung Ik-HanJung ZisoKang EchaeKeun-rok ParkLee Joo-HyungMyeong-hoon ParkPak Hyo-ShinSeo Joon ParkSeong-Bong AhnAndreas FronkHyae Jin ChangHye-jin JangHyun Seung-minJaeWook ParkJeong EsuzJeong-eun LeeJi-rye LeeJung Hyeon-junJung Ik-HanKang EchaeKang-ho SongLee Joo-HyungMyeong-hoon ParkPak Hyo-ShinSeo Joon ParkSeon-gyun LeeSo-dam ParkWoo-sik ChoiYeo-Jeong ChoYeo-jeong Jo')\n",
      "('Rocks', 'https://www.metacritic.com/movie/rocks', 'Sarah Gavron', \"Brie-Morgan AppletonIslah Abdur-RahmanMohammad AmiriSharon D ClarkeShola AdewusiAfi OkaidjaAnastasia DymitrowBukky BakrayD'angelou Osei KissieduKosar AliLayo-Christina AkinludeRuby StokesSarah NilesShaneigha-Monik GreysonTawheda Begum\")\n",
      "(\"Don't Look Now\", 'https://www.metacritic.com/movie/dont-look-now', 'Nicolas Roeg', 'Adelina PoerioBruno CattaneoNicholas SalterSharon WilliamsAnn RyeClelia MataniaDavid TreeDonald SutherlandGiorgio TrestiniHilary MasonJulie ChristieLeopoldo TriesteMassimo SeratoRenato Scarpa')\n",
      "('The Grapes of Wrath', 'https://www.metacritic.com/movie/the-grapes-of-wrath', 'John Ford', 'Darryl HickmanFrank DarienFrank SullyRoger ImhofShirley MillsCharley GrapewinDorris BowdonEddie QuillanHenry FondaJane DarwellJohn CarradineJohn QualenO.Z. WhiteheadRussell SimpsonZeffie Tilbury')\n",
      "('Children of Paradise (1945)', 'https://www.metacritic.com/movie/children-of-paradise', 'Marcel Carné', 'Etienne DecrouxFabien LorisGaston ModotHabib BengliaJane MarkenLouis FlorencieMarcel PérèsMarcelle MonthilMaría CasaresPalauPierre BrasseurPierre RenoirRognoniArlettyJean-Louis Barrault')\n",
      "('Mean Streets', 'https://www.metacritic.com/movie/mean-streets', 'Martin Scorsese', 'David CarradineHarry NorthupLois WaldenMurray MostonRobert CarradineAmy RobinsonCesare DanovaDavid ProvalGeorge MemmoliHarvey KeitelJeannie BellLenny ScalettaRichard RomanusRobert De NiroVictor Argo')\n",
      "('The Lady Eve', 'https://www.metacritic.com/movie/the-lady-eve', 'Preston Sturges', \"Abdullah AbbasDora ClementLuis AlberniMary AkinNorman AinsleyBarbara StanwyckCharles CoburnEric BloreEugene PalletteHenry FondaJanet BeecherMartha O'DriscollMelville CooperRobert GreigWilliam Demarest\")\n",
      "('Gravity', 'https://www.metacritic.com/movie/gravity', 'Alfonso Cuarón', 'Amy WarrenBasher SavageEd HarrisEric MichelsGeorge ClooneyJanis AhernOrto IgnatiussenPaul SharmaSandra BullockGeorge ClooneySandra Bullock')\n",
      "('Fantasia', 'https://www.metacritic.com/movie/fantasia', 'Ben SharpsteenBill RobertsDavid HandFord Beebe Jr.Hamilton LuskeJames AlgarJim HandleyNorman FergusonPaul SatterfieldSamuel ArmstrongT. HeeWilfred Jackson', 'Corey BurtonDeems TaylorHugh DouglasJames MacDonaldJulietta NovisLeopold StokowskiPaul J. SmithTim MathesonWalt Disney')\n",
      "('Spirited Away', 'https://www.metacritic.com/movie/spirited-away', 'Hayao Miyazaki', 'Bunta SugawaraKoba HayashiMari NatsukiNoriko KitouRumi HîragiRyûnosuke KamikiShigeru WakitaShiro SaitoTakashi NaitôTakehiko OnoTatsuya GashûinTsunehiko KamijôYasuko SawaguchiYô ÔizumiYumi TamaiMiyu Irino')\n",
      "('Beauty and the Beast', 'https://www.metacritic.com/movie/beauty-and-the-beast-1991', 'Gary TrousdaleKirk Wise', \"Alec MurphyAlvin EpsteinAngela LansburyBradley PierceBrian CummingsDavid Ogden StiersJerry OrbachJesse CortiJo Anne WorleyMary Kay BergmanRex EverhartRichard WhiteTony JayPaige O'HaraRobby Benson\")\n",
      "('Small Axe: Lovers Rock', 'https://www.metacritic.com/movie/lovers-rock', 'Steve McQueen', 'Alexander James-BlakeFrankie FoxJermaine FreemanRomario SimpsonSaffron CoomberAmarah-Jae St. AubynDaniel Francis-SwabyEllis GeorgeFrancis LovehallJoshua VinerKadeem RamsayKedar Williams-StirlingMarcus FraserMicheal WardShaniqua Okwok')\n",
      "('Toy Story', 'https://www.metacritic.com/movie/toy-story', 'John Lasseter', 'Annie PottsDon RicklesErik von DettenJack AngelJim VarneyJohn MorrisJohn MorrisJohn RatzenbergerLaurie MetcalfPenn JilletteR. Lee ErmeySarah FreemanSpencer AsteWallace ShawnTim AllenTom Hanks')\n",
      "('The Bride of Frankenstein', 'https://www.metacritic.com/movie/the-bride-of-frankenstein', 'James Whale', \"Anne DarlingDwight FryeMary GordonO.P. HeggieReginald BarlowBoris KarloffColin CliveDouglas WaltonE.E. CliveElsa LanchesterErnest ThesigerGavin GordonLucien PrivalUna O'ConnorValerie Hobson\")\n",
      "('The Social Network', 'https://www.metacritic.com/movie/the-social-network', 'David Fincher', 'Adina PorterAlecia SvensenArmie HammerBrenda SongBryan BarterCaleb Landry JonesCalvin DeanCherilyn WilsonDakota JohnsonDenise GraysonDustin FitzsimonsJames DastoliJami OwenJayk GallagherJoseph MazzelloMalese JowMarcella Lentz-PopeMax MinghellaPatrick MapelRashida JonesRobert DastoliRooney MaraScotty CroweShelby YoungToby MeuliTrevor WrightAndrew GarfieldJesse EisenbergJustin Timberlake')\n",
      "('My Fair Lady', 'https://www.metacritic.com/movie/my-fair-lady', 'George Cukor', 'Elizabeth AimersHelen AlbrechtJohn AldersonLaWana BackerMary AlexanderAudrey HepburnGladys CooperIsobel ElsomJeremy BrettJohn HollandMona WashbourneRex HarrisonStanley HollowayTheodore BikelWilfrid Hyde-White')\n",
      "('Portrait of a Lady on Fire', 'https://www.metacritic.com/movie/portrait-of-a-lady-on-fire', 'Céline Sciamma', 'Adele HaenelArmande BoulangerCécile MorelChristel BarasClément BouyssouGuy DelamarcheLuàna BajramiMichèle ClémentNoémie MerlantValeria Golino')\n",
      "('I Am Not Your Negro', 'https://www.metacritic.com/movie/i-am-not-your-negro', 'Raoul Peck', 'Dick CavettJames BaldwinSamuel L. JacksonShumerria Harris')\n",
      "('Woodstock', 'https://www.metacritic.com/movie/woodstock-1970', 'Michael Wadleigh', 'Bob DavisCanned HeatJimi HendrixJohn SebastianSantanaSly and the Family StoneArlo GuthrieCountry Joe and the FishCrosby Stills & NashJoan BaezJoe CockerRichie HavensSha-Na-NaTen Years AfterThe Who')\n",
      "('Double Indemnity', 'https://www.metacritic.com/movie/double-indemnity', 'Billy Wilder', 'Edmund CobbJames AdamsonJohn BerryKernan CrippsRaymond ChandlerBarbara StanwyckByron BarrEdward G. RobinsonFortunio BonanovaFred MacMurrayJean HeatherJohn PhilliberPorter HallRichard GainesTom Powers')\n",
      "('Snow White and the Seven Dwarfs', 'https://www.metacritic.com/movie/snow-white-and-the-seven-dwarfs', 'Ben SharpsteenDavid HandLarry MoreyPerce PearceWilfred JacksonWilliam Cottrell', 'James MacDonaldMoroni OlsenPurv PullenScotty MattrawAdriana CaselottiBilly GilbertEddie CollinsHarry StockwellLucille La VerneMarion DarlingtonOtis HarlanPinto ColvigRoy AtwellStuart Buchanan')\n",
      "('The Hurt Locker', 'https://www.metacritic.com/movie/the-hurt-locker', 'Kathryn Bigelow', 'Barrie RiceChristian CamargoChristopher SayeghDavid MorseEvangeline LillyFeisal SadounGuy PearceNabil KoniRalph FiennesSam RedfordSam SpruellSuhail AldabbachAnthony MackieBrian GeraghtyJeremy Renner')\n",
      "('Anatomy of a Murder', 'https://www.metacritic.com/movie/anatomy-of-a-murder', 'Otto Preminger', \"Alexander CampbellBrooks WestHoward McNearJohn QualenKen LynchArthur O'ConnellBen GazzaraEve ArdenGeorge C. ScottJames StewartKathryn GrantLee RemickMurray HamiltonOrson BeanRuss Brown\")\n",
      "('Zero Dark Thirty', 'https://www.metacritic.com/movie/zero-dark-thirty', 'Kathryn Bigelow', 'Alexander KarimAli MarhyarAymen HamdouchiCallan MulveyFares FaresFrank GrilloHarold PerrineauJ.J. KandelJames GandolfiniJason ClarkeJennifer EhleJeremy StrongJessica CollinsKyle ChandlerLee Asquith-CoeMark DuplassMark ValleyMike ColterNabil ElouahabiNina AriandaParker SawyersReda KatebScott AdkinsSenem TemizSimon AbkarianStephen DillaneTaylor KinneyWahab SheikhChris PrattÉdgar RamírezJason ClarkeJennifer EhleJessica ChastainJoel EdgertonMark Strong')\n",
      "('Collective', 'https://www.metacritic.com/movie/collective', 'Alexander Nanau', 'Catalin TolontanMirela NeagRazvan LutacTedy UrsuleanuVlad Voiculescu')\n",
      "('A Separation', 'https://www.metacritic.com/movie/a-separation', 'Asghar Farhadi', \"Ali-Asghar ShahbaziBabak KarimiHamid DadjuKimia HosseiniLeila HatamiMarila Zare'iMohammad EbrahimianMohammadhasan AsghariPeyman MoaadiSahabanu ZolghadrSareh BayatSarina FarhadiShahab HosseiniShirin AzimiyannezhadShirin YazdanbakhshLeila HatamiPeyman MoaadiSareh Bayat\")\n",
      "('WALL-E', 'https://www.metacritic.com/movie/wall-e', 'Andrew Stanton', 'Bob BergenDonald FulliloveFred WillardJohn CyganJohn RatzenbergerKathy NajimyLori AlanMacInTalkPaul EidingPete DocterSigourney WeaverTeddy NewtonTeresa GanzelBen BurttElissa KnightJeff Garlin')\n",
      "('Carol', 'https://www.metacritic.com/movie/carol', 'Todd Haynes', 'Amy WarnerAnita Farmer BergmanBella GarciaBlanca CamachoCarrie BrownsteinCate BlanchettChandish NesterColin BottsCory Michael SmithDennis HensleyDouglas Scott SorensonGiedre BondJake LacyJayne HoudyshellJim DoughertyJim OwensJohn MagaroJorge MardelKen StrunkKevin CrowleyKk HeimKyle ChandlerLiberty FraysureLinnea BondLizzy LeighMatthew KallmeyerMichael HaneyMichael LoosMisty M. JumpNathaniel GrauwelmanNik PajicPhilip KrinskyRileigh McDonaldRobert GerdingRooney MaraRyan Wesley GilreathSadie HeimSarah PaulsonSteven AndrewsTrent RowlandWilliam WilletZander KauferCate BlanchettCory Michael SmithJake LacyJohn MagaroKyle ChandlerRooney MaraSarah Paulson')\n",
      "('Before Midnight', 'https://www.metacritic.com/movie/before-midnight', 'Richard Linklater', 'Anouk ServeraAriane LabedAthina Rachel TsangariCharlotte PriorEnrico FocardiEthan HawkeJennifer PriorJulie DelpyManolis GoussiasPanos KoronisSeamus Davey-FitzpatrickSerafeim RadisWalter LassallyXenia KalogeropoulouYannis PapadopoulosYiannis PapadopoulosYota ArgyropoulouAriane LabedAthina Rachel TsangariEthan HawkeJulie DelpySeamus Davey-FitzpatrickWalter LassallyXenia Kalogeropoulou')\n",
      "('Amour', 'https://www.metacritic.com/movie/amour', 'Michael Haneke', 'Alexandre TharaudCarole FranckDamien JouillerotDinara DrukarovaJean-Michel MonrocLaurent CapellutoRamón AgirreRita BlancoSuzanne SchmidtWalid AfkirWilliam ShimellEmmanuelle RivaIsabelle HuppertJean-Louis Trintignant')\n",
      "('Dunkirk', 'https://www.metacritic.com/movie/dunkirk', 'Christopher Nolan', \"Adam LongAneurin BarnardBarry KeoghanBilly HowleBobby LockwoodBradley HallBrian VernelCharley Palmer MerkellCillian MurphyConstantin BalsanDamien BonnardElliott TittensorFionn WhiteheadJack GoverJack LowdenJames BloorJames D'ArcyJochum ten HaafKenneth BranaghKevin GuthrieLee ArmstrongLuke ThompsonMark RylanceMichael FoxMichel BielMikey CollinsMiranda NolanPaul Riley FoxRichard SandersonTom Glynn-CarneyTom HardyWill AttenboroughAneurin BarnardBarry KeoghanDamien BonnardFionn WhiteheadHarry StylesJack LowdenJames BloorLee ArmstrongMark RylanceTom Glynn-CarneyTom Hardy\")\n",
      "('Summer of Soul (...Or, When the Revolution Could Not Be Televised)', 'https://www.metacritic.com/movie/summer-of-soul-or-when-the-revolution-could-not-be-televised', 'Ahmir-Khalib Thompson', 'Gladys Knight & The PipsMavis StaplesSly and the Family StoneThe 5th DimensionThe Chambers BrothersAbbey LincolnB.B. KingDavid RuffinJesse JacksonMahalia JacksonMax RoachMoms MableyNina SimoneSal MasekelaStevie Wonder')\n",
      "('The Man Who Shot Liberty Valance', 'https://www.metacritic.com/movie/the-man-who-shot-liberty-valance', 'John Ford', \"Carleton YoungDenver PyleStrother MartinWillis BoucheyWoody StrodeAndy DevineEdmond O'BrienJames StewartJeanette NolanJohn CarradineJohn QualenJohn WayneKen MurrayLee MarvinVera Miles\")\n",
      "('The Searchers', 'https://www.metacritic.com/movie/the-searchers', 'John Ford', 'Antonio MorenoBeulah ArchulettaDorothy JordanHank WordenWalter CoyHarry Carey Jr.Henry BrandonJeffrey HunterJohn QualenJohn WayneKen CurtisNatalie WoodOlive CareyVera MilesWard Bond')\n",
      "('45 Years', 'https://www.metacritic.com/movie/45-years', 'Andrew Haigh', 'Camille UcanCharles BoothCharlotte RamplingDavid SibleyDolly WellsGeraldine JamesHannah ChalmersKevin MatadeenLucy TempleMartin AtkinsonMax RuddMichelle FinchPaul GoldsmithPeter Dean JacksonRachel BanhamRichard CunninghamRufus WrightSam AlexanderTom CourtenayCharlotte RamplingTom Courtenay')\n",
      "('Taxi Driver', 'https://www.metacritic.com/movie/taxi-driver', 'Martin Scorsese', 'Albert BrooksBrenda DicksonCopper CunninghamDiahnne AbbottFrank AduGarth AveryGino ArditoHarry CohnHarry FischlerHarvey KeitelLeonard HarrisNat GrantPeter BoyleVictor ArgoAlbert BrooksCybill ShepherdDiahnne AbbottFrank AduGarth AveryGino ArditoJodie FosterPeter BoyleRobert De NiroVictor Argo')\n",
      "('Pulp Fiction', 'https://www.metacritic.com/movie/pulp-fiction', 'Quentin Tarantino', 'Amanda PlummerDuane WhitakerEric StoltzFrank WhaleyMaria de MedeirosPaul CalderonPeter GreenePhil LaMarrRosanna ArquetteTim RothUma ThurmanVing RhamesBruce WillisJohn TravoltaSamuel L. Jackson')\n",
      "('The Manchurian Candidate', 'https://www.metacritic.com/movie/the-manchurian-candidate-1962', 'John Frankenheimer', 'Albert PaulsenAngela LansburyBarry KelleyDouglas HendersonHenry SilvaJames EdwardsJames GregoryJanet LeighJohn McGiverKhigh DhieghLeslie ParrishLloyd CorriganMadame SpivyFrank SinatraLaurence Harvey')\n",
      "('Mr. Turner', 'https://www.metacritic.com/movie/mr-turner', 'Mike Leigh', 'Alice Orr-EwingAmy DawsonBilly HollandDorothy AtkinsonFenella WoolgarFred PearsonJames FleetJames NortonJamie Thomas KingJohn DugganJohn WarmanJoshua McGuireJulian SeagerKarl JohnsonKatherine DenkinsonLasco AtkinsLee InglebyLeo BillLesley ManvilleMarion BaileyMark StanleyMark WingettMartin SavageNiall BuggyOliver MaltmanPaul JessonPeter WightRichard BremmerRichard DixonRobert PortalRoger Ashton-GriffithsRuby BentallRuth SheenSandy FosterSinead MatthewsStuart MatthewsSylvestra Le TouzelTimothy SpallTom EddenTom WlaschihaAmy DawsonDorothy AtkinsonKarl JohnsonLesley ManvilleMarion BaileyPaul JessonRuth SheenSandy FosterTimothy Spall')\n",
      "('The Irishman', 'https://www.metacritic.com/movie/the-irishman', 'Martin Scorsese', 'Aleksa PalladinoAly MangDascha PolancoDomenick LombardozziGary BasarabaHarvey KeitelIndia EnnengaJack HustonJake HoffmanJesse PlemonsJoseph RussoKathrine NarducciPaul Ben-VictorPaul HermanRay RomanoSebastian ManiscalcoSharon PfeifferStephanie KurtzubaSteve Van ZandtAl PacinoAleksa PalladinoAnna PaquinBobby CannavaleDascha PolancoHarvey KeitelJack HustonJake HoffmanJesse PlemonsJoe PesciKathrine NarducciRay RomanoRobert De NiroSebastian ManiscalcoStephanie KurtzubaStephen GrahamSteve Van Zandt')\n",
      "('Grave of the Fireflies (1988)', 'https://www.metacritic.com/movie/grave-of-the-fireflies', 'Isao Takahata', 'Adam GibbsAmy JonesCrispin FreemanDan GreenSusan O. KoozinAkemi YamaguchiAyano ShiraishiJustin DoranLuci ChristianMarcy BannorShannon ConleyShelley Calene-BlackTadashi NakamuraTsutomu TatsumiYoshiko Shinohara')\n",
      "('The Wild Child', 'https://www.metacritic.com/movie/the-wild-child', 'François Truffaut', 'Eva TruffautGitt MagriniJean-François StéveninLaura TruffautRobert CambourakisAnnie MillerClaude MillerFrançois TruffautFrançoise SeignerJean DastéJean GruaultJean-Pierre CargolMathieu SchiffmanNathan MillerPaul Villé')\n",
      "('Amazing Grace', 'https://www.metacritic.com/movie/amazing-grace-1972', 'Alan ElliottSydney Pollack', 'Alexander HamiltonAretha FranklinBernard Pretty PurdieBernard PurdieC.L. FranklinCharlie WattsChuck RaineyClara WardMick JaggerReverand James ClevelandSydney Pollack')\n",
      "('Shadow of a Doubt', 'https://www.metacritic.com/movie/shadow-of-a-doubt', 'Alfred Hitchcock', 'Bill BatesClarence MuseEstelle JewellJanet ShawVirginia BrissacCharles BatesEdna May WonacottHenry TraversHume CronynIrving BaconJoseph CottenMacdonald CareyPatricia CollingeTeresa WrightWallace Ford')\n",
      "('Inside Out', 'https://www.metacritic.com/movie/inside-out-2015', 'Pete DocterRonaldo Del Carmen', 'Amy PoehlerBill HaderBob BergenBobby MoynihanCarlos AlazraquiDanny MannDave GoelzDiane LaneFleaFrank OzJess HarnellJohn CyganJohn RatzenbergerJosh CooleyKaitlyn DiasKyle MacLachlanLaraine NewmanLewis BlackLori AlanMindy KalingParis Van DykePaula PellPaula PoundstonePhyllis SmithRashida JonesRichard KindSherry LynnTeresa GanzelAmy PoehlerBill HaderLewis BlackMindy KalingPhyllis Smith')\n",
      "('Sideways', 'https://www.metacritic.com/movie/sideways', 'Alexander Payne', 'Alysia ReinerJessica HechtJoe MarinelliM.C. GaineyMarylouise BurkeMissy DotyPatrick GallagherRobert CovarrubiasShake TukhmanyanShaun DukeStephanie FaracyPaul GiamattiSandra OhThomas Haden ChurchVirginia Madsen')\n",
      "(\"Schindler's List\", 'https://www.metacritic.com/movie/schindlers-list', 'Steven Spielberg', 'Andrzej SewerynBéatrice MacolaBen KingsleyCaroline GoodallEmbeth DavidtzFriedrich von ThunHarry NehringJonathan SagallKrzysztof LuftMalgoscha GebelMark IvanirNorbert WeisserShmuel LevyLiam NeesonRalph Fiennes')\n",
      "('Meet Me in St. Louis', 'https://www.metacritic.com/movie/meet-me-in-st-louis', 'Vincente Minnelli', \"Chill WillsHugh MarloweJoan CarrollRobert SullySidney BarnesHarry DavenportHenry H. Daniels Jr.Judy GarlandJune LockhartLeon AmesLucille BremerMargaret O'BrienMarjorie MainMary AstorTom Drake\")\n",
      "('The Apartment', 'https://www.metacritic.com/movie/the-apartment', 'Billy Wilder', 'David WhiteDorothy AbbottEdie AdamsJoyce JamesonWillard WatermanDavid LewisFred MacMurrayHope HolidayJack KruschenJack LemmonJoan ShawleeJohnny SevenNaomi StevensRay WalstonShirley MacLaine')\n",
      "('Apocalypse Now', 'https://www.metacritic.com/movie/apocalypse-now', 'Francis Ford Coppola', 'Albert HallBo ByersDennis HopperFrederic ForrestG.D. SpradlinHarrison FordJames KeaneJerry ZiesmerKerry RossallLaurence FishburneRobert DuvallSam BottomsScott GlennMarlon BrandoMartin Sheen')\n",
      "('The Gunfighter', 'https://www.metacritic.com/movie/the-gunfighter', 'Henry King', 'Beulah ArchulettaC.E. AndersonCarl AndreMurray AlperVictor AdamsonAnthony RossEllen CorbyGregory PeckHelen WestcottJean ParkerKarl MaldenMillard MitchellRichard JaeckelSkip HomeierVerna Felton')\n",
      "('We Were Here', 'https://www.metacritic.com/movie/we-were-here', 'Bill WeberDavid Weissman', 'Bobbi CampbellCleve JonesDaniel GoldsteinEd WolfEileen GlutzerGuy ClarkGuy ClarkPaul Boneberg')\n",
      "('Lady Bird', 'https://www.metacritic.com/movie/lady-bird', 'Greta Gerwig', 'Andy BuckleyBayne GibbyBeanie FeldsteinChristina OffleyDaniel ZovattoDanielle MacdonaldJake McDormanJohn KarnaJordan RodriguesKathryn NewtonKristen ClokeLaura MaranoLois SmithLucas HedgesMarielle ScottStephen HendersonTracy LettsAndy BuckleyBeanie FeldsteinDanielle MacdonaldJake McDormanJordan RodriguesKathryn NewtonKristen ClokeLaura MaranoLaurie MetcalfLois SmithLucas HedgesOdeya RushSaoirse RonanStephen HendersonTimothTracy Letts')\n",
      "('Chimes at Midnight', 'https://www.metacritic.com/movie/chimes-at-midnight', 'Orson Welles', 'Alan WebbFernando ReyJeremy RoweKeith BaxterKeith PyottAndrés MejutoJeanne MoreauJohn GielgudJulio PeñaMargaret RutherfordMarina VladyMichael AldridgeOrson WellesTony BeckleyWalter Chiari')\n",
      "('The Lord of the Rings: The Return of the King', 'https://www.metacritic.com/movie/the-lord-of-the-rings-the-return-of-the-king', 'Peter Jackson', 'Alexandra AstinAlistair BrowningBernard HillBilly BoydCate BlanchettDavid AstonIan McKellenJason FitchJohn BachMarton CsokasNoel ApplebyOrlando BloomRichard EdgeSadwyn BrophySean AstinSean BeanAndy SerkisOrlando Bloom')\n",
      "('Carlos', 'https://www.metacritic.com/movie/carlos', 'Olivier Assayas', 'Ahmad KaabourAlejandro ArroyoAlexander ScheerAljoscha StadelmannAntoine BalabaneChristoph BachÉdgar RamírezFadi Abi SamraFadi Yanni TurkJuana AcostaJulia HummerKaram GhosseinLamia AhmedLiane SellererNora von WaldstättenPhilippe TranRami FarahRodney El HaddadTalal El-JordiZeid Hamdan')\n",
      "('Marriage Story', 'https://www.metacritic.com/movie/marriage-story', 'Noah Baumbach', \"Albert JonesAnnie HamiltonAyden MayeriAzhy RobertsonBrooke BloomJasmine Cephas JonesJulie HagertyKyle BornheimerMark O'BrienMartha KellyMary Hollis InbodenMary WisemanMatthew MaherMickey SumnerMotell Gyn FosterPete SimpsonRaymond J. LeeRobert SmigelAdam DriverAlan AldaAlbert JonesAyden MayeriAzhy RobertsonBrooke BloomDavid TurnerEric BerrymanGideon GlickJulia GreerJulie HagertyKyle BornheimerLaura DernMark O'BrienMary Hollis InbodenMatthew MaherMerritt WeverMickey SumnerRay LiottaRobert SmigelScarlett JohanssonWallace Shawn\")\n",
      "('La La Land', 'https://www.metacritic.com/movie/la-la-land', 'Damien Chazelle', 'Amanda FieldsAmiée ConnAna Flavia GavlakAndres Perez-MolinaAshley CapleCallie HernandezCameron BrinkmanCandice CokeChristopher AberCinda AdamsClaudine ClaudioD.A. WallachEmma StoneFinn WittrockHemky MaderaJ.K. SimmonsJason FuchsJessica RotheJohn LegendJordan Ray FoxJosh PenceKaye L. MorrisKc MonnieKiff VandenHeuvelKristin SlaysmanMargaret NewbornMeagen FayMiles AndersonMorgan LarsonNilla WatkinsPhillip E. WalkerRosemarie DeWittRyan GoslingSandra RoskoShannon KleinShannon LeannSonoya MizunoTerry WaltersThom SheltonTom Everett ScottTrevor LissauerZoë HallEmma StoneJ.K. SimmonsRosemarie DeWittRyan Gosling')\n",
      "('Faces Places', 'https://www.metacritic.com/movie/faces-places', 'Agnès VardaJR', 'Clemens Van DungernLaurent LevesqueMorgane RiouNathalie MaurouardNathalie SchleehaufPatricia MercierPony-Soleil-Air-Sauvage-NatureAgnès VardaAmaury BossyClaude FerchalClaude FlaertJ.R.Jean-Luc GodardJean-Paul BeaujonJeannine CarpentierJRLaurent LevesqueMarie DouvetVincent GilsYves Boulen')\n",
      "('Crouching Tiger, Hidden Dragon', 'https://www.metacritic.com/movie/crouching-tiger-hidden-dragon', 'Ang Lee', 'Chen ChangDe Ming WangFa Zeng LiJin Ting ZhangKai LiLi LiPei-pei ChengRei YangSihung LungSu Ying HuangXian GaoYan HaiMichelle YeohYun-Fat ChowZiyi Zhang')\n",
      "('Nomadland', 'https://www.metacritic.com/movie/nomadland', 'Chloé Zhao', 'Annette WebbAnnette WellsBob WellsBrandy WilberKarie Lynn McDermott WilderMakenzie EtcheverryRachel BannonAngela ReyesBob WellsCarl R. HughesDavid StrathairnDouglas G. SoulFrances McDormandGay DeForestKarie Lynn McDermott WilderLinda MayPatricia GrierRyan AquinoSwankieTeresa Buchanan')\n",
      "('The Servant', 'https://www.metacritic.com/movie/the-servant', 'Joseph Losey', 'Alun OwenAnn FirbankBrian PhelanCatherine LaceyDerek TansleyDoris KnoxHarold PinterHazel TerryJill MelfordPatrick MageeRichard VernonDirk BogardeJames FoxSarah MilesWendy Craig')\n",
      "('Call Me by Your Name', 'https://www.metacritic.com/movie/call-me-by-your-name', 'Luca Guadagnino', 'Amira CasarAndre AcimanAntonio RimoldiArmie HammerElena BucciEsther GarrelMarco SgrossoMichael StuhlbargPeter SpearsTimothVanda CaprioloVictoire Du BoisXhuliano UjkaAmira CasarAntonio RimoldiArmie HammerElena BucciEsther GarrelMarco SgrossoMichael StuhlbargTimothVanda CaprioloVictoire Du Bois')\n",
      "('The Magnificent Ambersons', 'https://www.metacritic.com/movie/the-magnificent-ambersons', 'Fred FleckOrson WellesRobert Wise', 'Georgia BackusHarry A. BaileyJack BaxleyOlive BallWilliam BleesAgnes MooreheadAnne BaxterDolores CostelloEdwin AugustErskine SanfordJoseph CottenOrson WellesRay CollinsRichard BennettTim Holt')\n",
      "('Reversal of Fortune', 'https://www.metacritic.com/movie/reversal-of-fortune', 'Barbet Schroeder', 'Alan PottingerAnnabella SciorraChristine BaranskiChristine DunfordFelicity HuffmanFisher StevensJack GilpinJohann CarloKeith ReddinMano SinghRon SilverStephen MailerUta HagenGlenn CloseJeremy Irons')\n",
      "('David Byrne’s American Utopia', 'https://www.metacritic.com/movie/american-utopia', 'Spike Lee', 'David Byrne')\n",
      "('Shoplifters', 'https://www.metacritic.com/movie/shoplifters', 'Hirokazu Koreeda', 'Aju MakitaAkira EmotoChizuru IkewakiHajime InoueIzumi MatsuokaJyo KairiKatsuya MaigumaKazuaki ShimizuKengo KôraMiyu SasakiNaoto OgataYôko MoriguchiYûki YamadaAkira EmotoChizuru IkewakiDaisuke KurodaJyo KairiKazuaki ShimizuKengo KôraKirin KikiLily FrankyMayu MatsuokaMiyu SasakiMoemi KatayamaSakura AndôSôsuke IkematsuYôko MoriguchiYûki Yamada')\n",
      "('Shoah: Four Sisters', 'https://www.metacritic.com/movie/shoah-four-sisters', 'Claude Lanzmann', 'Ada LichtmanClaude LanzmannHanna MartonPaula BirenRuth Elias')\n",
      "('The 39 Steps', 'https://www.metacritic.com/movie/the-39-steps', 'Alfred Hitchcock', 'Charles BennettIvor BarnardJerry VernoNoel BirkinPeggy SimpsonFrank CellierGodfrey TearleGus McNaughtonHelen HayeJohn LaurieLucie MannheimMadeleine CarrollPeggy AshcroftRobert DonatWylie Watson')\n",
      "('Duck Soup', 'https://www.metacritic.com/movie/duck-soup', 'Leo McCarey', 'Charles MiddletonEdgar KennedyEdward ArnoldSidney BraceyWade BotelerChico MarxEdmund BreeseGroucho MarxHarpo MarxLeonid KinskeyLouis CalhernMargaret DumontRaquel TorresThe Marx BrothersZeppo Marx')\n",
      "('Petite Maman', 'https://www.metacritic.com/movie/petite-maman', 'Céline Sciamma', 'Florès CardoGabrielle SanzGuylène PéanJosée SchullerJoséphine SanzMargot AbascalNina MeurisseStéphane Varupenne')\n",
      "('Days of Heaven', 'https://www.metacritic.com/movie/days-of-heaven', 'Terrence Malick', 'Bob WilsonDoug KershawFrenchie LemondGene BellJackie ShultisLinda ManzMuriel JolliffeRichard LibertiniRobert J. WilkeSahbra MarkusSam ShepardStuart MargolinTimothy ScottBrooke AdamsRichard Gere')\n",
      "('Toni Erdmann', 'https://www.metacritic.com/movie/toni-erdmann', 'Maren Ade', 'Alexandru PapadopolAnna Maria BergoldHadewych MinisIngrid BisuIngrid BurkhardIoan BrancuJürg LöwLucy RussellManuela CiucurMichael WittenbornNicolas WackerbarthNiels BormannPeter SimonischekRadu BanzaruRuth ReineckeSandra HüllerThomas LoiblTrystan PütterVictoria CociasVictoria MalektorovychVlad IvanovPeter SimonischekSandra Hüller')\n",
      "('Yi Yi', 'https://www.metacritic.com/movie/yi-yi', 'Edward Yang', 'Adriene LinAn-an HsuChuan-cheng TaoElaine JinHsi-Sheng ChenHsin-Yi TsengIssei OgataJonathan ChangKelly LeePang Chang YuRu-Yun TangShu-shen HsiaoShu-Yuan HsuSu-Yun KoYiwen ChenYung-Feng LeeNien-Jen Wu')\n",
      "('McCabe & Mrs. Miller', 'https://www.metacritic.com/movie/mccabe-mrs-miller', 'Robert Altman', 'Antony HollandHugh MillaisJace Van Der VeenJackie CrosslandManfred SchulzBert RemsenCorey FischerJohn SchuckJulie ChristieKeith CarradineMichael MurphyRené AuberjonoisShelley DuvallWarren BeattyWilliam Devane')\n",
      "('The Best Years of Our Lives', 'https://www.metacritic.com/movie/the-best-years-of-our-lives', 'William Wyler', \"Dorothy AdamsMinna GombellRay CollinsSteve CochranWalter BaldwinCathy O'DonnellDana AndrewsFredric MarchGladys GeorgeHarold RussellHoagy CarmichaelMyrna LoyRoman BohnenTeresa WrightVirginia Mayo\")\n",
      "('Stagecoach', 'https://www.metacritic.com/movie/stagecoach', 'John Ford', 'Chief John Big TreeDorothy ApplebyFrank BakerTed BillingsTom TylerAndy DevineBerton ChurchillClaire TrevorDonald MeekGeorge BancroftJohn CarradineJohn WayneLouise PlattThomas MitchellTim Holt')\n",
      "('Inside Llewyn Davis', 'https://www.metacritic.com/movie/inside-llewyn-davis', 'Ethan CoenJoel Coen', 'Adam DriverAlex KarpovskyAntonio E. MorenoBradley MottCarey MulliganEthan PhillipsF. Murray AbrahamFrank RidleyGarrett HedlundGenevieve AdamsHelen HongJake RyanJames ColbyJeanine SerrallesJerry GraysonJoel BrodyJohn GoodmanJustin TimberlakeMax CasellaMike HoustonOscar IsaacRicardo CorderoRobin BartlettStark SandsCarey MulliganGarrett HedlundJohn GoodmanJustin TimberlakeOscar Isaac')\n",
      "('Sherpa', 'https://www.metacritic.com/movie/sherpa', 'Jennifer Peedom', None)\n",
      "('There Will Be Blood', 'https://www.metacritic.com/movie/there-will-be-blood', 'Paul Thomas Anderson', 'Barry Del ShermanCoco LeighDillon FreasierErica SullivanHarrison TaylorJacob StringerJim MeskimenJoseph MusseyKevin BreznahanMartin StringerMatthew Braden StringerPaul F. TompkinsRandall CarverStockton TaylorDaniel Day-Lewis')\n",
      "('Badlands', 'https://www.metacritic.com/movie/badlands', 'Terrence Malick', 'Alan VintBen BravoBryan MontgomeryCharles FitzpatrickDona BaldwinEmilio EstevezGail ThrelkeldGary LittlejohnHoward RagsdaleJohn CarterJohn Womack Jr.Ramon BieriWarren OatesMartin SheenSissy Spacek')\n",
      "('The Last Picture Show', 'https://www.metacritic.com/movie/the-last-picture-show', 'Peter Bogdanovich', 'Barc DoyleBill ThurmanJessie Lee FultonJoe HeathcockRandy QuaidBen JohnsonCloris LeachmanClu GulagerCybill ShepherdEileen BrennanEllen BurstynJeff BridgesSam BottomsSharon UllrickTimothy Bottoms')\n",
      "('Do the Right Thing', 'https://www.metacritic.com/movie/do-the-right-thing', 'Spike Lee', 'Bill NunnFrankie FaisonGiancarlo EspositoJohn SavageJohn TurturroJoie LeeMiguel SandovalPaul BenjaminRichard EdsonRick AielloRobin HarrisSpike LeeDanny AielloOssie DavisRuby Dee')\n",
      "('Sita Sings the Blues', 'https://www.metacritic.com/movie/sita-sings-the-blues', 'Nina Paley', 'Aladdin UllahAnnette HanshawAseem ChhabraBhavana NagulapallyDebargo SanyalDeepti GuptaManish AcharyaNina PaleyNitya VidyasagarPooja KumarReena ShahSanjiv Jhaveri')\n",
      "('The Decline of Western Civilization', 'https://www.metacritic.com/movie/the-decline-of-western-civilization', 'Penelope Spheeris', 'Bill GazzarriFearFrank GarganiJohn DoeLorna DoomAlice BagAlice Bag BandBlack FlagCircle JerksClaude BessyDarby CrashDinah CancerDon BollesExene CervenkaPhilo Cramer')\n",
      "('Rio Bravo', 'https://www.metacritic.com/movie/rio-bravo', 'Howard Hawks', 'Frank BalderramaFred AldrichHarry Carey Jr.Malcolm AtterburySheb WooleyAngie DickinsonClaude AkinsDean MartinEstelita RodriguezJohn RussellJohn WaynePedro Gonzalez GonzalezRicky NelsonWalter BrennanWard Bond')\n",
      "(\"Brother's Keeper\", 'https://www.metacritic.com/movie/brothers-keeper', 'Bruce SinofskyJoe Berlinger', 'Connie ChungDonald F. CerioJohn W. GrahamMaynard A. CosnettRobert J. KilloughDave GoffDelbert WardHarry ThurstonJohn TeepleJoseph F. LoszynskiKen ElmerLyman WardRalph A. CognettiRoscoe WardWalt Geisler')\n",
      "('Crumb', 'https://www.metacritic.com/movie/crumb', 'Terry Zwigoff', 'Aline KominskyBeatrice CrumbBill GriffithCharles CrumbDana MorganDeirdre EnglishDon DonahueKathy GoodellMartin MüllerMaxon CrumbPeggy OrensteinRobert HughesSpain RodriguezTrina RobbinsRobert Crumb')\n",
      "('Spotlight', 'https://www.metacritic.com/movie/spotlight', 'Thomas McCarthy', \"Billy CrudupBrian d'Arcy JamesChristopher GallagherDallas PeplowDoug MurrayDuane MurrayElena JuatcoElena WohlFaith FayGary GaloneGene AmorosoJamey SheridanJohn SlatteryLana AntonovaLen CariouLiev SchreiberLondon HallMark RuffaloMichael Cyril CreightonMichael KeatonNeal HuffPaul GuilfoyleRachel McAdamsRob deLeeuwRobert B. KennedySharon McFarlaneShawn ContoisStanley TucciStefanie DrummondZarrin Darnell-MartinJohn SlatteryLiev SchreiberMark RuffaloMichael KeatonRachel McAdamsStanley Tucci\")\n",
      "('The Band Wagon', 'https://www.metacritic.com/movie/the-band-wagon', 'Vincente Minnelli', 'Barbara BaileyBrandon BeachErnest AndersonLysa BaugherPatsy BangsCyd CharisseFred AldrichFred AstaireIndia AdamsJack BuchananJames MitchellNanette FabrayOscar LevantRichard AlexanderRobert Gist')\n",
      "('One More Time with Feeling', 'https://www.metacritic.com/movie/one-more-time-with-feeling', 'Andrew Dominik', 'Nick CaveNick Cave & the Bad SeedsNick Cave & The Bad SeedsWarren Ellis')\n",
      "('The Diving Bell and the Butterfly', 'https://www.metacritic.com/movie/the-diving-bell-and-the-butterfly', 'Julian Schnabel', 'Anne ConsignyFiorella CampanellaGérard WatkinsIsaach De BankoléJean-Pierre CasselMarina HandsMax von SydowNiels ArestrupOlatz López GarmendiaPatrick ChesnaisTalina BoyaciThéo SampaioEmmanuelle SeignerMarie-Josée CrozeMathieu Amalric')\n",
      "('Invasion of the Body Snatchers', 'https://www.metacritic.com/movie/invasion-of-the-body-snatchers-1956', 'Don Siegel', 'Beatrice MaudeBobby ClarkEileen StevensGuy WayJean AndrenCarolyn JonesDana WynterJean WillesKenneth PattersonKevin McCarthyKing DonovanLarry GatesRalph DumkeTom FaddenVirginia Christine')\n",
      "('The Class', 'https://www.metacritic.com/movie/the-class', 'Laurent Cantet', 'Agame Malembo-EmeneAngélica SancioArthur FogelBoubacar ToureBurak ÖzyilmazCarl NanorCherif Bounaïdja RachediDalla DoucoureDamien GomesEsmeralda OuertaniEva ParadisoHenriette KasaruhandaJuliette DemailleJustine WuFrançois Bégaudeau')\n",
      "('Platoon', 'https://www.metacritic.com/movie/platoon', 'Oliver Stone', 'Bob OrwigChris PedersenCorey GloverCorkey FordDavid NeidorfForest WhitakerFrancesco QuinnJohn C. McGinleyJohnny DeppKeith DavidKevin DillonMark MosesReggie JohnsonTom BerengerWillem Dafoe')\n",
      "('35 Shots of Rum', 'https://www.metacritic.com/movie/35-shots-of-rum', 'Claire Denis', 'Adèle AdoAlex DescasCheikh ToureDavid SaadaDjédjé ApaliEriq EbouaneyGrégoire ColinIngrid CavenJean-Christophe FollyJulieth Mars ToussaintMario CanongeMary PieMati DiopNicole DogueStéphane Pocrain')\n",
      "('Apocalypse Now: Final Cut', 'https://www.metacritic.com/movie/apocalypse-now-final-cut', 'Francis Ford Coppola', None)\n",
      "('Chinatown', 'https://www.metacritic.com/movie/chinatown', 'Roman Polanski', \"Bruce GloverDarrell ZwerlingDiane LaddJames HongJames O'RearJoe MantellJohn HillermanNandu HindsPerry LopezRichard BakalyanRoman PolanskiRoy JensonFaye DunawayJack NicholsonJohn Huston\")\n",
      "('The Florida Project', 'https://www.metacritic.com/movie/the-florida-project', 'Sean Baker', 'Bria VinaiteBronwyn ValleyBrooklynn PrinceCaleb Landry JonesCarl BradfieldChristopher RiveraGary B. GrossJason BlackwaterJim ColemanJim R. ColemanKarren KaragulianKelly FitzgeraldKrystal Nicole WattsMacon BlairMela MurderRosa Medina PerezSabina Friedman-SeitzSandy KaneValeria CottoWillem DafoeAiden MalikBria VinaiteBrooklynn PrinceCaleb Landry JonesChristopher RiveraEdward PaganJasineia RamosJason BlackwaterJosie OlivoKarren KaragulianMacon BlairPatti WileySandy KaneValeria CottoWillem Dafoe')\n",
      "('Timbuktu', 'https://www.metacritic.com/movie/timbuktu', 'Abderrahmane Sissako', 'Abel JafriAdel Mahmoud CherifCheik A.G. EmakniFatoumata DiawaraHichem YacoubiIbrahim AhmedKettly NoëlLayla Walet MohamedMamby KamissokoMehdi A.G. MohamedPino DesperadoSalem DendouToulou KikiWeli CleibYoro DiakitéZikra Oualet MoussaAbel JafriIbrahim AhmedLayla Walet MohamedMehdi A.G. MohamedToulou Kiki')\n",
      "('Frenzy', 'https://www.metacritic.com/movie/frenzy', 'Alfred Hitchcock', 'Elsie RandolphGerald SimJean MarshJohn BoxerMadge RyanAlec McCowenAnna MasseyBarbara Leigh-HuntBarry FosterBernard CribbinsBillie WhitelawClive SwiftJon FinchMichael BatesVivien Merchant')\n",
      "('Brief Encounter', 'https://www.metacritic.com/movie/brief-encounter', 'David Lean', 'Noel CowardNuna DaveySydney BromleyValentine DyallWallace BoscoAlfie BassCelia JohnsonCyril RaymondEverley GreggJoyce CareyMargaret BartonMarjorie MarsStanley HollowayTrevor HowardWilfred Babbage')\n",
      "('Cool Hand Luke', 'https://www.metacritic.com/movie/cool-hand-luke', 'Stuart Rosenberg', 'Dennis HopperMarc CavellRichard DavalosRobert DonnerWarren FinnertyClifton JamesGeorge KennedyJ.D. CannonJo Van FleetLou AntonioLuke AskewMorgan WoodwardPaul NewmanRobert DrivasStrother Martin')\n",
      "('Little Women', 'https://www.metacritic.com/movie/little-women-1933', 'George Cukor', 'Harry BeresfordMabel ColcordMarion BallouNydia WestmanSamuel S. HindsDouglass MontgomeryEdna May OliverFrances DeeHenry StephensonJean ParkerJoan BennettJohn LodgeKatharine HepburnPaul LukasSpring Byington')\n",
      "('Maborosi', 'https://www.metacritic.com/movie/maborosi', 'Hirokazu Koreeda', 'Akira EmotoGohki KashiyamaHidekazu AkaiHiromi IchidaKikuko HashimotoMakiko EsumiMidori KiuchiMinori TeradaMutsuko SakuraNaomi WatanabeRen ÔsugiShuichi HaradaTadanobu AsanoTakashi InoueTakashi Naitô')\n",
      "('Top Hat', 'https://www.metacritic.com/movie/top-hat', 'Mark Sandrich', 'Gino CorradoLorinne CrawfordPhyllis CoghlanRoy BrentTom CostelloEdward Everett HortonEric BloreErik RhodesFred AstaireGinger RogersHelen BroderickLucille BallRobert AdairTito BlascoTom Brandon')\n",
      "('Apocalypse Now Redux', 'https://www.metacritic.com/movie/apocalypse-now-redux', 'Francis Ford Coppola', 'Albert HallBo ByersDennis HopperFrederic ForrestG.D. SpradlinHarrison FordJames KeaneJerry ZiesmerKerry RossallLaurence FishburneRobert DuvallSam BottomsScott GlennMarlon BrandoMartin Sheen')\n",
      "('Annie Hall', 'https://www.metacritic.com/movie/annie-hall', 'Woody Allen', 'Carol KaneChristopher WalkenColleen DewhurstDonald SymingtonHelen LudlamJanet MargolinJoan NeumanJonathan MunkMordecai LawnerPaul SimonRuth VolnerShelley DuvallTony RobertsDiane KeatonWoody Allen')\n",
      "('The Lord of the Rings: The Fellowship of the Ring', 'https://www.metacritic.com/movie/the-lord-of-the-rings-the-fellowship-of-the-ring', 'Peter Jackson', 'Alan HowardBilly BoydCate BlanchettChristopher LeeIan HolmIan McKellenLawrence MakoareMark FergusonMarton CsokasMegan EdwardsMichael ElsworthNoel ApplebyOrlando BloomSala BakerSean AstinSean BeanAndy SerkisElijah Wood')\n",
      "('Quiz Show', 'https://www.metacritic.com/movie/quiz-show', 'Robert Redford', 'Allan RichChristopher McDonaldDavid PaymerElizabeth WilsonGeorge MartinGriffin DunneHank AzariaJohann CarloMichael MantellMira SorvinoPaul GuilfoylePaul ScofieldRob MorrowJohn TurturroRalph Fiennes')\n",
      "('Leviathan', 'https://www.metacritic.com/movie/leviathan-2014', 'Andrei Zvyagintsev', 'Aleksey PavlovAleksey RozinAleksey SerebryakovAlim BidnenkoAlla EmintsevaAndrey BelozerovAnna UkolovaDmitriy Bykovskiy-RomashovElena LyadovaEvgeniy YakuninIgor LitovkinIgor SavochkinIgor SergeevIrina GrabaIrina RyndinaIrina VilkovaKristina PakarinaLesya KudryashovaNatasha GarustovichOlga LapshinaPlaton KamenevRoman MadyanovSergei BorisovSergey BachurskiySergey PokhodaevValeriy GrishkoVladimir LupanovVladimir VdovichenkovVyacheslav GoncharYelena LyadovaAleksey SerebryakovRoman MadyanovVladimir VdovichenkovYelena Lyadova')\n",
      "('Werckmeister Harmonies', 'https://www.metacritic.com/movie/werckmeister-harmonies', 'Ágnes HranitzkyBéla Tarr', 'Alfréd JáraiDjoko RosicEnikö BörcsökÉva Almássy AlbertFerenc KállaiGyörgy BarkóHanna SchygullaIrén SzajkiJános DerzsiLajos DobákMihály KormosPutyi HorváthTamás WichmannLars RudolphPeter Fitz')\n",
      "('Toy Story 3', 'https://www.metacritic.com/movie/toy-story-3', 'Lee Unkrich', 'Blake ClarkDon RicklesEmily HahnEstelle HarrisJoan CusackJodi BensonJohn MorrisJohn RatzenbergerLaurie MetcalfMichael KeatonNed BeattyTeddy NewtonWallace ShawnTim AllenTom Hanks')\n",
      "('This Is Spinal Tap', 'https://www.metacritic.com/movie/this-is-spinal-tap', 'Rob Reiner', 'Bruno KirbyChazz DominguezDanny KortchmarDavid KaffEd Begley Jr.Harry ShearerJean CromieKimberly StringerPatrick MaherR.J. ParnellShari HallTony HendraChazz DominguezChristopher GuestDavid KaffHarry ShearerKimberly StringerMichael McKeanR.J. ParnellRob ReinerShari HallTony Hendra')\n",
      "('The Look of Silence', 'https://www.metacritic.com/movie/the-look-of-silence', 'Joshua Oppenheimer', None)\n",
      "('Tower', 'https://www.metacritic.com/movie/tower', 'Keith Maitland', 'Aldo OrdoñezBlair JacksonChris DoubekCole Bee WilsonCole BresnehenJeremy BrownJohn FitchJosephine McAdamKaren DavidsonLouie ArnetteMonty MuirReece Everett RyanSéamus Bolivar-OchoaTimothy LucasVicky IllkViolett Beane')\n",
      "('The Rider', 'https://www.metacritic.com/movie/the-rider', 'Chloé Zhao', 'Alan ReddyAllen ReddyBrady JandreauCat CliffordDerrick JanisJames CalhoonJordon Slick PhelpsKevin HunterLane ScottLeroy PourierLilly JandreauMarshal ByrneSteven DeWolfeTanner LangdeauTerri Dawn PourierTim JandreauBrady JandreauCat CliffordDerrick JanisGreg BarberJames CalhoonLane ScottLilly JandreauTanner LangdeauTerri Dawn PourierTim Jandreau')\n",
      "('Moolaadé', 'https://www.metacritic.com/movie/moolaade', 'Ousmane Sembene', 'Aminata DaoBakaramoto SanogoBalla Habib DembéléCheick Oumar MaigaDominique ZeïdaFatoumata CoulibalyGustave SorghoJoseph TraoréMah CompaoréMaimouna Hélène DiarraModibo SangaréOusmane KonatéRasmane OuedraogoSalimata TraoréThéophile Sowié')\n",
      "('Atanarjuat: The Fast Runner', 'https://www.metacritic.com/movie/atanarjuat-the-fast-runner', 'Zacharias Kunuk', 'Abraham UlayurulukAlex UttakApayata KotierkEric NutarariaqEugene IpkarnakLucy TulugarjukLuke TaqqaugaqMadeline IvaluMary QulitalikNeeve IrngautPakak InnuksukPauloosie QulitalikPeter-Henry ArnatsiaqNatar UngalaaqSylvia Ivalu')\n",
      "('Time', 'https://www.metacritic.com/movie/time-2020', 'Garrett Bradley', 'Fox Rich')\n",
      "('Gavagai', 'https://www.metacritic.com/movie/gavagai', 'Rob Tregenza', 'Amel IbisevicAsk Aygin GaupEdith SøliEinar Andreas SøliEssra BergeHalvor SandnesHellek SandnesIna Nena SchickJoakim NangoJostein A.B. SandvikKarin Mustvedt-PlüsKim Robin SvartdalMarie Helga HelgetveitMarja Susanne Sipelä SolvangMiriam BergeMona EirisRune SamuelsenSusan S. SolvangThomas TufteTore DaleAmel IbisevicAndreas LustAnni-Kristiina JuusoAsk Aygin GaupEdith SøliEinar Andreas SøliEssra BergeHalvor SandnesHellek SandnesIna Nena SchickJoakim NangoJostein A.B. SandvikKarin Mustvedt-PlüsKim Robin SvartdalMarie Helga HelgetveitMarja Susanne Sipelä SolvangMikkel GaupMiriam BergeMona EirisRune SamuelsenSusan S. SolvangThomas TufteTore Dale')\n",
      "('The Man Who Would Be King', 'https://www.metacritic.com/movie/the-man-who-would-be-king', 'John Huston', 'Graham AcresNadia AtbibShakira CaineThe Blue Dancers of GoulamineYvonne OcampoAlbert MosesChristopher PlummerDoghmi LarbiJack MayKarroom Ben BouihMichael CaineMohammad ShamsiPaul AntrimSaeed JaffreySean Connery')\n",
      "('The Killing', 'https://www.metacritic.com/movie/the-killing', 'Stanley Kubrick', 'Dorothy AdamsHerbert EllisJay AdlerKola KwarianiTito VuoloColeen GrayElisha Cook Jr.James EdwardsJay C. FlippenJoe SawyerMarie WindsorSterling HaydenTed de CorsiaTimothy CareyVince Edwards')\n",
      "('Swing Time', 'https://www.metacritic.com/movie/swing-time', 'George Stevens', 'Bill BrandeJack ChefeMartin CichyRalph BrooksRalph ByrdBetty FurnessEric BloreFred AstaireGeorges MetaxaGinger RogersHarry BernardHarry BowenHelen BroderickVictor MooreWilliam Bailey')\n",
      "('Breaking Away', 'https://www.metacritic.com/movie/breaking-away', 'Peter Yates', 'Amy WrightBarbara BarrieDaniel SternDavid K. BlaseHart BochnerJackie Earle HaleyJennifer K. MickelJohn AshtonLisa ShureP.J. SolesPaul DooleyPeter MaloneyRobyn DouglassDennis ChristopherDennis Quaid')\n",
      "('The Souvenir', 'https://www.metacritic.com/movie/the-souvenir', 'Joanna Hogg', 'Alice McMillanBarbara PeirsonChyna Terrelonge-VaughanCrispin BuxtonDick FontaineFabrizio MatteiniHannah Ashby WardJack W. GregoryJake Phillips HeadJames BarrettJames DoddsJames Spencer AshworthJanet EtukJaz DalrympleLeonardo BozzoRichard TreeSteve GoughAlice McMillanChyna Terrelonge-VaughanFabrizio MatteiniFrankie WilsonHannah Ashby WardHonor Swinton-ByrneJack McMullenJake Phillips HeadJames Spencer AshworthJanet EtukJaygann AyehNeil YoungRichard AyoadeTilda SwintonTom BurkeTosin Cole')\n",
      "('After Life', 'https://www.metacritic.com/movie/after-life', 'Hirokazu Koreeda', 'ArataErika OdaHisako HaraKazuko ShirakawaKei TaniKôtarô ShigaKyôko KagawaNatsuo IshidôSadao AbeSayaka YoshinoSusumu TerajimaTakashi NaitôTaketoshi NaitôTôru YuriYûsuke Iseya')\n",
      "('Son of Saul', 'https://www.metacritic.com/movie/son-of-saul', 'László Nemes', 'Amitai KedarAttila FritzBalázs FarkasBjörn FreibergChristian HartingEszter CsépaiGergö FarkasGéza RöhrigJerzy WalczakJuli JakabKamil DobrowolskiLevente MolnárLevente OrbánMarcin CzarnikMendy CahanMihály KormosSándor ZsótérTodd CharmontUrs RechnUwe LauerGéza RöhrigLevente MolnárTodd CharmontUrs Rechn')\n",
      "('Love Affair', 'https://www.metacritic.com/movie/love-affair-1939', 'Leo McCarey', 'Bess FlowersCarol HughesDell HendersonJoe GilbertLeyland HodgsonAstrid AllwynCharles BoyerFerike BorosIrene DunneLee BowmanMaria OuspenskayaMary BovardMaurice MoscovitchScotty BeckettTom Dugan')\n",
      "('Frankenstein', 'https://www.metacritic.com/movie/frankenstein', 'James Whale', 'Arletta DuncanFrancis FordJack CurtisMae BruceWilliam DyerBoris KarloffColin CliveDwight FryeEdward Van SloanFrederick KerrJohn BolesLionel BelmoreMae ClarkeMarilyn HarrisTed Billings')\n",
      "('8½', 'https://www.metacritic.com/movie/-1963', 'Federico Fellini', 'Bruno AgostiniCesarino Miceli PicardiJean RougeulMario ConocchiaMario PisuAnouk AiméeBarbara SteeleCaterina BorattoClaudia CardinaleEddra GaleGuido AlbertiMadeleine LebeauMarcello MastroianniRossella FalkSandra Milo')\n",
      "('Little Women', 'https://www.metacritic.com/movie/little-women-2019', 'Greta Gerwig', 'Abby QuinnAdam DesautelsBrian DanielsChris CooperDomenic ArduinoEmily EdströmEowyn YoungHadley RobinsonJamie GhazarianJayne HoudyshellJen NikolaisenKayla CaulfieldKen HolmesLilly EnglertLouis GarrelMaryann PlunkettMason AlbanMeryl StreepPaul TawczynskiRafael SilvaSasha FrolovaStevie CostaTracy LettsAbby QuinnBob OdenkirkChris CooperEliza ScanlenEmma WatsonFlorence PughJames NortonJayne HoudyshellLaura DernLouis GarrelMeryl StreepSaoirse RonanTimothTracy Letts')\n",
      "('E.T. The Extra-Terrestrial', 'https://www.metacritic.com/movie/et-the-extra-terrestrial', 'Steven Spielberg', \"C. Thomas HowellDavid BerksonDavid M. O'DellDee WallaceErika EleniakFrank TothK.C. MartelMichael DarrellRichard SwinglerRobert BartonRobert MacNaughtonSean FryeDee WallaceDrew BarrymoreErika EleniakHenry ThomasPeter Coyote\")\n",
      "('The African Queen', 'https://www.metacritic.com/movie/the-african-queen', 'John Huston', 'John von KotzeErrol JohnGerald OnnHumphrey BogartKatharine HepburnPeter BullPeter SwanwickRichard MarnerRobert MorleyTheodore BikelWalter Gotell')\n",
      "('The Triplets of Belleville', 'https://www.metacritic.com/movie/the-triplets-of-belleville', 'Sylvain Chomet', 'Béatrice BonifassiCharles LintonLina BoudreauMari-Lou GauthierJean-Claude DondaMichel RobinMichèle CaucheteuxMonica Viegas')\n",
      "('The Queen', 'https://www.metacritic.com/movie/the-queen', 'Stephen Frears', \"Alex JenningsAmanda HadingueDolina MacLennanDouglas ReithGray O'BrienJohn McGlynnJoyce HendersonLola PeploePat LaffanRobin SoansRoger AllamSylvia SymsTim McMullanHelen MirrenJames Cromwell\")\n",
      "('All Quiet on the Western Front', 'https://www.metacritic.com/movie/all-quiet-on-the-western-front', 'Lewis Milestone', 'Beryl MercerG. Pat CollinsHarold GoodwinRichard AlexanderSlim SummervilleArnold LucyBen AlexanderJohn WrayLew AyresLouis WolheimOwen Davis Jr.Russell GleasonScott KolkWalter RogersWilliam Bakewell')\n",
      "('A Bread Factory Part Two: Walk With Me a While', 'https://www.metacritic.com/movie/a-bread-factory-part-two', 'Patrick Wang', \"Daniel BorakEugene BrellGeorge YoungJacqui AndersJake BrinskeleKeaton Nigel CookeLeo HellerLogan SmithMartina ArroyoNoah MatthewsAnni KruegerBrian MurrayChris ConroyElisabeth Henry-MacariGeorge YoungGlynnis O'ConnorJames ChenJames MarstersJanet HsiehJessica PimentelNana VisitorPhilip KerrTrevor St. JohnTyne DalyZachary Sayle\")\n",
      "('Never Rarely Sometimes Always', 'https://www.metacritic.com/movie/never-rarely-sometimes-always', 'Eliza Hittman', 'Alana Barrett-AdkinsAlexander CarneyAmy TribbeyApril SzykerukAurora RichardsBrett PuglisiBrian AltemusCarolina EspiroDeepti MenonDenise PillottDrew SeltzerGuy A. ForttJingjing TianJohn Ballinger Sr.Kim Rios LinLester GreeneLizbeth MacKayLuz OzunaMia DillonMichael ErikRose Elizabeth RichardsRyan EggoldSidney FlaniganAmy TribbeyAurora RichardsBrett PuglisiCarolina EspiroChristian ClementsDaniel BunetaDavid BunetaDeepti MenonDenise PillottDrew SeltzerEliazar JimenezGuy A. ForttKim Rios LinLester GreeneRose Elizabeth RichardsRyan EggoldSam DuggerSharon Van EttenSidney FlaniganTalia RyderThéodore Pellerin')\n",
      "('The Ladykillers', 'https://www.metacritic.com/movie/the-ladykillers-1955', 'Alexander Mackendrick', 'Fred GriffithsHarold GoodwinHélène BurlsKenneth ConnorMichael CorcoranAlec GuinnessCecil ParkerDanny GreenFrankie HowerdHerbert LomJack WarnerKatie JohnsonMadge BrindleyPeter SellersPhilip Stainton')\n",
      "('Young Mr. Lincoln', 'https://www.metacritic.com/movie/young-mr-lincoln', 'John Ford', 'Clarence WilsonEddy WallerSpencer ChartersTiny JonesWard BondAlice BradyArleen WhelanDonald MeekEddie CollinsEddie QuillanHenry FondaJudith DickensMarjorie WeaverPauline MooreRichard Cromwell')\n",
      "('Stories We Tell', 'https://www.metacritic.com/movie/stories-we-tell', 'Sarah Polley', 'Alex HatzAndrew ChurchCathy GulkinDeirdre BowenGeoffrey BowesHarry GulkinJohn BuchanJustin GoodhandPeter EvansPixie BigelowRebecca JenkinsRobert MacmillanSusy BuchanTom ButlerVictoria MitchellWayne CurnewHarry GulkinJohn BuchanSusy Buchan')\n",
      "('A Bread Factory Part One: For the Sake of Gold', 'https://www.metacritic.com/movie/a-bread-factory-part-one', 'Patrick Wang', \"Aidan Pierce BrennanAlyssa Maria AppChris ConroyEugene BrellGeorge YoungMartina ArroyoNoah Averbach-KatzNoel RamosRosemary HowardAmy CarlsonBrian MurrayElaine BromkaElisabeth Henry-MacariGeorge YoungGlynnis O'ConnorJames MarstersJaneane GarofaloJanet HsiehJessica PimentelNana VisitorPhilip KerrTrevor St. JohnTyne DalyZachary Sayle\")\n",
      "('The Act of Killing', 'https://www.metacritic.com/movie/the-act-of-killing', 'AnonymousChristine CynnJoshua Oppenheimer', 'Adi ZulkadryAnwar CongoAnwars CongoHaji AnifHaji MarzukiHerman KotoIbrahim SinikJusuf KallaSafit PardedeSakhyan AsmaraSoaduon SiregarSyamsul ArifinYapto SoerjosoemarnoAnwar Congo')\n",
      "(\"This Is Not a Burial, It's a Resurrection\", 'https://www.metacritic.com/movie/this-is-not-a-burial-its-a-resurrection', 'Lemohang Jeremiah Mosese', 'Aleandro FlorioJerry MofokengMakhaola NdebeleMary TwalaSarah WeberSilas MonyatseSiphiwe Nzima-NtskheThabiso MakotoThabo LetsieTseko Monaheng')\n",
      "('On the Waterfront', 'https://www.metacritic.com/movie/on-the-waterfront', 'Elia Kazan', 'Abe SimonArthur KeeganDon BlackmanJames WesterfieldJohn F. HamiltonJohn HeldabrandLee J. CobbLeif EricksonPat HenningRod SteigerRudy BondTami MaurielloTony GalentoKarl MaldenMarlon Brando')\n",
      "(\"Jafar Panahi's Taxi\", 'https://www.metacritic.com/movie/jafar-panahis-taxi', 'Jafar Panahi', 'Jafar Panahi')\n",
      "('Ida', 'https://www.metacritic.com/movie/ida', 'Pawel Pawlikowski', 'Adam SzyszkowskiAfrodyta WeselakAgata KuleszaAgata TrzebuchowskaAnna GrzeszczakArtur JanusiakDawid OgrodnikDorota KudukHalina SkoczynskaIzabela DabrowskaJan Wociech PoradowskiJerzy TrelaJoanna KuligKrzysztof BrzezinskiLukasz JerzykowskiMarek KasprzykMariusz JakusNatalia LagiewczykPawel BurczykAgata KuleszaAgata TrzebuchowskaDawid OgrodnikJerzy Trela')\n",
      "('Beau Travail', 'https://www.metacritic.com/movie/beau-travail', 'Claire Denis', 'Adiatou MassudiBernardo MontetDan HerzbergDimitri TsiapkinisGianfranco PoddigheGiuseppe MolinoJean-Yves VivetMarc VehMickael RavovskiNicolas DuvauchelleRichard CourcetThong Duy NguyenDenis LavantGrégoire ColinMichel Subor')\n",
      "('Uncut Gems', 'https://www.metacritic.com/movie/uncut-gems', 'Ben SafdieJoshua Safdie', 'Andrea LinskyCa$h OutEric BogosianJacob IgielskiKeith Williams RichardsLakeith StanfieldLouis Anthony AriasMaksud AgadjaniNoa FisherPaloma ElsesserRoman PersitsSean RinggoldTommy KominikWarren FinkelsteinAdam SandlerDeneke MuhugetaHabtunu AfrichoIdina MenzelJacob IgielskiJonathan AranbayevJulia FoxKeith Williams RichardsKevin GarnettLakeith StanfieldLiang Wei-Hei DuncanMesfin LamengoNoa FisherPaloma ElsesserSuin Zhi Hua-HiltonSunny Wu Jin ZahooThe WeekndTommy KominikWarren Finkelstein')\n",
      "('Waltz with Bashir', 'https://www.metacritic.com/movie/waltz-with-bashir', 'Ari Folman', 'Dror HaraziGadi ErelMickey LeonOri SivanShahar SorekYehezkel LazarovZahava SolomonAri FolmanRon Ben-YishaiRonny Dayag')\n",
      "('They Shall Not Grow Old', 'https://www.metacritic.com/movie/they-shall-not-grow-old', 'Peter Jackson', None)\n",
      "('EX LIBRIS: The New York Public Library', 'https://www.metacritic.com/movie/ex-libris-new-york-public-library', 'Frederick Wiseman', None)\n",
      "('Secrets & Lies', 'https://www.metacritic.com/movie/secrets-lies', 'Mike Leigh', 'Brian BovellClaire PerkinsClaire RushbrookElias Perkins McCookElizabeth BerringtonEmma AmosLee RossLesley ManvilleMarianne Jean-BaptisteMichele AustinPhyllis LoganRon CookTrevor LairdBrenda BlethynTimothy Spall')\n",
      "('Patton', 'https://www.metacritic.com/movie/patton', 'Franklin J. Schaffner', 'Albert DumortierBill HickmanCarey LoftinDavid BauerFrank LatimoreJames EdwardsJohn BarrieKarl Michael VoglerLawrence DobkinMichael StrongMorgan PaullPat ZuricaStephen YoungGeorge C. ScottKarl Malden')\n",
      "('The Favourite', 'https://www.metacritic.com/movie/the-favourite', 'Giorgos Lanthimos', 'Basil EidenbenzCarolyn Saint-PéEdward AczelHannah MorleyHoratioIsaura Barbé-BrownJack VealJames MelvilleJames SmithJenny RainsfordJohn LockeMark GatissTim IngallTimothy InnesWillem DalbyWilson Radjou-PujalteBasil EidenbenzDenise MackEmma DelvesEmma StoneFaye DaveneyIsaura Barbé-BrownJack VealJames SmithJennifer WhiteJenny RainsfordJoe AlwynJohn LockeLillyRose StevensMark GatissNicholas HoultOlivia ColmanPaul SwaineRachel WeiszTimothy InnesWilson Radjou-Pujalte')\n",
      "('The Sweet Hereafter', 'https://www.metacritic.com/movie/the-sweet-hereafter', 'Atom Egoyan', 'Alberta WatsonArsinée KhanjianBruce GreenwoodCaerthan BanksDavid HemblenEarl PastkoGabrielle RoseKirsten KieferleMaury ChaykinSarah Rosen FruitmanSimon BakerStephanie MorgensternTom McCamusIan HolmSarah Polley')\n",
      "('The Right Stuff', 'https://www.metacritic.com/movie/the-right-stuff', 'Philip Kaufman', 'Charles FrankDonald MoffatLance HenriksenLevon HelmMary Jo DeschanelBarbara HersheyDennis QuaidEd HarrisFred WardKim StanleyPamela ReedSam ShepardScott GlennScott PaulinVeronica Cartwright')\n",
      "('Bambi', 'https://www.metacritic.com/movie/bambi', 'Bill RobertsDavid HandGraham HeidJames AlgarNorman WrightPaul SatterfieldSamuel Armstrong', 'Ann GillisDonnie DunaganEddie HoldenOtis HarlanSam EdwardsBobette AudreyDolyn Bramston CookHardie AlbrightJanet ChapmanJeanne ChristyMarion DarlingtonPeter BehnStan AlexanderThelma BoardmanTim Davis')\n",
      "('Flee', 'https://www.metacritic.com/movie/flee', 'Jonas Poher Rasmussen', None)\n",
      "('Bringing Up Baby', 'https://www.metacritic.com/movie/bringing-up-baby', 'Howard Hawks', 'Adeline AshburyAstaJohn KellyRuth AdlerVirginia WalkerBarry FitzgeraldCary GrantCharles RugglesFritz FeldGeorge IrvingKatharine HepburnLeona RobertsMay RobsonTala BirellWalter Catlett')\n",
      "('No Country for Old Men', 'https://www.metacritic.com/movie/no-country-for-old-men', 'Ethan CoenJoel Coen', 'Ana ReederBarry CorbinBeth GrantChip LoveGarret DillahuntKelly MacdonaldKit GwinRodger BoyceStephen RootTess HarperWoody HarrelsonZach HopkinsJavier BardemJosh BrolinTommy Lee Jones')\n",
      "('The Gatekeepers', 'https://www.metacritic.com/movie/the-gatekeepers', 'Dror Moreh', 'Ami AyalonAvi DichterAvraham ShalomCarmi GillonYaakov PeriYuval DiskinAmi AyalonAvi DichterAvraham ShalomCarmi GillonYaakov PeriYuval Diskin')\n",
      "('Nostalgia for the Light', 'https://www.metacritic.com/movie/nostalgia-for-the-light', 'Patricio Guzmán', 'Gaspar GalazGeorge PrestonLautaro NúñezLuís HenríquezMiguel LawnerValentina RodríguezVicky SaavedaVíctor GonzálezVioleta Berrios')\n",
      "('David Copperfield', 'https://www.metacritic.com/movie/david-copperfield', 'George Cukor', \"Elsa LanchesterFay ChaldecottJean CadellLionel BarrymoreUna O'ConnorViolet Kemble CooperBasil RathboneEdna May OliverElizabeth AllanFreddie BartholomewHarry BeresfordHerbert MundinHugh WalpoleJessie RalphJohn Buckler\")\n",
      "('Saving Private Ryan', 'https://www.metacritic.com/movie/saving-private-ryan', 'Steven Spielberg', 'Adam GoldbergBarry PepperDennis FarinaDylan BrunoEdward BurnsGiovanni RibisiJeremy DaviesJoerg StadlerMax MartiniPaul GiamattiTed DansonTom SizemoreVin DieselMatt DamonTom Hanks')\n",
      "('After Hours', 'https://www.metacritic.com/movie/after-hours', 'Martin Scorsese', \"Bronson PinchotCatherine O'HaraCheech MarinDick MillerJohn HeardLarry BlockLinda FiorentinoRobert PlunketRocco SistoTeri GarrTommy ChongVerna BloomWill PattonGriffin DunneRosanna Arquette\")\n",
      "('Her', 'https://www.metacritic.com/movie/her', 'Spike Jonze', 'Alia JanineAmy AdamsArtt ButlerBill HaderBrian JohnsonCaroline Jaden StussiCassandra StarrChris PrattClaudia ChoiEric PumphreyEvelyn EdwardsGabe GomezGracie PrewittJeremy RabbJoaquin PhoenixKatherine BoecherKelly SarahKim FarrisKristen WiigLaura ColquhounLaura Kai ChenLaura MeadowsLisa Renee PittsLuka JonesLynn A. FreedmanMatt LetscherMay LindstromMelanie SeacatNico DavidNicole GrotherOlivia WildePamela RoylancePortia DoubledayRachel Ann MullinsRooney MaraSam JaegerSamantha MortonSamantha SarakantiScarlett JohanssonSpike JonzeTiffany PulvinoAmy AdamsChris PrattJoaquin PhoenixOlivia WildeRooney MaraSamantha MortonScarlett Johansson')\n",
      "('The Crying Game', 'https://www.metacritic.com/movie/the-crying-game', 'Neil Jordan', 'Adrian DunbarAndrée BernardBirdy SweeneyBreffni McKennaJack CarrJim BroadbentJoe SavinoJosephine WhiteMiranda RichardsonRalph BrownShar CampbellTony SlatteryForest WhitakerJaye DavidsonStephen Rea')\n",
      "('Great Expectations', 'https://www.metacritic.com/movie/great-expectations-1947', 'David Lean', 'Eileen ErskineFreda JacksonGeorge HayesHay PetrieJohn ForrestAlec GuinnessBernard MilesFinlay CurrieFrancis L. SullivanIvor BarnardJean SimmonsJohn MillsMartita HuntTony WagerValerie Hobson')\n",
      "('Burning', 'https://www.metacritic.com/movie/burning', 'Chang-dong Lee', 'Bong-ryeon LeeJa-Yeon OkJoong-ok LeeSeok-Chan JeonWonhyeong JangAh In YooBok-gi MinHye-ra BanJa-Yeon OkJong-seo JeonJoong-ok LeeMi-Kyung ChaMoon Sung-KeunSeong-kun MunSeung-ho ChoiSoo-Jeong LeeSoo-Kyung KimSteven Yeun')\n",
      "(\"Winter's Bone\", 'https://www.metacritic.com/movie/winters-bone', 'Debra Granik', 'Ashlee ThompsonBeth DomannCasey MacLarenCody BrownDale DickeyIsaiah StoneKevin BreznahanLauren SweetserShelley WaggenerTate TaylorValerie RichardsWilliam WhiteGarret DillahuntJennifer LawrenceJohn Hawkes')\n",
      "('Hope', 'https://www.metacritic.com/movie/hope', 'Maria Sødahl', 'Alexander Mørk EidemIngrid BuggeJohannes JonerKristin Voss HestvoldTerje AuliAlfred VatneAndrea Bræin HovigDaniel Storm Forthun SandbyeDina Enoksen ElvehaugEinar ØklandEirik HallertElli Rhiannon Müller OsbourneGjertrud L. JyngeSteinar Klouman HallertStellan Skarsgård')\n",
      "('Gett: The Trial of Viviane Amsalem', 'https://www.metacritic.com/movie/gett-the-trial-of-viviane-amsalem', 'Ronit ElkabetzShlomi Elkabetz', 'Abraham CelektarAlbert IluzDalia BegerDavid OhayonEli GornsteinEvelin HagoelGabi AmraniKeren MorMenashe NoyRami DanonRoberto PollackRonit ElkabetzSasson GabaiShmil Ben AriSimon Abkarian')\n",
      "('I Called Him Morgan', 'https://www.metacritic.com/movie/i-called-him-morgan', 'Kasper Collin', 'Al HarrisonAlbert Tootie HeathBennie MaupinBilly HarperCharli PersipHelen MorganJudith JohnsonJymie MerrittLarry Reni ThomasLarry RidleyLee MorganLena SherrodPaul WestRon St. ClairWayne Shorter')\n",
      "('Close Encounters of the Third Kind', 'https://www.metacritic.com/movie/close-encounters-of-the-third-kind', 'Steven Spielberg', 'Adrienne CampbellBob BalabanCary GuffeyJ. Patrick McNamaraJustin DreyfussLance HenriksenMelinda DillonMerrill ConnallyPhilip DoddsRoberts BlossomShawn BishopWarren J. KemmerlingFrançois TruffautRichard DreyfussTeri Garr')\n",
      "('The Godfather: Part II', 'https://www.metacritic.com/movie/the-godfather-part-ii', 'Francis Ford Coppola', 'Bruno KirbyFrancesca De SapioFrank SiveroG.D. SpradlinGastone MoschinJohn CazaleLee StrasbergMichael V. GazzoRichard BrightTalia ShireTom RosquiAl PacinoDiane KeatonRobert De NiroRobert Duvall')\n",
      "('The Hustler', 'https://www.metacritic.com/movie/the-hustler', 'Robert Rossen', 'Alexander RoseCarl YorkCarolyn CoatesGordon B. ClarkeVincent GardeniaClifford A. PellowGeorge C. ScottJackie GleasonJake LaMottaMichael ConstantineMurray HamiltonMyron McCormickPaul NewmanPiper LaurieStefan Gierasch')\n",
      "('L.A. Confidential', 'https://www.metacritic.com/movie/la-confidential', 'Curtis Hanson', 'Danny DeVitoDavid StrathairnElisabeth GranliGraham BeckelJames CromwellMatt McCoyPaolo SegantiPaul GuilfoyleRon RifkinSandra TaylorSteve RankinGuy PearceKevin SpaceyKim BasingerRussell Crowe')\n",
      "('Bloody Sunday', 'https://www.metacritic.com/movie/bloody-sunday', 'Paul Greengrass', 'Allan GildeaCarmel McCallionChristopher VilliersDeclan DuddyEdel FrazerGerard CrossanGerry HammondJames HewittJason StammersJoanne LindsayMary MouldsMike EdwardsJames NesbittNicholas FarrellTim Pigott-Smith')\n",
      "('My Voyage to Italy', 'https://www.metacritic.com/movie/my-voyage-to-italy', 'Martin Scorsese', 'Martin Scorsese')\n",
      "('Phantom Thread', 'https://www.metacritic.com/movie/phantom-thread', 'Paul Thomas Anderson', 'Alexandra MoloneyAmber BrabantAmy CunninghamAndrew G. OglebyCalum DelaneyCamilla RutherfordCaroline GarnellCedric TyllemanColin WigglesworthCris HarisDaniel Day-LewisDarren TalbotDave SimonDavid Charles-CullyFraser DelaneyGeneva CorlettGino PiccianoHarriet LeitchIngrid Sophie SchramJane PerryJason RedshawJoseph CallaghanJuliet GlavesKelly SchembriKhristopher MacLeodLesley ManvilleLujza RichterMartin DewMichael GabbitasNeil BroomeNiki Angus-CampbellPaul CarolanPip PhillipsRebecca McSwanRichard GrahamSarah LameschVicky KriepsBern CollacoCamilla RutherfordCedric TyllemanDaniel Day-LewisDave SimonDinah NicholsonElli BanksHarriet LeitchIngrid Sophie SchramJack GordonJane PerryJason RedshawJoan BrownJulie DuckKelly SchembriLesley ManvilleMaryanne FrostPip PhillipsRichard GrahamSarah LameschSue ClarkVicky Krieps')\n",
      "('Goodfellas', 'https://www.metacritic.com/movie/goodfellas', 'Martin Scorsese', 'Catherine ScorseseCharles ScorseseChuck LowFrank DiLeoFrank SiveroFrank VincentGina MastrogiacomoHenny YoungmanMike StarrTony DarrowJoe PesciLorraine BraccoPaul SorvinoRay LiottaRobert De Niro')\n",
      "('Wojnarowicz', 'https://www.metacritic.com/movie/wojnarowicz', 'Chris McKim', 'Barry BlindermanDavid WojnarowiczFran LebowitzKiki SmithNan GoldinPeter HujarRichard KernStephen Koch')\n",
      "('Hamilton', 'https://www.metacritic.com/movie/hamilton-2020', 'Thomas Kail', 'Ariana DeBoseCarleigh BettiolEphraim SykesHope EasterbrookJon RuaNeil HaskellPhillipa SooSasha HutchingsSydney James HarcourtThayne JaspersonAnthony RamosChris JacksonDaveed DiggsEmmy Raver-LampmanJasmine Cephas JonesJonathan GroffLeslie Odom Jr.Lin-Manuel MirandaOkieriete OnaodowanPhillipa SooRenee Goldsberry')\n",
      "('Paths of the Soul', 'https://www.metacritic.com/movie/paths-of-the-soul', 'Yang Zhang', None)\n",
      "(\"It's Such a Beautiful Day\", 'https://www.metacritic.com/movie/its-such-a-beautiful-day-2012', 'Don Hertzfeldt', 'Don Hertzfeldt')\n",
      "('My Perestroika', 'https://www.metacritic.com/movie/my-perestroika', 'Robin Hessman', None)\n",
      "('This Is Not a Film', 'https://www.metacritic.com/movie/this-is-not-a-film', 'Jafar PanahiMojtaba Mirtahmasb', 'Jafar Panahi')\n",
      "('The Birds', 'https://www.metacritic.com/movie/the-birds', 'Alfred Hitchcock', 'Doodles WeaverJohn McGovernKarl SwensonMalcolm AtterburyRichard DeaconCharles McGrawEthel GriffiesJessica TandyJoe MantellLonny ChapmanRod TaylorRuth McDevittSuzanne PleshetteTippi HedrenVeronica Cartwright')\n",
      "('To Have and Have Not', 'https://www.metacritic.com/movie/to-have-and-have-not', 'Howard Hawks', 'Aldo NadiAudrey ArmstrongEugene BordenJoy BarlowJuliette BallDan SeymourDolores MoranHoagy CarmichaelHumphrey BogartLauren BacallMarcel DalioSheldon LeonardWalter BrennanWalter SandeWalter Szurovy')\n",
      "('Finding Nemo', 'https://www.metacritic.com/movie/finding-nemo', 'Andrew StantonLee Unkrich', 'Allison JanneyAndrew StantonAustin PendletonBob PetersonBrad GarrettElizabeth PerkinsGeoffrey RushJoe RanftNicholas BirdStephen RootVicki LewisWillem DafoeAlbert BrooksAlexander GouldEllen DeGeneres')\n",
      "('Topsy-Turvy', 'https://www.metacritic.com/movie/topsy-turvy', 'Mike Leigh', 'Adam SearleDexter FletcherFrancis LeeGeoffrey HutchingsKate DohertyLesley ManvilleMartin SavageRoger HeathcottStefan BednarczykSukie SmithTimothy SpallWendy NottinghamWilliam NeenanAllan CordunerJim Broadbent')\n",
      "('Samurai Rebellion', 'https://www.metacritic.com/movie/samurai-rebellion', 'Masaki Kobayashi', 'Emi YamadaHideo FukuharaJun HamamuraMasao MishimaTakamaru SasakiEtsuko IchiharaGIsao YamagataMichiko ÔtsukaShigeru KTatsuo MatsumuraTatsuya NakadaiTatsuyoshi EharaToshirô MifuneYôko Tsukasa')\n",
      "('King Kong', 'https://www.metacritic.com/movie/king-kong-1933', 'Ernest B. SchoedsackMerian C. Cooper', 'Ed AllenEtta Mae AllenFrank AngelJames AdamsonVan AlderBruce CabotFay WrayFrank ReicherJames FlavinKing KongNoble JohnsonRobert ArmstrongSam HardySteve ClementeWalter Ackerman')\n",
      "('Gunda', 'https://www.metacritic.com/movie/gunda', 'Victor Kossakovsky', None)\n",
      "('The Incredibles', 'https://www.metacritic.com/movie/the-incredibles', 'Brad Bird', 'Dominique LouisEli FucileJean SincereLou RomanoMaeve AndrewsMichael BirdSarah VowellSpencer FoxTeddy NewtonWallace ShawnWayne CanneyCraig T. NelsonHolly HunterJason LeeSamuel L. Jackson')\n",
      "('Before Sunset', 'https://www.metacritic.com/movie/before-sunset', 'Richard Linklater', 'Albert DelpyDenis EvrardDiaboloLouise Lemoine TorresMariane PlasteigMarie PilletRodolphe PaulyVernon DobtcheffEthan HawkeJulie Delpy')\n",
      "('Being John Malkovich', 'https://www.metacritic.com/movie/being-john-malkovich', 'Spike Jonze', 'Byrne PivenEric WeinsteinJudith WetzellK.K. DoddsKevin CarrollMadison LancMary Kay PlaceNed BellamyOctavia SpencerOrson BeanReginald C. HayesCameron DiazCatherine KeenerJohn CusackJohn Malkovich')\n",
      "('A Prophet', 'https://www.metacritic.com/movie/a-prophet', 'Jacques Audiard', 'Adel BencherifAntoine BaslerFoued NassahFrédéric GrazianiGilles CohenHichem YacoubiJean-Emmanuel PagniJean-Philippe RicciLeïla BekhtiNiels ArestrupPierre LecciaRabah LoucifReda KatebSlimane DaziTahar Rahim')\n",
      "('Hard to Be a God', 'https://www.metacritic.com/movie/hard-to-be-a-god', 'Aleksei German', 'Aleksandr ChutkoAleksandr IlinAlgimantas MaceinaDmitriy VladimirovEvgeniy GerchakovIgor VolkovJuris LaucinshLaura LauriLeonid YarmolnikNatalya MotevaOleg BotinPyotr MerkurevRemigijus BilinskasYuriy Tsurilo')\n",
      "('Almost Famous', 'https://www.metacritic.com/movie/almost-famous', 'Cameron Crowe', 'Anna PaquinFairuza BalkFrances McDormandJason LeeJimmy FallonJohn FedevichKate HudsonLiz StauberMark KozelekMichael AngaranoNoah TaylorPatrick FugitPhilip Seymour HoffmanZooey DeschanelBilly Crudup')\n",
      "('Paths of Glory', 'https://www.metacritic.com/movie/paths-of-glory', 'Stanley Kubrick', 'Adolphe MenjouBert FreedChristiane KubrickEmile MeyerFred BellGeorge MacreadyJerry HausnerJoe TurkelKem DibbsPeter CapellRichard AndersonTimothy CareyWayne MorrisKirk DouglasRalph Meeker')\n",
      "('Cold War', 'https://www.metacritic.com/movie/cold-war', 'Pawel Pawlikowski', 'Adam SzyszkowskiAleksandra KacprzakAloïse SauvageAnna ZagórskaIzabela AndrzejakMartin BudnyPhilip LenkowskyTomasz MarkiewiczAdam FerencyAdam SzyszkowskiAdam WoronowiczAgata KuleszaBorys SzycCédric KahnDrazen SivakGiorgio RayzacherJeanne BalibarJoanna KuligSlavko SobinTomasz Kot')\n",
      "('Big Men', 'https://www.metacritic.com/movie/big-men', 'Rachel Boynton', None)\n",
      "('American Splendor', 'https://www.metacritic.com/movie/american-splendor', 'Robert PulciniShari Springer Berman', 'Barbara BrownCameron CarterChris AmbroseDaniel TayDanny HochEarl BillingsJames UrbaniakJoey KrajcarJosh HutchersonLarry John MeyersMary FaktorVivienne BeneschHarvey PekarPaul GiamattiShari Springer Berman')\n",
      "('Hannah and Her Sisters', 'https://www.metacritic.com/movie/hannah-and-her-sisters', 'Woody Allen', \"Carrie FisherChristian ClemensonJ.T. WalshJohn TurturroJulia Louis-DreyfusJulie KavnerLewis BlackLloyd NolanMaureen O'SullivanMax von SydowBarbara HersheyDianne WiestMia FarrowMichael CaineWoody Allen\")\n",
      "('The Circus', 'https://www.metacritic.com/movie/the-circus', 'Charles Chaplin', 'Chester A. BachmanEugene BarryHeinie ConklinJack BernardStanley BlystoneAl Ernest GarciaAlbert AustinCharles ChaplinGeorge DavisHarry CrockerHenry BergmanJohn RandMerna KennedySteve MurphyTiny Sandford')\n",
      "('The Tale', 'https://www.metacritic.com/movie/the-tale', 'Jennifer Fox', 'Emily SandiferGretchen KoernerIsabella AmaraIsabelle NélisseJaqueline FlemingJessica Sarah FlaumMadison DavidMatthew RauchNoah LomaxThom BishopsTina ParkerChelsea AldenCommonElizabeth DebickiEllen BurstynFrances ConroyIsabella AmaraIsabelle NélisseJason RitterJohn HeardLaura AllenLaura Dern')\n",
      "('Gosford Park', 'https://www.metacritic.com/movie/gosford-park', 'Robert Altman', 'Bob BalabanCamilla RutherfordCharles DanceClaudie BlakleyGeraldine SomervilleJames WilbyJeremy NorthamKristin Scott ThomasLaurence FoxMichael GambonNatasha WightmanTom HollanderTrent FordMaggie SmithRyan Phillippe')\n",
      "('Dirty Harry', 'https://www.metacritic.com/movie/dirty-harry', 'Don Siegel', 'James NolanJosef SommerMaurice ArgentWilliam PatersonWoodrow ParfreyAndrew RobinsonClint EastwoodHarry GuardinoJohn LarchJohn MitchumJohn VernonLyn EdgingtonMae MercerReni SantoniRuth Kobart')\n",
      "('The Fits', 'https://www.metacritic.com/movie/the-fits', 'Anna Rose Holmer', \"Alexis NeblettAntonio A.B. Grant Jr.Da'Sean MinorInayah RodgersLauren GibsonMakyla BurnamRoyalty HightowerRoyalty Hightower\")\n",
      "('Small Axe: Mangrove', 'https://www.metacritic.com/movie/mangrove', 'Steve McQueen', 'James HillierJon ProphetKarl FarrerMichelle GreenidgeRobert JarvisGary BeadleGershwyn Eustache JnrJay SimpsonJodhi MayJoshua VinerLetitia WrightMalachi KirbyRochenda SandallSam SpruellShaun Parkes')\n",
      "('Mad Max: Fury Road', 'https://www.metacritic.com/movie/mad-max-fury-road', 'George Miller', 'Abbey LeeAngus SampsonCharlize TheronCoco Jack GilliesCourtney EatonDebra AdesHugh Keays-ByrneIotaJohn HowardJosh HelmanMegan GaleMel GibsonMelissa JafferNathan JonesNicholas HoultRichard CarterRichard NortonRiley KeoughRosie Huntington-WhiteleyTom HardyZoë KravitzCharlize TheronJohn HowardNathan JonesNicholas HoultRiley KeoughTom HardyZoë Kravitz')\n",
      "('United 93', 'https://www.metacritic.com/movie/united-93', 'Paul Greengrass', 'Christian ClemensonDenny DillonGary CommockJ.J. JohnsonLorna DallasNancy McDonielOpal AlladinPolly AdamsRay CharlesonRichard BekinsStarla BenfordSusan BlommaertTrish GatesDavid Alan BascheLiza Colón-Zayas')\n",
      "('Capturing the Friedmans', 'https://www.metacritic.com/movie/capturing-the-friedmans', 'Andrew Jarecki', 'Abbey BoklanAnthony SgeugloiChuck ScarboroughFrances GalassoHoward FriedmanJohn McDermottJoseph OnoratoJudd MaltinRon GeorgalisScott BanksSeth FriedmanArnold FriedmanDavid FriedmanElaine FriedmanJesse Friedman')\n",
      "('The Truman Show', 'https://www.metacritic.com/movie/the-truman-show', 'Peter Weir', 'Angel SchmiedtBlair SlaterBrian DelateDon TaylorFritz DominiqueHeidi SchanzHolland TaylorJudy ClaytonLaura LinneyNatascha McElhoneNoah EmmerichPeter KrauseRon TaylorTed RaymondJim Carrey')\n",
      "('American Hustle', 'https://www.metacritic.com/movie/american-hustle', 'David O. Russell', 'Adrian MartinezAlessandro NivolaAmy AdamsAnthony ZerbeBo ClearyBradley CooperChristian BaleChristy Scott CashmanColleen CampDavid BostonDawn OlivieriElisabeth RöhmErica McDermottJack HustonJeremy RennerKenn MedeirosLouis C.K.Matthew RussellMelissa McMeekinMichael PeñaPaul HermanRobert De NiroSaïd TaghmaouiShea WhighamThomas MatthewsAlessandro NivolaAmy AdamsBradley CooperChristian BaleJennifer LawrenceJeremy RennerLouis C.K.Robert De Niro')\n",
      "('Paterson', 'https://www.metacritic.com/movie/paterson', 'Jim Jarmusch', 'Adam DriverBarry Shabaka HenleyBrian McCarthyChasten HarmonDominic LirianoFrank HartsGolshifteh FarahaniHelen-Jean ArthurJaden MichaelJared GilmanJoan KendallJohnnie MaeKacey CockettKara HaywardLuis Da Silva Jr.Method ManNellieOwen AsztalosRizwan ManjiSterling JerinsTrevor ParhamTroy T. ParhamWilliam Jackson HarperAdam DriverGolshifteh Farahani')\n",
      "('Star Wars: Episode IV - A New Hope', 'https://www.metacritic.com/movie/star-wars-episode-iv---a-new-hope', 'George Lucas', 'Alec GuinnessAlex McCrindleAnthony DanielsDavid ProwseEddie ByrneJack PurvisJames Earl JonesKenny BakerPeter CushingPeter MayhewPhil BrownShelagh FraserCarrie FisherHarrison FordMark Hamill')\n",
      "('Persepolis', 'https://www.metacritic.com/movie/persepolis', 'Marjane SatrapiVincent Paronnaud', 'Adriana AndersonAmethyste FrezignacArié ElmalehDanielle DarrieuxFrançois JerosmeGabrielle Lopes BenitesJean-François GallotteLexie KendrickMathias MlekuzPaul BandeyRobert BarrSean PennSimon AbkarianSophie ArthuysStéphane FoenkinosTilly MandelbrotCatherine DeneuveChiara MastroianniGena Rowlands')\n",
      "('The Age of Innocence', 'https://www.metacritic.com/movie/the-age-of-innocence', 'Martin Scorsese', 'Alec McCowenAlexis SmithGeraldine ChaplinJoanne WoodwardJonathan PryceMary Beth HurtMichael GoughMiriam MargolyesRichard E. GrantRobert Sean LeonardSiân PhillipsStuart WilsonDaniel Day-LewisMichelle PfeifferWinona Ryder')\n",
      "('Minding the Gap', 'https://www.metacritic.com/movie/minding-the-gap', 'Bing Liu', 'Bing LiuKiere JohnsonZack Mulligan')\n",
      "('The Best of Youth', 'https://www.metacritic.com/movie/the-best-of-youth', 'Marco Tullio Giordana', 'Adriana AstiAndrea TidonaClaudio GioèFabrizio GifuniGiovanni ScifoniLidia VitaleMario SchianoMaya SansaMichele MelegaPaolo BonanniSonia BergamascoValentina CarneluttiAlessio BoniJasmine TrincaLuigi Lo Cascio')\n",
      "('The Overnighters', 'https://www.metacritic.com/movie/the-overnighters', 'Jesse Moss', 'Jay ReinkeKeegan EdwardsJay Reinke')\n",
      "('The Lives of Others', 'https://www.metacritic.com/movie/the-lives-of-others', 'Florian Henckel von Donnersmarck', 'Bastian TrostCharly HübnerHans-Uwe BauerHerbert KnaupMarie GruberMartin BrambachMatthias BrennerThomas ThiemeUlrich TukurVolker MichalowskiVolkmar KleinertWerner DaehnMartina GedeckSebastian KochUlrich Mühe')\n",
      "('Two-Lane Blacktop', 'https://www.metacritic.com/movie/two-lane-blacktop', 'Monte Hellman', 'Alan VintCharles MooreDon SamuelsTom GreenW.H. HarrisonBill KellerDavid DrakeDennis WilsonHarry Dean StantonJaclyn HellmanJames TaylorLaurie BirdRichard RuthRudy WurlitzerWarren Oates')\n",
      "('House of Flying Daggers', 'https://www.metacritic.com/movie/house-of-flying-daggers', 'Yimou Zhang', 'Dandan SongDong LiuHongfei ZhaoHongwei ZhaoJiusheng WangJun GuoLiping TianQi ZiShu ZhangXuedong QuYongxin WangZhengyong ZhangAndy LauTakeshi KaneshiroZiyi Zhang')\n",
      "('63 Up', 'https://www.metacritic.com/movie/63-up', 'Michael Apted', 'Andrew BrackfieldJacqueline BassettJohn BrisbyNeil HughesPaul KligermanPeter DaviesSusan SullivanSymon BasterfieldAndrew BrackfieldBruce BaldenCharles FurneauxJacqueline BassettJohn BrisbyLynn JohnsonNeil HughesNicholas HitchonPeter DaviesSusan SullivanSuzanne DeweyTony Walker')\n",
      "('Treasure Island', 'https://www.metacritic.com/movie/treasure-island', 'Byron Haskin', \"Andrew BlackettDavid DaviesFrancis de WolffJohn GregsonWilliam DevlinBasil SydneyBobby DriscollDenis O'DeaFinlay CurrieGeoffrey KeenGeoffrey WilkinsonJohn LaurieRalph TrumanRobert NewtonWalter Fitzgerald\")\n",
      "('Lost in Translation', 'https://www.metacritic.com/movie/lost-in-translation', 'Sofia Coppola', 'Akiko TakeshitaAkira YamaguchiCatherine LambertDiamond YukaiFrançois du BoisGregory PekarKazuko ShibataKazuyoshi MinamimagoeRichard AllenRyuichiro BabaTakeTim LeffmanBill MurrayGiovanni RibisiScarlett Johansson')\n",
      "('Blue Is the Warmest Color', 'https://www.metacritic.com/movie/blue-is-the-warmest-color', 'Abdel Kechiche', 'AdAlma JodorowskyAnne LoiretAurelie LemanceauAurélien RecoingBaya RehazBenjamin SiksouBenoCatherine SaléeFanny MaurinJeremie LaheurteKarim SaidiLéa SeydouxMaelys CabezonMona WalravensSalim KechioucheSamir BellaSandor FuntekAdAlma JodorowskyAnne LoiretAurélien RecoingBenjamin SiksouBenoCatherine SaléeJeremie LaheurteLéa SeydouxMona WalravensSalim KechioucheSandor Funtek')\n",
      "('Searching for Bobby Fischer', 'https://www.metacritic.com/movie/searching-for-bobby-fischer', 'Steven Zaillian', 'Anthony HealdDan HedayaLaura LinneySteven RandazzoWilliam H. MacyBen KingsleyDavid PaymerHal ScardinoJoan AllenJoe MantegnaLaurence FishburneMax PomerancMichael NirenbergRobert StephensVasek Simek')\n",
      "('Assault on Precinct 13', 'https://www.metacritic.com/movie/assault-on-precinct-13-1976', 'John Carpenter', 'Alan KossCharles CyphersFrank DoubledayGilbert De la PenaHenry BrandonJohn J. FoxKim RichardsMarc RossMartin WestNancy KyesPeter BruniTony BurtonAustin StokerDarwin JostonLaurie Zimmer')\n",
      "('Man on Wire', 'https://www.metacritic.com/movie/man-on-wire', 'James Marsh', 'Aaron HaskellAlan WelnerAnnie AllixArdis CampbellBarry GreenhouseDavid DematoDavid FormanGuy F. TozzoliJean François HeckelJean-Louis BlondeauJim MooreMark LewisPaul McGillShawn Dempewolff-BarrettPhilippe Petit')\n",
      "('For Sama', 'https://www.metacritic.com/movie/for-sama', 'Edward WattsWaad Al-Khateab', 'Hamza Al-KhateabSama Al-KhateabWaad Al-Khateab')\n",
      "('Force of Evil', 'https://www.metacritic.com/movie/force-of-evil', 'Abraham Polonsky', 'Georgia BackusJessie ArnoldMargaret BertMurray AlperSam AshBarry KelleyBeatrice PearsonHowland ChamberlainJohn GarfieldMarie WindsorPaul FixPaul McVeyRoy RobertsStanley PragerThomas Gomez')\n",
      "('Still Walking', 'https://www.metacritic.com/movie/still-walking', 'Hirokazu Koreeda', 'Haruko KatoHiroshi AbeHotaru NomotoKazuya TakahashiKirin KikiRyôga HayashiShohei TanakaSusumu TerajimaYoshio HaradaYouYui Natsukawa')\n",
      "('Gangs of Wasseypur', 'https://www.metacritic.com/movie/gangs-of-wasseypur', 'Anurag Kashyap', 'Aditya KumarHuma QureshiJaideep AhlawatJameel KhanManoj BajpaiNowazPiyush MishraRaj Kumar YadavRicha ChaddaSankalp AcharekarSatyakam AnandTigmanshu DhuliaVineet SinghVipin SharmaZeishan Quadri')\n",
      "('The Last Detail', 'https://www.metacritic.com/movie/the-last-detail', 'Hal Ashby', 'Carol KaneClifton JamesDerek McGrathDon McGovernGerry SalsbergJim HenshawKathleen MillerLuana AndersMichael ChapmanMichael MoriartyNancy AllenOtis YoungPat HamiltonJack NicholsonRandy Quaid')\n",
      "('When the Levees Broke: A Requiem in Four Acts', 'https://www.metacritic.com/movie/when-the-levees-broke-a-requiem-in-four-acts', 'Spike Lee', 'Douglas BrinkleyJoseph BrunoKaren CarterKathleen BlancoLouis CataldieDarleen AsevedoGralen Bryant BanksHarry BelafonteJay AsevedoJohn BarryLee ArnoldRobert BeaShelton Shakespear AlexanderTerence BlanchardWilhelmina Blanchard')\n",
      "('Borat: Cultural Learnings of America for Make Benefit Glorious Nation of Kazakhstan', 'https://www.metacritic.com/movie/borat-cultural-learnings-of-america-for-make-benefit-glorious-nation-of-kazakhstan', 'Larry Charles', 'Alan KeyesBob BarrJean-Pierre ParentLuenellMitchell FalkPamela AndersonKen DavitianSacha Baron Cohen')\n",
      "('Minari', 'https://www.metacritic.com/movie/minari', 'Lee Isaac Chung', 'Ben HallJacob M WadeJames CarrollJenny PhaganTina ParkerAlan S. KimDarryl CoxEric StarkeyEsther MoonNoel ChoScott HazeSteven YeunWill PattonYe-ri HanYeo-Jong Yun')\n",
      "('Barry Lyndon', 'https://www.metacritic.com/movie/barry-lyndon', 'Stanley Kubrick', \"André MorellArthur O'SullivanDiana KörnerFrank MiddlemassGay HamiltonGodfrey QuigleyHardy KrügerLeonard RossiterMarie KeanMurray MelvinPatrick MageePhilip StoneSteven BerkoffMarisa BerensonRyan O'Neal\")\n",
      "('The Farewell', 'https://www.metacritic.com/movie/the-farewell', 'Lulu Wang', 'Aoi MizuharaBecca KhalilDiane DehnHan ChenHong LuHongli LiuInes LaiminsJing ZhangJinhang LiuShimin ZhangX MayoXiang LiYongbo JiangZhao ShuzhenAoi MizuharaAwkwafinaBecca KhalilDiana LinDiane DehnGil Perez-AbrahamHan ChenHong LinHong LuInes LaiminsJim LiuShuzhen ZhouTzi MaX MayoYang XuejianYongbo JiangZhao Shuzhen')\n",
      "('Elle', 'https://www.metacritic.com/movie/elle', 'Paul Verhoeven', 'Alice IsaazAnne ConsignyArthur MazetCharles BerlingChristian BerkelHugo ConzelmannIsabelle HuppertJean DouchetJean-Noël MartinJonas BloquetJudith MagreLaurent LafitteLucas PrisorNicolas BeaucaireOlivia GotanègreRaphaël LengletStéphane BakVimala PonsVirginie EfiraAnne ConsignyCharles BerlingIsabelle HuppertLaurent Lafitte')\n",
      "('The Tale of The Princess Kaguya', 'https://www.metacritic.com/movie/the-tale-of-princess-kaguya', 'Isao Takahata', 'Aki AsakuraBeau BridgesBrian LeoneCaitlyn LeoneDaniel Dae KimDarren CrissDean CainEmily BridgesGeorge SegalHikaru IjûinHynden WalchIsao HashizumeJames CaanJohn ChoKengo KôraLucy LiuMichael LeoneOliver PlattTakaya KamikawaTakeo ChiiYukiji AsaokaChloë Grace MoretzJames CaanJames MarsdenMary Steenburgen')\n",
      "('Uncertain', 'https://www.metacritic.com/movie/uncertain', 'Anna SandilandsEwan McNicol', None)\n",
      "('Captain Blood', 'https://www.metacritic.com/movie/captain-blood', 'Michael Curtiz', 'David TorrenceForrester HarveyFrank McGlynn Sr.Holmes HerbertJessie RalphBasil RathboneDonald MeekErrol FlynnGuy KibbeeHenry StephensonHobart CavanaughLionel AtwillOlivia de HavillandRobert BarratRoss Alexander')\n",
      "('Two Days, One Night', 'https://www.metacritic.com/movie/two-days-one-night', 'Jean-Pierre DardenneLuc Dardenne', 'Alain EloyAnette NiroBatiste SorninCatherine SaléeChristelle CornilChristelle DelbrouckFabienne SciasciaFabrizio RongioneHassaba HalibiHicham SlaouiLara PersainLaurent CaronMarion CotillardMyriem AkeddiouOlivier GourmetPhilippe JeusettePili GroyneRania MellouliSimon CaudryTimur MagomedgadzhievYohan ZimmerAlain EloyBatiste SorninCatherine SaléeFabrizio RongioneLara PersainMarion CotillardPili GroyneSimon Caudry')\n",
      "('National Gallery', 'https://www.metacritic.com/movie/national-gallery', 'Frederick Wiseman', None)\n",
      "('Eighth Grade', 'https://www.metacritic.com/movie/eighth-grade', 'Bo Burnham', \"Castor FeinbergCatherine OliviereDeborah UngerFaith KellyFrank DealFred HechingerGerald W. JonesGreg CroweJalesia MartinezKaileen QuinonesKevin R. FreeLuke PraelMarguerite StimpsonMissy YagerNatalie CarterShacha TemirovThomas J O'ReillyCatherine OliviereDaniel ZolghadriDeborah UngerElsie FisherEmily RobinsonFrank DealFred HechingerGerald W. JonesGreg CroweImani LewisJake RyanJosh HamiltonJosh HamiltonLuke PraelMarguerite StimpsonMissy YagerNatalie CarterNora Mullins\")\n",
      "('A Star Is Born', 'https://www.metacritic.com/movie/a-star-is-born-1954', 'George Cukor', 'David ArmstrongLaurindo AlmeidaLeon AltonPhil ArnoldRudolph AndersAmanda BlakeCharles BickfordHazel ShermetIrving BaconJack CarsonJames BrownJames MasonJudy GarlandLucy MarlowTommy Noonan')\n",
      "('No End in Sight', 'https://www.metacritic.com/movie/no-end-in-sight', 'Charles Ferguson', 'Ali FadhilCampbell ScottColin PowellDick CheneyDonald RumsfeldFeisal IstrabadiGeorge TenetGerald BurkeJames BamfordMarc GarlascoOmar FekeikiPaul HughesPaul WolfowitzRobert HutchingsSamantha Power')\n",
      "(\"It's a Wonderful Life\", 'https://www.metacritic.com/movie/its-a-wonderful-life', 'Frank Capra', 'Beulah BondiFrank AlbertsonFrank FaylenGloria GrahameH.B. WarnerHenry TraversLionel BarrymoreMary TreenSamuel S. HindsThomas MitchellTodd KarnsVirginia PattonWard BondDonna ReedJames Stewart')\n",
      "('The Madness of King George', 'https://www.metacritic.com/movie/the-madness-of-king-george', 'Nicholas Hytner', 'David LeonJulian Rhind-TuttMartin JulierNatalie PalysRupert EverettRussell MartinAmanda DonohoeCassandra HalliburtonCharlotte CurleyEve CamdenHelen MirrenJoanna HallPeter Bride-KirkRupert GravesThomas Copeland')\n",
      "('Phoenix', 'https://www.metacritic.com/movie/phoenix', 'Christian Petzold', 'Claudia GeislerDaniela HoltzEva BayFelix RömerImogen KoggeJeff BurrellKirsten BlockMax HoppMegan GayMichael MaertensNikola KastnerNina HossNina KunzendorfRonald ZehrfeldSofia ExssTrystan PütterUwe PreussValerie KochFelix RömerImogen KoggeMichael MaertensNina HossNina KunzendorfRonald ZehrfeldTrystan PütterUwe Preuss')\n",
      "('Goodbye Solo', 'https://www.metacritic.com/movie/goodbye-solo', 'Ramin Bahrani', \"Alexandra DimopoulosCarmen LeyvaChris GreeneDiana Franco GalindoEvelia GarciaJamill 'Peaches' FowlerJim BabelLane 'Roc' WilliamsLasheka BrownMamadou LamNeill FleemanPeter N. AnyiethSarah S. BrooksRed WestSouleymane Sy Savane\")\n",
      "('Western', 'https://www.metacritic.com/movie/western', 'Bill Ross IVTurner Ross', 'Brylyn WallChad FosterMartín Wall')\n",
      "('Stop Making Sense', 'https://www.metacritic.com/movie/stop-making-sense', 'Jonathan Demme', 'Alex WeirBernie WorrellChris FrantzEdnah HoltJerry HarrisonLynn MabrySteven ScalesTina WeymouthDavid Byrne')\n",
      "('Deep Red', 'https://www.metacritic.com/movie/deep-red', 'Dario Argento', 'Dante FiorettiGeraldine HooperJacopo MarianiLiana Del BalzoVittorio FanfoniAldo BonamanoClara CalamaiDaria NicolodiDavid HemmingsEros PagniGabriele LaviaGiuliana CalandraGlauco MauriMacha MérilPiero Mazzinghi')\n",
      "('Downhill Racer', 'https://www.metacritic.com/movie/downhill-racer', 'Michael Ritchie', 'Carole CarleJoe Jay JalbertRip McManusTom J. KirkWalter StroudCamilla SparvDabney ColemanGene HackmanJerry DexterJim McMullanKarl Michael VoglerKathleen CrowleyKenneth KirkOren StevensRobert Redford')\n",
      "('Alien', 'https://www.metacritic.com/movie/alien', 'Ridley Scott', 'Bolaji BadejoEddie PowellHarry Dean StantonHelen HortonIan HolmVeronica CartwrightYaphet KottoJohn HurtSigourney WeaverTom Skerritt')\n",
      "('Columbus', 'https://www.metacritic.com/movie/columbus', 'Kogonada', 'Alphaeus Green Jr.Caitlin EwaldErin AllegrettiHaley Lu RichardsonJim DoughertyJohn ChoLindsey ShopeMichelle ForbesParker PoseyReen VogelRory CulkinRosalyn R. RossShani Salyers StilesWilliam WilletWynn ReichertAlphaeus Green Jr.Caitlin EwaldErin AllegrettiHaley Lu RichardsonJim DoughertyJohn ChoMichelle ForbesParker PoseyRory CulkinWynn Reichert')\n",
      "('First Cow', 'https://www.metacritic.com/movie/first-cow', 'Kelly Reichardt', 'Clayton NemrowDylan SmithJared KasowskiJeb BerrierJohn KeatingKevin Michael MooreManuel RodriguezMitchell SaddlebackOrion LeePatrick D. GreenPhelan DavisT. Dan HopkinsTodd A. RobinsonAlia ShawkatClayton NemrowDylan SmithEwen BremnerGary FarmerJeb BerrierJohn KeatingJohn MagaroLily GladstoneManuel RodriguezOrion LeePatrick D. GreenRené AuberjonoisScott ShepherdTed RooneyToby JonesTodd A. Robinson')\n",
      "('Night of the Living Dead', 'https://www.metacritic.com/movie/night-of-the-living-dead', 'George A. Romero', \"A.C. McDonaldBill CardilleCharles CraigFrank DoakGeorge KosanaJudith RidleyKarl HardmanKeith WayneKyra SchonMarilyn EastmanMark RicciS. William HinzmanSamuel R. SolitoDuane JonesJudith O'Dea\")\n",
      "('The Artist', 'https://www.metacritic.com/movie/the-artist', 'Michel Hazanavicius', 'Basil HoffmanBeau NelsonBen KurlandBérénice BejoBeth GrantBitsie TullochJames CromwellJean DujardinJen LilleyJoel MurrayJohn GoodmanMissi PylePatrick MapelPenelope Ann MillerStuart Pankin')\n",
      "('Yankee Doodle Dandy', 'https://www.metacritic.com/movie/yankee-doodle-dandy', 'Michael Curtiz', 'Douglas CroftEddie Foy Jr.Minor WatsonS.Z. SakallWalter CatlettFrances LangfordGeorge BarbierGeorge TobiasIrene ManningJames CagneyJeanne CagneyJoan LeslieRichard WhorfRosemary DeCampWalter Huston')\n",
      "('The Human Voice', 'https://www.metacritic.com/movie/the-human-voice', 'Pedro Almodóvar', 'Tilda Swinton')\n",
      "('Raging Bull', 'https://www.metacritic.com/movie/raging-bull', 'Martin Scorsese', 'Bill HanrahanCharles ScorseseDon DunphyFrank AdonisFrank TophamFrank VincentJoseph BonoLori Anne FlaxMario GalloNicholas ColasantoRita BennettTheresa SaldanaCathy MoriartyJoe PesciRobert De Niro')\n",
      "('Eternal Sunshine of the Spotless Mind', 'https://www.metacritic.com/movie/eternal-sunshine-of-the-spotless-mind', 'Michel Gondry', 'Amir Ali SaidBrian PriceDavid CrossDebbon AyerElijah WoodGerry Robert ByrneJane AdamsKirsten DunstMark RuffaloPaulie LittRyan WhitneyThomas Jay RyanJim CarreyKate WinsletTom Wilkinson')\n",
      "('The Piano', 'https://www.metacritic.com/movie/the-piano', 'Jane Campion', 'Anna PaquinBruce AllpressCarla RupuhaCliff CurtisGeneviève LemonIan MuneKerry WalkerMahina TunuiPete SmithPeter DennettTe Whatanui SkipwithTungia BakerHarvey KeitelHolly HunterSam Neill')\n",
      "('Of Mice and Men', 'https://www.metacritic.com/movie/of-mice-and-men', 'Lewis Milestone', \"Baldwin CookeHelen LyndJohn BeachSilver Tip BakerWhitney De RahmBetty FieldBob SteeleBurgess MeredithCharles BickfordGranville BatesLeigh WhipperLon Chaney Jr.Noah Beery Jr.Oscar O'SheaRoman Bohnen\")\n",
      "('Dead Souls', 'https://www.metacritic.com/movie/dead-souls', 'Bing Wang', None)\n",
      "('Zama', 'https://www.metacritic.com/movie/zama', 'Lucrecia Martel', 'Camila SosaCarlos DefeoDaniel Giménez CachoDaniel VeroneseJorge RománJuan MinujínLola DueñasMariana NunesMatheus NachtergaeleNahuel CanoRafael Spregelburd')\n",
      "('Dick Johnson Is Dead', 'https://www.metacritic.com/movie/dick-johnson-is-dead', 'Kirsten Johnson', 'Ana HoffmanDick JohnsonKirsten JohnsonVasthy Mompoint')\n",
      "('High Noon', 'https://www.metacritic.com/movie/high-noon', 'Fred Zinnemann', 'Eve McVeaghHarry MorganHarry ShannonIan MacdonaldKaty JuradoLee Van CleefLloyd BridgesLon Chaney Jr.Morgan FarleyOtto KrugerRobert J. WilkeSheb WooleyThomas MitchellEve McVeaghGary CooperGrace KellyHarry MorganIan MacdonaldKaty JuradoLloyd BridgesLon Chaney Jr.Otto KrugerThomas Mitchell')\n",
      "('Rebel Without a Cause', 'https://www.metacritic.com/movie/rebel-without-a-cause', 'Nicholas Ray', 'Beverly LongIan WolfeMarietta CantySteffi SidneyVirginia BrissacAnn DoranCorey AllenDennis HopperEdward PlattJames DeanJim BackusNatalie WoodRochelle HudsonSal MineoWilliam Hopper')\n",
      "('Letters from Iwo Jima', 'https://www.metacritic.com/movie/letters-from-iwo-jima', 'Clint Eastwood', 'Eijiro OzakiHiroshi WatanabeKazunari NinomiyaLuke EberlNaeNobumasa SakagamiRyo KaseShido NakamuraSonny SaitoSteve Santa SekiyoshiTakashi YamaguchiTakumi BandoTsuyoshi IharaYoshi AndoYuki MatsuzakiKen Watanabe')\n",
      "('The Seventh Continent (1989)', 'https://www.metacritic.com/movie/the-seventh-continent', 'Michael Haneke', 'Jennifer RushBirgit DollDieter BernerElisabeth RathGeorg FriedrichGeorges KernLeni TanzerMeat LoafRobert DietlSilvia FenzUdo Samel')\n",
      "('A Woman Under the Influence', 'https://www.metacritic.com/movie/a-woman-under-the-influence', 'John Cassavetes', 'Angelo GrisantiCharles HorvathEddie ShawJames JoyceJohn FinneganChristina GrisantiFred DraperGena RowlandsGeorge DunnKatherine CassavetesLady RowlandsMario GalloMatthew CasselMatthew LabyorteauxPeter Falk')\n",
      "('Whiplash', 'https://www.metacritic.com/movie/whiplash', 'Damien Chazelle', 'Adrian BurksApril GraceAustin StowellC.J. VanaCalvin C. WinbushCharlie IanChris MulkeyDakota LupoDamon GuptonJ.K. SimmonsJayson BlairJesse MitchellJocelyn AyannaKavita PatilKeenan HensonKofi SiriboeMarcus HendersonMax KaschMelissa BenoistMichael D. CohenMiles TellerNate LangPaul ReiserRogelio Douglas Jr.Suanne SpokeTarik LoweTian WangTyler KimballJ.K. SimmonsMelissa BenoistMiles TellerPaul Reiser')\n",
      "('Once', 'https://www.metacritic.com/movie/once', 'John Carney', 'Alaistair FoleyBill HodnettDanuse KtrestovaDarren HealyGeoff MinogueGerard HendrickHugh WalshKrzysztos TlotkaMal WhyteMarcella PlunkettNiall ClearyTomek GlowackiWiltold OwskiGlen HansardMarkéta Irglová')\n",
      "('Foreign Correspondent', 'https://www.metacritic.com/movie/foreign-correspondent', 'Alfred Hitchcock', 'Albert BassermannCharles HaltonCharles WagenheimEddie ConradEdmund GwennEduardo CiannelliFrances CarsonGeorge SandersHarry DavenportHerbert MarshallIan WolfeMartin KosleckRobert BenchleyJoel McCreaLaraine Day')\n",
      "('The Arbor', 'https://www.metacritic.com/movie/the-arbor', 'Clio Barnard', 'Andrea DunbarAndrew DunbarChristine BottomleyDavid DunbarGeorge CostiganJimi MistryJonathan JaynesKate RutterLorraine DunbarMatthew McNultyMonica DolanNatalie GavinNeil DudgeonPamela DunbarRobert Emms')\n",
      "(\"Long Day's Journey Into Night\", 'https://www.metacritic.com/movie/long-days-journey-into-night', 'Gan Bi', 'Jian Jun DingKailong JiangMing DaoXi QiZezhi LongChun-hao TuanFeiyang LuoHong-Chi LeeJue HuangLi MengLixun XieMeihuizi ZengSylvia ChangWei TangYanmin BiYongzhong Chen')\n",
      "('Richard III', 'https://www.metacritic.com/movie/richard-iii-1956', 'Laurence Olivier', 'Andrew CruickshankClive MortonNorman FisherRussell ThorndikeWallace BoscoCedric HardwickeClaire BloomJohn GielgudLaurence OlivierMary KerridgeNicholas HannenPamela BrownPaul HusonRalph RichardsonStewart Allen')\n",
      "('Democrats', 'https://www.metacritic.com/movie/democrats', 'Camilla Nielsson', 'Paul Mangwana')\n",
      "('The Lion King', 'https://www.metacritic.com/movie/the-lion-king', 'Rob MinkoffRoger Allers', 'Cheech MarinErnie SabellaJim CummingsJonathan Taylor ThomasMadge SinclairMoira KellyNathan LaneNiketa CalameRobert GuillaumeRowan AtkinsonZoe LeaderJames Earl JonesJeremy IronsMatthew BroderickWhoopi Goldberg')\n",
      "('4 Little Girls', 'https://www.metacritic.com/movie/4-little-girls', 'Spike Lee', 'Alpha RobertsonArthur Hanes Jr.Carole C. SmithermanCarolyn Lee BrownDianne BraddockFlorence TerrellHarold McNairHelen PeguesQueen NunnChris McNairFred ShuttlesworthHowell RainesMaxine McNairWamo Reed RobertsonWyatt Tee Walker')\n",
      "('Wild Strawberries', 'https://www.metacritic.com/movie/wild-strawberries', 'Ingmar Bergman', 'Åke FridellGunnar SjöbergMax von SydowSif RuudYngve NordwallBibi AnderssonBjörn BjelfvenstamFolke SundquistGertrud FridhGunnar BjörnstrandGunnel BroströmIngrid ThulinJullan KindahlNaima WifstrandVictor Sjöström')\n",
      "('Ghost World', 'https://www.metacritic.com/movie/ghost-world', 'Terry Zwigoff', 'Bob BalabanBrad RenfroBrian GeorgeCharles C. Stevenson Jr.Dave SheridanDebra AzarIlleana DouglasPat HealyRini BellScarlett JohanssonStacey TravisT.J. ThyneTom McGowanSteve BuscemiThora Birch')\n",
      "('Crime + Punishment', 'https://www.metacritic.com/movie/crime-+-punishment', 'Stephen T. Maing', \"Manuel 'Manny' GomezRukia LumumbaSandy Gonzales\")\n",
      "('The Seventh Seal', 'https://www.metacritic.com/movie/the-seventh-seal', 'Ingmar Bergman', 'Åke FridellAnders EkErik StrandmarkGunnar OlssonSiv AlerosBengt EkerotBertil AnderbergBibi AnderssonGunnar BjörnstrandGunnel LindblomInga GillInga LandgréMaud HanssonMax von SydowNils Poppe')\n",
      "('Y Tu Mamá También', 'https://www.metacritic.com/movie/y-tu-mama-tambien', 'Alfonso Cuarón', 'Ana López MercadoAndrés AlmeidaArturo RíosDaniel Giménez CachoDiana BrachoDiego LunaEmilio EchevarríaGiselle AudiracJuan Carlos RemolinaLiboria RodríguezMaría AuraMarta AuraNathan GrinbergVerónica LangerGael García BernalMaribel Verdú')\n",
      "('Paddington 2', 'https://www.metacritic.com/movie/paddington-2', 'Paul King', 'Alex JordanBen MillerBen WhishawBrendan GleesonDaniel StisenDeepak AnandEmeson NwolieHelena HolmesHugh BonnevilleHugh GrantImelda StauntonJackson KaiJag PatelJamie DemetriouJason WrightJavone PrinceJermaine HumesJessica HynesJim BroadbentJoanna LumleyJulie WaltersKobna Holdbrook-SmithKya GarwoodMadeleine HarrisMarlonde PierreNicholas WoodesonNoah TaylorPeter CapaldiRichard AyoadeRobbie GeeSally HawkinsSamuel JoslinSanjeev BhaskarTom DavisBen MillerBen WhishawBrendan GleesonDaniel StisenHelena HolmesHugh BonnevilleHugh GrantImelda StauntonJessica HynesJim BroadbentJulie WaltersMadeleine HarrisMarie-France AlvarezMichael GambonNoah TaylorPeter CapaldiRichard AyoadeSally HawkinsSamuel Joslin')\n",
      "('The Little Mermaid', 'https://www.metacritic.com/movie/the-little-mermaid', 'John MuskerRon Clements', 'Ben WrightDebbie Shapiro GravitteHamilton CampRobert WeilWill RyanBuddy HackettChristopher Daniel BarnesEdie McClurgJason MarinJodi BensonKenneth MarsPaddi EdwardsPat CarrollRené AuberjonoisSamuel E. Wright')\n",
      "('City Hall', 'https://www.metacritic.com/movie/city-hall', 'Frederick Wiseman', 'Marty Walsh')\n",
      "('Capote', 'https://www.metacritic.com/movie/capote', 'Bennett Miller', 'Allie MickelsonAndrew FaragoBronwen ColemanChris CooperCraig ArchibaldDavid Wilson BarnesKate ShindleKelci StephensonKen KrotowichKwesi AmeyawMichael J. BurgR.D. ReidRob McLaughlinCatherine KeenerPhilip Seymour Hoffman')\n",
      "('The Death of Stalin', 'https://www.metacritic.com/movie/the-death-of-stalin', 'Armando Iannucci', 'Alexandr PiskunovAndrey KorzhenevskiyAndy GathergoodCara HorganDermot CrowleyDiana QuickJeremy LimbJonathan ArisJustin EdwardsNicholas WoodesonPaul ReadyPaul WhitehouseRoger Ashton-GriffithsSimon Russell BealeSylvestra Le TouzelTom BrookeYulya MuhryginaAdrian McLoughlinAndrea RiseboroughJason IsaacsJeffrey TamborJonathan ArisJustin EdwardsMichael PalinOlga KurylenkoPaddy ConsidinePaul ReadyRichard BrakeRoger Ashton-GriffithsRupert FriendSimon Russell BealeSteve BuscemiSylvestra Le TouzelTom BrookeYulya Muhrygina')\n",
      "('Miracle on 34th Street', 'https://www.metacritic.com/movie/miracle-on-34th-street', 'George Seaton', \"Dorothy ChristyHarry AntrimKevin BurkeLela BlissWalden BoyleEdmund GwennGene LockhartJack AlbertsonJerome CowanJohn PayneMaureen O'HaraNatalie WoodPhilip TongePorter HallWilliam Frawley\")\n",
      "('Strangers on a Train', 'https://www.metacritic.com/movie/strangers-on-a-train', 'Alfred Hitchcock', 'Joel AllenMonya AndreMurray AlperNorma VardenRobert GistFarley GrangerHoward St. JohnJohn BrownJonathan HaleKasey RogersLeo G. CarrollMarion LornePatricia HitchcockRobert WalkerRuth Roman')\n",
      "('Tulpan', 'https://www.metacritic.com/movie/tulpan', 'Sergei Dvortsevoy', 'Askhat KuchencherekovBereke TurganbayevOndas BesikbasovSamal EsljamovaTolepbergen Baisakalov')\n",
      "(\"Manuscripts Don't Burn\", 'https://www.metacritic.com/movie/manuscripts-dont-burn', 'Mohammad Rasoulof', None)\n",
      "('In Transit', 'https://www.metacritic.com/movie/in-transit', 'Albert MayslesBenjamin WuDavid UsuiLynn TrueNelson Walker III', None)\n",
      "('Three Billboards Outside Ebbing, Missouri', 'https://www.metacritic.com/movie/three-billboards-outside-ebbing-missouri', 'Martin McDonagh', 'Abbie CornishAmanda Mason WarrenBrendan Sexton IIICaleb Landry JonesClarke PetersFrances McDormandJohn HawkesKathryn NewtonKerry CondonLucas HedgesMalaya Rivera DrewNick SearcyPeter DinklageSam RockwellSamara WeavingSandy MartinSelah AtwoodWoody HarrelsonŽeljko IvanekAbbie CornishAlejandro BarriosCaleb Landry JonesClarke PetersDarrell Britt-GibsonFrances McDormandJason RedfordJohn HawkesKathryn NewtonKerry CondonLucas HedgesPeter DinklageRiya May AtwoodSam RockwellSamara WeavingWoody HarrelsonŽeljko Ivanek')\n",
      "('Quest', 'https://www.metacritic.com/movie/quest-2017', 'Jonathan Olshefski', \"Alfonso GlennDaniel MollKevin V. KelleyMeatballTyrone MooreAdia DillonChristine'a RaineyChristopher RaineyDavid BarnesIsaiah ByrdJames BlakelyNicole ByrdP.J. RaineyPriceWilliam Withers\")\n",
      "('Au Revoir les Enfants', 'https://www.metacritic.com/movie/au-revoir-les-enfants', 'Louis Malle', 'Arnaud HenrietJean-Sébastien ChauvinLuc EtienneRichard LeboeufXavier LegrandBenoît HenrietFrancine RacetteFrançois BerléandFrançois NégretGaspard ManessePascal RivetPeter FitzPhilippe Morier-GenoudRaphael FejtöStanislas Carré de Malberg')\n",
      "('A Film Unfinished', 'https://www.metacritic.com/movie/a-film-unfinished', 'Yael Hersonski', 'Alexander BeyerRüdiger VoglerAlexander BeyerRüdiger Vogler')\n",
      "('Things to Come', 'https://www.metacritic.com/movie/things-to-come', 'Mia Hansen-Løve', 'André MarconCharline Bourgeois-TacquetEdith ScobElise LhomeauGrégoire MontanaGuy-Patrick SainderichinIsabelle HuppertLarissa GuistLina BenzertiLionel DrayMarion PloquinRachel ArditiRoman KolinkaSarah LepicardSolal ForteYves Heck')\n",
      "('The Grand Budapest Hotel', 'https://www.metacritic.com/movie/the-grand-budapest-hotel', 'Wes Anderson', 'Adrien BrodyBill MurrayBob BalabanEdward NortonF. Murray AbrahamHarvey KeitelJason SchwartzmanJeff GoldblumJude LawLéa SeydouxOwen WilsonRalph FiennesSaoirse RonanTilda SwintonTom WilkinsonWillem DafoeAdrien BrodyBill MurrayEdward NortonF. Murray AbrahamHarvey KeitelJeff GoldblumJude LawLéa SeydouxMathieu AmalricRalph FiennesSaoirse RonanWillem Dafoe')\n",
      "('Winter Sleep', 'https://www.metacritic.com/movie/winter-sleep', 'Nuri Bilge Ceylan', 'Ayberk PekcanDemet AkbagEkrem IlhanEmirhan DoruktutanFatma Deniz YildizHaluk BilginerMehmet Ali NurogluMelisa SözenNadir SaribacakNejat IslerRabia ÖzelSerhat Mustafa KiliçTamer Levent')\n",
      "('A Star Is Born', 'https://www.metacritic.com/movie/a-star-is-born', 'Bradley Cooper', \"Amanda FieldsAndrew Dice ClayAndrew MichaelsAnthony RamosBarry Shabaka HenleyBonnie SomervilleBradley CooperBrandi CarlileCarlo SciortinoD.J. 'Shangela' PierceDave ChappelleEddie GriffinErik LandrethEunice Chiweshe GoldsteinGabe FazioGreg GrunbergJacob TaylorJoseph KellyLady GagaLukas NelsonMichael D. RobertsMichael HarneyPresley CashRafi GavronRebecca FieldRon RifkinSam ElliottSean AyubSteven CiceronWillam BelliAlec BaldwinAndrew Dice ClayAnthony RamosBonnie SomervilleBradley CooperD.J. 'Shangela' PierceDave ChappelleEddie GriffinGreg GrunbergLady GagaMarlon WilliamsMichael HarneyRafi GavronSam ElliottWillam Belli\")\n",
      "('Citizenfour', 'https://www.metacritic.com/movie/citizenfour', 'Laura Poitras', 'Barack ObamaEdward SnowdenEwen MacAskillGlenn GreenwaldJacob AppelbaumJeremy ScahillJulian AssangeKevin BankstonLaura PoitrasLindsay MillsWilliam BinneyEdward SnowdenGlenn Greenwald')\n",
      "('Time Out', 'https://www.metacritic.com/movie/time-out', 'Laurent Cantet', 'Christophe CharlesDidier PerezElisabeth JoinetFélix CantetJean-Pierre MangeotMarie CantetMaxime SassierMonique MangeotNicolas KalschNigel PalmerOlivier LejoubiouxPhilippe JouannetSerge LivrozetAurélien RecoingKarin Viard')\n",
      "('The Blue Angel (re-release)', 'https://www.metacritic.com/movie/the-blue-angel', 'Josef von Sternberg', 'Carl BalhausCharles PuffyEduard von WintersteinGerhard BienertHans RothReinhold BerntRobert Klein-LörkRoland VarnoRolf MüllerWilhelm DiegelmannEmil JanningsHans AlbersKurt GerronMarlene DietrichRosa Valetti')\n",
      "('Thelma & Louise', 'https://www.metacritic.com/movie/thelma-louise', 'Ridley Scott', 'Brad PittCarol MansellChristopher McDonaldHarvey KeitelJason BegheKen SwoffordLucinda JenneyMichael MadsenShelly DesaiSonny Carl DavisStephen PolkStephen TobolowskyTimothy CarhartGeena DavisSusan Sarandon')\n",
      "('Away from Her', 'https://www.metacritic.com/movie/away-from-her', 'Sarah Polley', 'Alberta WatsonAndrew MoodieCarolyn HetheringtonClare CoulterDeanna DezmariGrace Lynn KungJudy SinclairLili FrancksOlympia DukakisStacey LaBergeThomas HauffTom HarveyWendy CrewsonGordon PinsentJulie Christie')\n",
      "('The Fallen Idol (re-release)', 'https://www.metacritic.com/movie/the-fallen-idol', 'Carol Reed', \"Bernard LeeBobby HenreyDandy NicholsDenis O'DeaGeoffrey KeenGerard HeinzJack HawkinsJames HayterJoan YoungKarel StepanekSonia DresdelTorin ThatcherWalter FitzgeraldMichèle MorganRalph Richardson\")\n",
      "('Fat City', 'https://www.metacritic.com/movie/fat-city', 'John Huston', 'Al SilvaniÁlvaro LópezBill RiddleCarl D. ParkerRuben NavarroArt AragonBilly WalkerCandy ClarkCurtis CokesJeff BridgesNicholas ColasantoSixto RodriguezStacy KeachSusan TyrrellWayne Mahan')\n",
      "('Foxtrot', 'https://www.metacritic.com/movie/foxtrot', 'Samuel Maoz', 'Aryeh ChernerEden DanielEden GmlielIlia GroszItay ExlroadYael EisenbergAryeh ChernerDekel AdinGefen BarkaiLior AshkenaziRami BuzagloRan BuxenbaumSarah AdlerShaul AmirShira HaasYehuda AlmagorYonaton Shiray')\n",
      "('Howards End', 'https://www.metacritic.com/movie/howards-end', 'James Ivory', 'Adrian Ross MagentyHelena Bonham CarterIan LatimerJames WilbyJemma RedgraveJo KendallJoseph BennettMary NashPrunella ScalesSamuel WestSiegbert PrawerSusie LindemanVanessa RedgraveAnthony HopkinsEmma Thompson')\n",
      "('The Innocents', 'https://www.metacritic.com/movie/the-innocents', 'Jack Clayton', 'Clytie JessopEric WoodburnIsla CameronMartin StephensMegs JenkinsMichael RedgravePamela FranklinDeborah KerrPeter Wyngarde')\n",
      "('Inside Job', 'https://www.metacritic.com/movie/inside-job', 'Charles Ferguson', 'Matt DamonMatt Damon')\n",
      "('The Father', 'https://www.metacritic.com/movie/the-father', 'Florian Zeller', 'Adnan KundiAnthony HopkinsEvie WrayImogen PootsMark GatissOlivia ColmanOlivia WilliamsRay BurnetRufus Sewell')\n",
      "('Leave No Trace', 'https://www.metacritic.com/movie/leave-no-trace', 'Debra Granik', 'Alyssa LynnArt HickmanBob WerfelmanDavid PittmanEric SahlstromJeff KoberJeffery RifflardKyle StoltzLane StiemsmaMichael J. ProsserPeter SimpsonSabina MachSpencer S. HanleyStephanie Barton-FarcasTamera WestlakeThomasin McKenzieTony RuizZack LearyAlyssa LynnAyanna BerkshireBen FosterDale DickeyDana MillicanDerek John DrescherErik McGlothlinIsaiah StoneJeff KoberJeffery RifflardKyle StoltzLane StiemsmaMichael DraperPeter James DeLucaPeter SimpsonRyan JoinerThomasin McKenzie')\n",
      "('Three Colors: White', 'https://www.metacritic.com/movie/three-colors-white', 'Krzysztof Kieslowski', 'Aleksander BardiniBarbara DziekanCezary HarasimowiczCezary PazuraFrancis CoffinetGrzegorz WarcholJanusz GajosJerzy NowakJerzy StuhrJerzy TrelaMichel LisowskiPhilippe Morier-GenoudPiotr MachalicaJulie DelpyZbigniew Zamachowski')\n",
      "('Chicken Run', 'https://www.metacritic.com/movie/chicken-run', 'Nick ParkPeter Lord', 'Benjamin WhitrowImelda StauntonJane HorrocksJo AllenJohn SharianLaura StrachanLisa KayLynn FergusonMiranda RichardsonPenélope CruzPhil DanielsTimothy SpallTony HaygarthJulia SawalhaMel Gibson')\n",
      "(\"The King's Speech\", 'https://www.metacritic.com/movie/the-kings-speech', 'Tom Hooper', 'Anthony AndrewsCalum GittinsDerek JacobiDominic ApplewhiteEve BestFilippo DelaunayFreya WilsonGuy PearceHarry SimsJennifer EhleMax CallumMichael GambonTim DownieTimothy SpallColin FirthGeoffrey RushHelena Bonham Carter')\n",
      "('Hell or High Water', 'https://www.metacritic.com/movie/hell-or-high-water', 'David Mackenzie', 'Alma SisnerosAmber MidthunderBen FosterBuck TaylorChris PineCrystal GonzalesDale DickeyDylan KeninGil BirminghamGregory CruzHoward Ferguson Jr.J. Nathan SimmonsJackamoe BuzzellJeff BridgesJoe BerrymanJohn-Paul HowardKaty MixonKeith MeriweatherKevin RankinKristin BergLora Martinez-CunninghamMarin IrelandMelanie PapaliaRicky LeeTaylor SheridanWilliam Sterchi')\n",
      "('Up', 'https://www.metacritic.com/movie/up', 'Bob PetersonPete Docter', 'Bob PetersonChristopher PlummerDanny MannDavid KayeDelroy LindoDonald FulliloveElie DocterJeremy LearyJerome RanftJess HarnellJosh CooleyMickie McGowanEdward AsnerJohn RatzenbergerJordan Nagai')\n",
      "('Shirkers', 'https://www.metacritic.com/movie/shirkers', 'Sandi Tan', 'Ben HarrisonGeorges CardonaGrace Dane MazurJasmine Kin Kia NgPhilip CheahSandi TanSophia Siddique HarveyStephen Tyler')\n",
      "('Mildred Pierce', 'https://www.metacritic.com/movie/mildred-pierce', 'Michael Curtiz', 'Betty AlexanderBill AlcornGeorge AndersonJames AndersonRamsay AmesAnn BlythBruce BennettEve ArdenJack CarsonJo Ann MarloweJoan CrawfordLee PatrickMoroni OlsenVeda Ann BorgZachary Scott')\n",
      "('45365', 'https://www.metacritic.com/movie/45365', 'Bill Ross IVTurner Ross', None)\n",
      "('Tootsie', 'https://www.metacritic.com/movie/tootsie', 'Sydney Pollack', 'Bill MurrayCharles DurningDabney ColemanDebra MooneyDoris BelackEllen FoleyGeena DavisGeorge GaynesJessica LangeLynne ThigpenPeter GattoRonald L. SchwarySydney PollackTeri GarrDustin Hoffman')\n",
      "('Marooned in Iraq', 'https://www.metacritic.com/movie/marooned-in-iraq', 'Bahman Ghobadi', \"Allah-Morad RashtianBahram SarbaziFaegh MohamadiFathollah Sa'ediHossein Rashid-GhamatIran GhobadiMariam PouyaniRojan HosseiniSaeed MohammadiShahab Ebrahimi\")\n",
      "('To Kill a Mockingbird', 'https://www.metacritic.com/movie/to-kill-a-mockingbird', 'Robert Mulligan', 'Alice GhostleyBrock PetersCollin Wilcox PaxtonCrahan DentonEstelle EvansFrank OvertonJames AndersonJohn MegnaPaul FixRichard HaleRobert DuvallRosemary MurphyRuth WhiteWilliam WindomGregory Peck')\n",
      "('Aquarius', 'https://www.metacritic.com/movie/aquarius', 'Kleber Mendonça Filho', 'Barbara ColenBuda LiraCarla RibasDaniel PorpinoFernando TeixeiraGermano MeloHumberto CarrãoIrandhir SantosJulia BernatMaeve JinkingsPaula De RenorPedro QueirozRubens SantosSônia BragaTaylor Moore SilzerThaia PerezZoraide Coleto')\n",
      "('So Long, My Son', 'https://www.metacritic.com/movie/so-long-my-son', 'Xiaoshuai Wang', 'Cheng XuJiang DuJingjing LiLiya AiMei YongRoy WangWang JinchunXi QiZhao-Yan Guo-Zhang')\n",
      "('Apollo 11', 'https://www.metacritic.com/movie/apollo-11', 'Todd Douglas Miller', 'Bruce McCandless IICharles DukeGene KranzGlynn LunneyJim LovellLyndon JohnsonBuzz AldrinCharles DukeClifford E. CharlesworthJack BennyJanet ArmstrongJoan Ann ArcherJohnny CarsonMichael CollinsNeil ArmstrongWalter Cronkite')\n",
      "('Anomalisa', 'https://www.metacritic.com/movie/anomalisa', 'Charlie KaufmanDuke Johnson', 'David ThewlisJennifer Jason LeighTom NoonanDavid ThewlisJennifer Jason LeighTom Noonan')\n",
      "('Toy Story 2', 'https://www.metacritic.com/movie/toy-story-2', 'Ash BrannonJohn LasseterLee Unkrich', 'Annie PottsDon RicklesEstelle HarrisJim VarneyJoan CusackJodi BensonJoe RanftJohn MorrisJohn RatzenbergerKelsey GrammerLaurie MetcalfWallace ShawnWayne KnightTim AllenTom Hanks')\n",
      "('Black Panther', 'https://www.metacritic.com/movie/black-panther', 'Ryan Coogler', \"Andy SerkisAngela BassettAtandwa KaniBambadjan BambaCecil M. HenryChadwick BosemanDanai GuriraDaniel KaluuyaDavid S. LeeFlorence KasumbaForest WhitakerIsaach De BankoléJeremy SampleJohn KaniLetitia WrightLupita Nyong'oMartin FreemanMichael B. JordanMichael David YuhlPhylicia RashadSebastian StanStan LeeSterling K. BrownSydelle NoelWinston DukeAndy SerkisAngela BassettChadwick BosemanDanai GuriraDaniel KaluuyaForest WhitakerLetitia WrightLupita Nyong'oMartin FreemanMichael B. JordanStan LeeSterling K. BrownWinston Duke\")\n",
      "('Brooklyn', 'https://www.metacritic.com/movie/brooklyn', 'John Crowley', \"Aine Ni MhuiriAlisha HengAlisha ReisBarbara DrennanBrid BrennanDomhnall GleesonEileen O'HigginsEmily Bett RickardsEmma LoweEmory CohenEva BirthistleEve MacklinFiona GlascottGillian McCarthyHugh GormleyJames CorscaddenJane BrennanJenn MurrayJim BroadbentJulie WaltersKaren BelfoMaeve McGrathMary O'DriscollMatt GlynnMichael ZegenNora-Jane NoonePaulino NuñesPeter CampionSaoirse RonanJim BroadbentJulie WaltersSaoirse Ronan\")\n",
      "('Nobody Knows', 'https://www.metacritic.com/movie/nobody-knows', 'Hirokazu Koreeda', \"Hanae KanKazuyoshi KushidaKen'ichi EndôRyo KaseSei HiraizumiSusumu TerajimaTakako TateYouYûichi KimuraYukiko OkamotoAyu KitauraHiei KimuraMomoko ShimizuYûya Yagira\")\n",
      "('Life Is Sweet', 'https://www.metacritic.com/movie/life-is-sweet', 'Mike Leigh', 'Claire SkinnerDavid NeilsonDavid ThewlisHarriet ThorpeJack Thorpe-BakerJane HorrocksMoya BradyPaul TrusselStephen ReaTimothy SpallAlison SteadmanJim Broadbent')\n",
      "('Faces', 'https://www.metacritic.com/movie/faces', 'John Cassavetes', 'Anita WhiteAnn ShirleyDave MazzieElizabeth DeeringJulie GambolDarlene ConleyDorothy GulliverFred DraperGena RowlandsGene DarflerJoanne Moore JordanJohn MarleyLynn CarlinSeymour CasselVal Avery')\n",
      "('Mary Poppins', 'https://www.metacritic.com/movie/mary-poppins', 'Robert Stevenson', 'Arthur MaletArthur TreacherDavid TomlinsonEd WynnElsa LanchesterGlynis JohnsHermione BaddeleyJames LoganJane DarwellKaren DotriceMatthew GarberReginald OwenReta ShawDick Van DykeJulie Andrews')\n",
      "('The Lord of the Rings: The Two Towers', 'https://www.metacritic.com/movie/the-lord-of-the-rings-the-two-towers', 'Peter Jackson', 'Bernard HillBilly BoydBrad DourifBruce AllpressBruce HopkinsCalum GittinsCate BlanchettChristopher LeeIan McKellenJed BrophyJohn BachOrlando BloomParis Howe StreweSala BakerSam ComerySean AstinAndy Serkis')\n",
      "(\"L'Enfant (The Child)\", 'https://www.metacritic.com/movie/lenfant', 'Jean-Pierre DardenneLuc Dardenne', 'Anne GerardBernard MarbaixDelphine TomsonFabrizio RongioneFrançois OlivierFrédéric BodsonJean-Claude BoniverdJérémie SegardLeon MichauxMarie-Rose RolandOlivier GourmetSamuel De RyckStéphane MarsinDéborah FrançoisJérémie Renier')\n",
      "('Sweet Country', 'https://www.metacritic.com/movie/sweet-country', 'Warwick Thornton', 'Sam NeillSotiris TzeliosThomas M. WrightAnni FinstererBryan BrownEwen LeslieGibson JohnHamilton MorrisLachlan J. ModrzynskiMatt DayNatassia Gorey FurberSam NeillTremayne DoolanTrevon Doolan')\n",
      "('Jane Fonda in Five Acts', 'https://www.metacritic.com/movie/jane-fonda-in-five-acts', 'Susan Lacy', 'Mary Luana WilliamsDick CavettJane FondaLily TomlinMary Luana WilliamsNathalie VadimPaula WeinsteinRichard NixonRobert RedfordTed TurnerTom HaydenTroy Garity')\n",
      "('Newtown', 'https://www.metacritic.com/movie/newtown', 'Kim A. Snyder', None)\n",
      "('Poetry', 'https://www.metacritic.com/movie/poetry', 'Chang-dong Lee', 'Da-wit LeeHira KimJeong-hie YunNae-sang AhnYong-taek Kim')\n",
      "('Restless Creature: Wendy Whelan', 'https://www.metacritic.com/movie/restless-creature-wendy-whelan', 'Adam SchlesingerLinda Saffire', 'Wendy WhelanWendy Whelan')\n",
      "('Birdman or (The Unexpected Virtue of Ignorance)', 'https://www.metacritic.com/movie/birdman', 'Alejandro González Iñárritu', \"Akira ItoAmy RyanAnd PalladinoAndrea RiseboroughAnna HardwickBenjamin KanesBill CampBomber Hurley-SmithCarrie OrmondClark MiddletonDamian YoungDavid FierroDavid ItchkawitzDusan DukicEdward NortonEmma StoneJamahl Garrison-LoweJeremy ShamosJoel GarlandKatherine O'SullivanKeenan ShimizuKelli WilcoxenKelly SoutherlandKenny ChinLindsay DuncanMarian VolkMerritt WeverMichael KeatonNaomi WattsNatalie GoldPaula BlumRaymond MamrakStefanie BariStefano VillabonaTeena ByrdZach GalifianakisAmy RyanAndrea RiseboroughEdward NortonEmma StoneMichael KeatonNaomi WattsZach Galifianakis\")\n",
      "('Little Women', 'https://www.metacritic.com/movie/little-women', 'Gillian Armstrong', 'Christian BaleCorrie ClarkEric StoltzFlorence PattersonGabriel ByrneJohn NevilleMary WickesRebecca ToolanRobin CollinsSamantha MathisTrini AlvaradoClaire DanesKirsten DunstSusan SarandonWinona Ryder')\n",
      "('Shakespeare in Love', 'https://www.metacritic.com/movie/shakespeare-in-love', 'John Madden', \"Antony SherBridget McConnellGeorgie GlenJudi DenchMartin ClunesNicholas BoultonPatrick BarlowSandra ReintonSimon CallowSteven BeardSteven O'DonnellTim McMullanTom WilkinsonGeoffrey RushJoseph Fiennes\")\n",
      "('The Awful Truth', 'https://www.metacritic.com/movie/the-awful-truth', 'Leo McCarey', \"Al BridgeClaud AllisterMary ForbesRuth CherringtonWyn CahoonAlexander D'ArcyCary GrantCecil CunninghamEsther DaleIrene DunneJoyce ComptonMolly LamontRalph BellamyRobert AllenRobert Warwick\")\n",
      "('Can You Ever Forgive Me?', 'https://www.metacritic.com/movie/can-you-ever-forgive-me', 'Marielle Heller', \"Alice KremelbergAnna Deavere SmithAnne HollisterBen RauchBrandon Scott JonesDolly WellsJoanna AdlerKevin CarolanMarc Evan JacksonMarcus ChoiMary B. McCannMichael Cyril CreightonMichael LaurenceMoisés AcevedoRosal ColonShae D'LynStephen SpinellaTiffany BlairAlice KremelbergAnna Deavere SmithBen FalconeChristian NavarroDolly WellsErik LaRay HarveyGregory KorostishevskyJane CurtinJennifer WestfeldtJoanna AdlerJulie Ann EmeryMarc Evan JacksonMelissa McCarthyMichael Cyril CreightonPun BandhuRichard E. GrantShae D'LynStephen Spinella\")\n",
      "('Wolfwalkers', 'https://www.metacritic.com/movie/wolfwalkers', 'Ross StewartTomm Moore', 'Ben AndrewsGilly FoggJerome BurelbachJon KennyMichael McGrathNiamh MoylesNora TwomeyOliver McGrathPaul YoungVince DrewsAmy DunneEva WhittakerHonor KneafseyJohn MortonJon KennyMaria Doyle KennedyNiamh MoylesNora TwomeyOliver McGrathPaul YoungSean BeanSimon McBurneyTommy Tiernan')\n",
      "('It Happened One Night', 'https://www.metacritic.com/movie/it-happened-one-night', 'Frank Capra', 'Harry C. BradleyIrving BaconJessie ArnoldWard BondWilliam BaileyAlan HaleArthur HoytBlanche FridericiCharles C. WilsonClark GableClaudette ColbertErnie AdamsJameson ThomasRoscoe KarnsWalter Connolly')\n",
      "('The Body Remembers When the World Broke Open', 'https://www.metacritic.com/movie/the-body-remembers-when-the-world-broke-open', 'Elle-Máijá TailfeathersKathleen Hepburn', 'Anesha BaileyCharles JarmanGlenn ChoJoan BoisjolyPaul JarrettAidan DeeAnthony BologneseBarbara Eve HarrisCharlie HannahElle-Máijá TailfeathersJames Angus CowanJay Cardinal VilleneuveSonny SurowiecTony MassilViolet Nelson')\n",
      "('The Missing Picture', 'https://www.metacritic.com/movie/the-missing-picture', 'Rithy Panh', 'Randal Douc')\n",
      "('I Travel Because I Have to, I Come Back Because I Love You', 'https://www.metacritic.com/movie/i-travel-because-i-have-to-i-come-back-because-i-love-you', 'Karim AinouzMarcelo Gomes', 'Irandhir Santos')\n",
      "('The Invisible Man', 'https://www.metacritic.com/movie/the-invisible-man-1933', 'James Whale', \"Donald StuartMerle TottenhamRobert AdairTed BillingsWalter BrennanClaude RainsDudley DiggesE.E. CliveForrester HarveyGloria StuartHarry StubbsHenry TraversHolmes HerbertUna O'ConnorWilliam Harrigan\")\n",
      "('Scarface', 'https://www.metacritic.com/movie/scarface-1932', 'Howard HawksRichard Rosson', 'Edwin MaxwellEugenie BessererGus ArnheimHenry ArmettaInez PalangeAnn DvorakBoris KarloffC. Henry GordonGeorge RaftKaren MorleyOsgood PerkinsPaul MuniPurnell PrattTully MarshallVince Barnett')\n",
      "('Of Men and War', 'https://www.metacritic.com/movie/of-men-and-war', 'Laurent Bécue-Renard', None)\n",
      "('The Long Goodbye', 'https://www.metacritic.com/movie/the-long-goodbye', 'Robert Altman', 'Enrique LuceroJack KnightPancho CórdovaPepe CallahanVincent PalmieriDavid ArkinElliott GouldHenry GibsonJim BoutonJo Ann BrodyMark RydellNina van PallandtStephen CoitSterling HaydenWarren Berlinger')\n",
      "('Imitation of Life', 'https://www.metacritic.com/movie/imitation-of-life', 'Douglas Sirk', \"Ann RobinsonDavid TomackLee GoodmanSandra GouldTroy DonahueDan O'HerlihyJohn GavinJohn VivyanJuanita MooreKarin DickerLana TurnerRobert AldaSandra DeeSusan KohnerTerry Burnham\")\n",
      "('Pain and Glory', 'https://www.metacritic.com/movie/pain-and-glory', 'Pedro Almodóvar', 'Agustín AlmodóvarAlba GarcíaCésar VicenteEva MartínJulián LópezPedro CasablancRaúl ArévaloSara SierraSusi SánchezAgustín AlmodóvarAntonio BanderasAsier EtxeandiaAsier FloresCecilia RothCésar VicenteEva MartínJulián LópezJulieta SerranoLeonardo SbaragliaNora NavasPenélope CruzRaúl ArévaloRosalíaSusi Sánchez')\n",
      "('Genèse (Genesis)', 'https://www.metacritic.com/movie/gencse-genesis', 'Philippe Lesage', \"Ariane L'HeureuxGuillaume LaurinJean-Simon LeducMylène MackayNoémi LiraTayna V. LavoieAntoine Marchand GagnonAriane L'HeureuxBrett DierÉmile BilodeauEmilie BierreÉtienne GalloyMarc BeaupréMarie JasminaNoée AbitaPaul AhmaraniPier-Luc Funk\")\n",
      "('The Farthest', 'https://www.metacritic.com/movie/the-farthest', 'Emer Reynolds', 'Frank LocatellHeidi HammelJames F. BellJon LombergSuzanne DoddCarolyn PorcoCharley KohlhaseEdward StoneFran BagenalFrank DrakeJohn CasaniLarry SoderblomLawrence KraussNick SaganTimothy Ferris')\n",
      "('Gomorrah', 'https://www.metacritic.com/movie/gomorrah', 'Matteo Garrone', 'Angelo AlibertiAntonio AielloAntonio AmatoCarmine PaternosterCiro PetroneDenis BajramiDora AngeloneGigio MorraMarco MacorMaria NazionaleSalvatore CantalupoVincenzo AltamuraGianfelice ImparatoSalvatore AbruzzeseToni Servillo')\n",
      "('To Be and to Have', 'https://www.metacritic.com/movie/to-be-and-to-have', 'Nicolas Philibert', 'AlizéAxelFranckGeorges LopezGuillaumeJessieJohanJohannJonathanJulienLauraLétitiaMarie-ElizabethNathalieOlivier')\n",
      "('Halloween', 'https://www.metacritic.com/movie/halloween-1978', 'John Carpenter', 'Adam HollanderArthur MaletBrent Le PageBrian AndrewsCharles CyphersJohn Michael GrahamKyle RichardsMickey YablansNancy KyesNancy StephensP.J. SolesRobert PhalenDonald PleasenceJamie Lee CurtisTony Moran')\n",
      "('Eraserhead', 'https://www.metacritic.com/movie/eraserhead', 'David Lynch', 'Darwin JostonHal Landon Jr.Jennifer Chambers LynchJohn MonezT. Max GrahamAllen JosephCharlotte StewartJack FiskJack NanceJean LangeJeanne BatesJudith RobertsLaurel NearThomas CoulsonV. Phipps-Wilson')\n",
      "('Medium Cool', 'https://www.metacritic.com/movie/medium-cool', 'Haskell Wexler', 'Beverly YoungerDoug KimballEdward CrokeMarrian WaltersPeter BoyleBob McAndrewCharles GearyChristine BergstromHarold BlankenshipMarianna HillPeter BonerzRobert ForsterSid McCoyVerna BloomWilliam Sickingen')\n",
      "('Fire at Sea', 'https://www.metacritic.com/movie/fire-at-sea', 'Gianfranco Rosi', 'Francesco ManninoFrancesco PaternaGiuseppe FragapaneMaria CostaMaria SignorelloMattias CucinaPietro BartoloSamuele CaruanaSamuele Pucillo')\n",
      "('The Fugitive', 'https://www.metacritic.com/movie/the-fugitive', 'Andrew Davis', 'Andreas KatsulasDaniel RoebuckJeroen KrabbéJoe PantolianoJohn DrummondJoseph F. KosalaJulianne MooreL. Scott CaldwellMiguel NinoRon DeanSela WardTom WoodTony FoscoHarrison FordTommy Lee Jones')\n",
      "('F for Fake', 'https://www.metacritic.com/movie/f-for-fake', 'François ReichenbachGary GraverOja KodarOrson Welles', 'Alexander WellesGary GraverHoward HughesJoseph CottenRichard DrewettClifford IrvingDavid WalshEdith IrvingElmyr de HoryFrançois ReichenbachLaurence HarveyOja KodarOrson WellesPaul StewartRichard Wilson')\n",
      "('About Elly (2009)', 'https://www.metacritic.com/movie/about-elly', 'Asghar Farhadi', \"Ahmad MehranfarGolshifteh FarahaniMani HaghighiMarila Zare'iPeyman MoaadiRa'na AzadivarSaber AbbarShahab HosseiniTaraneh Alidoosti\")\n",
      "('The Bridge on the River Kwai', 'https://www.metacritic.com/movie/the-bridge-on-the-river-kwai', 'David Lean', 'Ann SearsHarold GoodwinHeihachirô ÔkawaKeiichirô KatsumotoM.R.B. ChakrabandhuAlec GuinnessAndré MorellGeoffrey HorneJack HawkinsJames DonaldJohn BoxerPercy HerbertPeter WilliamsSessue HayakawaWilliam Holden')\n",
      "('Goldfinger', 'https://www.metacritic.com/movie/goldfinger', 'Guy Hamilton', 'Austin WillisBernard LeeBill NagyCec LinderHarold SakataLois MaxwellMartin BensonMichael MellingerNadja ReginPeter CranwellShirley EatonTania MalletGert FröbeHonor BlackmanSean Connery')\n",
      "(\"Ma Rainey's Black Bottom\", 'https://www.metacritic.com/movie/ma-raineys-black-bottom', 'George C. Wolfe', 'Antonio FierroBrent FeitlGregory BromfieldJames CiesielskiJordan RhonePhil NardozziTony AmenChadwick BosemanColman DomingoDusan BrownGlynn TurmanJeremy ShamosJonathan CoyneJoshua HartoMichael PottsTaylour PaigeViola Davis')\n",
      "('One False Move', 'https://www.metacritic.com/movie/one-false-move', 'Carl Franklin', \"Cynda WilliamsDerrick WilliamsEarl BillingsJim MetzlerJimmy BridgesKevin HunterMeredith 'Jeta' DonovanMichael BeachNatalie CanerdayPhyllis KirklinPhyllis SuttonRobert Anthony BellRobert GinnavenBill PaxtonBilly Bob Thornton\")\n",
      "('En el Séptimo Día (On the Seventh Day)', 'https://www.metacritic.com/movie/en-el-septimo-dia-on-the-seventh-day', 'Jim McKay', 'Alex HalpernChristopher Gabriel NúñezDelfino SolisDonal BrophyErnesto LuceroAbel PerezAlejandro HuitzilAlfonso VelazquezCristofer HuitzilEduardo EspinosaFernando CardonaGenoel RamírezGilberto ArenasGilberto JimenezRicardo Gonzalez')\n",
      "('Jane', 'https://www.metacritic.com/movie/jane', 'Brett Morgen', 'Jane Goodall')\n",
      "('Jaws', 'https://www.metacritic.com/movie/jaws', 'Steven Spielberg', 'Carl GottliebChris RebelloCraig KingsburyJay MelloJeffrey KramerJeffrey VoorheesJonathan FilleyLee FierroLorraine GaryMurray HamiltonSusan BacklinieTed GrossmanRichard DreyfussRobert ShawRobert ShawRoy Scheider')\n",
      "('We Are the Best!', 'https://www.metacritic.com/movie/we-are-the-best', 'Lukas Moodysson', 'Alexander KarlssonAlvin StrolloAnn-Sofie RaseAnna RydgrenBerndtCharlie FalkClara ChristianssonDavid DencikEmrik EkholmHenrik DahlJohan LiljemarkJonathan SalomonssonLena CarlssonLena NylénLily MoodyssonLiv LeMoyneMads KorsgaardMattias WibergMira BarkhammarMira GrosinPer Fenger-KrogPeter ErikssonSerina BjSofi Ahlström HelledaySteve KratzVanja EngstrViveca DahlénYlva OlaisonJohan LiljemarkLiv LeMoyneMira BarkhammarMira Grosin')\n",
      "('Spartacus', 'https://www.metacritic.com/movie/spartacus', 'Stanley Kubrick', 'Charles LaughtonCharles McGrawHarold J. StoneHerbert LomJean SimmonsJoanna BarnesJohn DallJohn GavinJohn IrelandNina FochPeter BroccoPeter UstinovWoody StrodeKirk DouglasLaurence Olivier')\n",
      "('Small Axe: Education', 'https://www.metacritic.com/movie/education', 'Steve McQueen', 'Conor LowsonEddie-Joe RobinsonJaden OshenyeNathan VidalRobert Godley-HarrodCalum CallaghanCiarán OwensJim SturgeonJohn BoyegaJoy RichardsonMarina HayterMartin PortlockStephen BoxerSteve ToussaintTyrone Huntley')\n",
      "('About Endlessness', 'https://www.metacritic.com/movie/about-endlessness', 'Roy Andersson', 'Anders HellströmFanny ForsdikGöran HolmJessica LouthanderMattias KönigssonStefan KarlssonAmanda DaviesAnia NovaAnja BromsAnton ForsdikBengt BergiusGloria OrmandlakyJan-Eje FerlingKarin EngmanLesley Leichtweis BernardiLotta ForsbergMarie BurmanMartin SernerTatiana DelaunayThore Flygel')\n",
      "('Back to the Future', 'https://www.metacritic.com/movie/back-to-the-future', 'Robert Zemeckis', 'Billy ZaneCasey SiemaszkoClaudia WellsCrispin GloverFrances Lee McCainGeorge DiCenzoHarry Waters, Jr.J.J. CohenJames TolkanLea ThompsonMarc McClureThomas F. WilsonWendie Jo SperberChristopher LloydMichael J. Fox')\n",
      "('If Beale Street Could Talk', 'https://www.metacritic.com/movie/if-beale-street-could-talk', 'Barry Jenkins', 'Aunjanue EllisBrian Tyree HenryColman DomingoDoris McCarthyEd SkreinEmily RiosFaith LoganFinn WittrockMarcia Jean KurtzPedro PascalStephan JamesTeyonah ParrisAunjanue EllisBrian Tyree HenryColman DomingoDave FrancoDiego LunaDominique ThorneEbony ObsidianEd SkreinEmily RiosFinn WittrockKiKi LayneMichael BeachPedro PascalRegina KingStephan JamesTeyonah Parris')\n",
      "('My Journey Through French Cinema', 'https://www.metacritic.com/movie/my-journey-through-french-cinema', 'Bertrand Tavernier', 'Antoine DuhamelBertrand TavernierClaude ChabrolEddie ConstantineFrançoise GiroudGeorges de BeauregardJacques BeckerJean GabinJean-Luc GodardJean-Paul BelmondoJean-Paul GaultierMarcel CarnéMichel DevilleRaoul CoutardThierry FrémauxAndré MarconBertrand TavernierClaude ChabrolEddie ConstantineGeorges de BeauregardJacques BeckerJean-Paul BelmondoMarcel CarnéMichel DevilleRaoul CoutardThierry Frémaux')\n",
      "('Wallace & Gromit: The Curse of the Were-Rabbit', 'https://www.metacritic.com/movie/wallace-gromit-the-curse-of-the-were-rabbit', 'Nick ParkSteve Box', 'Dicken AshworthEdward KelseyGeraldine McEwanJohn ThomsonLiz SmithMark GatissNicholas SmithNoni LewisPete AtkinPeter KayRobert HorvathVincent EbrahimHelena Bonham CarterPeter SallisRalph Fiennes')\n",
      "('The Diary of a Teenage Girl', 'https://www.metacritic.com/movie/the-diary-of-a-teenage-girl', 'Marielle Heller', 'Abby WaitAlexander SkarsgårdAustin LyonBel PowleyCarson MellCharles Lewis IIIChristopher MeloniDavid FineDavy ClementsDomino The CatDrew BendaGiovanni MillerJohn ParsonsKristen WiigMadeleine WatersMargarita LevievaMiranda BaileyNatalie Stephany AguilarQuinn NagleSamantha HydeSusannah SchulmanAlexander SkarsgårdBel PowleyChristopher MeloniKristen WiigMadeleine WatersMargarita Levieva')\n",
      "('Elena', 'https://www.metacritic.com/movie/elena', 'Andrei Zvyagintsev', 'Aleksey RozinAndrey SmirnovNadezhda MarkinaYelena Lyadova')\n",
      "('All Is Lost', 'https://www.metacritic.com/movie/all-is-lost', 'J.C. Chandor', 'Robert RedfordRobert Redford')\n",
      "('Hereditary', 'https://www.metacritic.com/movie/hereditary', 'Ari Aster', 'A.J. MossAnn DowdAustin R. GrantBrock McKinneyChad WrightGerry GarciaHeidi MéndezJarrod PhillipsJason MiyagiJohn ForkerLorenzo SilvaMallory BechtelMarilyn MillerMoises L. TovarRachelle HardyShane MorrisunZachary ArthurAlex WolffAnn DowdAustin R. GrantBriAnn RacheleChristy SummerhaysGabriel ByrneGabriel Monroe EckertHarrison NellJake BrownJarrod PhillipsJohn ForkerMallory BechtelMarilyn MillerMark BlockovichMilly ShapiroMorgan LundRachelle HardyToni ColletteZachary Arthur')\n",
      "('Listen to Me Marlon', 'https://www.metacritic.com/movie/listen-to-me-marlon', 'Stevan Riley', 'Marlon BrandoMarlon Brando')\n",
      "(\"Gideon's Army\", 'https://www.metacritic.com/movie/gideons-army', 'Dawn Porter', None)\n",
      "('Serpico (re-release)', 'https://www.metacritic.com/movie/serpico', 'Sidney Lumet', 'Albert HendersonAllan RichBarbara Eda-YoungBiff McGuireCornelia SharpeDamien LeakeEdward GroverHank GarrettJack KehoeJohn MediciJoseph BovaNorman OrnellasTony RobertsAl PacinoJohn Randolph')\n",
      "('Maria Full of Grace', 'https://www.metacritic.com/movie/maria-full-of-grace', 'Joshua Marston', 'Charles Albert PatiñoEvangelina MoralesFabricio SuarezJaime Osorio GómezJohanna Andrea MoraJohn Álex ToroJuana GuarderasMateo SuarezRodrigo Sánchez BorhorquezVictor MaciasVirgina ArizaWilson GuerreroYenny Paola VegaCatalina Sandino MorenoGuilied Lopez')\n",
      "('Fateless', 'https://www.metacritic.com/movie/fateless', 'Lajos Koltai', 'András M. KecskésÁron DiményBálint PéntekBéla DóraDani SzabóEndre HarkányiGábor NyiriJenö NagyMarcell NagyMárton BrezinaPéter FancsikaiPéter VidaTibor MertzZoltán BukovszkiZsolt Dér')\n",
      "('Happy as Lazzaro', 'https://www.metacritic.com/movie/happy-as-lazzaro', 'Alice Rohrwacher', 'Alessandro GenovesiAnnunziata CaprettoAntonio SalinesCarlo MassiminoDaria Pascal AttoliniDavide DenciEttore ScarpaGala Othero WinterGiulia CaccavelloLeonardo NigroLuca ChikovaniAdriano TardioloAgnese GrazianiAlba RohrwacherAlessandro GenovesiAntonio SalinesCarlo MassiminoDaria Pascal AttoliniDavid BennentDavide DenciElisabetta RocchettiLuca ChikovaniMaddalena BaioccoNatalino BalassoNicoletta BraschiSergi LópezTommaso Ragno')\n",
      "('The Fog of War: Eleven Lessons from the Life of Robert S. McNamara', 'https://www.metacritic.com/movie/the-fog-of-war-eleven-lessons-from-the-life-of-robert-s-mcnamara', 'Errol Morris', 'Barry GoldwaterCurtis LeMayErrol MorrisFranklin Delano RooseveltHarry ReasonerLyndon JohnsonNikita KhrushchevWoodrow WilsonFidel CastroJohn F. KennedyRichard NixonRobert McNamara')\n",
      "('Uncle Boonmee Who Can Recall His Past Lives', 'https://www.metacritic.com/movie/uncle-boonmee-who-can-recall-his-past-lives', 'Apichatpong Weerasethakul', 'Jenjira PongpasMatthieu LySakda KaewbuadeeThanapat SaisaymarVien Pimdee')\n",
      "('Brokeback Mountain', 'https://www.metacritic.com/movie/brokeback-mountain', 'Ang Lee', 'Anna FarisAnne HathawayDavid HarbourDavid TrimbleKate MaraLachlan MackintoshLarry ReeseLinda CardelliniMarty AntoniniRandy QuaidValerie PlancheVíctor ReyesHeath LedgerJake GyllenhaalMichelle Williams')\n",
      "('Cemetery of Splendor', 'https://www.metacritic.com/movie/cemetery-of-splendor', 'Apichatpong Weerasethakul', 'Apinya UnphanlamBanlop LomnoiBhattaratorn SenkraigulBoonyarak BodlakornJarinpattra RueangramJenjira JansudaJenjira PongpasKammanit SansuklerdPetcharat ChaiburiPongsadhorn LertsukonRichard AbramsonSakda KaewbuadeeSasipim PiwanseneeSujittraporn WongsrikeawTawatchai BuawatWacharee Nagvichien')\n",
      "('The Kid with a Bike', 'https://www.metacritic.com/movie/the-kid-with-a-bike', 'Jean-Pierre DardenneLuc Dardenne', 'Batiste SorninCarl JadotCécile De FranceClaudy DelfosseEgon Di MateoFabrizio RongioneFrédéric DussenneHicham SlaouiJean-Michel BalthazarJérémie RenierMyriem AkeddiouOlivier GourmetSamuel De RijkSandra RacoThomas DoretCécile De FranceEgon Di MateoFabrizio RongioneJérémie RenierOlivier GourmetThomas Doret')\n",
      "('Mutiny on the Bounty', 'https://www.metacritic.com/movie/mutiny-on-the-bounty', 'Frank Lloyd', 'Byron RussellDavid TorrenceMamo ClarkMovitaPercy WaramCharles LaughtonClark GableDonald CrispDudley DiggesEddie QuillanFranchot ToneFrancis ListerHenry StephensonHerbert MundinSpring Byington')\n",
      "('Spider-Man: Into the Spider-Verse', 'https://www.metacritic.com/movie/spider-man-into-the-spider-verse', 'Bob PersichettiPeter RamseyRodney Rothman', 'Alycia CooperBrian Tyree HenryChris PineJessica Mikayla AdamsJohn MulaneyKathryn HahnKimiko GlennLiev SchreiberLily TomlinMahershala AliMelanie HaynesMuneeb RehmanNatalie MoralesNatalie MoralesNick JaineNicolas CageShameik MooreBrian Tyree HenryChris PineHailee SteinfeldJake M. JohnsonJohn MulaneyKathryn HahnKimiko GlennLauren VélezLiev SchreiberLily TomlinMahershala AliMelanie HaynesMuneeb RehmanNick JaineNicolas CageOscar IsaacShameik MooreStan LeeZoë Kravitz')\n",
      "('The Wicker Man', 'https://www.metacritic.com/movie/the-wicker-man-1974', 'Robin Hardy', 'Barbara RaffertyIan CampbellLeslie BlackaterPeter BrewisRoy BoydAubrey MorrisBritt EklandChristopher LeeDiane CilentoEdward WoodwardIngrid PittIrene SuntersLindsay KempRussell WatersWalter Carr')\n",
      "('Love & Friendship', 'https://www.metacritic.com/movie/love-and-friendship', 'Whit Stillman', \"Chloë SevignyConor LambertConor MacNeillEmma GreenwellFrank PrendergastJames FleetJemma RedgraveJenn MurrayJordan WallerJustin EdwardsKate BeckinsaleKelly CampbellLochlainn O'MearainMorfydd ClarkRoss Mac MahonSophie RadermacherStephen FryTom BennettXavier SamuelChloë SevignyEmma GreenwellKate BeckinsaleXavier Samuel\")\n",
      "('Particle Fever', 'https://www.metacritic.com/movie/particle-fever', 'Mark Levinson', 'Albert de RoeckAndy CohenAsmina ArvanitakiChristophe ClementDavid KaplanFabiola GianottiJames BeachamJed BiesiadaKatherine CopicKyle CranmerMartin AleksaMike LamontMonica DunfordNima Arkani-HamedSavas Dimopoulos')\n",
      "('Tarnation', 'https://www.metacritic.com/movie/tarnation', 'Jonathan Caouette', 'Adolph DavisDagon JamesDavid LeblancDavid Sanin PazGreg AyresJoshua WilliamsMichael CoxMichael MoutonRenee LeblancRosemary DavisStacey MowerySteve CaouetteVanda StovallVivian KalinovJonathan Caouette')\n",
      "('Microcosmos', 'https://www.metacritic.com/movie/microcosmos', 'Claude NuridsanyMarie Pérennou', 'Jacques PerrinKristin Scott Thomas')\n",
      "('Murderball', 'https://www.metacritic.com/movie/murderball', 'Dana Adam ShapiroHenry Alex Rubin', 'Andy CohnBob LujanoChristopher IgoeDave WillsieJoe BishopKevin OrrScott HogsettJoe SoaresKeith CavillMark Zupan')\n",
      "('Life Itself', 'https://www.metacritic.com/movie/life-itself', 'Steve JamesSteve James', 'A.O. ScottAva DuVernayChaz EbertErrol MorrisGene SiskelMarlene IglitzenMarlene SiskelMartin ScorseseRamin BahraniRoger EbertStephen StantonWerner HerzogWilliam NackChaz EbertErrol MorrisGene SiskelMartin ScorseseRoger EbertWerner Herzog')\n",
      "('The Shape of Water', 'https://www.metacritic.com/movie/the-shape-of-water', 'Guillermo del Toro', 'Allegra FultonAmanda SmithCyndy DayDavid HewlettDoug JonesDru ViergeverEvgeny AkimovJayden GreigJohn KapelosLauren Lee SmithMadison FergusonMartin RoachMarvin KayeMaxine GrossmanMichael ShannonMichael StuhlbargMorgan KellyNick SearcyOctavia SpencerRichard JenkinsSally HawkinsCyndy DayDavid HewlettDoug JonesJohn KapelosLauren Lee SmithMichael ShannonMichael StuhlbargMorgan KellyNick SearcyNigel BennettOctavia SpencerRichard JenkinsSally HawkinsStewart Arnott')\n",
      "('Rewind', 'https://www.metacritic.com/movie/rewind', 'Sasha Joseph Neulinger', None)\n",
      "('Shine', 'https://www.metacritic.com/movie/shine', 'Scott Hicks', 'Alex RafalowiczChris HaywoodDanielle CoxGordon PooleJohn CousinsJustin BraineMarta KaczmarekNicholas BellNoah TaylorPaul LinksonRandall BergerRebecca GoodenSonia ToddArmin Mueller-StahlGeoffrey Rush')\n",
      "(\"Bisbee '17\", 'https://www.metacritic.com/movie/bisbee-17', 'Robert Greene', 'Annie Graeme-LarkinLaurie McKennaMel RayRichard HodgesSteve RaySue RayAaron GainAnnie Graeme-LarkinBenjamin Joel CaronCharles BetheaChris DietzDick GraemeDoug GraemeJames WestKen BoeMary Ellen DunlapMike AndersonRichard Graeme Iii')\n",
      "('Grizzly Man', 'https://www.metacritic.com/movie/grizzly-man', 'Werner Herzog', 'Carol DexterDavid LettermanFranc G. FallicoJewel PalovakKathleen ParkerMarc GaedeMarnie GaedeSam EgliSven Haakanson Jr.Val DexterWarren QueeneyWerner HerzogWilly FultonAmie HuguenardTimothy Treadwell')\n",
      "(\"Adam's Rib\", 'https://www.metacritic.com/movie/adams-rib', 'George Cukor', 'Bonnie BannonCharles BastinElizabeth FlournoyPolly MoranWill WrightClarence KolbDavid WayneEmerson TreacyEve MarchHope EmersonJean HagenJudy HollidayKatharine HepburnSpencer TracyTom Ewell')\n",
      "('Gregory Crewdson: Brief Encounters', 'https://www.metacritic.com/movie/gregory-crewdson-brief-encounters', 'Ben Shapiro', \"Gregory CrewdsonRichard 'Rico' Sands\")\n",
      "('Moneyball', 'https://www.metacritic.com/movie/moneyball', 'Bennett Miller', 'Adrian BellaniChris PrattErin PickettGlenn MorshowerJames ShanklinKathryn MorrisKeith MiddlebrookOlivia DudleyPhilip Seymour HoffmanSergio GarciaStephen BishopTammy BlanchardBrad PittJonah HillRobin Wright')\n",
      "('The Autobiography of Nicolae Ceausescu', 'https://www.metacritic.com/movie/the-autobiography-of-nicolae-ceausescu', 'Andrei Ujica', 'Charles de GaulleEdward GierekElena CeausescuErich HoneckerJimmy CarterKim Ir-SenLeonid BrezhnevMao ZedongMikhail GorbachevNicolae CeausescuPrince PhilipQueen Elizabeth IIRichard NixonWladyslaw GomulkaWojciech Jaruzelski')\n",
      "('All About My Mother', 'https://www.metacritic.com/movie/all-about-my-mother', 'Pedro Almodóvar', 'Antonia San JuanCandela PeñaCarlos LozanoCarmen BalaguéEloy AzorínFernando Fernán GómezFernando GuillénJosé Luis TorrijoJuan José OteguiManuel MorónPenélope CruzRosa Maria SardàToni CantóCecilia RothMarisa Paredes')\n",
      "('The English Patient', 'https://www.metacritic.com/movie/the-english-patient', 'Anthony Minghella', 'Clive MerrisonColin FirthGeordie JohnsonHichem RostomJulian WadhamJürgen ProchnowKevin WhatelyNaveen AndrewsNino CastelnuovoPeter RühringTorri HigginsonJuliette BinocheKristin Scott ThomasRalph FiennesWillem Dafoe')\n",
      "('The Duke of Burgundy', 'https://www.metacritic.com/movie/the-duke-of-burgundy', 'Peter Strickland', \"Chiara D'AnnaEszter TompaEugenia CarusoFatma MohamedKata BartschMonica SwinnSidse Babett KnudsenZita KraszkóMonica SwinnSidse Babett Knudsen\")\n",
      "('My Golden Days', 'https://www.metacritic.com/movie/my-golden-days', 'Arnaud Desplechin', 'Cécile Garcia-FogelClémence Le GallDinara DrukarovaElyot MilshteinFrançoise LebrunIrina VavilovaKheifets GregoryLily TaiebLou Roy-LecollinetMathieu AmalricOlivier RabourdinPierre AndrauQuentin DolmaireRaphaël CohenThéo FernandezCécile Garcia-FogelDinara DrukarovaLou Roy-LecollinetMathieu AmalricQuentin Dolmaire')\n",
      "('Nebraska', 'https://www.metacritic.com/movie/nebraska', 'Alexander Payne', 'Angela McEwanAnthony G. SchmidtBob OdenkirkBruce DernDennis McCoigDevin RatrayElizabeth MooreGelndora StittJune SquibbKevin KunkelMary Louise WilsonMelinda SimonsenMissy DotyRance HowardRonald VostaStacy KeachStephen ClaytonTim DriscollWill ForteBob OdenkirkBruce DernJune SquibbStacy KeachWill Forte')\n",
      "('What the Constitution Means to Me', 'https://www.metacritic.com/movie/what-the-constitution-means-to-me', 'Marielle Heller', 'Heidi SchreckMike IvesonRosdely CiprianThursday Williams')\n",
      "('A Tale of Two Cities', 'https://www.metacritic.com/movie/a-tale-of-two-cities', 'Jack ConwayRobert Z. Leonard', 'Billy BevanClaude GillingwaterH.B. WarnerIsabel JewellMitchell LewisBasil RathboneBlanche YurkaDonald WoodsEdna May OliverElizabeth AllanFritz LeiberHenry B. WalthallReginald OwenRonald ColmanWalter Catlett')\n",
      "('Force Majeure', 'https://www.metacritic.com/movie/force-majeure', 'Ruben Östlund', 'Adrian HeinischBrady CorbetClara WettergrenFanni MeteliusFranco MosconJakob GranqvistJohannes KuhnkeJohannes MoustosJorge LattofJulie RoumogouxKarin MyrenbergKarl PinconKristofer HivjuLisa Loven KongsliMalin DahlMichael BreitenbergerPeter GauntVincent WettergrenClara WettergrenJohannes KuhnkeKristofer HivjuLisa Loven KongsliVincent Wettergren')\n",
      "('Tampopo', 'https://www.metacritic.com/movie/tampopo', 'Jûzô Itami', 'Fukumi KurodaHideji ÔtakiKinzô SakuraKôji YakushoMario AbeMasahiko TsugawaRikiya YasuokaSen HaraSetsuko ShinoiYoriko DouguchiYoshi KatôYoshihiro KatoKen WatanabeNobuko MiyamotoTsutomu Yamazaki')\n",
      "('Blow Out', 'https://www.metacritic.com/movie/blow-out', 'Brian De Palma', 'Cindy ManionCurt MayDeborah EvertonJ. Patrick McNamaraJohn AquinoJohn McMartinLori-Nan EnglerMissy ClevelandMissy CrutchfieldPeter BoydenRoger WilsonDennis FranzJohn LithgowJohn TravoltaNancy Allen')\n",
      "('Diane', 'https://www.metacritic.com/movie/diane', 'Kent Jones', \"Cara YeatesDavid TuttleJenny KirlinJoe JamesLaura KnightMarcia HaufrechtMike HartmanPatrick HustedRay IannicelliAndrea MartinAndrew GeherCelia Keenan-BolgerDave DyshukDeirdre O'ConnellDiana GreenhutDierdre FrielEstelle ParsonsGlynnis O'ConnorJake LacyJennifer DeloraJoyce Van PattenKerry FlanaganLew GardnerLorenzo BeronillaMary FullerMary Kay PlacePhyllis SomervilleTeri Gibson\")\n",
      "('The Magician', 'https://www.metacritic.com/movie/the-magician-1959', 'Ingmar Bergman', 'Åke FridellAxel DübergOscar LjungSif RuudUlla SjöblomBengt EkerotBibi AnderssonErland JosephsonGertrud FridhGunnar BjörnstrandIngrid ThulinLars EkborgMax von SydowNaima WifstrandToivo Pawlo')\n",
      "('The Thin Man', 'https://www.metacritic.com/movie/the-thin-man', 'W.S. Van Dyke', \"AstaCyril ThorntonEdward BrophyEdward EllisNatalie MoorheadCesar RomeroHarold HuberHenry WadsworthMaureen O'SullivanMinna GombellMyrna LoyNat PendletonPorter HallWilliam HenryWilliam Powell\")\n",
      "('Russian Ark', 'https://www.metacritic.com/movie/russian-ark', 'Aleksandr Sokurov', 'Aleksandr ChabanAlla OsipenkoArtyom StrelnikovDavid GiorgobianiLeonid MozgovoyLev YeliseyevMaksim SergeyevMariya KuznetsovaMikhail PiotrovskyNatalya NikulenkoOleg KhmelnitskySergei DontsovTamara KurenkovaYelena RufanovaYelena Spiridonova')\n",
      "('Point Blank', 'https://www.metacritic.com/movie/point-blank-1967', 'John Boorman', \"Kathleen FreemanLawrence HaubenRoberta HaynesSusan HollowayVictor CreatoreAngie DickinsonCarroll O'ConnorJames SikkingJohn VernonKeenan WynnLee MarvinLloyd BochnerMichael StrongSandra WarnerSharon Acker\")\n",
      "('Lincoln', 'https://www.metacritic.com/movie/lincoln', 'Steven Spielberg', 'Adam DriverBruce McGillDaniel Day-LewisDavid CostabileDavid OyelowoDavid StrathairnHal HolbrookJackie Earle HaleyJames SpaderJared HarrisJohn HawkesJoseph CrossJoseph Gordon-LevittJulie WhiteLee PaceMichael StuhlbargPeter McRobbieSally FieldTim Blake NelsonTommy Lee JonesWalton GogginsDaniel Day-Lewis')\n",
      "('The Wolf House', 'https://www.metacritic.com/movie/the-wolf-house', 'Cristóbal LeónJoaquín Cociña', 'Amalia KassaiRainer Krause')\n",
      "('An Elephant Sitting Still', 'https://www.metacritic.com/movie/an-elephant-sitting-still', 'Bo Hu', 'Binyuan LiDanyi LiQing LiSuyun LiYixin KongCongxi LiJing GuoMiaomiao HeUvin WangWei KongXiang Rong DongXiman HuangYu ZhangYuchang PengZhao-Yan Guo-Zhang')\n",
      "('Room', 'https://www.metacritic.com/movie/room-2015', 'Lenny Abrahamson', 'Amanda BrugelBrad WietersenBrie LarsonCas AnvarChantelle ChungJack FultonJacob TremblayJee-Yun LeeJoan AllenJoe PingueJustin MaderKate DrummondMatt GordonMegan ParkRandal EdwardsSandy McMasterSean BridgersTom McCamusWendy CrewsonWilliam H. MacyZarrin Darnell-MartinBrie LarsonJacob Tremblay')\n",
      "('The Tillman Story', 'https://www.metacritic.com/movie/the-tillman-story', 'Amir Bar-Lev', 'Pat TillmanRichard TillmanPat Tillman')\n",
      "('The Wind Will Carry Us', 'https://www.metacritic.com/movie/the-wind-will-carry-us', 'Abbas Kiarostami', 'Ali Reza NaderiBahman GhobadiBehzad DoraniFarzad SohrabiFrangis RahseparLida SoltaniMasoameh SalimiMasood MansouriNoghre AsadiReihan HeidariRoushan Karam ElmiShahpour Ghobadi')\n",
      "('The Remains of the Day', 'https://www.metacritic.com/movie/the-remains-of-the-day', 'James Ivory', 'Abigail HopkinsBen ChaplinCaroline HuntChristopher ReeveHugh GrantJames FoxJohn HaycraftPatrick GodfreyPaula JacobsPeter CellierPeter HallidayPeter VaughanSteve DibbenAnthony HopkinsEmma Thompson')\n",
      "('sex, lies, and videotape', 'https://www.metacritic.com/movie/sex-lies-and-videotape', 'Steven Soderbergh', 'Alexandra RootDavid FoilEarl T. TaylorLaura San GiacomoPeter GallagherRon VawterSteven BrillAndie MacDowellJames Spader')\n",
      "('Dog Day Afternoon', 'https://www.metacritic.com/movie/dog-day-afternoon', 'Sidney Lumet', 'Carmine ForestaCharles DurningEstelle OmensGary SpringerJames BroderickAl PacinoAmy LevittBeulah GarrickCarol KaneJohn CazaleJohn MarriottMarcia Jean KurtzPenelope AllenSandra KazanSully Boyar')\n"
     ]
    }
   ],
   "source": [
    "print(\"Movies\") \n",
    "cur.execute('SELECT * FROM Movies')\n",
    "for row in cur:\n",
    "    print(row) \n",
    "conn.commit()\n",
    "conn.close()"
   ]
  },
  {
   "cell_type": "markdown",
   "metadata": {},
   "source": [
    "# Creating a dictionary where movie name is the Key of the dictinary and value are the director name and cast"
   ]
  },
  {
   "cell_type": "code",
   "execution_count": 17,
   "metadata": {},
   "outputs": [
    {
     "name": "stdout",
     "output_type": "stream",
     "text": [
      "500\n"
     ]
    }
   ],
   "source": [
    "Empty_list = []\n",
    "\n",
    "\n",
    "movie_director = dict()\n",
    "all_movies = []\n",
    "\n",
    "\n",
    "for i in range(500):\n",
    "    director_cast = dict()\n",
    "    \n",
    "    director = directors[i]\n",
    "    cast = all_cast[i]\n",
    "    movie_name = movies[i]\n",
    "    \n",
    "    # it first checks if movie name is present in dictionary\n",
    "    # if not there then it will append the dictionary to a list\n",
    "    if movie_name not in movie_director:\n",
    "    \n",
    "        director_cast[tuple(director)] = cast\n",
    "\n",
    "        movie_director[movie_name] = director_cast\n",
    "\n",
    "        all_movies.append(movie_director)\n",
    "    \n",
    "    # if the movie name is present then it will add II and III in front of movie name then append it to the list\n",
    "    else: \n",
    "        director_cast[tuple(director)] = cast\n",
    "        movie_director[movie_name+'s'] = director_cast\n",
    "        if movie_name == 'Little Women' and movie_name in movie_director:\n",
    "            if 'Little Women-II'in movie_director:\n",
    "                director_cast[tuple(director)] = cast\n",
    "                movie_director[movie_name+'-III'] = director_cast\n",
    "            else:\n",
    "                director_cast[tuple(director)] = cast\n",
    "                movie_director[movie_name+'-II'] = director_cast\n",
    "        else:\n",
    "            director_cast[tuple(director)] = cast\n",
    "            movie_director[movie_name+'-II'] = director_cast\n",
    "   \n",
    "        all_movies.append(movie_director)\n",
    "    \n",
    "    \n",
    "print(len(all_movies))"
   ]
  },
  {
   "cell_type": "markdown",
   "metadata": {},
   "source": [
    "# Extracting 2 piece of Information"
   ]
  },
  {
   "cell_type": "markdown",
   "metadata": {},
   "source": [
    "Here user can enter the movie information he wants to extract out of 500 movies. "
   ]
  },
  {
   "cell_type": "markdown",
   "metadata": {},
   "source": [
    "### Select Movie name from here"
   ]
  },
  {
   "cell_type": "code",
   "execution_count": 18,
   "metadata": {},
   "outputs": [
    {
     "name": "stdout",
     "output_type": "stream",
     "text": [
      "['Citizen Kane', 'The Godfather', 'Rear Window', 'Casablanca', 'Boyhood', 'Three Colors: Red', 'Vertigo', 'Notorious', \"Singin' in the Rain\", 'City Lights', 'Moonlight', 'Intolerance', 'Pinocchio', 'Touch of Evil', 'The Lady Vanishes', 'The Treasure of the Sierra Madre', \"Pan's Labyrinth\", 'Some Like It Hot', 'North by Northwest', 'Hoop Dreams', 'Rashomon', 'All About Eve', 'Jules and Jim', 'The Wild Bunch', 'My Left Foot', 'The Third Man', 'Dr. Strangelove or: How I Learned to Stop Worrying and Love the Bomb', 'Quo Vadis, Aida?', 'Gone with the Wind', '4 Months, 3 Weeks and 2 Days', 'Psycho', 'Battleship Potemkin', 'A Streetcar Named Desire', 'American Graffiti', 'Dumbo', 'Roma', 'Ran', 'The Shop Around the Corner', '12 Angry Men', 'Manchester by the Sea', \"Rosemary's Baby\", 'The Maltese Falcon', '12 Years a Slave', 'Killer of Sheep', 'Nashville', 'Ratatouille', 'Parasite', 'Rocks', \"Don't Look Now\", 'The Grapes of Wrath', 'Children of Paradise (1945)', 'Mean Streets', 'The Lady Eve', 'Gravity', 'Fantasia', 'Spirited Away', 'Beauty and the Beast', 'Small Axe: Lovers Rock', 'Toy Story', 'The Bride of Frankenstein', 'The Social Network', 'My Fair Lady', 'Portrait of a Lady on Fire', 'I Am Not Your Negro', 'Woodstock', 'Double Indemnity', 'Snow White and the Seven Dwarfs', 'The Hurt Locker', 'Anatomy of a Murder', 'Zero Dark Thirty', 'Collective', 'A Separation', 'WALL-E', 'Carol', 'Before Midnight', 'Amour', 'Dunkirk', 'Summer of Soul (...Or, When the Revolution Could Not Be Televised)', 'The Man Who Shot Liberty Valance', 'The Searchers', '45 Years', 'Taxi Driver', 'Pulp Fiction', 'The Manchurian Candidate', 'Mr. Turner', 'The Irishman', 'Grave of the Fireflies (1988)', 'The Wild Child', 'Amazing Grace', 'Shadow of a Doubt', 'Inside Out', 'Sideways', \"Schindler's List\", 'Meet Me in St. Louis', 'The Apartment', 'Apocalypse Now', 'The Gunfighter', 'We Were Here', 'Lady Bird', 'Chimes at Midnight', 'The Lord of the Rings: The Return of the King', 'Carlos', 'Marriage Story', 'La La Land', 'Faces Places', 'Crouching Tiger, Hidden Dragon', 'Nomadland', 'The Servant', 'Call Me by Your Name', 'The Magnificent Ambersons', 'Reversal of Fortune', 'David Byrne’s American Utopia', 'Shoplifters', 'Shoah: Four Sisters', 'The 39 Steps', 'Duck Soup', 'Petite Maman', 'Days of Heaven', 'Toni Erdmann', 'Yi Yi', 'McCabe & Mrs. Miller', 'The Best Years of Our Lives', 'Stagecoach', 'Inside Llewyn Davis', 'Sherpa', 'There Will Be Blood', 'Badlands', 'The Last Picture Show', 'Do the Right Thing', 'Sita Sings the Blues', 'The Decline of Western Civilization', 'Rio Bravo', \"Brother's Keeper\", 'Crumb', 'Spotlight', 'The Band Wagon', 'One More Time with Feeling', 'The Diving Bell and the Butterfly', 'Invasion of the Body Snatchers', 'The Class', 'Platoon', '35 Shots of Rum', 'Apocalypse Now: Final Cut', 'Chinatown', 'The Florida Project', 'Timbuktu', 'Frenzy', 'Brief Encounter', 'Cool Hand Luke', 'Little Women', 'Maborosi', 'Top Hat', 'Apocalypse Now Redux', 'Annie Hall', 'The Lord of the Rings: The Fellowship of the Ring', 'Quiz Show', 'Leviathan', 'Werckmeister Harmonies', 'Toy Story 3', 'This Is Spinal Tap', 'The Look of Silence', 'Tower', 'The Rider', 'Moolaadé', 'Atanarjuat: The Fast Runner', 'Time', 'Gavagai', 'The Man Who Would Be King', 'The Killing', 'Swing Time', 'Breaking Away', 'The Souvenir', 'After Life', 'Son of Saul', 'Love Affair', 'Frankenstein', '8½', 'Little Women', 'E.T. The Extra-Terrestrial', 'The African Queen', 'The Triplets of Belleville', 'The Queen', 'All Quiet on the Western Front', 'A Bread Factory Part Two: Walk With Me a While', 'Never Rarely Sometimes Always', 'The Ladykillers', 'Young Mr. Lincoln', 'Stories We Tell', 'A Bread Factory Part One: For the Sake of Gold', 'The Act of Killing', \"This Is Not a Burial, It's a Resurrection\", 'On the Waterfront', \"Jafar Panahi's Taxi\", 'Ida', 'Beau Travail', 'Uncut Gems', 'Waltz with Bashir', 'They Shall Not Grow Old', 'EX LIBRIS: The New York Public Library', 'Secrets & Lies', 'Patton', 'The Favourite', 'The Sweet Hereafter', 'The Right Stuff', 'Bambi', 'Flee', 'Bringing Up Baby', 'No Country for Old Men', 'The Gatekeepers', 'Nostalgia for the Light', 'David Copperfield', 'Saving Private Ryan', 'After Hours', 'Her', 'The Crying Game', 'Great Expectations', 'Burning', \"Winter's Bone\", 'Hope', 'Gett: The Trial of Viviane Amsalem', 'I Called Him Morgan', 'Close Encounters of the Third Kind', 'The Godfather: Part II', 'The Hustler', 'L.A. Confidential', 'Bloody Sunday', 'My Voyage to Italy', 'Phantom Thread', 'Goodfellas', 'Wojnarowicz', 'Hamilton', 'Paths of the Soul', \"It's Such a Beautiful Day\", 'My Perestroika', 'This Is Not a Film', 'The Birds', 'To Have and Have Not', 'Finding Nemo', 'Topsy-Turvy', 'Samurai Rebellion', 'King Kong', 'Gunda', 'The Incredibles', 'Before Sunset', 'Being John Malkovich', 'A Prophet', 'Hard to Be a God', 'Almost Famous', 'Paths of Glory', 'Cold War', 'Big Men', 'American Splendor', 'Hannah and Her Sisters', 'The Circus', 'The Tale', 'Gosford Park', 'Dirty Harry', 'The Fits', 'Small Axe: Mangrove', 'Mad Max: Fury Road', 'United 93', 'Capturing the Friedmans', 'The Truman Show', 'American Hustle', 'Paterson', 'Star Wars: Episode IV - A New Hope', 'Persepolis', 'The Age of Innocence', 'Minding the Gap', 'The Best of Youth', 'The Overnighters', 'The Lives of Others', 'Two-Lane Blacktop', 'House of Flying Daggers', '63 Up', 'Treasure Island', 'Lost in Translation', 'Blue Is the Warmest Color', 'Searching for Bobby Fischer', 'Assault on Precinct 13', 'Man on Wire', 'For Sama', 'Force of Evil', 'Still Walking', 'Gangs of Wasseypur', 'The Last Detail', 'When the Levees Broke: A Requiem in Four Acts', 'Borat: Cultural Learnings of America for Make Benefit Glorious Nation of Kazakhstan', 'Minari', 'Barry Lyndon', 'The Farewell', 'Elle', 'The Tale of The Princess Kaguya', 'Uncertain', 'Captain Blood', 'Two Days, One Night', 'National Gallery', 'Eighth Grade', 'A Star Is Born', 'No End in Sight', \"It's a Wonderful Life\", 'The Madness of King George', 'Phoenix', 'Goodbye Solo', 'Western', 'Stop Making Sense', 'Deep Red', 'Downhill Racer', 'Alien', 'Columbus', 'First Cow', 'Night of the Living Dead', 'The Artist', 'Yankee Doodle Dandy', 'The Human Voice', 'Raging Bull', 'Eternal Sunshine of the Spotless Mind', 'The Piano', 'Of Mice and Men', 'Dead Souls', 'Zama', 'Dick Johnson Is Dead', 'High Noon', 'Rebel Without a Cause', 'Letters from Iwo Jima', 'The Seventh Continent (1989)', 'A Woman Under the Influence', 'Whiplash', 'Once', 'Foreign Correspondent', 'The Arbor', \"Long Day's Journey Into Night\", 'Richard III', 'Democrats', 'The Lion King', '4 Little Girls', 'Wild Strawberries', 'Ghost World', 'Crime + Punishment', 'The Seventh Seal', 'Y Tu Mamá También', 'Paddington 2', 'The Little Mermaid', 'City Hall', 'Capote', 'The Death of Stalin', 'Miracle on 34th Street', 'Strangers on a Train', 'Tulpan', \"Manuscripts Don't Burn\", 'In Transit', 'Three Billboards Outside Ebbing, Missouri', 'Quest', 'Au Revoir les Enfants', 'A Film Unfinished', 'Things to Come', 'The Grand Budapest Hotel', 'Winter Sleep', 'A Star Is Born', 'Citizenfour', 'Time Out', 'The Blue Angel (re-release)', 'Thelma & Louise', 'Away from Her', 'The Fallen Idol (re-release)', 'Fat City', 'Foxtrot', 'Howards End', 'The Innocents', 'Inside Job', 'The Father', 'Leave No Trace', 'Three Colors: White', 'Chicken Run', \"The King's Speech\", 'Hell or High Water', 'Up', 'Shirkers', 'Mildred Pierce', '45365', 'Tootsie', 'Marooned in Iraq', 'To Kill a Mockingbird', 'Aquarius', 'So Long, My Son', 'Apollo 11', 'Anomalisa', 'Toy Story 2', 'Black Panther', 'Brooklyn', 'Nobody Knows', 'Life Is Sweet', 'Faces', 'Mary Poppins', 'The Lord of the Rings: The Two Towers', \"L'Enfant (The Child)\", 'Sweet Country', 'Jane Fonda in Five Acts', 'Newtown', 'Poetry', 'Restless Creature: Wendy Whelan', 'Birdman or (The Unexpected Virtue of Ignorance)', 'Little Women', 'Shakespeare in Love', 'The Awful Truth', 'Can You Ever Forgive Me?', 'Wolfwalkers', 'It Happened One Night', 'The Body Remembers When the World Broke Open', 'The Missing Picture', 'I Travel Because I Have to, I Come Back Because I Love You', 'The Invisible Man', 'Scarface', 'Of Men and War', 'The Long Goodbye', 'Imitation of Life', 'Pain and Glory', 'Genèse (Genesis)', 'The Farthest', 'Gomorrah', 'To Be and to Have', 'Halloween', 'Eraserhead', 'Medium Cool', 'Fire at Sea', 'The Fugitive', 'F for Fake', 'About Elly (2009)', 'The Bridge on the River Kwai', 'Goldfinger', \"Ma Rainey's Black Bottom\", 'One False Move', 'En el Séptimo Día (On the Seventh Day)', 'Jane', 'Jaws', 'We Are the Best!', 'Spartacus', 'Small Axe: Education', 'About Endlessness', 'Back to the Future', 'If Beale Street Could Talk', 'My Journey Through French Cinema', 'Wallace & Gromit: The Curse of the Were-Rabbit', 'The Diary of a Teenage Girl', 'Elena', 'All Is Lost', 'Hereditary', 'Listen to Me Marlon', \"Gideon's Army\", 'Serpico (re-release)', 'Maria Full of Grace', 'Fateless', 'Happy as Lazzaro', 'The Fog of War: Eleven Lessons from the Life of Robert S. McNamara', 'Uncle Boonmee Who Can Recall His Past Lives', 'Brokeback Mountain', 'Cemetery of Splendor', 'The Kid with a Bike', 'Mutiny on the Bounty', 'Spider-Man: Into the Spider-Verse', 'The Wicker Man', 'Love & Friendship', 'Particle Fever', 'Tarnation', 'Microcosmos', 'Murderball', 'Life Itself', 'The Shape of Water', 'Rewind', 'Shine', \"Bisbee '17\", 'Grizzly Man', \"Adam's Rib\", 'Gregory Crewdson: Brief Encounters', 'Moneyball', 'The Autobiography of Nicolae Ceausescu', 'All About My Mother', 'The English Patient', 'The Duke of Burgundy', 'My Golden Days', 'Nebraska', 'What the Constitution Means to Me', 'A Tale of Two Cities', 'Force Majeure', 'Tampopo', 'Blow Out', 'Diane', 'The Magician', 'The Thin Man', 'Russian Ark', 'Point Blank', 'Lincoln', 'The Wolf House', 'An Elephant Sitting Still', 'Room', 'The Tillman Story', 'The Wind Will Carry Us', 'The Remains of the Day', 'sex, lies, and videotape', 'Dog Day Afternoon']\n"
     ]
    }
   ],
   "source": [
    "print(movies)"
   ]
  },
  {
   "cell_type": "code",
   "execution_count": 19,
   "metadata": {},
   "outputs": [
    {
     "name": "stdout",
     "output_type": "stream",
     "text": [
      "Which movie do you want to check? >Citizen Kane\n",
      "What information about this movie do you want to check? (Choose director or cast) >cast\n",
      "The cast of the movie Citizen Kane includes Agnes Moorehead, Dorothy Comingore, Erskine Sanford, Everett Sloane, Fortunio Bonanova, George Coulouris, Georgia Backus, Gus Schilling, Harry Shannon, Paul Stewart, Philip Van Zandt, Ray Collins, Ruth Warrick, William Alland, Joseph Cotten, Orson Welles, \n"
     ]
    }
   ],
   "source": [
    "while True:\n",
    "    inp_movie = input('Which movie do you want to check? >')\n",
    "    \n",
    "    if inp_movie in movies:\n",
    "        \n",
    "        \n",
    "        while True:\n",
    "            inp = input('What information about this movie do you want to check? (Choose director or cast) >')\n",
    "            inp = inp.lower()\n",
    "\n",
    "            if inp == 'cast' or inp == 'director':\n",
    "                for movie_dic in all_movies:\n",
    "                    # grab the director and the cast\n",
    "                    for movie_key, movie_value in movie_dic.items():\n",
    "                        if inp_movie == movie_key:\n",
    "                            if inp == 'director':\n",
    "                                for sub_key, sub_value in movie_value.items():\n",
    "                                    dir = ''\n",
    "                                    for i in sub_key: #remember sub_key is a tuple\n",
    "                                        dir = dir + i + ', '\n",
    "\n",
    "                            elif inp =='cast':\n",
    "                                for sub_key, sub_value in movie_value.items():\n",
    "                                    cas = ''\n",
    "                                    for i in sub_value: #remember sub_value is a list\n",
    "                                        cas = cas + i + ', '\n",
    "\n",
    "\n",
    "                if inp == 'director': \n",
    "                    print('The director of the movie', inp_movie, 'is', dir)\n",
    "                    break\n",
    "                elif inp == 'cast':\n",
    "                    print('The cast of the movie', inp_movie, 'includes', cas)\n",
    "                    break\n",
    "            else:\n",
    "                print(\"\\n\")\n",
    "                print(\"Check spelling of cast and director\")\n",
    "        break\n",
    "    else:\n",
    "        print(\"Movie Name invalid, Movie Name should be exactly like in the above list then Try again\")"
   ]
  },
  {
   "cell_type": "markdown",
   "metadata": {},
   "source": [
    "# First Question"
   ]
  },
  {
   "cell_type": "markdown",
   "metadata": {},
   "source": [
    "Extract a list of director and cast and store it"
   ]
  },
  {
   "cell_type": "code",
   "execution_count": 20,
   "metadata": {},
   "outputs": [],
   "source": [
    "all_directors = tuple()\n",
    "all_movie_cast = []\n",
    "\n",
    "for i in range(len(all_movies[0])):\n",
    "    sub = list(movie_director.values())[i] #so this extracts the sub dictionary\n",
    "    sub_key = list(sub.keys())\n",
    "    sub_values = list(sub.values())\n",
    "    for tpl in sub_key:\n",
    "        all_directors += tpl\n",
    "    for lst in sub_values:\n",
    "        if lst is not None:\n",
    "            all_movie_cast += lst"
   ]
  },
  {
   "cell_type": "markdown",
   "metadata": {},
   "source": [
    "## Analyse how many time each director appeared in a list of 500 movies"
   ]
  },
  {
   "cell_type": "code",
   "execution_count": 21,
   "metadata": {},
   "outputs": [
    {
     "name": "stdout",
     "output_type": "stream",
     "text": [
      "{'Orson Welles': 5, 'Francis Ford Coppola': 5, 'Alfred Hitchcock': 12, 'Michael Curtiz': 4, 'Richard Linklater': 3, 'Krzysztof Kieslowski': 2, 'Gene Kelly': 1, 'Stanley Donen': 1, 'Charles Chaplin': 2, 'Barry Jenkins': 2, 'D.W. Griffith': 1, 'Ben Sharpsteen': 4, 'Bill Roberts': 4, 'Hamilton Luske': 2, 'Jack Kinney': 2, 'Norman Ferguson': 3, 'T. Hee': 2, 'Wilfred Jackson': 4, 'John Huston': 5, 'Guillermo del Toro': 2, 'Billy Wilder': 3, 'Steve James': 3, 'Akira Kurosawa': 2, 'Joseph L. Mankiewicz': 1, 'François Truffaut': 2, 'Sam Peckinpah': 1, 'Jim Sheridan': 1, 'Carol Reed': 2, 'Stanley Kubrick': 5, 'Jasmila Zbanic': 1, 'George Cukor': 6, 'Sam Wood': 1, 'Victor Fleming': 1, 'Cristian Mungiu': 1, 'Sergei M. Eisenstein': 1, 'Elia Kazan': 2, 'George Lucas': 2, 'John Elliotte': 1, 'Samuel Armstrong': 3, 'Alfonso Cuarón': 3, 'Ernst Lubitsch': 1, 'Sidney Lumet': 3, 'Kenneth Lonergan': 1, 'Roman Polanski': 2, 'Steve McQueen': 4, 'Charles Burnett': 1, 'Robert Altman': 4, 'Brad Bird': 2, 'Joon-ho Bong': 1, 'Sarah Gavron': 1, 'Nicolas Roeg': 1, 'John Ford': 5, 'Marcel Carné': 1, 'Martin Scorsese': 8, 'Preston Sturges': 1, 'David Hand': 3, 'Ford Beebe Jr.': 1, 'James Algar': 2, 'Jim Handley': 1, 'Paul Satterfield': 2, 'Hayao Miyazaki': 1, 'Gary Trousdale': 1, 'Kirk Wise': 1, 'John Lasseter': 2, 'James Whale': 3, 'David Fincher': 1, 'Céline Sciamma': 2, 'Raoul Peck': 1, 'Michael Wadleigh': 1, 'Larry Morey': 1, 'Perce Pearce': 1, 'William Cottrell': 1, 'Kathryn Bigelow': 2, 'Otto Preminger': 1, 'Alexander Nanau': 1, 'Asghar Farhadi': 2, 'Andrew Stanton': 2, 'Todd Haynes': 1, 'Michael Haneke': 2, 'Christopher Nolan': 1, 'Ahmir-Khalib Thompson': 1, 'Andrew Haigh': 1, 'Quentin Tarantino': 1, 'John Frankenheimer': 1, 'Mike Leigh': 4, 'Isao Takahata': 2, 'Alan Elliott': 1, 'Sydney Pollack': 2, 'Pete Docter': 2, 'Ronaldo Del Carmen': 1, 'Alexander Payne': 2, 'Steven Spielberg': 6, 'Vincente Minnelli': 2, 'Henry King': 1, 'Bill Weber': 1, 'David Weissman': 1, 'Greta Gerwig': 2, 'Peter Jackson': 4, 'Olivier Assayas': 1, 'Noah Baumbach': 1, 'Damien Chazelle': 2, 'Agnès Varda': 1, 'JR': 1, 'Ang Lee': 2, 'Chloé Zhao': 2, 'Joseph Losey': 1, 'Luca Guadagnino': 1, 'Fred Fleck': 1, 'Robert Wise': 1, 'Barbet Schroeder': 1, 'Spike Lee': 4, 'Hirokazu Koreeda': 5, 'Claude Lanzmann': 1, 'Leo McCarey': 3, 'Terrence Malick': 2, 'Maren Ade': 1, 'Edward Yang': 1, 'William Wyler': 1, 'Ethan Coen': 2, 'Joel Coen': 2, 'Jennifer Peedom': 1, 'Paul Thomas Anderson': 2, 'Peter Bogdanovich': 1, 'Nina Paley': 1, 'Penelope Spheeris': 1, 'Howard Hawks': 4, 'Bruce Sinofsky': 1, 'Joe Berlinger': 1, 'Terry Zwigoff': 2, 'Thomas McCarthy': 1, 'Andrew Dominik': 1, 'Julian Schnabel': 1, 'Don Siegel': 2, 'Laurent Cantet': 2, 'Oliver Stone': 1, 'Claire Denis': 2, 'Sean Baker': 1, 'Abderrahmane Sissako': 1, 'David Lean': 3, 'Stuart Rosenberg': 1, 'Mark Sandrich': 1, 'Woody Allen': 2, 'Robert Redford': 1, 'Andrei Zvyagintsev': 2, 'Ágnes Hranitzky': 1, 'Béla Tarr': 1, 'Lee Unkrich': 3, 'Rob Reiner': 1, 'Joshua Oppenheimer': 2, 'Keith Maitland': 1, 'Ousmane Sembene': 1, 'Zacharias Kunuk': 1, 'Garrett Bradley': 1, 'Rob Tregenza': 1, 'George Stevens': 1, 'Peter Yates': 1, 'Joanna Hogg': 1, 'László Nemes': 1, 'Federico Fellini': 1, 'Gillian Armstrong': 2, 'Sylvain Chomet': 1, 'Stephen Frears': 1, 'Lewis Milestone': 2, 'Patrick Wang': 2, 'Eliza Hittman': 1, 'Alexander Mackendrick': 1, 'Sarah Polley': 2, 'Anonymous': 1, 'Christine Cynn': 1, 'Lemohang Jeremiah Mosese': 1, 'Jafar Panahi': 2, 'Pawel Pawlikowski': 2, 'Ben Safdie': 1, 'Joshua Safdie': 1, 'Ari Folman': 1, 'Frederick Wiseman': 3, 'Franklin J. Schaffner': 1, 'Giorgos Lanthimos': 1, 'Atom Egoyan': 1, 'Philip Kaufman': 1, 'Graham Heid': 1, 'Norman Wright': 1, 'Jonas Poher Rasmussen': 1, 'Dror Moreh': 1, 'Patricio Guzmán': 1, 'Spike Jonze': 2, 'Neil Jordan': 1, 'Chang-dong Lee': 2, 'Debra Granik': 2, 'Maria Sødahl': 1, 'Ronit Elkabetz': 1, 'Shlomi Elkabetz': 1, 'Kasper Collin': 1, 'Robert Rossen': 1, 'Curtis Hanson': 1, 'Paul Greengrass': 2, 'Chris McKim': 1, 'Thomas Kail': 1, 'Yang Zhang': 1, 'Don Hertzfeldt': 1, 'Robin Hessman': 1, 'Mojtaba Mirtahmasb': 1, 'Masaki Kobayashi': 1, 'Ernest B. Schoedsack': 1, 'Merian C. Cooper': 1, 'Victor Kossakovsky': 1, 'Jacques Audiard': 1, 'Aleksei German': 1, 'Cameron Crowe': 1, 'Rachel Boynton': 1, 'Robert Pulcini': 1, 'Shari Springer Berman': 1, 'Jennifer Fox': 1, 'Anna Rose Holmer': 1, 'George Miller': 1, 'Andrew Jarecki': 1, 'Peter Weir': 1, 'David O. Russell': 1, 'Jim Jarmusch': 1, 'Marjane Satrapi': 1, 'Vincent Paronnaud': 1, 'Bing Liu': 1, 'Marco Tullio Giordana': 1, 'Jesse Moss': 1, 'Florian Henckel von Donnersmarck': 1, 'Monte Hellman': 1, 'Yimou Zhang': 1, 'Michael Apted': 1, 'Byron Haskin': 1, 'Sofia Coppola': 1, 'Abdel Kechiche': 1, 'Steven Zaillian': 1, 'John Carpenter': 2, 'James Marsh': 1, 'Edward Watts': 1, 'Waad Al-Khateab': 1, 'Abraham Polonsky': 1, 'Anurag Kashyap': 1, 'Hal Ashby': 1, 'Larry Charles': 1, 'Lee Isaac Chung': 1, 'Lulu Wang': 1, 'Paul Verhoeven': 1, 'Anna Sandilands': 1, 'Ewan McNicol': 1, 'Jean-Pierre Dardenne': 3, 'Luc Dardenne': 3, 'Bo Burnham': 1, 'Charles Ferguson': 2, 'Frank Capra': 2, 'Nicholas Hytner': 1, 'Christian Petzold': 1, 'Ramin Bahrani': 1, 'Bill Ross IV': 2, 'Turner Ross': 2, 'Jonathan Demme': 1, 'Dario Argento': 1, 'Michael Ritchie': 1, 'Ridley Scott': 2, 'Kogonada': 1, 'Kelly Reichardt': 1, 'George A. Romero': 1, 'Michel Hazanavicius': 1, 'Pedro Almodóvar': 3, 'Michel Gondry': 1, 'Jane Campion': 1, 'Bing Wang': 1, 'Lucrecia Martel': 1, 'Kirsten Johnson': 1, 'Fred Zinnemann': 1, 'Nicholas Ray': 1, 'Clint Eastwood': 1, 'John Cassavetes': 2, 'John Carney': 1, 'Clio Barnard': 1, 'Gan Bi': 1, 'Laurence Olivier': 1, 'Camilla Nielsson': 1, 'Rob Minkoff': 1, 'Roger Allers': 1, 'Ingmar Bergman': 3, 'Stephen T. Maing': 1, 'Paul King': 1, 'John Musker': 1, 'Ron Clements': 1, 'Bennett Miller': 2, 'Armando Iannucci': 1, 'George Seaton': 1, 'Sergei Dvortsevoy': 1, 'Mohammad Rasoulof': 1, 'Albert Maysles': 1, 'Benjamin Wu': 1, 'David Usui': 1, 'Lynn True': 1, 'Nelson Walker III': 1, 'Martin McDonagh': 1, 'Jonathan Olshefski': 1, 'Louis Malle': 1, 'Yael Hersonski': 1, 'Mia Hansen-Løve': 1, 'Wes Anderson': 1, 'Nuri Bilge Ceylan': 1, 'Bradley Cooper': 2, 'Laura Poitras': 1, 'Josef von Sternberg': 1, 'Samuel Maoz': 1, 'James Ivory': 2, 'Jack Clayton': 1, 'Florian Zeller': 1, 'Nick Park': 2, 'Peter Lord': 1, 'Tom Hooper': 1, 'David Mackenzie': 1, 'Bob Peterson': 1, 'Sandi Tan': 1, 'Bahman Ghobadi': 1, 'Robert Mulligan': 1, 'Kleber Mendonça Filho': 1, 'Xiaoshuai Wang': 1, 'Todd Douglas Miller': 1, 'Charlie Kaufman': 1, 'Duke Johnson': 1, 'Ash Brannon': 1, 'Ryan Coogler': 1, 'John Crowley': 1, 'Robert Stevenson': 1, 'Warwick Thornton': 1, 'Susan Lacy': 1, 'Kim A. Snyder': 1, 'Adam Schlesinger': 1, 'Linda Saffire': 1, 'Alejandro González Iñárritu': 1, 'John Madden': 1, 'Marielle Heller': 3, 'Ross Stewart': 1, 'Tomm Moore': 1, 'Elle-Máijá Tailfeathers': 1, 'Kathleen Hepburn': 1, 'Rithy Panh': 1, 'Karim Ainouz': 1, 'Marcelo Gomes': 1, 'Richard Rosson': 1, 'Laurent Bécue-Renard': 1, 'Douglas Sirk': 1, 'Philippe Lesage': 1, 'Emer Reynolds': 1, 'Matteo Garrone': 1, 'Nicolas Philibert': 1, 'David Lynch': 1, 'Haskell Wexler': 1, 'Gianfranco Rosi': 1, 'Andrew Davis': 1, 'François Reichenbach': 1, 'Gary Graver': 1, 'Oja Kodar': 1, 'Guy Hamilton': 1, 'George C. Wolfe': 1, 'Carl Franklin': 1, 'Jim McKay': 1, 'Brett Morgen': 1, 'Lukas Moodysson': 1, 'Roy Andersson': 1, 'Robert Zemeckis': 1, 'Bertrand Tavernier': 1, 'Steve Box': 1, 'J.C. Chandor': 1, 'Ari Aster': 1, 'Stevan Riley': 1, 'Dawn Porter': 1, 'Joshua Marston': 1, 'Lajos Koltai': 1, 'Alice Rohrwacher': 1, 'Errol Morris': 1, 'Apichatpong Weerasethakul': 2, 'Frank Lloyd': 1, 'Bob Persichetti': 1, 'Peter Ramsey': 1, 'Rodney Rothman': 1, 'Robin Hardy': 1, 'Whit Stillman': 1, 'Mark Levinson': 1, 'Jonathan Caouette': 1, 'Claude Nuridsany': 1, 'Marie Pérennou': 1, 'Dana Adam Shapiro': 1, 'Henry Alex Rubin': 1, 'Sasha Joseph Neulinger': 1, 'Scott Hicks': 1, 'Robert Greene': 1, 'Werner Herzog': 1, 'Ben Shapiro': 1, 'Andrei Ujica': 1, 'Anthony Minghella': 1, 'Peter Strickland': 1, 'Arnaud Desplechin': 1, 'Jack Conway': 1, 'Robert Z. Leonard': 1, 'Ruben Östlund': 1, 'Jûzô Itami': 1, 'Brian De Palma': 1, 'Kent Jones': 1, 'W.S. Van Dyke': 1, 'Aleksandr Sokurov': 1, 'John Boorman': 1, 'Cristóbal León': 1, 'Joaquín Cociña': 1, 'Bo Hu': 1, 'Lenny Abrahamson': 1, 'Amir Bar-Lev': 1, 'Abbas Kiarostami': 1, 'Steven Soderbergh': 1}\n"
     ]
    }
   ],
   "source": [
    "all_director_lst = list(all_directors)\n",
    "dictor_count = dict()\n",
    "for i in all_director_lst:\n",
    "    dictor_count[i] = dictor_count.get(i, 0) + 1  # go through all the director in the dict and keep a count of them\n",
    "print(dictor_count)"
   ]
  },
  {
   "cell_type": "markdown",
   "metadata": {},
   "source": [
    "## Analyse how many time each actor/actress appeared in a list of 500 movies"
   ]
  },
  {
   "cell_type": "code",
   "execution_count": 22,
   "metadata": {},
   "outputs": [
    {
     "name": "stdout",
     "output_type": "stream",
     "text": [
      "{'Agnes Moorehead': 2, 'Dorothy Comingore': 1, 'Erskine Sanford': 2, 'Everett Sloane': 1, 'Fortunio Bonanova': 2, 'George Coulouris': 1, 'Georgia Backus': 3, 'Gus Schilling': 1, 'Harry Shannon': 2, 'Paul Stewart': 2, 'Philip Van Zandt': 1, 'Ray Collins': 4, 'Ruth Warrick': 1, 'William Alland': 1, 'Joseph Cotten': 5, 'Orson Welles': 6, 'Abe Vigoda': 1, 'Al Lettieri': 1, 'Diane Keaton': 3, 'Gianni Russo': 1, 'James Caan': 3, 'John Cazale': 3, 'John Marley': 2, 'Richard Conte': 1, 'Richard S. Castellano': 1, 'Robert Duvall': 5, 'Rudy Bond': 4, 'Sterling Hayden': 4, 'Talia Shire': 2, 'Al Pacino': 5, 'Marlon Brando': 7, 'Havis Davenport': 1, 'Irene Winston': 1, 'Jerry Antes': 1, 'Jesslyn Fax': 1, 'Rand Harper': 1, 'Frank Cady': 1, 'Georgine Darcy': 1, 'Grace Kelly': 2, 'James Stewart': 6, 'Judith Evelyn': 1, 'Raymond Burr': 1, 'Ross Bagdasarian': 1, 'Sara Berner': 1, 'Thelma Ritter': 2, 'Wendell Corey': 1, 'Claude Rains': 3, 'Conrad Veidt': 1, 'Curt Bois': 1, 'Dooley Wilson': 1, 'Enrique Acosta': 1, 'John Qualen': 5, 'Joy Page': 1, 'Leonid Kinskey': 2, 'Madeleine Lebeau': 2, 'Paul Henreid': 1, 'Peter Lorre': 2, 'S.Z. Sakall': 2, 'Sydney Greenstreet': 2, 'Humphrey Bogart': 5, 'Ingrid Bergman': 2, 'Alyssa Petersen': 1, 'Andrea Chen': 1, 'Andrew Villarreal': 1, 'Angela Rawna': 1, 'Bonnie Cross': 2, 'Brad Hawkins': 1, 'Cassidy Johnson': 1, 'David Blackwell': 1, 'Deanna Brochin': 1, 'Derek Chase Hickey': 1, 'Elijah Smith': 2, 'Ethan Hawke': 5, 'Evie Thompson': 1, 'Greg Baglia': 1, 'Jamie Howard': 1, 'Jonathan Bell': 1, 'Jordan Howard': 1, 'Libby Villari': 2, 'Lorelei Linklater': 2, 'Marco Perella': 2, 'Mark Finn': 1, 'Megan Devine': 1, 'Mona Lee Fultz': 1, 'Natalie Wilemon': 1, 'Nick Krause': 1, 'Patricia Arquette': 2, 'Ryan Power': 1, 'Sam Dillon': 1, 'Savannah Welch': 1, 'Shane Graham': 1, 'Sharee Fowler': 1, 'Steven Chester Prince': 2, 'Sydney Orta': 1, 'Tamara Jolaine': 1, 'Tess Allen': 1, 'Zoe Graham': 1, 'Ellar Coltrane': 1, 'Bernard Escalon': 1, 'Brigitte Raul': 1, 'Elzbieta Jasinska': 1, 'Frédérique Feder': 1, 'Jean Schlegel': 1, 'Jean-Marie Daunas': 1, 'Jean-Pierre Lorit': 1, 'Leo Ramseyer': 1, 'Marion Stalens': 1, 'Paul Vermeulen': 1, 'Roland Carey': 1, 'Samuel Le Bihan': 1, 'Teco Celio': 1, 'Irène Jacob': 1, 'Jean-Louis Trintignant': 2, 'Danny Borzage': 1, 'Isabel Analla': 1, 'Jack Ano': 1, 'John Benson': 1, 'Margaret Bacon': 1, 'Barbara Bel Geddes': 1, 'David Ahdar': 1, 'Ellen Corby': 2, 'Henry Jones': 1, 'Kim Novak': 1, 'Konstantin Shayne': 1, 'Lee Patrick': 3, 'Raymond Bailey': 1, 'Tom Helmore': 1, 'Bernice Barrett': 1, 'Charles Mendl': 1, 'E.A. Krumschmidt': 1, 'Fay Baker': 1, 'Ricardo Costa': 1, 'Alexis Minotis': 1, 'Cary Grant': 4, 'Ivan Triesault': 1, 'Leopoldine Konstantin': 1, 'Louis Calhern': 2, 'Moroni Olsen': 3, 'Reinhold Schünzel': 1, 'Wally Brown': 1, 'Bette Arlen': 1, 'Betty Allen': 1, 'Jimmy Bates': 1, 'Marie Ardell': 1, 'Sue Allen': 1, 'Cyd Charisse': 2, 'Dawn Addams': 1, 'Debbie Reynolds': 1, \"Donald O'Connor\": 1, 'Douglas Fowley': 1, 'Gene Kelly': 1, 'Jean Hagen': 2, 'John Albright': 1, 'Millard Mitchell': 2, 'Rita Moreno': 1, 'Al Ernest Garcia': 2, 'Albert Austin': 2, 'Betty Blair': 1, 'Buster Brodie': 1, 'Eddie Baker': 1, 'Florence Lee': 1, 'Hank Mann': 1, 'Harry Ayers': 1, 'Harry Myers': 1, 'Henry Bergman': 2, 'Jack Alexander': 1, 'T.S. Alexander': 1, 'Victor Alexander': 1, 'Charles Chaplin': 2, 'Virginia Cherrill': 1, 'Alex R. Hibbert': 2, 'Andre Holland': 1, 'Ashton Sanders': 2, \"Duan 'Sandy' Sanderson\": 1, 'Duan Sanderson': 2, \"Duan'Sandy' Sanderson\": 1, 'Eddie Blanchard': 1, 'Edson Jean': 1, \"Herman 'Caheei McGloun\": 2, 'Jaden Piner': 2, 'Janelle Monáe': 2, 'Jharrel Jerome': 1, 'Kamal Ani-Bellow': 1, 'Keomi Givens': 1, 'Larry Anderson': 1, 'Mahershala Ali': 4, 'Naomie Harris': 2, 'Patrick Decile': 1, 'Rudi Goblen': 1, 'Rudi Goblin': 1, 'Shariff Earp': 2, 'Stephon Bron': 1, 'Tanisha Cidel': 1, 'Trevante Rhodes': 1, 'Dore Davidson': 1, 'Edward Dillon': 1, 'Elmer Clifton': 1, 'Frank Bennett': 1, 'Josephine Crowell': 1, 'Lucille Browne': 1, 'Mary Alden': 1, 'Miriam Cooper': 1, 'Monte Blue': 1, 'Pearl Elmore': 1, 'Sam De Grasse': 1, 'Spottiswoode Aitken': 1, 'Taylor N. Duncan': 1, 'William H. Brown': 1, 'Lillian Gish': 1, 'Clarence Nash': 1, 'Jack Mercer': 1, 'John McLeish': 2, 'Mae Questel': 1, 'Patricia Page': 1, 'Thurl Ravenscroft': 1, 'Charles Judels': 1, 'Cliff Edwards': 2, 'Dickie Jones': 1, 'Don Brodie': 1, 'Frankie Darro': 1, 'Marion Darlington': 3, 'Mel Blanc': 1, 'Stuart Buchanan': 2, 'Walter Catlett': 4, 'Joi Lansing': 1, 'Lalo Rios': 1, 'Michael Sargent': 1, 'Phil Harvey': 1, 'Victor Millan': 1, 'Akim Tamiroff': 1, 'Charlton Heston': 1, 'Dennis Weaver': 1, 'Janet Leigh': 3, 'Joanna Moore': 1, 'Joseph Calleia': 1, 'Mort Mills': 2, 'Valentin de Vargas': 1, 'Catherine Lacey': 2, 'Googie Withers': 1, 'Philip Leaver': 1, 'Sally Stewart': 1, 'Selma Vaz Dias': 1, 'Basil Radford': 1, 'Cecil Parker': 2, 'Dame May Whitty': 1, 'Emile Boreo': 1, 'Linden Travers': 1, 'Margaret Lockwood': 1, 'Mary Clare': 1, 'Michael Redgrave': 2, 'Naunton Wayne': 1, 'Paul Lukas': 2, 'Guillermo Calles': 1, 'Jacqueline Dalya': 1, 'Robert Blake': 1, 'Roberto Cañedo': 1, 'Spencer Chan': 1, 'Alfonso Bedoya': 1, 'Arturo Soto Rangel': 1, 'Barton MacLane': 2, 'Bruce Bennett': 2, 'José Torvay': 1, 'Manuel Dondé': 1, 'Margarito Luna': 1, 'Tim Holt': 3, 'Walter Huston': 2, 'Álex Angulo': 1, 'César Vea': 1, 'Doug Jones': 3, 'Eusebio Lázaro': 1, 'Francisco Vidal': 1, 'Gonzalo Uriarte': 1, 'Ivan Massagué': 1, 'Juanjo Cucalón': 1, 'Lina Mira': 1, 'Manolo Solo': 1, 'Maribel Verdú': 2, 'Roger Casamajor': 1, 'Ariadna Gil': 1, 'Ivana Baquero': 1, 'Sergi López': 2, 'Barbara Drew': 1, 'Beverly Wills': 1, 'Dave Barry': 1, 'Harry Wilson': 1, 'Mike Mazurki': 1, 'Billy Gray': 1, 'George E. Stone': 1, 'George Raft': 2, 'Jack Lemmon': 2, 'Joan Shawlee': 2, 'Joe E. Brown': 1, 'Marilyn Monroe': 2, 'Nehemiah Persoff': 1, \"Pat O'Brien\": 1, 'Tony Curtis': 1, 'Edward Binns': 2, 'Les Tremayne': 1, 'Patrick McVey': 1, 'Philip Coolidge': 1, 'Robert Ellenstein': 1, 'Adam Williams': 1, 'Edward Platt': 2, 'Eva Marie Saint': 1, 'James Mason': 2, 'Jessie Royce Landis': 1, 'Josephine Hutchinson': 1, 'Leo G. Carroll': 2, 'Martin Landau': 1, 'Philip Ober': 1, 'Aretha Mitchell': 1, \"Arthur 'Bo' Agee\": 1, 'Bill Gleason': 1, 'Curtis Gates': 1, 'Earl Smith': 1, 'Emma Gates': 1, 'Gene Pingatore': 1, 'Isiah Thomas': 1, 'Luther Bedford': 1, 'Marjorie Heard': 1, 'Marlyn Hopewell': 1, 'Patricia Weir': 1, 'Sheila Agee': 1, 'Arthur Agee': 1, 'William Gates': 1, 'Daisuke Katô': 1, 'Kichijir': 1, 'Leslie Daniels': 1, 'Machiko Kyô': 1, 'Masayuki Mori': 1, 'Minoru Chiaki': 1, 'Noriko Honma': 1, 'Takashi Shimura': 1, 'Toshirô Mifune': 2, 'Barbara White': 1, 'Craig Hill': 1, 'Leland Harris': 1, 'Randy Stuart': 1, 'Walter Hampden': 1, 'Anne Baxter': 2, 'Barbara Bates': 1, 'Bette Davis': 1, 'Celeste Holm': 1, 'Gary Merrill': 1, 'George Sanders': 2, 'Gregory Ratoff': 1, 'Hugh Marlowe': 2, 'Anny Nelsen': 1, 'Bernard Largemain': 1, 'Danielle Bassiak': 1, 'Dominique Lacarrière': 1, 'Elen Bober': 1, 'Henri Serre': 1, 'Kate Noelle': 1, 'Marie Dubois': 1, 'Michel Subor': 2, 'Pierre Fabre': 1, 'Sabine Haudepin': 1, 'Serge Rezvani': 1, 'Vanna Urbino': 1, 'Jeanne Moreau': 2, 'Oskar Werner': 1, 'Albert Dekker': 1, 'Bo Hopkins': 2, 'Dub Taylor': 1, 'Jorge Russek': 1, 'Paul Harper': 1, 'Ben Johnson': 2, \"Edmond O'Brien\": 2, 'Emilio Fernández': 1, 'Ernest Borgnine': 1, 'Jaime Sánchez': 1, 'L.Q. Jones': 1, 'Robert Ryan': 1, 'Strother Martin': 3, 'Warren Oates': 3, 'William Holden': 2, 'Alison Whelan': 1, 'Cyril Cusack': 1, 'Declan Croghan': 1, 'Derry Power': 1, 'Eanna MacLiam': 1, 'Fiona Shaw': 1, \"Hugh O'Conor\": 1, 'Kirsten Sheridan': 1, 'Marie Conmee': 1, 'Pat Laffan': 2, 'Phelim Drew': 1, 'Ray McAnally': 1, 'Ruth McCabe': 1, 'Brenda Fricker': 1, 'Daniel Day-Lewis': 7, 'Harold Ayer': 1, 'Harry Belcher': 1, 'Hedwig Bleibtreu': 1, 'Jack Arrow': 1, 'Nelly Arno': 1, 'Alida Valli': 1, 'Bernard Lee': 3, 'Erich Ponto': 1, 'Ernst Deutsch': 1, 'Paul Hörbiger': 1, 'Siegfried Breuer': 1, 'Trevor Howard': 2, 'Wilfrid Hyde-White': 2, 'Frank Berry': 1, 'Glenn Beck': 1, 'Hal Galili': 1, 'Jack Creley': 1, 'James Earl Jones': 3, 'Keenan Wynn': 2, 'Peter Bull': 2, \"Robert O'Neil\": 1, 'Roy Stephens': 1, 'Shane Rimmer': 1, 'Slim Pickens': 1, 'Tracy Reed': 1, 'George C. Scott': 4, 'Peter Sellers': 2, 'Alban Ukaj': 1, 'Edita Malovcic': 1, 'Ermin Bravo': 1, 'Jelena Kordic': 1, 'Juda Goslinga': 1, 'Boris Isakovic': 1, 'Boris Ler': 1, 'Dino Bajrovic': 1, 'Emir Hadzihafizbegovic': 1, 'Izudin Bajrovic': 1, 'Jasna Djuricic': 1, 'Johan Heldenbergh': 1, 'Raymond Thiry': 1, 'Reinout Bussemaker': 1, 'Teun Luijkx': 1, 'Alicia Rhett': 1, 'Ann Rutherford': 1, \"Barbara O'Neil\": 1, 'Butterfly McQueen': 1, 'Evelyn Keyes': 1, 'Everett Brown': 1, 'Fred Crane': 1, 'George Reeves': 1, 'Hattie McDaniel': 1, 'Howard C. Hickman': 1, 'Leslie Howard': 1, 'Oscar Polk': 1, 'Thomas Mitchell': 5, 'Victor Jory': 1, 'Vivien Leigh': 2, 'Adi Carauleanu': 1, 'Alexandru Potocean': 1, 'Cerasela Iosifescu': 1, 'Constantin Bojog': 1, 'Costica Babu': 1, 'Cristina Burbuz': 1, 'Doru Ana': 1, 'Eugenia Bosânceanu': 1, 'Ion Sapdaru': 1, 'Laura Vasiliu': 1, 'Liliana Mocanu': 1, 'Luminita Gheorghiu': 1, 'Marioara Sterian': 1, 'Mihaela Alexandru': 1, 'Monica Alexandrescu': 1, 'Tania Popa': 1, 'Teodor Corban': 1, 'Anamaria Marinca': 1, 'Vlad Ivanov': 2, 'Fletcher Allen': 1, 'Frank Albertson': 2, 'John Anderson': 1, 'John Gavin': 3, 'John McIntire': 1, 'Lurene Tuttle': 1, 'Martin Balsam': 2, 'Patricia Hitchcock': 2, 'Simon Oakland': 1, 'Vaughn Taylor': 1, 'Vera Miles': 3, 'Walter Bacon': 1, 'Anthony Perkins': 1, 'Beatrice Vitoldi': 1, 'Daniil Antonovich': 1, 'Iona Biy-Brodskiy': 1, 'Julia Eisenstein': 1, 'Sergei M. Eisenstein': 1, 'A. Glauberman': 1, 'Aleksandr Antonov': 1, 'Aleksandr Levshin': 1, 'Grigoriy Aleksandrov': 1, 'Ivan Bobrov': 1, 'Konstantin Feldman': 1, 'Mikhail Gomorov': 1, 'N. Poltavtseva': 1, 'Prokhorenko': 1, 'Vladimir Barskiy': 1, 'Dahn Ben Amotz': 1, 'Edna Thomas': 1, 'Marietta Canty': 2, 'Mel Archer': 1, 'Mickey Kuhn': 1, 'Ann Dere': 1, 'Karl Malden': 4, 'Kim Hunter': 1, 'Nick Dennis': 1, 'Peg Hillias': 1, 'Richard Garrick': 1, 'Wright King': 1, 'Beau Gentry': 1, 'Deby Celiz': 1, 'Harrison Ford': 5, 'Jana Bellan': 1, 'Jim Bohan': 1, 'Candy Clark': 2, 'Charles Martin Smith': 1, 'Cindy Williams': 1, 'Mackenzie Phillips': 1, 'Manuel Padilla Jr.': 1, 'Paul Le Mat': 1, 'Richard Dreyfuss': 3, 'Ron Howard': 1, 'Wolfman Jack': 1, 'Hall Johnson': 1, 'Harold Manley': 1, 'James MacDonald': 3, 'Malcolm Hutton': 1, 'Billy Bletcher': 1, 'Eddie Holden': 2, 'Edward Brophy': 2, 'Herman Bing': 1, 'James Baskett': 1, 'Jim Carmichael': 1, 'Noreen Gammill': 1, 'Sterling Holloway': 1, 'Verna Felton': 2, 'Jorge Antonio Guerrero': 1, 'José Luis López Gómez': 1, 'José Manuel Guerrero Mendoza': 1, 'Latin Lover': 1, 'Zarela Lizbeth Chinolla Arellano': 1, 'Andy Cortés': 1, 'Carlos Peralta': 1, 'Daniela Demesa': 1, 'Diego Cortina Autrey': 1, 'Fernando Grediaga': 1, 'Marco Graf': 1, 'Marina de Tavira': 1, 'Nancy García García': 1, 'Verónica García': 1, 'Yalitza Aparicio': 1, 'Hisashi Igawa': 1, 'Kazuo Katô': 1, 'Kenji Kodama': 1, 'Mansai Nomura': 1, 'Masayuki Yui': 1, 'Mieko Harada': 1, 'Norio Matsui': 1, 'Peter': 1, 'Takashi Watanabe': 1, 'Toshiya Ito': 1, 'Yoshiko Miyazaki': 1, 'Akira Terao': 1, 'Daisuke Ryû': 1, 'Jinpachi Nezu': 1, 'Tatsuya Nakadai': 2, 'Charles Arnt': 1, 'Charles Halton': 2, 'Charles Smith': 1, 'Joan Blair': 1, 'Mary Carr': 1, 'Edwin Maxwell': 2, 'Felix Bressart': 1, 'Frank Morgan': 1, 'Inez Courtney': 1, 'Joseph Schildkraut': 1, 'Margaret Sullavan': 1, 'Sara Haden': 1, 'Sarah Edwards': 1, 'William Tracy': 1, 'E.G. Marshall': 1, 'Ed Begley': 1, 'George Voskovec': 1, 'Jack Klugman': 1, 'Jack Warden': 1, 'James Kelly': 1, 'John Fiedler': 1, 'Joseph Sweeney': 1, 'Robert Webber': 1, 'Tom Gorman': 1, 'Henry Fonda': 4, 'Lee J. Cobb': 2, 'Amanda Blattner': 1, 'Anna Baryshnikov': 1, 'Anthony Estrella': 1, 'Ben Hanson': 1, \"Ben O'Brien\": 1, 'Brian Chamberlain': 1, 'C.J. Wilson': 1, 'Casey Affleck': 2, 'Chaunty Spillane': 1, 'Danae Nason': 1, 'Erica McDermott': 2, 'Gretchen Mol': 1, 'Heather Burns': 1, 'Jeffrey Corazzini': 1, 'Josh Hamilton': 3, 'Kara Hayward': 2, 'Kyle Chandler': 5, 'Lewis D. Wheeler': 1, 'Liam McNeill': 1, 'Lucas Hedges': 6, 'Mark Burzenski': 1, 'Mary Mallen': 1, 'Matthew Broderick': 2, 'Michelle Williams': 3, 'Missy Yager': 3, 'Oscar Wahlberg': 1, 'Quincy Tyler Bernstine': 1, 'Richard Donelly': 1, 'Robert Sella': 1, 'Ruibo Qian': 1, 'Stephanie Ann Saunders': 1, 'Stephen Henderson': 3, 'Susan Pourfar': 1, 'Tate Donovan': 1, 'Tom Kemp': 1, 'Virginia Loring Cooke': 1, 'Charles Grodin': 1, \"D'Urville Martin\": 1, 'Elisha Cook Jr.': 3, 'Emmaline Henry': 1, 'Hanna Hertelendy': 1, 'Hope Summers': 1, 'Maurice Evans': 1, 'Patsy Kelly': 1, 'Phil Leeds': 1, 'Ralph Bellamy': 2, 'Ruth Gordon': 1, 'Sidney Blackmer': 1, 'Victoria Vetri': 1, 'John Cassavetes': 1, 'Mia Farrow': 2, 'Charles Drake': 1, 'Chester Gan': 1, 'James Burke': 1, 'John Hamilton': 1, 'Murray Alper': 4, 'Gladys George': 2, 'Jerome Cowan': 2, 'Mary Astor': 2, 'Ward Bond': 6, 'Adepero Oduye': 1, 'Alfre Woodard': 2, 'Ashley Dyke': 1, 'Benedict Cumberbatch': 2, 'Bill Camp': 2, 'Brad Pitt': 4, 'Bryan Batt': 1, 'Cameron Zeigler': 1, 'Chiwetel Ejiofor': 2, 'Chris Chalk': 1, 'Christopher Berry': 1, 'Craig Tate': 1, 'Dickie Gravois': 1, 'Dwight Henry': 1, 'Garret Dillahunt': 4, 'Kelsey Scott': 1, \"Lupita Nyong'o\": 3, 'Marcus Lyle Brown': 1, 'Michael Fassbender': 2, 'Michael K. Williams': 2, 'Mister Mackey Jr.': 1, 'Paul Dano': 2, 'Paul Giamatti': 5, 'Quvenzhané Wallis': 1, 'Ruth Negga': 1, 'Sarah Paulson': 4, 'Scoot McNairy': 1, 'Taran Killam': 1, 'Tom Proctor': 1, 'Tony Bentley': 1, 'Angela Burnett': 2, 'Charles Bracy': 2, 'Chris Terrill': 1, 'Eugene Cherry': 2, 'Henry G. Sanders': 2, 'Homer Jai': 1, 'Jack Drummond': 2, 'Johnny Smoke': 1, 'Kaycee Moore': 2, 'Lawrence Pierott': 1, 'Russell Miles': 1, 'Delores Farley': 1, 'Dorothy Stengel': 1, 'Slim': 1, 'Tobar Mayo': 1, 'Allen Garfield': 1, 'Barbara Harris': 1, 'Henry Gibson': 2, 'Jeff Goldblum': 3, 'Scott Glenn': 4, 'Barbara Baxley': 1, 'David Arkin': 2, 'Geraldine Chaplin': 2, 'Karen Black': 1, 'Keith Carradine': 2, 'Ned Beatty': 2, 'Robert DoQui': 1, 'Ronee Blakley': 1, 'Shelley Duvall': 3, 'Timothy Brown': 1, 'Brian Dennehy': 1, 'Ian Holm': 4, 'Jake Steinfeld': 1, 'James Remar': 1, 'Janeane Garofalo': 2, 'John Ratzenberger': 7, 'Julius Callahan': 1, \"Peter O'Toole\": 1, 'Peter Sohn': 1, 'Teddy Newton': 4, 'Tony Fucile': 1, 'Will Arnett': 1, 'Brad Garrett': 2, 'Lou Romano': 2, 'Patton Oswalt': 1, 'Hye-jin Jang': 2, 'Hyun Seung-min': 2, 'JaeWook Park': 2, 'Jeong Esuz': 2, 'Jeong-eun Lee': 2, 'Ji-hye Lee': 1, 'Ji-rye Lee': 2, 'Jung Hyeon-jun': 2, 'Jung Ik-Han': 2, 'Jung Ziso': 1, 'Kang Echae': 2, 'Keun-rok Park': 1, 'Lee Joo-Hyung': 2, 'Myeong-hoon Park': 2, 'Pak Hyo-Shin': 2, 'Seo Joon Park': 2, 'Seong-Bong Ahn': 1, 'Andreas Fronk': 1, 'Hyae Jin Chang': 1, 'Kang-ho Song': 1, 'Seon-gyun Lee': 1, 'So-dam Park': 1, 'Woo-sik Choi': 1, 'Yeo-Jeong Cho': 1, 'Yeo-jeong Jo': 1, 'Brie-Morgan Appleton': 1, 'Islah Abdur-Rahman': 1, 'Mohammad Amiri': 1, 'Sharon D Clarke': 1, 'Shola Adewusi': 1, 'Afi Okaidja': 1, 'Anastasia Dymitrow': 1, 'Bukky Bakray': 1, \"D'angelou Osei Kissiedu\": 1, 'Kosar Ali': 1, 'Layo-Christina Akinlude': 1, 'Ruby Stokes': 1, 'Sarah Niles': 1, 'Shaneigha-Monik Greyson': 1, 'Tawheda Begum': 1, 'Adelina Poerio': 1, 'Bruno Cattaneo': 1, 'Nicholas Salter': 1, 'Sharon Williams': 1, 'Ann Rye': 1, 'Clelia Matania': 1, 'David Tree': 1, 'Donald Sutherland': 1, 'Giorgio Trestini': 1, 'Hilary Mason': 1, 'Julie Christie': 3, 'Leopoldo Trieste': 1, 'Massimo Serato': 1, 'Renato Scarpa': 1, 'Darryl Hickman': 1, 'Frank Darien': 1, 'Frank Sully': 1, 'Roger Imhof': 1, 'Shirley Mills': 1, 'Charley Grapewin': 1, 'Dorris Bowdon': 1, 'Eddie Quillan': 3, 'Jane Darwell': 2, 'John Carradine': 3, 'O.Z. Whitehead': 1, 'Russell Simpson': 1, 'Zeffie Tilbury': 1, 'Etienne Decroux': 1, 'Fabien Loris': 1, 'Gaston Modot': 1, 'Habib Benglia': 1, 'Jane Marken': 1, 'Louis Florencie': 1, 'Marcel Pérès': 1, 'Marcelle Monthil': 1, 'María Casares': 1, 'Palau': 1, 'Pierre Brasseur': 1, 'Pierre Renoir': 1, 'Rognoni': 1, 'Arletty': 1, 'Jean-Louis Barrault': 1, 'David Carradine': 1, 'Harry Northup': 1, 'Lois Walden': 1, 'Murray Moston': 1, 'Robert Carradine': 1, 'Amy Robinson': 1, 'Cesare Danova': 1, 'David Proval': 1, 'George Memmoli': 1, 'Harvey Keitel': 8, 'Jeannie Bell': 1, 'Lenny Scaletta': 1, 'Richard Romanus': 1, 'Robert De Niro': 8, 'Victor Argo': 3, 'Abdullah Abbas': 1, 'Dora Clement': 1, 'Luis Alberni': 1, 'Mary Akin': 1, 'Norman Ainsley': 1, 'Barbara Stanwyck': 2, 'Charles Coburn': 1, 'Eric Blore': 3, 'Eugene Pallette': 1, 'Janet Beecher': 1, \"Martha O'Driscoll\": 1, 'Melville Cooper': 1, 'Robert Greig': 1, 'William Demarest': 1, 'Amy Warren': 1, 'Basher Savage': 1, 'Ed Harris': 2, 'Eric Michels': 1, 'George Clooney': 2, 'Janis Ahern': 1, 'Orto Ignatiussen': 1, 'Paul Sharma': 1, 'Sandra Bullock': 2, 'Corey Burton': 1, 'Deems Taylor': 1, 'Hugh Douglas': 1, 'Julietta Novis': 1, 'Leopold Stokowski': 1, 'Paul J. Smith': 1, 'Tim Matheson': 1, 'Walt Disney': 1, 'Bunta Sugawara': 1, 'Koba Hayashi': 1, 'Mari Natsuki': 1, 'Noriko Kitou': 1, 'Rumi Hîragi': 1, 'Ryûnosuke Kamiki': 1, 'Shigeru Wakita': 1, 'Shiro Saito': 1, 'Takashi Naitô': 3, 'Takehiko Ono': 1, 'Tatsuya Gashûin': 1, 'Tsunehiko Kamijô': 1, 'Yasuko Sawaguchi': 1, 'Yô Ôizumi': 1, 'Yumi Tamai': 1, 'Miyu Irino': 1, 'Alec Murphy': 1, 'Alvin Epstein': 1, 'Angela Lansbury': 2, 'Bradley Pierce': 1, 'Brian Cummings': 1, 'David Ogden Stiers': 1, 'Jerry Orbach': 1, 'Jesse Corti': 1, 'Jo Anne Worley': 1, 'Mary Kay Bergman': 1, 'Rex Everhart': 1, 'Richard White': 1, 'Tony Jay': 1, \"Paige O'Hara\": 1, 'Robby Benson': 1, 'Alexander James-Blake': 1, 'Frankie Fox': 1, 'Jermaine Freeman': 1, 'Romario Simpson': 1, 'Saffron Coomber': 1, 'Amarah-Jae St. Aubyn': 1, 'Daniel Francis-Swaby': 1, 'Ellis George': 1, 'Francis Lovehall': 1, 'Joshua Viner': 2, 'Kadeem Ramsay': 1, 'Kedar Williams-Stirling': 1, 'Marcus Fraser': 1, 'Micheal Ward': 1, 'Shaniqua Okwok': 1, 'Annie Potts': 2, 'Don Rickles': 3, 'Erik von Detten': 1, 'Jack Angel': 1, 'Jim Varney': 2, 'John Morris': 4, 'Laurie Metcalf': 4, 'Penn Jillette': 1, 'R. Lee Ermey': 1, 'Sarah Freeman': 1, 'Spencer Aste': 1, 'Wallace Shawn': 5, 'Tim Allen': 3, 'Tom Hanks': 4, 'Anne Darling': 1, 'Dwight Frye': 2, 'Mary Gordon': 1, 'O.P. Heggie': 1, 'Reginald Barlow': 1, 'Boris Karloff': 3, 'Colin Clive': 2, 'Douglas Walton': 1, 'E.E. Clive': 2, 'Elsa Lanchester': 3, 'Ernest Thesiger': 1, 'Gavin Gordon': 1, 'Lucien Prival': 1, \"Una O'Connor\": 3, 'Valerie Hobson': 2, 'Adina Porter': 1, 'Alecia Svensen': 1, 'Armie Hammer': 3, 'Brenda Song': 1, 'Bryan Barter': 1, 'Caleb Landry Jones': 5, 'Calvin Dean': 1, 'Cherilyn Wilson': 1, 'Dakota Johnson': 1, 'Denise Grayson': 1, 'Dustin Fitzsimons': 1, 'James Dastoli': 1, 'Jami Owen': 1, 'Jayk Gallagher': 1, 'Joseph Mazzello': 1, 'Malese Jow': 1, 'Marcella Lentz-Pope': 1, 'Max Minghella': 1, 'Patrick Mapel': 2, 'Rashida Jones': 2, 'Robert Dastoli': 1, 'Rooney Mara': 5, 'Scotty Crowe': 1, 'Shelby Young': 1, 'Toby Meuli': 1, 'Trevor Wright': 1, 'Andrew Garfield': 1, 'Jesse Eisenberg': 1, 'Justin Timberlake': 3, 'Elizabeth Aimers': 1, 'Helen Albrecht': 1, 'John Alderson': 1, 'LaWana Backer': 1, 'Mary Alexander': 1, 'Audrey Hepburn': 1, 'Gladys Cooper': 1, 'Isobel Elsom': 1, 'Jeremy Brett': 1, 'John Holland': 1, 'Mona Washbourne': 1, 'Rex Harrison': 1, 'Stanley Holloway': 2, 'Theodore Bikel': 2, 'Adele Haenel': 1, 'Armande Boulanger': 1, 'Cécile Morel': 1, 'Christel Baras': 1, 'Clément Bouyssou': 1, 'Guy Delamarche': 1, 'Luàna Bajrami': 1, 'Michèle Clément': 1, 'Noémie Merlant': 1, 'Valeria Golino': 1, 'Dick Cavett': 2, 'James Baldwin': 1, 'Samuel L. Jackson': 3, 'Shumerria Harris': 1, 'Bob Davis': 1, 'Canned Heat': 1, 'Jimi Hendrix': 1, 'John Sebastian': 1, 'Santana': 1, 'Sly and the Family Stone': 2, 'Arlo Guthrie': 1, 'Country Joe and the Fish': 1, 'Crosby Stills & Nash': 1, 'Joan Baez': 1, 'Joe Cocker': 1, 'Richie Havens': 1, 'Sha-Na-Na': 1, 'Ten Years After': 1, 'The Who': 1, 'Edmund Cobb': 1, 'James Adamson': 2, 'John Berry': 1, 'Kernan Cripps': 1, 'Raymond Chandler': 1, 'Byron Barr': 1, 'Edward G. Robinson': 1, 'Fred MacMurray': 2, 'Jean Heather': 1, 'John Philliber': 1, 'Porter Hall': 3, 'Richard Gaines': 1, 'Tom Powers': 1, 'Purv Pullen': 1, 'Scotty Mattraw': 1, 'Adriana Caselotti': 1, 'Billy Gilbert': 1, 'Eddie Collins': 2, 'Harry Stockwell': 1, 'Lucille La Verne': 1, 'Otis Harlan': 2, 'Pinto Colvig': 1, 'Roy Atwell': 1, 'Barrie Rice': 1, 'Christian Camargo': 1, 'Christopher Sayegh': 1, 'David Morse': 1, 'Evangeline Lilly': 1, 'Feisal Sadoun': 1, 'Guy Pearce': 3, 'Nabil Koni': 1, 'Ralph Fiennes': 7, 'Sam Redford': 1, 'Sam Spruell': 2, 'Suhail Aldabbach': 1, 'Anthony Mackie': 1, 'Brian Geraghty': 1, 'Jeremy Renner': 3, 'Alexander Campbell': 1, 'Brooks West': 1, 'Howard McNear': 1, 'Ken Lynch': 1, \"Arthur O'Connell\": 1, 'Ben Gazzara': 1, 'Eve Arden': 2, 'Kathryn Grant': 1, 'Lee Remick': 1, 'Murray Hamilton': 3, 'Orson Bean': 2, 'Russ Brown': 1, 'Alexander Karim': 1, 'Ali Marhyar': 1, 'Aymen Hamdouchi': 1, 'Callan Mulvey': 1, 'Fares Fares': 1, 'Frank Grillo': 1, 'Harold Perrineau': 1, 'J.J. Kandel': 1, 'James Gandolfini': 1, 'Jason Clarke': 2, 'Jennifer Ehle': 3, 'Jeremy Strong': 1, 'Jessica Collins': 1, 'Lee Asquith-Coe': 1, 'Mark Duplass': 1, 'Mark Valley': 1, 'Mike Colter': 1, 'Nabil Elouahabi': 1, 'Nina Arianda': 1, 'Parker Sawyers': 1, 'Reda Kateb': 2, 'Scott Adkins': 1, 'Senem Temiz': 1, 'Simon Abkarian': 3, 'Stephen Dillane': 1, 'Taylor Kinney': 1, 'Wahab Sheikh': 1, 'Chris Pratt': 4, 'Édgar Ramírez': 2, 'Jessica Chastain': 1, 'Joel Edgerton': 1, 'Mark Strong': 1, 'Catalin Tolontan': 1, 'Mirela Neag': 1, 'Razvan Lutac': 1, 'Tedy Ursuleanu': 1, 'Vlad Voiculescu': 1, 'Ali-Asghar Shahbazi': 1, 'Babak Karimi': 1, 'Hamid Dadju': 1, 'Kimia Hosseini': 1, 'Leila Hatami': 2, \"Marila Zare'i\": 2, 'Mohammad Ebrahimian': 1, 'Mohammadhasan Asghari': 1, 'Peyman Moaadi': 3, 'Sahabanu Zolghadr': 1, 'Sareh Bayat': 2, 'Sarina Farhadi': 1, 'Shahab Hosseini': 2, 'Shirin Azimiyannezhad': 1, 'Shirin Yazdanbakhsh': 1, 'Bob Bergen': 2, 'Donald Fullilove': 2, 'Fred Willard': 1, 'John Cygan': 2, 'Kathy Najimy': 1, 'Lori Alan': 2, 'MacInTalk': 1, 'Paul Eiding': 1, 'Pete Docter': 1, 'Sigourney Weaver': 2, 'Teresa Ganzel': 2, 'Ben Burtt': 1, 'Elissa Knight': 1, 'Jeff Garlin': 1, 'Amy Warner': 1, 'Anita Farmer Bergman': 1, 'Bella Garcia': 1, 'Blanca Camacho': 1, 'Carrie Brownstein': 1, 'Cate Blanchett': 5, 'Chandish Nester': 1, 'Colin Botts': 1, 'Cory Michael Smith': 2, 'Dennis Hensley': 1, 'Douglas Scott Sorenson': 1, 'Giedre Bond': 1, 'Jake Lacy': 3, 'Jayne Houdyshell': 3, 'Jim Dougherty': 3, 'Jim Owens': 1, 'John Magaro': 3, 'Jorge Mardel': 1, 'Ken Strunk': 1, 'Kevin Crowley': 1, 'Kk Heim': 1, 'Liberty Fraysure': 1, 'Linnea Bond': 1, 'Lizzy Leigh': 1, 'Matthew Kallmeyer': 1, 'Michael Haney': 1, 'Michael Loos': 1, 'Misty M. Jump': 1, 'Nathaniel Grauwelman': 1, 'Nik Pajic': 1, 'Philip Krinsky': 1, 'Rileigh McDonald': 1, 'Robert Gerding': 1, 'Ryan Wesley Gilreath': 1, 'Sadie Heim': 1, 'Steven Andrews': 1, 'Trent Rowland': 1, 'William Willet': 2, 'Zander Kaufer': 1, 'Anouk Servera': 1, 'Ariane Labed': 2, 'Athina Rachel Tsangari': 2, 'Charlotte Prior': 1, 'Enrico Focardi': 1, 'Jennifer Prior': 1, 'Julie Delpy': 4, 'Manolis Goussias': 1, 'Panos Koronis': 1, 'Seamus Davey-Fitzpatrick': 2, 'Serafeim Radis': 1, 'Walter Lassally': 2, 'Xenia Kalogeropoulou': 2, 'Yannis Papadopoulos': 1, 'Yiannis Papadopoulos': 1, 'Yota Argyropoulou': 1, 'Alexandre Tharaud': 1, 'Carole Franck': 1, 'Damien Jouillerot': 1, 'Dinara Drukarova': 3, 'Jean-Michel Monroc': 1, 'Laurent Capelluto': 1, 'Ramón Agirre': 1, 'Rita Blanco': 1, 'Suzanne Schmidt': 1, 'Walid Afkir': 1, 'William Shimell': 1, 'Emmanuelle Riva': 1, 'Isabelle Huppert': 4, 'Adam Long': 1, 'Aneurin Barnard': 2, 'Barry Keoghan': 2, 'Billy Howle': 1, 'Bobby Lockwood': 1, 'Bradley Hall': 1, 'Brian Vernel': 1, 'Charley Palmer Merkell': 1, 'Cillian Murphy': 1, 'Constantin Balsan': 1, 'Damien Bonnard': 2, 'Elliott Tittensor': 1, 'Fionn Whitehead': 2, 'Jack Gover': 1, 'Jack Lowden': 2, 'James Bloor': 2, \"James D'Arcy\": 1, 'Jochum ten Haaf': 1, 'Kenneth Branagh': 1, 'Kevin Guthrie': 1, 'Lee Armstrong': 2, 'Luke Thompson': 1, 'Mark Rylance': 2, 'Michael Fox': 1, 'Michel Biel': 1, 'Mikey Collins': 1, 'Miranda Nolan': 1, 'Paul Riley Fox': 1, 'Richard Sanderson': 1, 'Tom Glynn-Carney': 2, 'Tom Hardy': 4, 'Will Attenborough': 1, 'Harry Styles': 1, 'Gladys Knight & The Pips': 1, 'Mavis Staples': 1, 'The 5th Dimension': 1, 'The Chambers Brothers': 1, 'Abbey Lincoln': 1, 'B.B. King': 1, 'David Ruffin': 1, 'Jesse Jackson': 1, 'Mahalia Jackson': 1, 'Max Roach': 1, 'Moms Mabley': 1, 'Nina Simone': 1, 'Sal Masekela': 1, 'Stevie Wonder': 1, 'Carleton Young': 1, 'Denver Pyle': 1, 'Willis Bouchey': 1, 'Woody Strode': 2, 'Andy Devine': 2, 'Jeanette Nolan': 1, 'John Wayne': 4, 'Ken Murray': 1, 'Lee Marvin': 2, 'Antonio Moreno': 1, 'Beulah Archuletta': 2, 'Dorothy Jordan': 1, 'Hank Worden': 1, 'Walter Coy': 1, 'Harry Carey Jr.': 2, 'Henry Brandon': 2, 'Jeffrey Hunter': 1, 'Ken Curtis': 1, 'Natalie Wood': 3, 'Olive Carey': 1, 'Camille Ucan': 1, 'Charles Booth': 1, 'Charlotte Rampling': 2, 'David Sibley': 1, 'Dolly Wells': 3, 'Geraldine James': 1, 'Hannah Chalmers': 1, 'Kevin Matadeen': 1, 'Lucy Temple': 1, 'Martin Atkinson': 1, 'Max Rudd': 1, 'Michelle Finch': 1, 'Paul Goldsmith': 1, 'Peter Dean Jackson': 1, 'Rachel Banham': 1, 'Richard Cunningham': 1, 'Rufus Wright': 1, 'Sam Alexander': 1, 'Tom Courtenay': 2, 'Albert Brooks': 3, 'Brenda Dickson': 1, 'Copper Cunningham': 1, 'Diahnne Abbott': 2, 'Frank Adu': 2, 'Garth Avery': 2, 'Gino Ardito': 2, 'Harry Cohn': 1, 'Harry Fischler': 1, 'Leonard Harris': 1, 'Nat Grant': 1, 'Peter Boyle': 3, 'Cybill Shepherd': 2, 'Jodie Foster': 1, 'Amanda Plummer': 1, 'Duane Whitaker': 1, 'Eric Stoltz': 3, 'Frank Whaley': 1, 'Maria de Medeiros': 1, 'Paul Calderon': 1, 'Peter Greene': 1, 'Phil LaMarr': 1, 'Rosanna Arquette': 2, 'Tim Roth': 1, 'Uma Thurman': 1, 'Ving Rhames': 1, 'Bruce Willis': 1, 'John Travolta': 2, 'Albert Paulsen': 1, 'Barry Kelley': 2, 'Douglas Henderson': 1, 'Henry Silva': 1, 'James Edwards': 3, 'James Gregory': 1, 'John McGiver': 1, 'Khigh Dhiegh': 1, 'Leslie Parrish': 1, 'Lloyd Corrigan': 1, 'Madame Spivy': 1, 'Frank Sinatra': 1, 'Laurence Harvey': 2, 'Alice Orr-Ewing': 1, 'Amy Dawson': 2, 'Billy Holland': 1, 'Dorothy Atkinson': 2, 'Fenella Woolgar': 1, 'Fred Pearson': 1, 'James Fleet': 2, 'James Norton': 2, 'Jamie Thomas King': 1, 'John Duggan': 1, 'John Warman': 1, 'Joshua McGuire': 1, 'Julian Seager': 1, 'Karl Johnson': 2, 'Katherine Denkinson': 1, 'Lasco Atkins': 1, 'Lee Ingleby': 1, 'Leo Bill': 1, 'Lesley Manville': 6, 'Marion Bailey': 2, 'Mark Stanley': 1, 'Mark Wingett': 1, 'Martin Savage': 2, 'Niall Buggy': 1, 'Oliver Maltman': 1, 'Paul Jesson': 2, 'Peter Wight': 1, 'Richard Bremmer': 1, 'Richard Dixon': 1, 'Robert Portal': 1, 'Roger Ashton-Griffiths': 3, 'Ruby Bentall': 1, 'Ruth Sheen': 2, 'Sandy Foster': 2, 'Sinead Matthews': 1, 'Stuart Matthews': 1, 'Sylvestra Le Touzel': 3, 'Timothy Spall': 7, 'Tom Edden': 1, 'Tom Wlaschiha': 1, 'Aleksa Palladino': 2, 'Aly Mang': 1, 'Dascha Polanco': 2, 'Domenick Lombardozzi': 1, 'Gary Basaraba': 1, 'India Ennenga': 1, 'Jack Huston': 3, 'Jake Hoffman': 2, 'Jesse Plemons': 2, 'Joseph Russo': 1, 'Kathrine Narducci': 2, 'Paul Ben-Victor': 1, 'Paul Herman': 2, 'Ray Romano': 2, 'Sebastian Maniscalco': 2, 'Sharon Pfeiffer': 1, 'Stephanie Kurtzuba': 2, 'Steve Van Zandt': 2, 'Anna Paquin': 3, 'Bobby Cannavale': 1, 'Joe Pesci': 3, 'Stephen Graham': 1, 'Adam Gibbs': 1, 'Amy Jones': 1, 'Crispin Freeman': 1, 'Dan Green': 1, 'Susan O. Koozin': 1, 'Akemi Yamaguchi': 1, 'Ayano Shiraishi': 1, 'Justin Doran': 1, 'Luci Christian': 1, 'Marcy Bannor': 1, 'Shannon Conley': 1, 'Shelley Calene-Black': 1, 'Tadashi Nakamura': 1, 'Tsutomu Tatsumi': 1, 'Yoshiko Shinohara': 1, 'Eva Truffaut': 1, 'Gitt Magrini': 1, 'Jean-François Stévenin': 1, 'Laura Truffaut': 1, 'Robert Cambourakis': 1, 'Annie Miller': 1, 'Claude Miller': 1, 'François Truffaut': 2, 'Françoise Seigner': 1, 'Jean Dasté': 1, 'Jean Gruault': 1, 'Jean-Pierre Cargol': 1, 'Mathieu Schiffman': 1, 'Nathan Miller': 1, 'Paul Villé': 1, 'Alexander Hamilton': 1, 'Aretha Franklin': 1, 'Bernard Pretty Purdie': 1, 'Bernard Purdie': 1, 'C.L. Franklin': 1, 'Charlie Watts': 1, 'Chuck Rainey': 1, 'Clara Ward': 1, 'Mick Jagger': 1, 'Reverand James Cleveland': 1, 'Sydney Pollack': 2, 'Bill Bates': 1, 'Clarence Muse': 1, 'Estelle Jewell': 1, 'Janet Shaw': 1, 'Virginia Brissac': 2, 'Charles Bates': 1, 'Edna May Wonacott': 1, 'Henry Travers': 3, 'Hume Cronyn': 1, 'Irving Bacon': 3, 'Macdonald Carey': 1, 'Patricia Collinge': 1, 'Teresa Wright': 2, 'Wallace Ford': 1, 'Amy Poehler': 2, 'Bill Hader': 3, 'Bobby Moynihan': 1, 'Carlos Alazraqui': 1, 'Danny Mann': 2, 'Dave Goelz': 1, 'Diane Lane': 1, 'Flea': 1, 'Frank Oz': 1, 'Jess Harnell': 2, 'Josh Cooley': 2, 'Kaitlyn Dias': 1, 'Kyle MacLachlan': 1, 'Laraine Newman': 1, 'Lewis Black': 3, 'Mindy Kaling': 2, 'Paris Van Dyke': 1, 'Paula Pell': 1, 'Paula Poundstone': 1, 'Phyllis Smith': 2, 'Richard Kind': 1, 'Sherry Lynn': 1, 'Alysia Reiner': 1, 'Jessica Hecht': 1, 'Joe Marinelli': 1, 'M.C. Gainey': 1, 'Marylouise Burke': 1, 'Missy Doty': 2, 'Patrick Gallagher': 1, 'Robert Covarrubias': 1, 'Shake Tukhmanyan': 1, 'Shaun Duke': 1, 'Stephanie Faracy': 1, 'Sandra Oh': 1, 'Thomas Haden Church': 1, 'Virginia Madsen': 1, 'Andrzej Seweryn': 1, 'Béatrice Macola': 1, 'Ben Kingsley': 2, 'Caroline Goodall': 1, 'Embeth Davidtz': 1, 'Friedrich von Thun': 1, 'Harry Nehring': 1, 'Jonathan Sagall': 1, 'Krzysztof Luft': 1, 'Malgoscha Gebel': 1, 'Mark Ivanir': 1, 'Norbert Weisser': 1, 'Shmuel Levy': 1, 'Liam Neeson': 1, 'Chill Wills': 1, 'Joan Carroll': 1, 'Robert Sully': 1, 'Sidney Barnes': 1, 'Harry Davenport': 2, 'Henry H. Daniels Jr.': 1, 'Judy Garland': 2, 'June Lockhart': 1, 'Leon Ames': 1, 'Lucille Bremer': 1, \"Margaret O'Brien\": 1, 'Marjorie Main': 1, 'Tom Drake': 1, 'David White': 1, 'Dorothy Abbott': 1, 'Edie Adams': 1, 'Joyce Jameson': 1, 'Willard Waterman': 1, 'David Lewis': 1, 'Hope Holiday': 1, 'Jack Kruschen': 1, 'Johnny Seven': 1, 'Naomi Stevens': 1, 'Ray Walston': 1, 'Shirley MacLaine': 1, 'Albert Hall': 2, 'Bo Byers': 2, 'Dennis Hopper': 4, 'Frederic Forrest': 2, 'G.D. Spradlin': 3, 'James Keane': 2, 'Jerry Ziesmer': 2, 'Kerry Rossall': 2, 'Laurence Fishburne': 3, 'Sam Bottoms': 3, 'Martin Sheen': 3, 'C.E. Anderson': 1, 'Carl Andre': 1, 'Victor Adamson': 1, 'Anthony Ross': 1, 'Gregory Peck': 2, 'Helen Westcott': 1, 'Jean Parker': 2, 'Richard Jaeckel': 1, 'Skip Homeier': 1, 'Bobbi Campbell': 1, 'Cleve Jones': 1, 'Daniel Goldstein': 1, 'Ed Wolf': 1, 'Eileen Glutzer': 1, 'Guy Clark': 2, 'Paul Boneberg': 1, 'Andy Buckley': 2, 'Bayne Gibby': 1, 'Beanie Feldstein': 2, 'Christina Offley': 1, 'Daniel Zovatto': 1, 'Danielle Macdonald': 2, 'Jake McDorman': 2, 'John Karna': 1, 'Jordan Rodrigues': 2, 'Kathryn Newton': 4, 'Kristen Cloke': 2, 'Laura Marano': 2, 'Lois Smith': 2, 'Marielle Scott': 1, 'Tracy Letts': 4, 'Odeya Rush': 1, 'Saoirse Ronan': 6, 'Timoth': 4, 'Alan Webb': 1, 'Fernando Rey': 1, 'Jeremy Rowe': 1, 'Keith Baxter': 1, 'Keith Pyott': 1, 'Andrés Mejuto': 1, 'John Gielgud': 2, 'Julio Peña': 1, 'Margaret Rutherford': 1, 'Marina Vlady': 1, 'Michael Aldridge': 1, 'Tony Beckley': 1, 'Walter Chiari': 1, 'Alexandra Astin': 1, 'Alistair Browning': 1, 'Bernard Hill': 2, 'Billy Boyd': 3, 'David Aston': 1, 'Ian McKellen': 3, 'Jason Fitch': 1, 'John Bach': 2, 'Marton Csokas': 2, 'Noel Appleby': 2, 'Orlando Bloom': 4, 'Richard Edge': 1, 'Sadwyn Brophy': 1, 'Sean Astin': 3, 'Sean Bean': 3, 'Andy Serkis': 5, 'Ahmad Kaabour': 1, 'Alejandro Arroyo': 1, 'Alexander Scheer': 1, 'Aljoscha Stadelmann': 1, 'Antoine Balabane': 1, 'Christoph Bach': 1, 'Fadi Abi Samra': 1, 'Fadi Yanni Turk': 1, 'Juana Acosta': 1, 'Julia Hummer': 1, 'Karam Ghossein': 1, 'Lamia Ahmed': 1, 'Liane Sellerer': 1, 'Nora von Waldstätten': 1, 'Philippe Tran': 1, 'Rami Farah': 1, 'Rodney El Haddad': 1, 'Talal El-Jordi': 1, 'Zeid Hamdan': 1, 'Albert Jones': 2, 'Annie Hamilton': 1, 'Ayden Mayeri': 2, 'Azhy Robertson': 2, 'Brooke Bloom': 2, 'Jasmine Cephas Jones': 2, 'Julie Hagerty': 2, 'Kyle Bornheimer': 2, \"Mark O'Brien\": 2, 'Martha Kelly': 1, 'Mary Hollis Inboden': 2, 'Mary Wiseman': 1, 'Matthew Maher': 2, 'Mickey Sumner': 2, 'Motell Gyn Foster': 1, 'Pete Simpson': 1, 'Raymond J. Lee': 1, 'Robert Smigel': 2, 'Adam Driver': 5, 'Alan Alda': 1, 'David Turner': 1, 'Eric Berryman': 1, 'Gideon Glick': 1, 'Julia Greer': 1, 'Laura Dern': 3, 'Merritt Wever': 2, 'Ray Liotta': 2, 'Scarlett Johansson': 5, 'Amanda Fields': 3, 'Amiée Conn': 1, 'Ana Flavia Gavlak': 1, 'Andres Perez-Molina': 1, 'Ashley Caple': 1, 'Callie Hernandez': 1, 'Cameron Brinkman': 1, 'Candice Coke': 1, 'Christopher Aber': 1, 'Cinda Adams': 1, 'Claudine Claudio': 1, 'D.A. Wallach': 1, 'Emma Stone': 5, 'Finn Wittrock': 3, 'Hemky Madera': 1, 'J.K. Simmons': 4, 'Jason Fuchs': 1, 'Jessica Rothe': 1, 'John Legend': 1, 'Jordan Ray Fox': 1, 'Josh Pence': 1, 'Kaye L. Morris': 1, 'Kc Monnie': 1, 'Kiff VandenHeuvel': 1, 'Kristin Slaysman': 1, 'Margaret Newborn': 1, 'Meagen Fay': 1, 'Miles Anderson': 1, 'Morgan Larson': 1, 'Nilla Watkins': 1, 'Phillip E. Walker': 1, 'Rosemarie DeWitt': 2, 'Ryan Gosling': 2, 'Sandra Rosko': 1, 'Shannon Klein': 1, 'Shannon Leann': 1, 'Sonoya Mizuno': 1, 'Terry Walters': 1, 'Thom Shelton': 1, 'Tom Everett Scott': 1, 'Trevor Lissauer': 1, 'Zoë Hall': 1, 'Clemens Van Dungern': 1, 'Laurent Levesque': 2, 'Morgane Riou': 1, 'Nathalie Maurouard': 1, 'Nathalie Schleehauf': 1, 'Patricia Mercier': 1, 'Pony-Soleil-Air-Sauvage-Nature': 1, 'Agnès Varda': 1, 'Amaury Bossy': 1, 'Claude Ferchal': 1, 'Claude Flaert': 1, 'J.R.': 1, 'Jean-Luc Godard': 2, 'Jean-Paul Beaujon': 1, 'Jeannine Carpentier': 1, 'JR': 1, 'Marie Douvet': 1, 'Vincent Gils': 1, 'Yves Boulen': 1, 'Chen Chang': 1, 'De Ming Wang': 1, 'Fa Zeng Li': 1, 'Jin Ting Zhang': 1, 'Kai Li': 1, 'Li Li': 1, 'Pei-pei Cheng': 1, 'Rei Yang': 1, 'Sihung Lung': 1, 'Su Ying Huang': 1, 'Xian Gao': 1, 'Yan Hai': 1, 'Michelle Yeoh': 1, 'Yun-Fat Chow': 1, 'Ziyi Zhang': 2, 'Annette Webb': 1, 'Annette Wells': 1, 'Bob Wells': 2, 'Brandy Wilber': 1, 'Karie Lynn McDermott Wilder': 2, 'Makenzie Etcheverry': 1, 'Rachel Bannon': 1, 'Angela Reyes': 1, 'Carl R. Hughes': 1, 'David Strathairn': 3, 'Douglas G. Soul': 1, 'Frances McDormand': 4, 'Gay DeForest': 1, 'Linda May': 1, 'Patricia Grier': 1, 'Ryan Aquino': 1, 'Swankie': 1, 'Teresa Buchanan': 1, 'Alun Owen': 1, 'Ann Firbank': 1, 'Brian Phelan': 1, 'Derek Tansley': 1, 'Doris Knox': 1, 'Harold Pinter': 1, 'Hazel Terry': 1, 'Jill Melford': 1, 'Patrick Magee': 2, 'Richard Vernon': 1, 'Dirk Bogarde': 1, 'James Fox': 2, 'Sarah Miles': 1, 'Wendy Craig': 1, 'Amira Casar': 2, 'Andre Aciman': 1, 'Antonio Rimoldi': 2, 'Elena Bucci': 2, 'Esther Garrel': 2, 'Marco Sgrosso': 2, 'Michael Stuhlbarg': 5, 'Peter Spears': 1, 'Vanda Capriolo': 2, 'Victoire Du Bois': 2, 'Xhuliano Ujka': 1, 'Harry A. Bailey': 1, 'Jack Baxley': 1, 'Olive Ball': 1, 'William Blees': 1, 'Dolores Costello': 1, 'Edwin August': 1, 'Richard Bennett': 1, 'Alan Pottinger': 1, 'Annabella Sciorra': 1, 'Christine Baranski': 1, 'Christine Dunford': 1, 'Felicity Huffman': 1, 'Fisher Stevens': 1, 'Jack Gilpin': 1, 'Johann Carlo': 2, 'Keith Reddin': 1, 'Mano Singh': 1, 'Ron Silver': 1, 'Stephen Mailer': 1, 'Uta Hagen': 1, 'Glenn Close': 1, 'Jeremy Irons': 2, 'David Byrne': 2, 'Aju Makita': 1, 'Akira Emoto': 3, 'Chizuru Ikewaki': 2, 'Hajime Inoue': 1, 'Izumi Matsuoka': 1, 'Jyo Kairi': 2, 'Katsuya Maiguma': 1, 'Kazuaki Shimizu': 2, 'Kengo Kôra': 3, 'Miyu Sasaki': 2, 'Naoto Ogata': 1, 'Yôko Moriguchi': 2, 'Yûki Yamada': 2, 'Daisuke Kuroda': 1, 'Kirin Kiki': 2, 'Lily Franky': 1, 'Mayu Matsuoka': 1, 'Moemi Katayama': 1, 'Sakura Andô': 1, 'Sôsuke Ikematsu': 1, 'Ada Lichtman': 1, 'Claude Lanzmann': 1, 'Hanna Marton': 1, 'Paula Biren': 1, 'Ruth Elias': 1, 'Charles Bennett': 1, 'Ivor Barnard': 2, 'Jerry Verno': 1, 'Noel Birkin': 1, 'Peggy Simpson': 1, 'Frank Cellier': 1, 'Godfrey Tearle': 1, 'Gus McNaughton': 1, 'Helen Haye': 1, 'John Laurie': 2, 'Lucie Mannheim': 1, 'Madeleine Carroll': 1, 'Peggy Ashcroft': 1, 'Robert Donat': 1, 'Wylie Watson': 1, 'Charles Middleton': 1, 'Edgar Kennedy': 1, 'Edward Arnold': 1, 'Sidney Bracey': 1, 'Wade Boteler': 1, 'Chico Marx': 1, 'Edmund Breese': 1, 'Groucho Marx': 1, 'Harpo Marx': 1, 'Margaret Dumont': 1, 'Raquel Torres': 1, 'The Marx Brothers': 1, 'Zeppo Marx': 1, 'Florès Cardo': 1, 'Gabrielle Sanz': 1, 'Guylène Péan': 1, 'Josée Schuller': 1, 'Joséphine Sanz': 1, 'Margot Abascal': 1, 'Nina Meurisse': 1, 'Stéphane Varupenne': 1, 'Bob Wilson': 1, 'Doug Kershaw': 1, 'Frenchie Lemond': 1, 'Gene Bell': 1, 'Jackie Shultis': 1, 'Linda Manz': 1, 'Muriel Jolliffe': 1, 'Richard Libertini': 1, 'Robert J. Wilke': 2, 'Sahbra Markus': 1, 'Sam Shepard': 2, 'Stuart Margolin': 1, 'Timothy Scott': 1, 'Brooke Adams': 1, 'Richard Gere': 1, 'Alexandru Papadopol': 1, 'Anna Maria Bergold': 1, 'Hadewych Minis': 1, 'Ingrid Bisu': 1, 'Ingrid Burkhard': 1, 'Ioan Brancu': 1, 'Jürg Löw': 1, 'Lucy Russell': 1, 'Manuela Ciucur': 1, 'Michael Wittenborn': 1, 'Nicolas Wackerbarth': 1, 'Niels Bormann': 1, 'Peter Simonischek': 2, 'Radu Banzaru': 1, 'Ruth Reinecke': 1, 'Sandra Hüller': 2, 'Thomas Loibl': 1, 'Trystan Pütter': 3, 'Victoria Cocias': 1, 'Victoria Malektorovych': 1, 'Adriene Lin': 1, 'An-an Hsu': 1, 'Chuan-cheng Tao': 1, 'Elaine Jin': 1, 'Hsi-Sheng Chen': 1, 'Hsin-Yi Tseng': 1, 'Issei Ogata': 1, 'Jonathan Chang': 1, 'Kelly Lee': 1, 'Pang Chang Yu': 1, 'Ru-Yun Tang': 1, 'Shu-shen Hsiao': 1, 'Shu-Yuan Hsu': 1, 'Su-Yun Ko': 1, 'Yiwen Chen': 1, 'Yung-Feng Lee': 1, 'Nien-Jen Wu': 1, 'Antony Holland': 1, 'Hugh Millais': 1, 'Jace Van Der Veen': 1, 'Jackie Crossland': 1, 'Manfred Schulz': 1, 'Bert Remsen': 1, 'Corey Fischer': 1, 'John Schuck': 1, 'Michael Murphy': 1, 'René Auberjonois': 3, 'Warren Beatty': 1, 'William Devane': 1, 'Dorothy Adams': 2, 'Minna Gombell': 2, 'Steve Cochran': 1, 'Walter Baldwin': 1, \"Cathy O'Donnell\": 1, 'Dana Andrews': 1, 'Fredric March': 1, 'Harold Russell': 1, 'Hoagy Carmichael': 2, 'Myrna Loy': 2, 'Roman Bohnen': 2, 'Virginia Mayo': 1, 'Chief John Big Tree': 1, 'Dorothy Appleby': 1, 'Frank Baker': 1, 'Ted Billings': 3, 'Tom Tyler': 1, 'Berton Churchill': 1, 'Claire Trevor': 1, 'Donald Meek': 3, 'George Bancroft': 1, 'Louise Platt': 1, 'Alex Karpovsky': 1, 'Antonio E. Moreno': 1, 'Bradley Mott': 1, 'Carey Mulligan': 2, 'Ethan Phillips': 1, 'F. Murray Abraham': 3, 'Frank Ridley': 1, 'Garrett Hedlund': 2, 'Genevieve Adams': 1, 'Helen Hong': 1, 'Jake Ryan': 2, 'James Colby': 1, 'Jeanine Serralles': 1, 'Jerry Grayson': 1, 'Joel Brody': 1, 'John Goodman': 3, 'Max Casella': 1, 'Mike Houston': 1, 'Oscar Isaac': 3, 'Ricardo Cordero': 1, 'Robin Bartlett': 1, 'Stark Sands': 1, 'Barry Del Sherman': 1, 'Coco Leigh': 1, 'Dillon Freasier': 1, 'Erica Sullivan': 1, 'Harrison Taylor': 1, 'Jacob Stringer': 1, 'Jim Meskimen': 1, 'Joseph Mussey': 1, 'Kevin Breznahan': 2, 'Martin Stringer': 1, 'Matthew Braden Stringer': 1, 'Paul F. Tompkins': 1, 'Randall Carver': 1, 'Stockton Taylor': 1, 'Alan Vint': 2, 'Ben Bravo': 1, 'Bryan Montgomery': 1, 'Charles Fitzpatrick': 1, 'Dona Baldwin': 1, 'Emilio Estevez': 1, 'Gail Threlkeld': 1, 'Gary Littlejohn': 1, 'Howard Ragsdale': 1, 'John Carter': 1, 'John Womack Jr.': 1, 'Ramon Bieri': 1, 'Sissy Spacek': 1, 'Barc Doyle': 1, 'Bill Thurman': 1, 'Jessie Lee Fulton': 1, 'Joe Heathcock': 1, 'Randy Quaid': 3, 'Cloris Leachman': 1, 'Clu Gulager': 1, 'Eileen Brennan': 1, 'Ellen Burstyn': 2, 'Jeff Bridges': 3, 'Sharon Ullrick': 1, 'Timothy Bottoms': 1, 'Bill Nunn': 1, 'Frankie Faison': 1, 'Giancarlo Esposito': 1, 'John Savage': 1, 'John Turturro': 3, 'Joie Lee': 1, 'Miguel Sandoval': 1, 'Paul Benjamin': 1, 'Richard Edson': 1, 'Rick Aiello': 1, 'Robin Harris': 1, 'Spike Lee': 1, 'Danny Aiello': 1, 'Ossie Davis': 1, 'Ruby Dee': 1, 'Aladdin Ullah': 1, 'Annette Hanshaw': 1, 'Aseem Chhabra': 1, 'Bhavana Nagulapally': 1, 'Debargo Sanyal': 1, 'Deepti Gupta': 1, 'Manish Acharya': 1, 'Nina Paley': 1, 'Nitya Vidyasagar': 1, 'Pooja Kumar': 1, 'Reena Shah': 1, 'Sanjiv Jhaveri': 1, 'Bill Gazzarri': 1, 'Fear': 1, 'Frank Gargani': 1, 'John Doe': 1, 'Lorna Doom': 1, 'Alice Bag': 1, 'Alice Bag Band': 1, 'Black Flag': 1, 'Circle Jerks': 1, 'Claude Bessy': 1, 'Darby Crash': 1, 'Dinah Cancer': 1, 'Don Bolles': 1, 'Exene Cervenka': 1, 'Philo Cramer': 1, 'Frank Balderrama': 1, 'Fred Aldrich': 2, 'Malcolm Atterbury': 2, 'Sheb Wooley': 2, 'Angie Dickinson': 2, 'Claude Akins': 1, 'Dean Martin': 1, 'Estelita Rodriguez': 1, 'John Russell': 1, 'Pedro Gonzalez Gonzalez': 1, 'Ricky Nelson': 1, 'Walter Brennan': 3, 'Connie Chung': 1, 'Donald F. Cerio': 1, 'John W. Graham': 1, 'Maynard A. Cosnett': 1, 'Robert J. Killough': 1, 'Dave Goff': 1, 'Delbert Ward': 1, 'Harry Thurston': 1, 'John Teeple': 1, 'Joseph F. Loszynski': 1, 'Ken Elmer': 1, 'Lyman Ward': 1, 'Ralph A. Cognetti': 1, 'Roscoe Ward': 1, 'Walt Geisler': 1, 'Aline Kominsky': 1, 'Beatrice Crumb': 1, 'Bill Griffith': 1, 'Charles Crumb': 1, 'Dana Morgan': 1, 'Deirdre English': 1, 'Don Donahue': 1, 'Kathy Goodell': 1, 'Martin Müller': 1, 'Maxon Crumb': 1, 'Peggy Orenstein': 1, 'Robert Hughes': 1, 'Spain Rodriguez': 1, 'Trina Robbins': 1, 'Robert Crumb': 1, 'Billy Crudup': 2, \"Brian d'Arcy James\": 1, 'Christopher Gallagher': 1, 'Dallas Peplow': 1, 'Doug Murray': 1, 'Duane Murray': 1, 'Elena Juatco': 1, 'Elena Wohl': 1, 'Faith Fay': 1, 'Gary Galone': 1, 'Gene Amoroso': 1, 'Jamey Sheridan': 1, 'John Slattery': 2, 'Lana Antonova': 1, 'Len Cariou': 1, 'Liev Schreiber': 4, 'London Hall': 1, 'Mark Ruffalo': 3, 'Michael Cyril Creighton': 3, 'Michael Keaton': 5, 'Neal Huff': 1, 'Paul Guilfoyle': 3, 'Rachel McAdams': 2, 'Rob deLeeuw': 1, 'Robert B. Kennedy': 1, 'Sharon McFarlane': 1, 'Shawn Contois': 1, 'Stanley Tucci': 2, 'Stefanie Drummond': 1, 'Zarrin Darnell-Martin': 2, 'Barbara Bailey': 1, 'Brandon Beach': 1, 'Ernest Anderson': 1, 'Lysa Baugher': 1, 'Patsy Bangs': 1, 'Fred Astaire': 3, 'India Adams': 1, 'Jack Buchanan': 1, 'James Mitchell': 1, 'Nanette Fabray': 1, 'Oscar Levant': 1, 'Richard Alexander': 2, 'Robert Gist': 2, 'Nick Cave': 1, 'Nick Cave & the Bad Seeds': 1, 'Nick Cave & The Bad Seeds': 1, 'Warren Ellis': 1, 'Anne Consigny': 3, 'Fiorella Campanella': 1, 'Gérard Watkins': 1, 'Isaach De Bankolé': 2, 'Jean-Pierre Cassel': 1, 'Marina Hands': 1, 'Max von Sydow': 5, 'Niels Arestrup': 2, 'Olatz López Garmendia': 1, 'Patrick Chesnais': 1, 'Talina Boyaci': 1, 'Théo Sampaio': 1, 'Emmanuelle Seigner': 1, 'Marie-Josée Croze': 1, 'Mathieu Amalric': 4, 'Beatrice Maude': 1, 'Bobby Clark': 1, 'Eileen Stevens': 1, 'Guy Way': 1, 'Jean Andren': 1, 'Carolyn Jones': 1, 'Dana Wynter': 1, 'Jean Willes': 1, 'Kenneth Patterson': 1, 'Kevin McCarthy': 1, 'King Donovan': 1, 'Larry Gates': 1, 'Ralph Dumke': 1, 'Tom Fadden': 1, 'Virginia Christine': 1, 'Agame Malembo-Emene': 1, 'Angélica Sancio': 1, 'Arthur Fogel': 1, 'Boubacar Toure': 1, 'Burak Özyilmaz': 1, 'Carl Nanor': 1, 'Cherif Bounaïdja Rachedi': 1, 'Dalla Doucoure': 1, 'Damien Gomes': 1, 'Esmeralda Ouertani': 1, 'Eva Paradiso': 1, 'Henriette Kasaruhanda': 1, 'Juliette Demaille': 1, 'Justine Wu': 1, 'François Bégaudeau': 1, 'Bob Orwig': 1, 'Chris Pedersen': 1, 'Corey Glover': 1, 'Corkey Ford': 1, 'David Neidorf': 1, 'Forest Whitaker': 4, 'Francesco Quinn': 1, 'John C. McGinley': 1, 'Johnny Depp': 1, 'Keith David': 1, 'Kevin Dillon': 1, 'Mark Moses': 1, 'Reggie Johnson': 1, 'Tom Berenger': 1, 'Willem Dafoe': 7, 'Adèle Ado': 1, 'Alex Descas': 1, 'Cheikh Toure': 1, 'David Saada': 1, 'Djédjé Apali': 1, 'Eriq Ebouaney': 1, 'Grégoire Colin': 2, 'Ingrid Caven': 1, 'Jean-Christophe Folly': 1, 'Julieth Mars Toussaint': 1, 'Mario Canonge': 1, 'Mary Pie': 1, 'Mati Diop': 1, 'Nicole Dogue': 1, 'Stéphane Pocrain': 1, 'Bruce Glover': 1, 'Darrell Zwerling': 1, 'Diane Ladd': 1, 'James Hong': 1, \"James O'Rear\": 1, 'Joe Mantell': 2, 'John Hillerman': 1, 'Nandu Hinds': 1, 'Perry Lopez': 1, 'Richard Bakalyan': 1, 'Roman Polanski': 1, 'Roy Jenson': 1, 'Faye Dunaway': 1, 'Jack Nicholson': 2, 'John Huston': 1, 'Bria Vinaite': 2, 'Bronwyn Valley': 1, 'Brooklynn Prince': 2, 'Carl Bradfield': 1, 'Christopher Rivera': 2, 'Gary B. Gross': 1, 'Jason Blackwater': 2, 'Jim Coleman': 1, 'Jim R. Coleman': 1, 'Karren Karagulian': 2, 'Kelly Fitzgerald': 1, 'Krystal Nicole Watts': 1, 'Macon Blair': 2, 'Mela Murder': 1, 'Rosa Medina Perez': 1, 'Sabina Friedman-Seitz': 1, 'Sandy Kane': 2, 'Valeria Cotto': 2, 'Aiden Malik': 1, 'Edward Pagan': 1, 'Jasineia Ramos': 1, 'Josie Olivo': 1, 'Patti Wiley': 1, 'Abel Jafri': 2, 'Adel Mahmoud Cherif': 1, 'Cheik A.G. Emakni': 1, 'Fatoumata Diawara': 1, 'Hichem Yacoubi': 2, 'Ibrahim Ahmed': 2, 'Kettly Noël': 1, 'Layla Walet Mohamed': 2, 'Mamby Kamissoko': 1, 'Mehdi A.G. Mohamed': 2, 'Pino Desperado': 1, 'Salem Dendou': 1, 'Toulou Kiki': 2, 'Weli Cleib': 1, 'Yoro Diakité': 1, 'Zikra Oualet Moussa': 1, 'Elsie Randolph': 1, 'Gerald Sim': 1, 'Jean Marsh': 1, 'John Boxer': 2, 'Madge Ryan': 1, 'Alec McCowen': 2, 'Anna Massey': 1, 'Barbara Leigh-Hunt': 1, 'Barry Foster': 1, 'Bernard Cribbins': 1, 'Billie Whitelaw': 1, 'Clive Swift': 1, 'Jon Finch': 1, 'Michael Bates': 1, 'Vivien Merchant': 1, 'Noel Coward': 1, 'Nuna Davey': 1, 'Sydney Bromley': 1, 'Valentine Dyall': 1, 'Wallace Bosco': 2, 'Alfie Bass': 1, 'Celia Johnson': 1, 'Cyril Raymond': 1, 'Everley Gregg': 1, 'Joyce Carey': 1, 'Margaret Barton': 1, 'Marjorie Mars': 1, 'Wilfred Babbage': 1, 'Marc Cavell': 1, 'Richard Davalos': 1, 'Robert Donner': 1, 'Warren Finnerty': 1, 'Clifton James': 2, 'George Kennedy': 1, 'J.D. Cannon': 1, 'Jo Van Fleet': 1, 'Lou Antonio': 1, 'Luke Askew': 1, 'Morgan Woodward': 1, 'Paul Newman': 2, 'Robert Drivas': 1, 'Harry Beresford': 2, 'Mabel Colcord': 1, 'Marion Ballou': 1, 'Nydia Westman': 1, 'Samuel S. Hinds': 2, 'Douglass Montgomery': 1, 'Edna May Oliver': 3, 'Frances Dee': 1, 'Henry Stephenson': 3, 'Joan Bennett': 1, 'John Lodge': 1, 'Katharine Hepburn': 4, 'Spring Byington': 2, 'Gohki Kashiyama': 1, 'Hidekazu Akai': 1, 'Hiromi Ichida': 1, 'Kikuko Hashimoto': 1, 'Makiko Esumi': 1, 'Midori Kiuchi': 1, 'Minori Terada': 1, 'Mutsuko Sakura': 1, 'Naomi Watanabe': 1, 'Ren Ôsugi': 1, 'Shuichi Harada': 1, 'Tadanobu Asano': 1, 'Takashi Inoue': 1, 'Gino Corrado': 1, 'Lorinne Crawford': 1, 'Phyllis Coghlan': 1, 'Roy Brent': 1, 'Tom Costello': 1, 'Edward Everett Horton': 1, 'Erik Rhodes': 1, 'Ginger Rogers': 2, 'Helen Broderick': 2, 'Lucille Ball': 1, 'Robert Adair': 2, 'Tito Blasco': 1, 'Tom Brandon': 1, 'Carol Kane': 3, 'Christopher Walken': 1, 'Colleen Dewhurst': 1, 'Donald Symington': 1, 'Helen Ludlam': 1, 'Janet Margolin': 1, 'Joan Neuman': 1, 'Jonathan Munk': 1, 'Mordecai Lawner': 1, 'Paul Simon': 1, 'Ruth Volner': 1, 'Tony Roberts': 2, 'Woody Allen': 2, 'Alan Howard': 1, 'Christopher Lee': 3, 'Lawrence Makoare': 1, 'Mark Ferguson': 1, 'Megan Edwards': 1, 'Michael Elsworth': 1, 'Sala Baker': 2, 'Elijah Wood': 2, 'Allan Rich': 2, 'Christopher McDonald': 2, 'David Paymer': 2, 'Elizabeth Wilson': 1, 'George Martin': 1, 'Griffin Dunne': 2, 'Hank Azaria': 1, 'Michael Mantell': 1, 'Mira Sorvino': 1, 'Paul Scofield': 1, 'Rob Morrow': 1, 'Aleksey Pavlov': 1, 'Aleksey Rozin': 2, 'Aleksey Serebryakov': 2, 'Alim Bidnenko': 1, 'Alla Emintseva': 1, 'Andrey Belozerov': 1, 'Anna Ukolova': 1, 'Dmitriy Bykovskiy-Romashov': 1, 'Elena Lyadova': 1, 'Evgeniy Yakunin': 1, 'Igor Litovkin': 1, 'Igor Savochkin': 1, 'Igor Sergeev': 1, 'Irina Graba': 1, 'Irina Ryndina': 1, 'Irina Vilkova': 1, 'Kristina Pakarina': 1, 'Lesya Kudryashova': 1, 'Natasha Garustovich': 1, 'Olga Lapshina': 1, 'Platon Kamenev': 1, 'Roman Madyanov': 2, 'Sergei Borisov': 1, 'Sergey Bachurskiy': 1, 'Sergey Pokhodaev': 1, 'Valeriy Grishko': 1, 'Vladimir Lupanov': 1, 'Vladimir Vdovichenkov': 2, 'Vyacheslav Gonchar': 1, 'Yelena Lyadova': 3, 'Alfréd Járai': 1, 'Djoko Rosic': 1, 'Enikö Börcsök': 1, 'Éva Almássy Albert': 1, 'Ferenc Kállai': 1, 'György Barkó': 1, 'Hanna Schygulla': 1, 'Irén Szajki': 1, 'János Derzsi': 1, 'Lajos Dobák': 1, 'Mihály Kormos': 2, 'Putyi Horváth': 1, 'Tamás Wichmann': 1, 'Lars Rudolph': 1, 'Peter Fitz': 2, 'Blake Clark': 1, 'Emily Hahn': 1, 'Estelle Harris': 2, 'Joan Cusack': 2, 'Jodi Benson': 3, 'Bruno Kirby': 2, 'Chazz Dominguez': 2, 'Danny Kortchmar': 1, 'David Kaff': 2, 'Ed Begley Jr.': 1, 'Harry Shearer': 2, 'Jean Cromie': 1, 'Kimberly Stringer': 2, 'Patrick Maher': 1, 'R.J. Parnell': 2, 'Shari Hall': 2, 'Tony Hendra': 2, 'Christopher Guest': 1, 'Michael McKean': 1, 'Rob Reiner': 1, 'Aldo Ordoñez': 1, 'Blair Jackson': 1, 'Chris Doubek': 1, 'Cole Bee Wilson': 1, 'Cole Bresnehen': 1, 'Jeremy Brown': 1, 'John Fitch': 1, 'Josephine McAdam': 1, 'Karen Davidson': 1, 'Louie Arnette': 1, 'Monty Muir': 1, 'Reece Everett Ryan': 1, 'Séamus Bolivar-Ochoa': 1, 'Timothy Lucas': 1, 'Vicky Illk': 1, 'Violett Beane': 1, 'Alan Reddy': 1, 'Allen Reddy': 1, 'Brady Jandreau': 2, 'Cat Clifford': 2, 'Derrick Janis': 2, 'James Calhoon': 2, 'Jordon Slick Phelps': 1, 'Kevin Hunter': 2, 'Lane Scott': 2, 'Leroy Pourier': 1, 'Lilly Jandreau': 2, 'Marshal Byrne': 1, 'Steven DeWolfe': 1, 'Tanner Langdeau': 2, 'Terri Dawn Pourier': 2, 'Tim Jandreau': 2, 'Greg Barber': 1, 'Aminata Dao': 1, 'Bakaramoto Sanogo': 1, 'Balla Habib Dembélé': 1, 'Cheick Oumar Maiga': 1, 'Dominique Zeïda': 1, 'Fatoumata Coulibaly': 1, 'Gustave Sorgho': 1, 'Joseph Traoré': 1, 'Mah Compaoré': 1, 'Maimouna Hélène Diarra': 1, 'Modibo Sangaré': 1, 'Ousmane Konaté': 1, 'Rasmane Ouedraogo': 1, 'Salimata Traoré': 1, 'Théophile Sowié': 1, 'Abraham Ulayuruluk': 1, 'Alex Uttak': 1, 'Apayata Kotierk': 1, 'Eric Nutarariaq': 1, 'Eugene Ipkarnak': 1, 'Lucy Tulugarjuk': 1, 'Luke Taqqaugaq': 1, 'Madeline Ivalu': 1, 'Mary Qulitalik': 1, 'Neeve Irngaut': 1, 'Pakak Innuksuk': 1, 'Pauloosie Qulitalik': 1, 'Peter-Henry Arnatsiaq': 1, 'Natar Ungalaaq': 1, 'Sylvia Ivalu': 1, 'Fox Rich': 1, 'Amel Ibisevic': 2, 'Ask Aygin Gaup': 2, 'Edith Søli': 2, 'Einar Andreas Søli': 2, 'Essra Berge': 2, 'Halvor Sandnes': 2, 'Hellek Sandnes': 2, 'Ina Nena Schick': 2, 'Joakim Nango': 2, 'Jostein A.B. Sandvik': 2, 'Karin Mustvedt-Plüs': 2, 'Kim Robin Svartdal': 2, 'Marie Helga Helgetveit': 2, 'Marja Susanne Sipelä Solvang': 2, 'Miriam Berge': 2, 'Mona Eiris': 2, 'Rune Samuelsen': 2, 'Susan S. Solvang': 2, 'Thomas Tufte': 2, 'Tore Dale': 2, 'Andreas Lust': 1, 'Anni-Kristiina Juuso': 1, 'Mikkel Gaup': 1, 'Graham Acres': 1, 'Nadia Atbib': 1, 'Shakira Caine': 1, 'The Blue Dancers of Goulamine': 1, 'Yvonne Ocampo': 1, 'Albert Moses': 1, 'Christopher Plummer': 2, 'Doghmi Larbi': 1, 'Jack May': 1, 'Karroom Ben Bouih': 1, 'Michael Caine': 2, 'Mohammad Shamsi': 1, 'Paul Antrim': 1, 'Saeed Jaffrey': 1, 'Sean Connery': 2, 'Herbert Ellis': 1, 'Jay Adler': 1, 'Kola Kwariani': 1, 'Tito Vuolo': 1, 'Coleen Gray': 1, 'Jay C. Flippen': 1, 'Joe Sawyer': 1, 'Marie Windsor': 2, 'Ted de Corsia': 1, 'Timothy Carey': 2, 'Vince Edwards': 1, 'Bill Brande': 1, 'Jack Chefe': 1, 'Martin Cichy': 1, 'Ralph Brooks': 1, 'Ralph Byrd': 1, 'Betty Furness': 1, 'Georges Metaxa': 1, 'Harry Bernard': 1, 'Harry Bowen': 1, 'Victor Moore': 1, 'William Bailey': 2, 'Amy Wright': 1, 'Barbara Barrie': 1, 'Daniel Stern': 1, 'David K. Blase': 1, 'Hart Bochner': 1, 'Jackie Earle Haley': 2, 'Jennifer K. Mickel': 1, 'John Ashton': 1, 'Lisa Shure': 1, 'P.J. Soles': 2, 'Paul Dooley': 1, 'Peter Maloney': 1, 'Robyn Douglass': 1, 'Dennis Christopher': 1, 'Dennis Quaid': 2, 'Alice McMillan': 2, 'Barbara Peirson': 1, 'Chyna Terrelonge-Vaughan': 2, 'Crispin Buxton': 1, 'Dick Fontaine': 1, 'Fabrizio Matteini': 2, 'Hannah Ashby Ward': 2, 'Jack W. Gregory': 1, 'Jake Phillips Head': 2, 'James Barrett': 1, 'James Dodds': 1, 'James Spencer Ashworth': 2, 'Janet Etuk': 2, 'Jaz Dalrymple': 1, 'Leonardo Bozzo': 1, 'Richard Tree': 1, 'Steve Gough': 1, 'Frankie Wilson': 1, 'Honor Swinton-Byrne': 1, 'Jack McMullen': 1, 'Jaygann Ayeh': 1, 'Neil Young': 1, 'Richard Ayoade': 3, 'Tilda Swinton': 3, 'Tom Burke': 1, 'Tosin Cole': 1, 'Arata': 1, 'Erika Oda': 1, 'Hisako Hara': 1, 'Kazuko Shirakawa': 1, 'Kei Tani': 1, 'Kôtarô Shiga': 1, 'Kyôko Kagawa': 1, 'Natsuo Ishidô': 1, 'Sadao Abe': 1, 'Sayaka Yoshino': 1, 'Susumu Terajima': 3, 'Taketoshi Naitô': 1, 'Tôru Yuri': 1, 'Yûsuke Iseya': 1, 'Amitai Kedar': 1, 'Attila Fritz': 1, 'Balázs Farkas': 1, 'Björn Freiberg': 1, 'Christian Harting': 1, 'Eszter Csépai': 1, 'Gergö Farkas': 1, 'Géza Röhrig': 2, 'Jerzy Walczak': 1, 'Juli Jakab': 1, 'Kamil Dobrowolski': 1, 'Levente Molnár': 2, 'Levente Orbán': 1, 'Marcin Czarnik': 1, 'Mendy Cahan': 1, 'Sándor Zsótér': 1, 'Todd Charmont': 2, 'Urs Rechn': 2, 'Uwe Lauer': 1, 'Bess Flowers': 1, 'Carol Hughes': 1, 'Dell Henderson': 1, 'Joe Gilbert': 1, 'Leyland Hodgson': 1, 'Astrid Allwyn': 1, 'Charles Boyer': 1, 'Ferike Boros': 1, 'Irene Dunne': 2, 'Lee Bowman': 1, 'Maria Ouspenskaya': 1, 'Mary Bovard': 1, 'Maurice Moscovitch': 1, 'Scotty Beckett': 1, 'Tom Dugan': 1, 'Arletta Duncan': 1, 'Francis Ford': 1, 'Jack Curtis': 1, 'Mae Bruce': 1, 'William Dyer': 1, 'Edward Van Sloan': 1, 'Frederick Kerr': 1, 'John Boles': 1, 'Lionel Belmore': 1, 'Mae Clarke': 1, 'Marilyn Harris': 1, 'Bruno Agostini': 1, 'Cesarino Miceli Picardi': 1, 'Jean Rougeul': 1, 'Mario Conocchia': 1, 'Mario Pisu': 1, 'Anouk Aimée': 1, 'Barbara Steele': 1, 'Caterina Boratto': 1, 'Claudia Cardinale': 1, 'Eddra Gale': 1, 'Guido Alberti': 1, 'Marcello Mastroianni': 1, 'Rossella Falk': 1, 'Sandra Milo': 1, 'Christian Bale': 4, 'Corrie Clark': 2, 'Florence Patterson': 2, 'Gabriel Byrne': 3, 'John Neville': 2, 'Mary Wickes': 2, 'Rebecca Toolan': 2, 'Robin Collins': 2, 'Samantha Mathis': 2, 'Trini Alvarado': 2, 'Claire Danes': 2, 'Kirsten Dunst': 3, 'Susan Sarandon': 3, 'Winona Ryder': 3, 'Abby Quinn': 2, 'Adam Desautels': 1, 'Brian Daniels': 1, 'Chris Cooper': 3, 'Domenic Arduino': 1, 'Emily Edström': 1, 'Eowyn Young': 1, 'Hadley Robinson': 1, 'Jamie Ghazarian': 1, 'Jen Nikolaisen': 1, 'Kayla Caulfield': 1, 'Ken Holmes': 1, 'Lilly Englert': 1, 'Louis Garrel': 2, 'Maryann Plunkett': 1, 'Mason Alban': 1, 'Meryl Streep': 2, 'Paul Tawczynski': 1, 'Rafael Silva': 1, 'Sasha Frolova': 1, 'Stevie Costa': 1, 'Bob Odenkirk': 3, 'Eliza Scanlen': 1, 'Emma Watson': 1, 'Florence Pugh': 1, 'C. Thomas Howell': 1, 'David Berkson': 1, \"David M. O'Dell\": 1, 'Dee Wallace': 2, 'Erika Eleniak': 2, 'Frank Toth': 1, 'K.C. Martel': 1, 'Michael Darrell': 1, 'Richard Swingler': 1, 'Robert Barton': 1, 'Robert MacNaughton': 1, 'Sean Frye': 1, 'Drew Barrymore': 1, 'Henry Thomas': 1, 'Peter Coyote': 1, 'John von Kotze': 1, 'Errol John': 1, 'Gerald Onn': 1, 'Peter Swanwick': 1, 'Richard Marner': 1, 'Robert Morley': 1, 'Walter Gotell': 1, 'Béatrice Bonifassi': 1, 'Charles Linton': 1, 'Lina Boudreau': 1, 'Mari-Lou Gauthier': 1, 'Jean-Claude Donda': 1, 'Michel Robin': 1, 'Michèle Caucheteux': 1, 'Monica Viegas': 1, 'Alex Jennings': 1, 'Amanda Hadingue': 1, 'Dolina MacLennan': 1, 'Douglas Reith': 1, \"Gray O'Brien\": 1, 'John McGlynn': 1, 'Joyce Henderson': 1, 'Lola Peploe': 1, 'Robin Soans': 1, 'Roger Allam': 1, 'Sylvia Syms': 1, 'Tim McMullan': 2, 'Helen Mirren': 2, 'James Cromwell': 3, 'Beryl Mercer': 1, 'G. Pat Collins': 1, 'Harold Goodwin': 3, 'Slim Summerville': 1, 'Arnold Lucy': 1, 'Ben Alexander': 1, 'John Wray': 1, 'Lew Ayres': 1, 'Louis Wolheim': 1, 'Owen Davis Jr.': 1, 'Russell Gleason': 1, 'Scott Kolk': 1, 'Walter Rogers': 1, 'William Bakewell': 1, 'Daniel Borak': 1, 'Eugene Brell': 2, 'George Young': 4, 'Jacqui Anders': 1, 'Jake Brinskele': 1, 'Keaton Nigel Cooke': 1, 'Leo Heller': 1, 'Logan Smith': 1, 'Martina Arroyo': 2, 'Noah Matthews': 1, 'Anni Krueger': 1, 'Brian Murray': 2, 'Chris Conroy': 2, 'Elisabeth Henry-Macari': 2, \"Glynnis O'Connor\": 3, 'James Chen': 1, 'James Marsters': 2, 'Janet Hsieh': 2, 'Jessica Pimentel': 2, 'Nana Visitor': 2, 'Philip Kerr': 2, 'Trevor St. John': 2, 'Tyne Daly': 2, 'Zachary Sayle': 2, 'Alana Barrett-Adkins': 1, 'Alexander Carney': 1, 'Amy Tribbey': 2, 'April Szykeruk': 1, 'Aurora Richards': 2, 'Brett Puglisi': 2, 'Brian Altemus': 1, 'Carolina Espiro': 2, 'Deepti Menon': 2, 'Denise Pillott': 2, 'Drew Seltzer': 2, 'Guy A. Fortt': 2, 'Jingjing Tian': 1, 'John Ballinger Sr.': 1, 'Kim Rios Lin': 2, 'Lester Greene': 2, 'Lizbeth MacKay': 1, 'Luz Ozuna': 1, 'Mia Dillon': 1, 'Michael Erik': 1, 'Rose Elizabeth Richards': 2, 'Ryan Eggold': 2, 'Sidney Flanigan': 2, 'Christian Clements': 1, 'Daniel Buneta': 1, 'David Buneta': 1, 'Eliazar Jimenez': 1, 'Sam Dugger': 1, 'Sharon Van Etten': 1, 'Talia Ryder': 1, 'Théodore Pellerin': 1, 'Fred Griffiths': 1, 'Hélène Burls': 1, 'Kenneth Connor': 1, 'Michael Corcoran': 1, 'Alec Guinness': 4, 'Danny Green': 1, 'Frankie Howerd': 1, 'Herbert Lom': 2, 'Jack Warner': 1, 'Katie Johnson': 1, 'Madge Brindley': 1, 'Philip Stainton': 1, 'Clarence Wilson': 1, 'Eddy Waller': 1, 'Spencer Charters': 1, 'Tiny Jones': 1, 'Alice Brady': 1, 'Arleen Whelan': 1, 'Judith Dickens': 1, 'Marjorie Weaver': 1, 'Pauline Moore': 1, 'Richard Cromwell': 1, 'Alex Hatz': 1, 'Andrew Church': 1, 'Cathy Gulkin': 1, 'Deirdre Bowen': 1, 'Geoffrey Bowes': 1, 'Harry Gulkin': 2, 'John Buchan': 2, 'Justin Goodhand': 1, 'Peter Evans': 1, 'Pixie Bigelow': 1, 'Rebecca Jenkins': 1, 'Robert Macmillan': 1, 'Susy Buchan': 2, 'Tom Butler': 1, 'Victoria Mitchell': 1, 'Wayne Curnew': 1, 'Aidan Pierce Brennan': 1, 'Alyssa Maria App': 1, 'Noah Averbach-Katz': 1, 'Noel Ramos': 1, 'Rosemary Howard': 1, 'Amy Carlson': 1, 'Elaine Bromka': 1, 'Adi Zulkadry': 1, 'Anwar Congo': 2, 'Anwars Congo': 1, 'Haji Anif': 1, 'Haji Marzuki': 1, 'Herman Koto': 1, 'Ibrahim Sinik': 1, 'Jusuf Kalla': 1, 'Safit Pardede': 1, 'Sakhyan Asmara': 1, 'Soaduon Siregar': 1, 'Syamsul Arifin': 1, 'Yapto Soerjosoemarno': 1, 'Aleandro Florio': 1, 'Jerry Mofokeng': 1, 'Makhaola Ndebele': 1, 'Mary Twala': 1, 'Sarah Weber': 1, 'Silas Monyatse': 1, 'Siphiwe Nzima-Ntskhe': 1, 'Thabiso Makoto': 1, 'Thabo Letsie': 1, 'Tseko Monaheng': 1, 'Abe Simon': 1, 'Arthur Keegan': 1, 'Don Blackman': 1, 'James Westerfield': 1, 'John F. Hamilton': 1, 'John Heldabrand': 1, 'Leif Erickson': 1, 'Pat Henning': 1, 'Rod Steiger': 1, 'Tami Mauriello': 1, 'Tony Galento': 1, 'Jafar Panahi': 2, 'Adam Szyszkowski': 3, 'Afrodyta Weselak': 1, 'Agata Kulesza': 3, 'Agata Trzebuchowska': 2, 'Anna Grzeszczak': 1, 'Artur Janusiak': 1, 'Dawid Ogrodnik': 2, 'Dorota Kuduk': 1, 'Halina Skoczynska': 1, 'Izabela Dabrowska': 1, 'Jan Wociech Poradowski': 1, 'Jerzy Trela': 3, 'Joanna Kulig': 2, 'Krzysztof Brzezinski': 1, 'Lukasz Jerzykowski': 1, 'Marek Kasprzyk': 1, 'Mariusz Jakus': 1, 'Natalia Lagiewczyk': 1, 'Pawel Burczyk': 1, 'Adiatou Massudi': 1, 'Bernardo Montet': 1, 'Dan Herzberg': 1, 'Dimitri Tsiapkinis': 1, 'Gianfranco Poddighe': 1, 'Giuseppe Molino': 1, 'Jean-Yves Vivet': 1, 'Marc Veh': 1, 'Mickael Ravovski': 1, 'Nicolas Duvauchelle': 1, 'Richard Courcet': 1, 'Thong Duy Nguyen': 1, 'Denis Lavant': 1, 'Andrea Linsky': 1, 'Ca$h Out': 1, 'Eric Bogosian': 1, 'Jacob Igielski': 2, 'Keith Williams Richards': 2, 'Lakeith Stanfield': 2, 'Louis Anthony Arias': 1, 'Maksud Agadjani': 1, 'Noa Fisher': 2, 'Paloma Elsesser': 2, 'Roman Persits': 1, 'Sean Ringgold': 1, 'Tommy Kominik': 2, 'Warren Finkelstein': 2, 'Adam Sandler': 1, 'Deneke Muhugeta': 1, 'Habtunu Africho': 1, 'Idina Menzel': 1, 'Jonathan Aranbayev': 1, 'Julia Fox': 1, 'Kevin Garnett': 1, 'Liang Wei-Hei Duncan': 1, 'Mesfin Lamengo': 1, 'Suin Zhi Hua-Hilton': 1, 'Sunny Wu Jin Zahoo': 1, 'The Weeknd': 1, 'Dror Harazi': 1, 'Gadi Erel': 1, 'Mickey Leon': 1, 'Ori Sivan': 1, 'Shahar Sorek': 1, 'Yehezkel Lazarov': 1, 'Zahava Solomon': 1, 'Ari Folman': 1, 'Ron Ben-Yishai': 1, 'Ronny Dayag': 1, 'Brian Bovell': 1, 'Claire Perkins': 1, 'Claire Rushbrook': 1, 'Elias Perkins McCook': 1, 'Elizabeth Berrington': 1, 'Emma Amos': 1, 'Lee Ross': 1, 'Marianne Jean-Baptiste': 1, 'Michele Austin': 1, 'Phyllis Logan': 1, 'Ron Cook': 1, 'Trevor Laird': 1, 'Brenda Blethyn': 1, 'Albert Dumortier': 1, 'Bill Hickman': 1, 'Carey Loftin': 1, 'David Bauer': 1, 'Frank Latimore': 1, 'John Barrie': 1, 'Karl Michael Vogler': 2, 'Lawrence Dobkin': 1, 'Michael Strong': 2, 'Morgan Paull': 1, 'Pat Zurica': 1, 'Stephen Young': 1, 'Basil Eidenbenz': 2, 'Carolyn Saint-Pé': 1, 'Edward Aczel': 1, 'Hannah Morley': 1, 'Horatio': 1, 'Isaura Barbé-Brown': 2, 'Jack Veal': 2, 'James Melville': 1, 'James Smith': 2, 'Jenny Rainsford': 2, 'John Locke': 2, 'Mark Gatiss': 4, 'Tim Ingall': 1, 'Timothy Innes': 2, 'Willem Dalby': 1, 'Wilson Radjou-Pujalte': 2, 'Denise Mack': 1, 'Emma Delves': 1, 'Faye Daveney': 1, 'Jennifer White': 1, 'Joe Alwyn': 1, 'LillyRose Stevens': 1, 'Nicholas Hoult': 3, 'Olivia Colman': 2, 'Paul Swaine': 1, 'Rachel Weisz': 1, 'Alberta Watson': 2, 'Arsinée Khanjian': 1, 'Bruce Greenwood': 1, 'Caerthan Banks': 1, 'David Hemblen': 1, 'Earl Pastko': 1, 'Gabrielle Rose': 1, 'Kirsten Kieferle': 1, 'Maury Chaykin': 1, 'Sarah Rosen Fruitman': 1, 'Simon Baker': 1, 'Stephanie Morgenstern': 1, 'Tom McCamus': 2, 'Sarah Polley': 1, 'Charles Frank': 1, 'Donald Moffat': 1, 'Lance Henriksen': 2, 'Levon Helm': 1, 'Mary Jo Deschanel': 1, 'Barbara Hershey': 2, 'Fred Ward': 1, 'Kim Stanley': 1, 'Pamela Reed': 1, 'Scott Paulin': 1, 'Veronica Cartwright': 3, 'Ann Gillis': 1, 'Donnie Dunagan': 1, 'Sam Edwards': 1, 'Bobette Audrey': 1, 'Dolyn Bramston Cook': 1, 'Hardie Albright': 1, 'Janet Chapman': 1, 'Jeanne Christy': 1, 'Peter Behn': 1, 'Stan Alexander': 1, 'Thelma Boardman': 1, 'Tim Davis': 1, 'Adeline Ashbury': 1, 'Asta': 2, 'John Kelly': 1, 'Ruth Adler': 1, 'Virginia Walker': 1, 'Barry Fitzgerald': 1, 'Charles Ruggles': 1, 'Fritz Feld': 1, 'George Irving': 1, 'Leona Roberts': 1, 'May Robson': 1, 'Tala Birell': 1, 'Ana Reeder': 1, 'Barry Corbin': 1, 'Beth Grant': 2, 'Chip Love': 1, 'Kelly Macdonald': 1, 'Kit Gwin': 1, 'Rodger Boyce': 1, 'Stephen Root': 2, 'Tess Harper': 1, 'Woody Harrelson': 3, 'Zach Hopkins': 1, 'Javier Bardem': 1, 'Josh Brolin': 1, 'Tommy Lee Jones': 3, 'Ami Ayalon': 2, 'Avi Dichter': 2, 'Avraham Shalom': 2, 'Carmi Gillon': 2, 'Yaakov Peri': 2, 'Yuval Diskin': 2, 'Gaspar Galaz': 1, 'George Preston': 1, 'Lautaro Núñez': 1, 'Luís Henríquez': 1, 'Miguel Lawner': 1, 'Valentina Rodríguez': 1, 'Vicky Saaveda': 1, 'Víctor González': 1, 'Violeta Berrios': 1, 'Fay Chaldecott': 1, 'Jean Cadell': 1, 'Lionel Barrymore': 2, 'Violet Kemble Cooper': 1, 'Basil Rathbone': 3, 'Elizabeth Allan': 2, 'Freddie Bartholomew': 1, 'Herbert Mundin': 2, 'Hugh Walpole': 1, 'Jessie Ralph': 2, 'John Buckler': 1, 'Adam Goldberg': 1, 'Barry Pepper': 1, 'Dennis Farina': 1, 'Dylan Bruno': 1, 'Edward Burns': 1, 'Giovanni Ribisi': 2, 'Jeremy Davies': 1, 'Joerg Stadler': 1, 'Max Martini': 1, 'Ted Danson': 1, 'Tom Sizemore': 1, 'Vin Diesel': 1, 'Matt Damon': 3, 'Bronson Pinchot': 1, \"Catherine O'Hara\": 1, 'Cheech Marin': 2, 'Dick Miller': 1, 'John Heard': 2, 'Larry Block': 1, 'Linda Fiorentino': 1, 'Robert Plunket': 1, 'Rocco Sisto': 1, 'Teri Garr': 3, 'Tommy Chong': 1, 'Verna Bloom': 2, 'Will Patton': 2, 'Alia Janine': 1, 'Amy Adams': 4, 'Artt Butler': 1, 'Brian Johnson': 1, 'Caroline Jaden Stussi': 1, 'Cassandra Starr': 1, 'Claudia Choi': 1, 'Eric Pumphrey': 1, 'Evelyn Edwards': 1, 'Gabe Gomez': 1, 'Gracie Prewitt': 1, 'Jeremy Rabb': 1, 'Joaquin Phoenix': 2, 'Katherine Boecher': 1, 'Kelly Sarah': 1, 'Kim Farris': 1, 'Kristen Wiig': 3, 'Laura Colquhoun': 1, 'Laura Kai Chen': 1, 'Laura Meadows': 1, 'Lisa Renee Pitts': 1, 'Luka Jones': 1, 'Lynn A. Freedman': 1, 'Matt Letscher': 1, 'May Lindstrom': 1, 'Melanie Seacat': 1, 'Nico David': 1, 'Nicole Grother': 1, 'Olivia Wilde': 2, 'Pamela Roylance': 1, 'Portia Doubleday': 1, 'Rachel Ann Mullins': 1, 'Sam Jaeger': 1, 'Samantha Morton': 2, 'Samantha Sarakanti': 1, 'Spike Jonze': 1, 'Tiffany Pulvino': 1, 'Adrian Dunbar': 1, 'Andrée Bernard': 1, 'Birdy Sweeney': 1, 'Breffni McKenna': 1, 'Jack Carr': 1, 'Jim Broadbent': 7, 'Joe Savino': 1, 'Josephine White': 1, 'Miranda Richardson': 2, 'Ralph Brown': 1, 'Shar Campbell': 1, 'Tony Slattery': 1, 'Jaye Davidson': 1, 'Stephen Rea': 2, 'Eileen Erskine': 1, 'Freda Jackson': 1, 'George Hayes': 1, 'Hay Petrie': 1, 'John Forrest': 1, 'Bernard Miles': 1, 'Finlay Currie': 2, 'Francis L. Sullivan': 1, 'Jean Simmons': 2, 'John Mills': 1, 'Martita Hunt': 1, 'Tony Wager': 1, 'Bong-ryeon Lee': 1, 'Ja-Yeon Ok': 2, 'Joong-ok Lee': 2, 'Seok-Chan Jeon': 1, 'Wonhyeong Jang': 1, 'Ah In Yoo': 1, 'Bok-gi Min': 1, 'Hye-ra Ban': 1, 'Jong-seo Jeon': 1, 'Mi-Kyung Cha': 1, 'Moon Sung-Keun': 1, 'Seong-kun Mun': 1, 'Seung-ho Choi': 1, 'Soo-Jeong Lee': 1, 'Soo-Kyung Kim': 1, 'Steven Yeun': 2, 'Ashlee Thompson': 1, 'Beth Domann': 1, 'Casey MacLaren': 1, 'Cody Brown': 1, 'Dale Dickey': 3, 'Isaiah Stone': 2, 'Lauren Sweetser': 1, 'Shelley Waggener': 1, 'Tate Taylor': 1, 'Valerie Richards': 1, 'William White': 1, 'Jennifer Lawrence': 2, 'John Hawkes': 4, 'Alexander Mørk Eidem': 1, 'Ingrid Bugge': 1, 'Johannes Joner': 1, 'Kristin Voss Hestvold': 1, 'Terje Auli': 1, 'Alfred Vatne': 1, 'Andrea Bræin Hovig': 1, 'Daniel Storm Forthun Sandbye': 1, 'Dina Enoksen Elvehaug': 1, 'Einar Økland': 1, 'Eirik Hallert': 1, 'Elli Rhiannon Müller Osbourne': 1, 'Gjertrud L. Jynge': 1, 'Steinar Klouman Hallert': 1, 'Stellan Skarsgård': 1, 'Abraham Celektar': 1, 'Albert Iluz': 1, 'Dalia Beger': 1, 'David Ohayon': 1, 'Eli Gornstein': 1, 'Evelin Hagoel': 1, 'Gabi Amrani': 1, 'Keren Mor': 1, 'Menashe Noy': 1, 'Rami Danon': 1, 'Roberto Pollack': 1, 'Ronit Elkabetz': 1, 'Sasson Gabai': 1, 'Shmil Ben Ari': 1, 'Al Harrison': 1, 'Albert Tootie Heath': 1, 'Bennie Maupin': 1, 'Billy Harper': 1, 'Charli Persip': 1, 'Helen Morgan': 1, 'Judith Johnson': 1, 'Jymie Merritt': 1, 'Larry Reni Thomas': 1, 'Larry Ridley': 1, 'Lee Morgan': 1, 'Lena Sherrod': 1, 'Paul West': 1, 'Ron St. Clair': 1, 'Wayne Shorter': 1, 'Adrienne Campbell': 1, 'Bob Balaban': 4, 'Cary Guffey': 1, 'J. Patrick McNamara': 2, 'Justin Dreyfuss': 1, 'Melinda Dillon': 1, 'Merrill Connally': 1, 'Philip Dodds': 1, 'Roberts Blossom': 1, 'Shawn Bishop': 1, 'Warren J. Kemmerling': 1, 'Francesca De Sapio': 1, 'Frank Sivero': 2, 'Gastone Moschin': 1, 'Lee Strasberg': 1, 'Michael V. Gazzo': 1, 'Richard Bright': 1, 'Tom Rosqui': 1, 'Alexander Rose': 1, 'Carl York': 1, 'Carolyn Coates': 1, 'Gordon B. Clarke': 1, 'Vincent Gardenia': 1, 'Clifford A. Pellow': 1, 'Jackie Gleason': 1, 'Jake LaMotta': 1, 'Michael Constantine': 1, 'Myron McCormick': 1, 'Piper Laurie': 1, 'Stefan Gierasch': 1, 'Danny DeVito': 1, 'Elisabeth Granli': 1, 'Graham Beckel': 1, 'Matt McCoy': 1, 'Paolo Seganti': 1, 'Ron Rifkin': 3, 'Sandra Taylor': 1, 'Steve Rankin': 1, 'Kevin Spacey': 1, 'Kim Basinger': 1, 'Russell Crowe': 1, 'Allan Gildea': 1, 'Carmel McCallion': 1, 'Christopher Villiers': 1, 'Declan Duddy': 1, 'Edel Frazer': 1, 'Gerard Crossan': 1, 'Gerry Hammond': 1, 'James Hewitt': 1, 'Jason Stammers': 1, 'Joanne Lindsay': 1, 'Mary Moulds': 1, 'Mike Edwards': 1, 'James Nesbitt': 1, 'Nicholas Farrell': 1, 'Tim Pigott-Smith': 1, 'Martin Scorsese': 3, 'Alexandra Moloney': 1, 'Amber Brabant': 1, 'Amy Cunningham': 1, 'Andrew G. Ogleby': 1, 'Calum Delaney': 1, 'Camilla Rutherford': 3, 'Caroline Garnell': 1, 'Cedric Tylleman': 2, 'Colin Wigglesworth': 1, 'Cris Haris': 1, 'Darren Talbot': 1, 'Dave Simon': 2, 'David Charles-Cully': 1, 'Fraser Delaney': 1, 'Geneva Corlett': 1, 'Gino Picciano': 1, 'Harriet Leitch': 2, 'Ingrid Sophie Schram': 2, 'Jane Perry': 2, 'Jason Redshaw': 2, 'Joseph Callaghan': 1, 'Juliet Glaves': 1, 'Kelly Schembri': 2, 'Khristopher MacLeod': 1, 'Lujza Richter': 1, 'Martin Dew': 1, 'Michael Gabbitas': 1, 'Neil Broome': 1, 'Niki Angus-Campbell': 1, 'Paul Carolan': 1, 'Pip Phillips': 2, 'Rebecca McSwan': 1, 'Richard Graham': 2, 'Sarah Lamesch': 2, 'Vicky Krieps': 2, 'Bern Collaco': 1, 'Dinah Nicholson': 1, 'Elli Banks': 1, 'Jack Gordon': 1, 'Joan Brown': 1, 'Julie Duck': 1, 'Maryanne Frost': 1, 'Sue Clark': 1, 'Catherine Scorsese': 1, 'Charles Scorsese': 2, 'Chuck Low': 1, 'Frank DiLeo': 1, 'Frank Vincent': 2, 'Gina Mastrogiacomo': 1, 'Henny Youngman': 1, 'Mike Starr': 1, 'Tony Darrow': 1, 'Lorraine Bracco': 1, 'Paul Sorvino': 1, 'Barry Blinderman': 1, 'David Wojnarowicz': 1, 'Fran Lebowitz': 1, 'Kiki Smith': 1, 'Nan Goldin': 1, 'Peter Hujar': 1, 'Richard Kern': 1, 'Stephen Koch': 1, 'Ariana DeBose': 1, 'Carleigh Bettiol': 1, 'Ephraim Sykes': 1, 'Hope Easterbrook': 1, 'Jon Rua': 1, 'Neil Haskell': 1, 'Phillipa Soo': 2, 'Sasha Hutchings': 1, 'Sydney James Harcourt': 1, 'Thayne Jasperson': 1, 'Anthony Ramos': 5, 'Chris Jackson': 1, 'Daveed Diggs': 1, 'Emmy Raver-Lampman': 1, 'Jonathan Groff': 1, 'Leslie Odom Jr.': 1, 'Lin-Manuel Miranda': 1, 'Okieriete Onaodowan': 1, 'Renee Goldsberry': 1, 'Don Hertzfeldt': 1, 'Doodles Weaver': 1, 'John McGovern': 1, 'Karl Swenson': 1, 'Richard Deacon': 1, 'Charles McGraw': 2, 'Ethel Griffies': 1, 'Jessica Tandy': 1, 'Lonny Chapman': 1, 'Rod Taylor': 1, 'Ruth McDevitt': 1, 'Suzanne Pleshette': 1, 'Tippi Hedren': 1, 'Aldo Nadi': 1, 'Audrey Armstrong': 1, 'Eugene Borden': 1, 'Joy Barlow': 1, 'Juliette Ball': 1, 'Dan Seymour': 1, 'Dolores Moran': 1, 'Lauren Bacall': 1, 'Marcel Dalio': 1, 'Sheldon Leonard': 1, 'Walter Sande': 1, 'Walter Szurovy': 1, 'Allison Janney': 1, 'Andrew Stanton': 1, 'Austin Pendleton': 1, 'Bob Peterson': 2, 'Elizabeth Perkins': 1, 'Geoffrey Rush': 4, 'Joe Ranft': 2, 'Nicholas Bird': 1, 'Vicki Lewis': 1, 'Alexander Gould': 1, 'Ellen DeGeneres': 1, 'Adam Searle': 1, 'Dexter Fletcher': 1, 'Francis Lee': 1, 'Geoffrey Hutchings': 1, 'Kate Doherty': 1, 'Roger Heathcott': 1, 'Stefan Bednarczyk': 1, 'Sukie Smith': 1, 'Wendy Nottingham': 1, 'William Neenan': 1, 'Allan Corduner': 1, 'Emi Yamada': 1, 'Hideo Fukuhara': 1, 'Jun Hamamura': 1, 'Masao Mishima': 1, 'Takamaru Sasaki': 1, 'Etsuko Ichihara': 1, 'G': 1, 'Isao Yamagata': 1, 'Michiko Ôtsuka': 1, 'Shigeru K': 1, 'Tatsuo Matsumura': 1, 'Tatsuyoshi Ehara': 1, 'Yôko Tsukasa': 1, 'Ed Allen': 1, 'Etta Mae Allen': 1, 'Frank Angel': 1, 'Van Alder': 1, 'Bruce Cabot': 1, 'Fay Wray': 1, 'Frank Reicher': 1, 'James Flavin': 1, 'King Kong': 1, 'Noble Johnson': 1, 'Robert Armstrong': 1, 'Sam Hardy': 1, 'Steve Clemente': 1, 'Walter Ackerman': 1, 'Dominique Louis': 1, 'Eli Fucile': 1, 'Jean Sincere': 1, 'Maeve Andrews': 1, 'Michael Bird': 1, 'Sarah Vowell': 1, 'Spencer Fox': 1, 'Wayne Canney': 1, 'Craig T. Nelson': 1, 'Holly Hunter': 2, 'Jason Lee': 2, 'Albert Delpy': 1, 'Denis Evrard': 1, 'Diabolo': 1, 'Louise Lemoine Torres': 1, 'Mariane Plasteig': 1, 'Marie Pillet': 1, 'Rodolphe Pauly': 1, 'Vernon Dobtcheff': 1, 'Byrne Piven': 1, 'Eric Weinstein': 1, 'Judith Wetzell': 1, 'K.K. Dodds': 1, 'Kevin Carroll': 1, 'Madison Lanc': 1, 'Mary Kay Place': 2, 'Ned Bellamy': 1, 'Octavia Spencer': 3, 'Reginald C. Hayes': 1, 'Cameron Diaz': 1, 'Catherine Keener': 2, 'John Cusack': 1, 'John Malkovich': 1, 'Adel Bencherif': 1, 'Antoine Basler': 1, 'Foued Nassah': 1, 'Frédéric Graziani': 1, 'Gilles Cohen': 1, 'Jean-Emmanuel Pagni': 1, 'Jean-Philippe Ricci': 1, 'Leïla Bekhti': 1, 'Pierre Leccia': 1, 'Rabah Loucif': 1, 'Slimane Dazi': 1, 'Tahar Rahim': 1, 'Aleksandr Chutko': 1, 'Aleksandr Ilin': 1, 'Algimantas Maceina': 1, 'Dmitriy Vladimirov': 1, 'Evgeniy Gerchakov': 1, 'Igor Volkov': 1, 'Juris Laucinsh': 1, 'Laura Lauri': 1, 'Leonid Yarmolnik': 1, 'Natalya Moteva': 1, 'Oleg Botin': 1, 'Pyotr Merkurev': 1, 'Remigijus Bilinskas': 1, 'Yuriy Tsurilo': 1, 'Fairuza Balk': 1, 'Jimmy Fallon': 1, 'John Fedevich': 1, 'Kate Hudson': 1, 'Liz Stauber': 1, 'Mark Kozelek': 1, 'Michael Angarano': 1, 'Noah Taylor': 4, 'Patrick Fugit': 1, 'Philip Seymour Hoffman': 3, 'Zooey Deschanel': 1, 'Adolphe Menjou': 1, 'Bert Freed': 1, 'Christiane Kubrick': 1, 'Emile Meyer': 1, 'Fred Bell': 1, 'George Macready': 1, 'Jerry Hausner': 1, 'Joe Turkel': 1, 'Kem Dibbs': 1, 'Peter Capell': 1, 'Richard Anderson': 1, 'Wayne Morris': 1, 'Kirk Douglas': 2, 'Ralph Meeker': 1, 'Aleksandra Kacprzak': 1, 'Aloïse Sauvage': 1, 'Anna Zagórska': 1, 'Izabela Andrzejak': 1, 'Martin Budny': 1, 'Philip Lenkowsky': 1, 'Tomasz Markiewicz': 1, 'Adam Ferency': 1, 'Adam Woronowicz': 1, 'Borys Szyc': 1, 'Cédric Kahn': 1, 'Drazen Sivak': 1, 'Giorgio Rayzacher': 1, 'Jeanne Balibar': 1, 'Slavko Sobin': 1, 'Tomasz Kot': 1, 'Barbara Brown': 1, 'Cameron Carter': 1, 'Chris Ambrose': 1, 'Daniel Tay': 1, 'Danny Hoch': 1, 'Earl Billings': 2, 'James Urbaniak': 1, 'Joey Krajcar': 1, 'Josh Hutcherson': 1, 'Larry John Meyers': 1, 'Mary Faktor': 1, 'Vivienne Benesch': 1, 'Harvey Pekar': 1, 'Shari Springer Berman': 1, 'Carrie Fisher': 2, 'Christian Clemenson': 2, 'J.T. Walsh': 1, 'Julia Louis-Dreyfus': 1, 'Julie Kavner': 1, 'Lloyd Nolan': 1, \"Maureen O'Sullivan\": 2, 'Dianne Wiest': 1, 'Chester A. Bachman': 1, 'Eugene Barry': 1, 'Heinie Conklin': 1, 'Jack Bernard': 1, 'Stanley Blystone': 1, 'George Davis': 1, 'Harry Crocker': 1, 'John Rand': 1, 'Merna Kennedy': 1, 'Steve Murphy': 1, 'Tiny Sandford': 1, 'Emily Sandifer': 1, 'Gretchen Koerner': 1, 'Isabella Amara': 2, 'Isabelle Nélisse': 2, 'Jaqueline Fleming': 1, 'Jessica Sarah Flaum': 1, 'Madison David': 1, 'Matthew Rauch': 1, 'Noah Lomax': 1, 'Thom Bishops': 1, 'Tina Parker': 2, 'Chelsea Alden': 1, 'Common': 1, 'Elizabeth Debicki': 1, 'Frances Conroy': 1, 'Jason Ritter': 1, 'Laura Allen': 1, 'Charles Dance': 1, 'Claudie Blakley': 1, 'Geraldine Somerville': 1, 'James Wilby': 2, 'Jeremy Northam': 1, 'Kristin Scott Thomas': 3, 'Laurence Fox': 1, 'Michael Gambon': 3, 'Natasha Wightman': 1, 'Tom Hollander': 1, 'Trent Ford': 1, 'Maggie Smith': 1, 'Ryan Phillippe': 1, 'James Nolan': 1, 'Josef Sommer': 1, 'Maurice Argent': 1, 'William Paterson': 1, 'Woodrow Parfrey': 1, 'Andrew Robinson': 1, 'Clint Eastwood': 1, 'Harry Guardino': 1, 'John Larch': 1, 'John Mitchum': 1, 'John Vernon': 2, 'Lyn Edgington': 1, 'Mae Mercer': 1, 'Reni Santoni': 1, 'Ruth Kobart': 1, 'Alexis Neblett': 1, 'Antonio A.B. Grant Jr.': 1, \"Da'Sean Minor\": 1, 'Inayah Rodgers': 1, 'Lauren Gibson': 1, 'Makyla Burnam': 1, 'Royalty Hightower': 2, 'James Hillier': 1, 'Jon Prophet': 1, 'Karl Farrer': 1, 'Michelle Greenidge': 1, 'Robert Jarvis': 1, 'Gary Beadle': 1, 'Gershwyn Eustache Jnr': 1, 'Jay Simpson': 1, 'Jodhi May': 1, 'Letitia Wright': 3, 'Malachi Kirby': 1, 'Rochenda Sandall': 1, 'Shaun Parkes': 1, 'Abbey Lee': 1, 'Angus Sampson': 1, 'Charlize Theron': 2, 'Coco Jack Gillies': 1, 'Courtney Eaton': 1, 'Debra Ades': 1, 'Hugh Keays-Byrne': 1, 'Iota': 1, 'John Howard': 2, 'Josh Helman': 1, 'Megan Gale': 1, 'Mel Gibson': 2, 'Melissa Jaffer': 1, 'Nathan Jones': 2, 'Richard Carter': 1, 'Richard Norton': 1, 'Riley Keough': 2, 'Rosie Huntington-Whiteley': 1, 'Zoë Kravitz': 3, 'Denny Dillon': 1, 'Gary Commock': 1, 'J.J. Johnson': 1, 'Lorna Dallas': 1, 'Nancy McDoniel': 1, 'Opal Alladin': 1, 'Polly Adams': 1, 'Ray Charleson': 1, 'Richard Bekins': 1, 'Starla Benford': 1, 'Susan Blommaert': 1, 'Trish Gates': 1, 'David Alan Basche': 1, 'Liza Colón-Zayas': 1, 'Abbey Boklan': 1, 'Anthony Sgeugloi': 1, 'Chuck Scarborough': 1, 'Frances Galasso': 1, 'Howard Friedman': 1, 'John McDermott': 1, 'Joseph Onorato': 1, 'Judd Maltin': 1, 'Ron Georgalis': 1, 'Scott Banks': 1, 'Seth Friedman': 1, 'Arnold Friedman': 1, 'David Friedman': 1, 'Elaine Friedman': 1, 'Jesse Friedman': 1, 'Angel Schmiedt': 1, 'Blair Slater': 1, 'Brian Delate': 1, 'Don Taylor': 1, 'Fritz Dominique': 1, 'Heidi Schanz': 1, 'Holland Taylor': 1, 'Judy Clayton': 1, 'Laura Linney': 2, 'Natascha McElhone': 1, 'Noah Emmerich': 1, 'Peter Krause': 1, 'Ron Taylor': 1, 'Ted Raymond': 1, 'Jim Carrey': 2, 'Adrian Martinez': 1, 'Alessandro Nivola': 2, 'Anthony Zerbe': 1, 'Bo Cleary': 1, 'Bradley Cooper': 6, 'Christy Scott Cashman': 1, 'Colleen Camp': 1, 'David Boston': 1, 'Dawn Olivieri': 1, 'Elisabeth Röhm': 1, 'Kenn Medeiros': 1, 'Louis C.K.': 2, 'Matthew Russell': 1, 'Melissa McMeekin': 1, 'Michael Peña': 1, 'Saïd Taghmaoui': 1, 'Shea Whigham': 1, 'Thomas Matthews': 1, 'Barry Shabaka Henley': 3, 'Brian McCarthy': 1, 'Chasten Harmon': 1, 'Dominic Liriano': 1, 'Frank Harts': 1, 'Golshifteh Farahani': 3, 'Helen-Jean Arthur': 1, 'Jaden Michael': 1, 'Jared Gilman': 1, 'Joan Kendall': 1, 'Johnnie Mae': 1, 'Kacey Cockett': 1, 'Luis Da Silva Jr.': 1, 'Method Man': 1, 'Nellie': 1, 'Owen Asztalos': 1, 'Rizwan Manji': 1, 'Sterling Jerins': 1, 'Trevor Parham': 1, 'Troy T. Parham': 1, 'William Jackson Harper': 1, 'Alex McCrindle': 1, 'Anthony Daniels': 1, 'David Prowse': 1, 'Eddie Byrne': 1, 'Jack Purvis': 1, 'Kenny Baker': 1, 'Peter Cushing': 1, 'Peter Mayhew': 1, 'Phil Brown': 1, 'Shelagh Fraser': 1, 'Mark Hamill': 1, 'Adriana Anderson': 1, 'Amethyste Frezignac': 1, 'Arié Elmaleh': 1, 'Danielle Darrieux': 1, 'François Jerosme': 1, 'Gabrielle Lopes Benites': 1, 'Jean-François Gallotte': 1, 'Lexie Kendrick': 1, 'Mathias Mlekuz': 1, 'Paul Bandey': 1, 'Robert Barr': 1, 'Sean Penn': 1, 'Sophie Arthuys': 1, 'Stéphane Foenkinos': 1, 'Tilly Mandelbrot': 1, 'Catherine Deneuve': 1, 'Chiara Mastroianni': 1, 'Gena Rowlands': 3, 'Alexis Smith': 1, 'Joanne Woodward': 1, 'Jonathan Pryce': 1, 'Mary Beth Hurt': 1, 'Michael Gough': 1, 'Miriam Margolyes': 1, 'Richard E. Grant': 2, 'Robert Sean Leonard': 1, 'Siân Phillips': 1, 'Stuart Wilson': 1, 'Michelle Pfeiffer': 1, 'Bing Liu': 1, 'Kiere Johnson': 1, 'Zack Mulligan': 1, 'Adriana Asti': 1, 'Andrea Tidona': 1, 'Claudio Gioè': 1, 'Fabrizio Gifuni': 1, 'Giovanni Scifoni': 1, 'Lidia Vitale': 1, 'Mario Schiano': 1, 'Maya Sansa': 1, 'Michele Melega': 1, 'Paolo Bonanni': 1, 'Sonia Bergamasco': 1, 'Valentina Carnelutti': 1, 'Alessio Boni': 1, 'Jasmine Trinca': 1, 'Luigi Lo Cascio': 1, 'Jay Reinke': 2, 'Keegan Edwards': 1, 'Bastian Trost': 1, 'Charly Hübner': 1, 'Hans-Uwe Bauer': 1, 'Herbert Knaup': 1, 'Marie Gruber': 1, 'Martin Brambach': 1, 'Matthias Brenner': 1, 'Thomas Thieme': 1, 'Ulrich Tukur': 1, 'Volker Michalowski': 1, 'Volkmar Kleinert': 1, 'Werner Daehn': 1, 'Martina Gedeck': 1, 'Sebastian Koch': 1, 'Ulrich Mühe': 1, 'Charles Moore': 1, 'Don Samuels': 1, 'Tom Green': 1, 'W.H. Harrison': 1, 'Bill Keller': 1, 'David Drake': 1, 'Dennis Wilson': 1, 'Harry Dean Stanton': 2, 'Jaclyn Hellman': 1, 'James Taylor': 1, 'Laurie Bird': 1, 'Richard Ruth': 1, 'Rudy Wurlitzer': 1, 'Dandan Song': 1, 'Dong Liu': 1, 'Hongfei Zhao': 1, 'Hongwei Zhao': 1, 'Jiusheng Wang': 1, 'Jun Guo': 1, 'Liping Tian': 1, 'Qi Zi': 1, 'Shu Zhang': 1, 'Xuedong Qu': 1, 'Yongxin Wang': 1, 'Zhengyong Zhang': 1, 'Andy Lau': 1, 'Takeshi Kaneshiro': 1, 'Andrew Brackfield': 2, 'Jacqueline Bassett': 2, 'John Brisby': 2, 'Neil Hughes': 2, 'Paul Kligerman': 1, 'Peter Davies': 2, 'Susan Sullivan': 2, 'Symon Basterfield': 1, 'Bruce Balden': 1, 'Charles Furneaux': 1, 'Lynn Johnson': 1, 'Nicholas Hitchon': 1, 'Suzanne Dewey': 1, 'Tony Walker': 1, 'Andrew Blackett': 1, 'David Davies': 1, 'Francis de Wolff': 1, 'John Gregson': 1, 'William Devlin': 1, 'Basil Sydney': 1, 'Bobby Driscoll': 1, \"Denis O'Dea\": 2, 'Geoffrey Keen': 2, 'Geoffrey Wilkinson': 1, 'Ralph Truman': 1, 'Robert Newton': 1, 'Walter Fitzgerald': 2, 'Akiko Takeshita': 1, 'Akira Yamaguchi': 1, 'Catherine Lambert': 1, 'Diamond Yukai': 1, 'François du Bois': 1, 'Gregory Pekar': 1, 'Kazuko Shibata': 1, 'Kazuyoshi Minamimagoe': 1, 'Richard Allen': 1, 'Ryuichiro Baba': 1, 'Take': 1, 'Tim Leffman': 1, 'Bill Murray': 4, 'Ad': 2, 'Alma Jodorowsky': 2, 'Anne Loiret': 2, 'Aurelie Lemanceau': 1, 'Aurélien Recoing': 3, 'Baya Rehaz': 1, 'Benjamin Siksou': 2, 'Beno': 2, 'Catherine Salée': 4, 'Fanny Maurin': 1, 'Jeremie Laheurte': 2, 'Karim Saidi': 1, 'Léa Seydoux': 4, 'Maelys Cabezon': 1, 'Mona Walravens': 2, 'Salim Kechiouche': 2, 'Samir Bella': 1, 'Sandor Funtek': 2, 'Anthony Heald': 1, 'Dan Hedaya': 1, 'Steven Randazzo': 1, 'William H. Macy': 2, 'Hal Scardino': 1, 'Joan Allen': 2, 'Joe Mantegna': 1, 'Max Pomeranc': 1, 'Michael Nirenberg': 1, 'Robert Stephens': 1, 'Vasek Simek': 1, 'Alan Koss': 1, 'Charles Cyphers': 2, 'Frank Doubleday': 1, 'Gilbert De la Pena': 1, 'John J. Fox': 1, 'Kim Richards': 1, 'Marc Ross': 1, 'Martin West': 1, 'Nancy Kyes': 2, 'Peter Bruni': 1, 'Tony Burton': 1, 'Austin Stoker': 1, 'Darwin Joston': 2, 'Laurie Zimmer': 1, 'Aaron Haskell': 1, 'Alan Welner': 1, 'Annie Allix': 1, 'Ardis Campbell': 1, 'Barry Greenhouse': 1, 'David Demato': 1, 'David Forman': 1, 'Guy F. Tozzoli': 1, 'Jean François Heckel': 1, 'Jean-Louis Blondeau': 1, 'Jim Moore': 1, 'Mark Lewis': 1, 'Paul McGill': 1, 'Shawn Dempewolff-Barrett': 1, 'Philippe Petit': 1, 'Hamza Al-Khateab': 1, 'Sama Al-Khateab': 1, 'Waad Al-Khateab': 1, 'Jessie Arnold': 2, 'Margaret Bert': 1, 'Sam Ash': 1, 'Beatrice Pearson': 1, 'Howland Chamberlain': 1, 'John Garfield': 1, 'Paul Fix': 2, 'Paul McVey': 1, 'Roy Roberts': 1, 'Stanley Prager': 1, 'Thomas Gomez': 1, 'Haruko Kato': 1, 'Hiroshi Abe': 1, 'Hotaru Nomoto': 1, 'Kazuya Takahashi': 1, 'Ryôga Hayashi': 1, 'Shohei Tanaka': 1, 'Yoshio Harada': 1, 'You': 2, 'Yui Natsukawa': 1, 'Aditya Kumar': 1, 'Huma Qureshi': 1, 'Jaideep Ahlawat': 1, 'Jameel Khan': 1, 'Manoj Bajpai': 1, 'Nowaz': 1, 'Piyush Mishra': 1, 'Raj Kumar Yadav': 1, 'Richa Chadda': 1, 'Sankalp Acharekar': 1, 'Satyakam Anand': 1, 'Tigmanshu Dhulia': 1, 'Vineet Singh': 1, 'Vipin Sharma': 1, 'Zeishan Quadri': 1, 'Derek McGrath': 1, 'Don McGovern': 1, 'Gerry Salsberg': 1, 'Jim Henshaw': 1, 'Kathleen Miller': 1, 'Luana Anders': 1, 'Michael Chapman': 1, 'Michael Moriarty': 1, 'Nancy Allen': 2, 'Otis Young': 1, 'Pat Hamilton': 1, 'Douglas Brinkley': 1, 'Joseph Bruno': 1, 'Karen Carter': 1, 'Kathleen Blanco': 1, 'Louis Cataldie': 1, 'Darleen Asevedo': 1, 'Gralen Bryant Banks': 1, 'Harry Belafonte': 1, 'Jay Asevedo': 1, 'John Barry': 1, 'Lee Arnold': 1, 'Robert Bea': 1, 'Shelton Shakespear Alexander': 1, 'Terence Blanchard': 1, 'Wilhelmina Blanchard': 1, 'Alan Keyes': 1, 'Bob Barr': 1, 'Jean-Pierre Parent': 1, 'Luenell': 1, 'Mitchell Falk': 1, 'Pamela Anderson': 1, 'Ken Davitian': 1, 'Sacha Baron Cohen': 1, 'Ben Hall': 1, 'Jacob M Wade': 1, 'James Carroll': 1, 'Jenny Phagan': 1, 'Alan S. Kim': 1, 'Darryl Cox': 1, 'Eric Starkey': 1, 'Esther Moon': 1, 'Noel Cho': 1, 'Scott Haze': 1, 'Ye-ri Han': 1, 'Yeo-Jong Yun': 1, 'André Morell': 2, \"Arthur O'Sullivan\": 1, 'Diana Körner': 1, 'Frank Middlemass': 1, 'Gay Hamilton': 1, 'Godfrey Quigley': 1, 'Hardy Krüger': 1, 'Leonard Rossiter': 1, 'Marie Kean': 1, 'Murray Melvin': 1, 'Philip Stone': 1, 'Steven Berkoff': 1, 'Marisa Berenson': 1, \"Ryan O'Neal\": 1, 'Aoi Mizuhara': 2, 'Becca Khalil': 2, 'Diane Dehn': 2, 'Han Chen': 2, 'Hong Lu': 2, 'Hongli Liu': 1, 'Ines Laimins': 2, 'Jing Zhang': 1, 'Jinhang Liu': 1, 'Shimin Zhang': 1, 'X Mayo': 2, 'Xiang Li': 1, 'Yongbo Jiang': 2, 'Zhao Shuzhen': 2, 'Awkwafina': 1, 'Diana Lin': 1, 'Gil Perez-Abraham': 1, 'Hong Lin': 1, 'Jim Liu': 1, 'Shuzhen Zhou': 1, 'Tzi Ma': 1, 'Yang Xuejian': 1, 'Alice Isaaz': 1, 'Arthur Mazet': 1, 'Charles Berling': 2, 'Christian Berkel': 1, 'Hugo Conzelmann': 1, 'Jean Douchet': 1, 'Jean-Noël Martin': 1, 'Jonas Bloquet': 1, 'Judith Magre': 1, 'Laurent Lafitte': 2, 'Lucas Prisor': 1, 'Nicolas Beaucaire': 1, 'Olivia Gotanègre': 1, 'Raphaël Lenglet': 1, 'Stéphane Bak': 1, 'Vimala Pons': 1, 'Virginie Efira': 1, 'Aki Asakura': 1, 'Beau Bridges': 1, 'Brian Leone': 1, 'Caitlyn Leone': 1, 'Daniel Dae Kim': 1, 'Darren Criss': 1, 'Dean Cain': 1, 'Emily Bridges': 1, 'George Segal': 1, 'Hikaru Ijûin': 1, 'Hynden Walch': 1, 'Isao Hashizume': 1, 'John Cho': 3, 'Lucy Liu': 1, 'Michael Leone': 1, 'Oliver Platt': 1, 'Takaya Kamikawa': 1, 'Takeo Chii': 1, 'Yukiji Asaoka': 1, 'Chloë Grace Moretz': 1, 'James Marsden': 1, 'Mary Steenburgen': 1, 'David Torrence': 2, 'Forrester Harvey': 2, 'Frank McGlynn Sr.': 1, 'Holmes Herbert': 2, 'Errol Flynn': 1, 'Guy Kibbee': 1, 'Hobart Cavanaugh': 1, 'Lionel Atwill': 1, 'Olivia de Havilland': 1, 'Robert Barrat': 1, 'Ross Alexander': 1, 'Alain Eloy': 2, 'Anette Niro': 1, 'Batiste Sornin': 3, 'Christelle Cornil': 1, 'Christelle Delbrouck': 1, 'Fabienne Sciascia': 1, 'Fabrizio Rongione': 5, 'Hassaba Halibi': 1, 'Hicham Slaoui': 2, 'Lara Persain': 2, 'Laurent Caron': 1, 'Marion Cotillard': 2, 'Myriem Akeddiou': 2, 'Olivier Gourmet': 4, 'Philippe Jeusette': 1, 'Pili Groyne': 2, 'Rania Mellouli': 1, 'Simon Caudry': 2, 'Timur Magomedgadzhiev': 1, 'Yohan Zimmer': 1, 'Castor Feinberg': 1, 'Catherine Oliviere': 2, 'Deborah Unger': 2, 'Faith Kelly': 1, 'Frank Deal': 2, 'Fred Hechinger': 2, 'Gerald W. Jones': 2, 'Greg Crowe': 2, 'Jalesia Martinez': 1, 'Kaileen Quinones': 1, 'Kevin R. Free': 1, 'Luke Prael': 2, 'Marguerite Stimpson': 2, 'Natalie Carter': 2, 'Shacha Temirov': 1, \"Thomas J O'Reilly\": 1, 'Daniel Zolghadri': 1, 'Elsie Fisher': 1, 'Emily Robinson': 1, 'Imani Lewis': 1, 'Nora Mullins': 1, 'David Armstrong': 1, 'Laurindo Almeida': 1, 'Leon Alton': 1, 'Phil Arnold': 1, 'Rudolph Anders': 1, 'Amanda Blake': 1, 'Charles Bickford': 2, 'Hazel Shermet': 1, 'Jack Carson': 2, 'James Brown': 1, 'Lucy Marlow': 1, 'Tommy Noonan': 1, 'Ali Fadhil': 1, 'Campbell Scott': 1, 'Colin Powell': 1, 'Dick Cheney': 1, 'Donald Rumsfeld': 1, 'Feisal Istrabadi': 1, 'George Tenet': 1, 'Gerald Burke': 1, 'James Bamford': 1, 'Marc Garlasco': 1, 'Omar Fekeiki': 1, 'Paul Hughes': 1, 'Paul Wolfowitz': 1, 'Robert Hutchings': 1, 'Samantha Power': 1, 'Beulah Bondi': 1, 'Frank Faylen': 1, 'Gloria Grahame': 1, 'H.B. Warner': 2, 'Mary Treen': 1, 'Todd Karns': 1, 'Virginia Patton': 1, 'Donna Reed': 1, 'David Leon': 1, 'Julian Rhind-Tutt': 1, 'Martin Julier': 1, 'Natalie Palys': 1, 'Rupert Everett': 1, 'Russell Martin': 1, 'Amanda Donohoe': 1, 'Cassandra Halliburton': 1, 'Charlotte Curley': 1, 'Eve Camden': 1, 'Joanna Hall': 1, 'Peter Bride-Kirk': 1, 'Rupert Graves': 1, 'Thomas Copeland': 1, 'Claudia Geisler': 1, 'Daniela Holtz': 1, 'Eva Bay': 1, 'Felix Römer': 2, 'Imogen Kogge': 2, 'Jeff Burrell': 1, 'Kirsten Block': 1, 'Max Hopp': 1, 'Megan Gay': 1, 'Michael Maertens': 2, 'Nikola Kastner': 1, 'Nina Hoss': 2, 'Nina Kunzendorf': 2, 'Ronald Zehrfeld': 2, 'Sofia Exss': 1, 'Uwe Preuss': 2, 'Valerie Koch': 1, 'Alexandra Dimopoulos': 1, 'Carmen Leyva': 1, 'Chris Greene': 1, 'Diana Franco Galindo': 1, 'Evelia Garcia': 1, \"Jamill 'Peaches' Fowler\": 1, 'Jim Babel': 1, \"Lane 'Roc' Williams\": 1, 'Lasheka Brown': 1, 'Mamadou Lam': 1, 'Neill Fleeman': 1, 'Peter N. Anyieth': 1, 'Sarah S. Brooks': 1, 'Red West': 1, 'Souleymane Sy Savane': 1, 'Brylyn Wall': 1, 'Chad Foster': 1, 'Martín Wall': 1, 'Alex Weir': 1, 'Bernie Worrell': 1, 'Chris Frantz': 1, 'Ednah Holt': 1, 'Jerry Harrison': 1, 'Lynn Mabry': 1, 'Steven Scales': 1, 'Tina Weymouth': 1, 'Dante Fioretti': 1, 'Geraldine Hooper': 1, 'Jacopo Mariani': 1, 'Liana Del Balzo': 1, 'Vittorio Fanfoni': 1, 'Aldo Bonamano': 1, 'Clara Calamai': 1, 'Daria Nicolodi': 1, 'David Hemmings': 1, 'Eros Pagni': 1, 'Gabriele Lavia': 1, 'Giuliana Calandra': 1, 'Glauco Mauri': 1, 'Macha Méril': 1, 'Piero Mazzinghi': 1, 'Carole Carle': 1, 'Joe Jay Jalbert': 1, 'Rip McManus': 1, 'Tom J. Kirk': 1, 'Walter Stroud': 1, 'Camilla Sparv': 1, 'Dabney Coleman': 2, 'Gene Hackman': 1, 'Jerry Dexter': 1, 'Jim McMullan': 1, 'Kathleen Crowley': 1, 'Kenneth Kirk': 1, 'Oren Stevens': 1, 'Robert Redford': 4, 'Bolaji Badejo': 1, 'Eddie Powell': 1, 'Helen Horton': 1, 'Yaphet Kotto': 1, 'John Hurt': 1, 'Tom Skerritt': 1, 'Alphaeus Green Jr.': 2, 'Caitlin Ewald': 2, 'Erin Allegretti': 2, 'Haley Lu Richardson': 2, 'Lindsey Shope': 1, 'Michelle Forbes': 2, 'Parker Posey': 2, 'Reen Vogel': 1, 'Rory Culkin': 2, 'Rosalyn R. Ross': 1, 'Shani Salyers Stiles': 1, 'Wynn Reichert': 2, 'Clayton Nemrow': 2, 'Dylan Smith': 2, 'Jared Kasowski': 1, 'Jeb Berrier': 2, 'John Keating': 2, 'Kevin Michael Moore': 1, 'Manuel Rodriguez': 2, 'Mitchell Saddleback': 1, 'Orion Lee': 2, 'Patrick D. Green': 2, 'Phelan Davis': 1, 'T. Dan Hopkins': 1, 'Todd A. Robinson': 2, 'Alia Shawkat': 1, 'Ewen Bremner': 1, 'Gary Farmer': 1, 'Lily Gladstone': 1, 'Scott Shepherd': 1, 'Ted Rooney': 1, 'Toby Jones': 1, 'A.C. McDonald': 1, 'Bill Cardille': 1, 'Charles Craig': 1, 'Frank Doak': 1, 'George Kosana': 1, 'Judith Ridley': 1, 'Karl Hardman': 1, 'Keith Wayne': 1, 'Kyra Schon': 1, 'Marilyn Eastman': 1, 'Mark Ricci': 1, 'S. William Hinzman': 1, 'Samuel R. Solito': 1, 'Duane Jones': 1, \"Judith O'Dea\": 1, 'Basil Hoffman': 1, 'Beau Nelson': 1, 'Ben Kurland': 1, 'Bérénice Bejo': 1, 'Bitsie Tulloch': 1, 'Jean Dujardin': 1, 'Jen Lilley': 1, 'Joel Murray': 1, 'Missi Pyle': 1, 'Penelope Ann Miller': 1, 'Stuart Pankin': 1, 'Douglas Croft': 1, 'Eddie Foy Jr.': 1, 'Minor Watson': 1, 'Frances Langford': 1, 'George Barbier': 1, 'George Tobias': 1, 'Irene Manning': 1, 'James Cagney': 1, 'Jeanne Cagney': 1, 'Joan Leslie': 1, 'Richard Whorf': 1, 'Rosemary DeCamp': 1, 'Bill Hanrahan': 1, 'Don Dunphy': 1, 'Frank Adonis': 1, 'Frank Topham': 1, 'Joseph Bono': 1, 'Lori Anne Flax': 1, 'Mario Gallo': 2, 'Nicholas Colasanto': 2, 'Rita Bennett': 1, 'Theresa Saldana': 1, 'Cathy Moriarty': 1, 'Amir Ali Said': 1, 'Brian Price': 1, 'David Cross': 1, 'Debbon Ayer': 1, 'Gerry Robert Byrne': 1, 'Jane Adams': 1, 'Paulie Litt': 1, 'Ryan Whitney': 1, 'Thomas Jay Ryan': 1, 'Kate Winslet': 1, 'Tom Wilkinson': 3, 'Bruce Allpress': 2, 'Carla Rupuha': 1, 'Cliff Curtis': 1, 'Geneviève Lemon': 1, 'Ian Mune': 1, 'Kerry Walker': 1, 'Mahina Tunui': 1, 'Pete Smith': 1, 'Peter Dennett': 1, 'Te Whatanui Skipwith': 1, 'Tungia Baker': 1, 'Sam Neill': 3, 'Baldwin Cooke': 1, 'Helen Lynd': 1, 'John Beach': 1, 'Silver Tip Baker': 1, 'Whitney De Rahm': 1, 'Betty Field': 1, 'Bob Steele': 1, 'Burgess Meredith': 1, 'Granville Bates': 1, 'Leigh Whipper': 1, 'Lon Chaney Jr.': 3, 'Noah Beery Jr.': 1, \"Oscar O'Shea\": 1, 'Camila Sosa': 1, 'Carlos Defeo': 1, 'Daniel Giménez Cacho': 2, 'Daniel Veronese': 1, 'Jorge Román': 1, 'Juan Minujín': 1, 'Lola Dueñas': 1, 'Mariana Nunes': 1, 'Matheus Nachtergaele': 1, 'Nahuel Cano': 1, 'Rafael Spregelburd': 1, 'Ana Hoffman': 1, 'Dick Johnson': 1, 'Kirsten Johnson': 1, 'Vasthy Mompoint': 1, 'Eve McVeagh': 2, 'Harry Morgan': 2, 'Ian Macdonald': 2, 'Katy Jurado': 2, 'Lee Van Cleef': 1, 'Lloyd Bridges': 2, 'Morgan Farley': 1, 'Otto Kruger': 2, 'Gary Cooper': 1, 'Beverly Long': 1, 'Ian Wolfe': 2, 'Steffi Sidney': 1, 'Ann Doran': 1, 'Corey Allen': 1, 'James Dean': 1, 'Jim Backus': 1, 'Rochelle Hudson': 1, 'Sal Mineo': 1, 'William Hopper': 1, 'Eijiro Ozaki': 1, 'Hiroshi Watanabe': 1, 'Kazunari Ninomiya': 1, 'Luke Eberl': 1, 'Nae': 1, 'Nobumasa Sakagami': 1, 'Ryo Kase': 2, 'Shido Nakamura': 1, 'Sonny Saito': 1, 'Steve Santa Sekiyoshi': 1, 'Takashi Yamaguchi': 1, 'Takumi Bando': 1, 'Tsuyoshi Ihara': 1, 'Yoshi Ando': 1, 'Yuki Matsuzaki': 1, 'Ken Watanabe': 2, 'Jennifer Rush': 1, 'Birgit Doll': 1, 'Dieter Berner': 1, 'Elisabeth Rath': 1, 'Georg Friedrich': 1, 'Georges Kern': 1, 'Leni Tanzer': 1, 'Meat Loaf': 1, 'Robert Dietl': 1, 'Silvia Fenz': 1, 'Udo Samel': 1, 'Angelo Grisanti': 1, 'Charles Horvath': 1, 'Eddie Shaw': 1, 'James Joyce': 1, 'John Finnegan': 1, 'Christina Grisanti': 1, 'Fred Draper': 2, 'George Dunn': 1, 'Katherine Cassavetes': 1, 'Lady Rowlands': 1, 'Matthew Cassel': 1, 'Matthew Labyorteaux': 1, 'Peter Falk': 1, 'Adrian Burks': 1, 'April Grace': 1, 'Austin Stowell': 1, 'C.J. Vana': 1, 'Calvin C. Winbush': 1, 'Charlie Ian': 1, 'Chris Mulkey': 1, 'Dakota Lupo': 1, 'Damon Gupton': 1, 'Jayson Blair': 1, 'Jesse Mitchell': 1, 'Jocelyn Ayanna': 1, 'Kavita Patil': 1, 'Keenan Henson': 1, 'Kofi Siriboe': 1, 'Marcus Henderson': 1, 'Max Kasch': 1, 'Melissa Benoist': 2, 'Michael D. Cohen': 1, 'Miles Teller': 2, 'Nate Lang': 1, 'Paul Reiser': 2, 'Rogelio Douglas Jr.': 1, 'Suanne Spoke': 1, 'Tarik Lowe': 1, 'Tian Wang': 1, 'Tyler Kimball': 1, 'Alaistair Foley': 1, 'Bill Hodnett': 1, 'Danuse Ktrestova': 1, 'Darren Healy': 1, 'Geoff Minogue': 1, 'Gerard Hendrick': 1, 'Hugh Walsh': 1, 'Krzysztos Tlotka': 1, 'Mal Whyte': 1, 'Marcella Plunkett': 1, 'Niall Cleary': 1, 'Tomek Glowacki': 1, 'Wiltold Owski': 1, 'Glen Hansard': 1, 'Markéta Irglová': 1, 'Albert Bassermann': 1, 'Charles Wagenheim': 1, 'Eddie Conrad': 1, 'Edmund Gwenn': 2, 'Eduardo Ciannelli': 1, 'Frances Carson': 1, 'Herbert Marshall': 1, 'Martin Kosleck': 1, 'Robert Benchley': 1, 'Joel McCrea': 1, 'Laraine Day': 1, 'Andrea Dunbar': 1, 'Andrew Dunbar': 1, 'Christine Bottomley': 1, 'David Dunbar': 1, 'George Costigan': 1, 'Jimi Mistry': 1, 'Jonathan Jaynes': 1, 'Kate Rutter': 1, 'Lorraine Dunbar': 1, 'Matthew McNulty': 1, 'Monica Dolan': 1, 'Natalie Gavin': 1, 'Neil Dudgeon': 1, 'Pamela Dunbar': 1, 'Robert Emms': 1, 'Jian Jun Ding': 1, 'Kailong Jiang': 1, 'Ming Dao': 1, 'Xi Qi': 2, 'Zezhi Long': 1, 'Chun-hao Tuan': 1, 'Feiyang Luo': 1, 'Hong-Chi Lee': 1, 'Jue Huang': 1, 'Li Meng': 1, 'Lixun Xie': 1, 'Meihuizi Zeng': 1, 'Sylvia Chang': 1, 'Wei Tang': 1, 'Yanmin Bi': 1, 'Yongzhong Chen': 1, 'Andrew Cruickshank': 1, 'Clive Morton': 1, 'Norman Fisher': 1, 'Russell Thorndike': 1, 'Cedric Hardwicke': 1, 'Claire Bloom': 1, 'Laurence Olivier': 2, 'Mary Kerridge': 1, 'Nicholas Hannen': 1, 'Pamela Brown': 1, 'Paul Huson': 1, 'Ralph Richardson': 2, 'Stewart Allen': 1, 'Paul Mangwana': 1, 'Ernie Sabella': 1, 'Jim Cummings': 1, 'Jonathan Taylor Thomas': 1, 'Madge Sinclair': 1, 'Moira Kelly': 1, 'Nathan Lane': 1, 'Niketa Calame': 1, 'Robert Guillaume': 1, 'Rowan Atkinson': 1, 'Zoe Leader': 1, 'Whoopi Goldberg': 1, 'Alpha Robertson': 1, 'Arthur Hanes Jr.': 1, 'Carole C. Smitherman': 1, 'Carolyn Lee Brown': 1, 'Dianne Braddock': 1, 'Florence Terrell': 1, 'Harold McNair': 1, 'Helen Pegues': 1, 'Queen Nunn': 1, 'Chris McNair': 1, 'Fred Shuttlesworth': 1, 'Howell Raines': 1, 'Maxine McNair': 1, 'Wamo Reed Robertson': 1, 'Wyatt Tee Walker': 1, 'Åke Fridell': 3, 'Gunnar Sjöberg': 1, 'Sif Ruud': 2, 'Yngve Nordwall': 1, 'Bibi Andersson': 3, 'Björn Bjelfvenstam': 1, 'Folke Sundquist': 1, 'Gertrud Fridh': 2, 'Gunnar Björnstrand': 3, 'Gunnel Broström': 1, 'Ingrid Thulin': 2, 'Jullan Kindahl': 1, 'Naima Wifstrand': 2, 'Victor Sjöström': 1, 'Brad Renfro': 1, 'Brian George': 1, 'Charles C. Stevenson Jr.': 1, 'Dave Sheridan': 1, 'Debra Azar': 1, 'Illeana Douglas': 1, 'Pat Healy': 1, 'Rini Bell': 1, 'Stacey Travis': 1, 'T.J. Thyne': 1, 'Tom McGowan': 1, 'Steve Buscemi': 2, 'Thora Birch': 1, \"Manuel 'Manny' Gomez\": 1, 'Rukia Lumumba': 1, 'Sandy Gonzales': 1, 'Anders Ek': 1, 'Erik Strandmark': 1, 'Gunnar Olsson': 1, 'Siv Aleros': 1, 'Bengt Ekerot': 2, 'Bertil Anderberg': 1, 'Gunnel Lindblom': 1, 'Inga Gill': 1, 'Inga Landgré': 1, 'Maud Hansson': 1, 'Nils Poppe': 1, 'Ana López Mercado': 1, 'Andrés Almeida': 1, 'Arturo Ríos': 1, 'Diana Bracho': 1, 'Diego Luna': 2, 'Emilio Echevarría': 1, 'Giselle Audirac': 1, 'Juan Carlos Remolina': 1, 'Liboria Rodríguez': 1, 'María Aura': 1, 'Marta Aura': 1, 'Nathan Grinberg': 1, 'Verónica Langer': 1, 'Gael García Bernal': 1, 'Alex Jordan': 1, 'Ben Miller': 2, 'Ben Whishaw': 2, 'Brendan Gleeson': 2, 'Daniel Stisen': 2, 'Deepak Anand': 1, 'Emeson Nwolie': 1, 'Helena Holmes': 2, 'Hugh Bonneville': 2, 'Hugh Grant': 3, 'Imelda Staunton': 3, 'Jackson Kai': 1, 'Jag Patel': 1, 'Jamie Demetriou': 1, 'Jason Wright': 1, 'Javone Prince': 1, 'Jermaine Humes': 1, 'Jessica Hynes': 2, 'Joanna Lumley': 1, 'Julie Walters': 4, 'Kobna Holdbrook-Smith': 1, 'Kya Garwood': 1, 'Madeleine Harris': 2, 'Marlonde Pierre': 1, 'Nicholas Woodeson': 2, 'Peter Capaldi': 2, 'Robbie Gee': 1, 'Sally Hawkins': 4, 'Samuel Joslin': 2, 'Sanjeev Bhaskar': 1, 'Tom Davis': 1, 'Marie-France Alvarez': 1, 'Ben Wright': 1, 'Debbie Shapiro Gravitte': 1, 'Hamilton Camp': 1, 'Robert Weil': 1, 'Will Ryan': 1, 'Buddy Hackett': 1, 'Christopher Daniel Barnes': 1, 'Edie McClurg': 1, 'Jason Marin': 1, 'Kenneth Mars': 1, 'Paddi Edwards': 1, 'Pat Carroll': 1, 'Samuel E. Wright': 1, 'Marty Walsh': 1, 'Allie Mickelson': 1, 'Andrew Farago': 1, 'Bronwen Coleman': 1, 'Craig Archibald': 1, 'David Wilson Barnes': 1, 'Kate Shindle': 1, 'Kelci Stephenson': 1, 'Ken Krotowich': 1, 'Kwesi Ameyaw': 1, 'Michael J. Burg': 1, 'R.D. Reid': 1, 'Rob McLaughlin': 1, 'Alexandr Piskunov': 1, 'Andrey Korzhenevskiy': 1, 'Andy Gathergood': 1, 'Cara Horgan': 1, 'Dermot Crowley': 1, 'Diana Quick': 1, 'Jeremy Limb': 1, 'Jonathan Aris': 2, 'Justin Edwards': 3, 'Paul Ready': 2, 'Paul Whitehouse': 1, 'Simon Russell Beale': 2, 'Tom Brooke': 2, 'Yulya Muhrygina': 2, 'Adrian McLoughlin': 1, 'Andrea Riseborough': 3, 'Jason Isaacs': 1, 'Jeffrey Tambor': 1, 'Michael Palin': 1, 'Olga Kurylenko': 1, 'Paddy Considine': 1, 'Richard Brake': 1, 'Rupert Friend': 1, 'Dorothy Christy': 1, 'Harry Antrim': 1, 'Kevin Burke': 1, 'Lela Bliss': 1, 'Walden Boyle': 1, 'Gene Lockhart': 1, 'Jack Albertson': 1, 'John Payne': 1, \"Maureen O'Hara\": 1, 'Philip Tonge': 1, 'William Frawley': 1, 'Joel Allen': 1, 'Monya Andre': 1, 'Norma Varden': 1, 'Farley Granger': 1, 'Howard St. John': 1, 'John Brown': 1, 'Jonathan Hale': 1, 'Kasey Rogers': 1, 'Marion Lorne': 1, 'Robert Walker': 1, 'Ruth Roman': 1, 'Askhat Kuchencherekov': 1, 'Bereke Turganbayev': 1, 'Ondas Besikbasov': 1, 'Samal Esljamova': 1, 'Tolepbergen Baisakalov': 1, 'Abbie Cornish': 2, 'Amanda Mason Warren': 1, 'Brendan Sexton III': 1, 'Clarke Peters': 2, 'Kerry Condon': 2, 'Malaya Rivera Drew': 1, 'Nick Searcy': 3, 'Peter Dinklage': 2, 'Sam Rockwell': 2, 'Samara Weaving': 2, 'Sandy Martin': 1, 'Selah Atwood': 1, 'Željko Ivanek': 2, 'Alejandro Barrios': 1, 'Darrell Britt-Gibson': 1, 'Jason Redford': 1, 'Riya May Atwood': 1, 'Alfonso Glenn': 1, 'Daniel Moll': 1, 'Kevin V. Kelley': 1, 'Meatball': 1, 'Tyrone Moore': 1, 'Adia Dillon': 1, \"Christine'a Rainey\": 1, 'Christopher Rainey': 1, 'David Barnes': 1, 'Isaiah Byrd': 1, 'James Blakely': 1, 'Nicole Byrd': 1, 'P.J. Rainey': 1, 'Price': 1, 'William Withers': 1, 'Arnaud Henriet': 1, 'Jean-Sébastien Chauvin': 1, 'Luc Etienne': 1, 'Richard Leboeuf': 1, 'Xavier Legrand': 1, 'Benoît Henriet': 1, 'Francine Racette': 1, 'François Berléand': 1, 'François Négret': 1, 'Gaspard Manesse': 1, 'Pascal Rivet': 1, 'Philippe Morier-Genoud': 2, 'Raphael Fejtö': 1, 'Stanislas Carré de Malberg': 1, 'Alexander Beyer': 2, 'Rüdiger Vogler': 2, 'André Marcon': 2, 'Charline Bourgeois-Tacquet': 1, 'Edith Scob': 1, 'Elise Lhomeau': 1, 'Grégoire Montana': 1, 'Guy-Patrick Sainderichin': 1, 'Larissa Guist': 1, 'Lina Benzerti': 1, 'Lionel Dray': 1, 'Marion Ploquin': 1, 'Rachel Arditi': 1, 'Roman Kolinka': 1, 'Sarah Lepicard': 1, 'Solal Forte': 1, 'Yves Heck': 1, 'Adrien Brody': 2, 'Edward Norton': 4, 'Jason Schwartzman': 1, 'Jude Law': 2, 'Owen Wilson': 1, 'Ayberk Pekcan': 1, 'Demet Akbag': 1, 'Ekrem Ilhan': 1, 'Emirhan Doruktutan': 1, 'Fatma Deniz Yildiz': 1, 'Haluk Bilginer': 1, 'Mehmet Ali Nuroglu': 1, 'Melisa Sözen': 1, 'Nadir Saribacak': 1, 'Nejat Isler': 1, 'Rabia Özel': 1, 'Serhat Mustafa Kiliç': 1, 'Tamer Levent': 1, 'Andrew Dice Clay': 4, 'Andrew Michaels': 2, 'Bonnie Somerville': 4, 'Brandi Carlile': 2, 'Carlo Sciortino': 2, \"D.J. 'Shangela' Pierce\": 4, 'Dave Chappelle': 4, 'Eddie Griffin': 4, 'Erik Landreth': 2, 'Eunice Chiweshe Goldstein': 2, 'Gabe Fazio': 2, 'Greg Grunberg': 4, 'Jacob Taylor': 2, 'Joseph Kelly': 2, 'Lady Gaga': 4, 'Lukas Nelson': 2, 'Michael D. Roberts': 2, 'Michael Harney': 4, 'Presley Cash': 2, 'Rafi Gavron': 4, 'Rebecca Field': 2, 'Sam Elliott': 4, 'Sean Ayub': 2, 'Steven Ciceron': 2, 'Willam Belli': 4, 'Alec Baldwin': 2, 'Marlon Williams': 2, 'Barack Obama': 1, 'Edward Snowden': 2, 'Ewen MacAskill': 1, 'Glenn Greenwald': 2, 'Jacob Appelbaum': 1, 'Jeremy Scahill': 1, 'Julian Assange': 1, 'Kevin Bankston': 1, 'Laura Poitras': 1, 'Lindsay Mills': 1, 'William Binney': 1, 'Christophe Charles': 1, 'Didier Perez': 1, 'Elisabeth Joinet': 1, 'Félix Cantet': 1, 'Jean-Pierre Mangeot': 1, 'Marie Cantet': 1, 'Maxime Sassier': 1, 'Monique Mangeot': 1, 'Nicolas Kalsch': 1, 'Nigel Palmer': 1, 'Olivier Lejoubioux': 1, 'Philippe Jouannet': 1, 'Serge Livrozet': 1, 'Karin Viard': 1, 'Carl Balhaus': 1, 'Charles Puffy': 1, 'Eduard von Winterstein': 1, 'Gerhard Bienert': 1, 'Hans Roth': 1, 'Reinhold Bernt': 1, 'Robert Klein-Lörk': 1, 'Roland Varno': 1, 'Rolf Müller': 1, 'Wilhelm Diegelmann': 1, 'Emil Jannings': 1, 'Hans Albers': 1, 'Kurt Gerron': 1, 'Marlene Dietrich': 1, 'Rosa Valetti': 1, 'Carol Mansell': 1, 'Jason Beghe': 1, 'Ken Swofford': 1, 'Lucinda Jenney': 1, 'Michael Madsen': 1, 'Shelly Desai': 1, 'Sonny Carl Davis': 1, 'Stephen Polk': 1, 'Stephen Tobolowsky': 1, 'Timothy Carhart': 1, 'Geena Davis': 2, 'Andrew Moodie': 1, 'Carolyn Hetherington': 1, 'Clare Coulter': 1, 'Deanna Dezmari': 1, 'Grace Lynn Kung': 1, 'Judy Sinclair': 1, 'Lili Francks': 1, 'Olympia Dukakis': 1, 'Stacey LaBerge': 1, 'Thomas Hauff': 1, 'Tom Harvey': 1, 'Wendy Crewson': 2, 'Gordon Pinsent': 1, 'Bobby Henrey': 1, 'Dandy Nichols': 1, 'Gerard Heinz': 1, 'Jack Hawkins': 2, 'James Hayter': 1, 'Joan Young': 1, 'Karel Stepanek': 1, 'Sonia Dresdel': 1, 'Torin Thatcher': 1, 'Michèle Morgan': 1, 'Al Silvani': 1, 'Álvaro López': 1, 'Bill Riddle': 1, 'Carl D. Parker': 1, 'Ruben Navarro': 1, 'Art Aragon': 1, 'Billy Walker': 1, 'Curtis Cokes': 1, 'Sixto Rodriguez': 1, 'Stacy Keach': 3, 'Susan Tyrrell': 1, 'Wayne Mahan': 1, 'Aryeh Cherner': 2, 'Eden Daniel': 1, 'Eden Gmliel': 1, 'Ilia Grosz': 1, 'Itay Exlroad': 1, 'Yael Eisenberg': 1, 'Dekel Adin': 1, 'Gefen Barkai': 1, 'Lior Ashkenazi': 1, 'Rami Buzaglo': 1, 'Ran Buxenbaum': 1, 'Sarah Adler': 1, 'Shaul Amir': 1, 'Shira Haas': 1, 'Yehuda Almagor': 1, 'Yonaton Shiray': 1, 'Adrian Ross Magenty': 1, 'Helena Bonham Carter': 3, 'Ian Latimer': 1, 'Jemma Redgrave': 2, 'Jo Kendall': 1, 'Joseph Bennett': 1, 'Mary Nash': 1, 'Prunella Scales': 1, 'Samuel West': 1, 'Siegbert Prawer': 1, 'Susie Lindeman': 1, 'Vanessa Redgrave': 1, 'Anthony Hopkins': 3, 'Emma Thompson': 2, 'Clytie Jessop': 1, 'Eric Woodburn': 1, 'Isla Cameron': 1, 'Martin Stephens': 1, 'Megs Jenkins': 1, 'Pamela Franklin': 1, 'Deborah Kerr': 1, 'Peter Wyngarde': 1, 'Adnan Kundi': 1, 'Evie Wray': 1, 'Imogen Poots': 1, 'Olivia Williams': 1, 'Ray Burnet': 1, 'Rufus Sewell': 1, 'Alyssa Lynn': 2, 'Art Hickman': 1, 'Bob Werfelman': 1, 'David Pittman': 1, 'Eric Sahlstrom': 1, 'Jeff Kober': 2, 'Jeffery Rifflard': 2, 'Kyle Stoltz': 2, 'Lane Stiemsma': 2, 'Michael J. Prosser': 1, 'Peter Simpson': 2, 'Sabina Mach': 1, 'Spencer S. Hanley': 1, 'Stephanie Barton-Farcas': 1, 'Tamera Westlake': 1, 'Thomasin McKenzie': 2, 'Tony Ruiz': 1, 'Zack Leary': 1, 'Ayanna Berkshire': 1, 'Ben Foster': 2, 'Dana Millican': 1, 'Derek John Drescher': 1, 'Erik McGlothlin': 1, 'Michael Draper': 1, 'Peter James DeLuca': 1, 'Ryan Joiner': 1, 'Aleksander Bardini': 1, 'Barbara Dziekan': 1, 'Cezary Harasimowicz': 1, 'Cezary Pazura': 1, 'Francis Coffinet': 1, 'Grzegorz Warchol': 1, 'Janusz Gajos': 1, 'Jerzy Nowak': 1, 'Jerzy Stuhr': 1, 'Michel Lisowski': 1, 'Piotr Machalica': 1, 'Zbigniew Zamachowski': 1, 'Benjamin Whitrow': 1, 'Jane Horrocks': 2, 'Jo Allen': 1, 'John Sharian': 1, 'Laura Strachan': 1, 'Lisa Kay': 1, 'Lynn Ferguson': 1, 'Penélope Cruz': 3, 'Phil Daniels': 1, 'Tony Haygarth': 1, 'Julia Sawalha': 1, 'Anthony Andrews': 1, 'Calum Gittins': 2, 'Derek Jacobi': 1, 'Dominic Applewhite': 1, 'Eve Best': 1, 'Filippo Delaunay': 1, 'Freya Wilson': 1, 'Harry Sims': 1, 'Max Callum': 1, 'Tim Downie': 1, 'Colin Firth': 2, 'Alma Sisneros': 1, 'Amber Midthunder': 1, 'Buck Taylor': 1, 'Chris Pine': 3, 'Crystal Gonzales': 1, 'Dylan Kenin': 1, 'Gil Birmingham': 1, 'Gregory Cruz': 1, 'Howard Ferguson Jr.': 1, 'J. Nathan Simmons': 1, 'Jackamoe Buzzell': 1, 'Joe Berryman': 1, 'John-Paul Howard': 1, 'Katy Mixon': 1, 'Keith Meriweather': 1, 'Kevin Rankin': 1, 'Kristin Berg': 1, 'Lora Martinez-Cunningham': 1, 'Marin Ireland': 1, 'Melanie Papalia': 1, 'Ricky Lee': 1, 'Taylor Sheridan': 1, 'William Sterchi': 1, 'David Kaye': 1, 'Delroy Lindo': 1, 'Elie Docter': 1, 'Jeremy Leary': 1, 'Jerome Ranft': 1, 'Mickie McGowan': 1, 'Edward Asner': 1, 'Jordan Nagai': 1, 'Ben Harrison': 1, 'Georges Cardona': 1, 'Grace Dane Mazur': 1, 'Jasmine Kin Kia Ng': 1, 'Philip Cheah': 1, 'Sandi Tan': 1, 'Sophia Siddique Harvey': 1, 'Stephen Tyler': 1, 'Betty Alexander': 1, 'Bill Alcorn': 1, 'George Anderson': 1, 'James Anderson': 2, 'Ramsay Ames': 1, 'Ann Blyth': 1, 'Jo Ann Marlowe': 1, 'Joan Crawford': 1, 'Veda Ann Borg': 1, 'Zachary Scott': 1, 'Charles Durning': 2, 'Debra Mooney': 1, 'Doris Belack': 1, 'Ellen Foley': 1, 'George Gaynes': 1, 'Jessica Lange': 1, 'Lynne Thigpen': 1, 'Peter Gatto': 1, 'Ronald L. Schwary': 1, 'Dustin Hoffman': 1, 'Allah-Morad Rashtian': 1, 'Bahram Sarbazi': 1, 'Faegh Mohamadi': 1, \"Fathollah Sa'edi\": 1, 'Hossein Rashid-Ghamat': 1, 'Iran Ghobadi': 1, 'Mariam Pouyani': 1, 'Rojan Hosseini': 1, 'Saeed Mohammadi': 1, 'Shahab Ebrahimi': 1, 'Alice Ghostley': 1, 'Brock Peters': 1, 'Collin Wilcox Paxton': 1, 'Crahan Denton': 1, 'Estelle Evans': 1, 'Frank Overton': 1, 'John Megna': 1, 'Richard Hale': 1, 'Rosemary Murphy': 1, 'Ruth White': 1, 'William Windom': 1, 'Barbara Colen': 1, 'Buda Lira': 1, 'Carla Ribas': 1, 'Daniel Porpino': 1, 'Fernando Teixeira': 1, 'Germano Melo': 1, 'Humberto Carrão': 1, 'Irandhir Santos': 2, 'Julia Bernat': 1, 'Maeve Jinkings': 1, 'Paula De Renor': 1, 'Pedro Queiroz': 1, 'Rubens Santos': 1, 'Sônia Braga': 1, 'Taylor Moore Silzer': 1, 'Thaia Perez': 1, 'Zoraide Coleto': 1, 'Cheng Xu': 1, 'Jiang Du': 1, 'Jingjing Li': 1, 'Liya Ai': 1, 'Mei Yong': 1, 'Roy Wang': 1, 'Wang Jinchun': 1, 'Zhao-Yan Guo-Zhang': 2, 'Bruce McCandless II': 1, 'Charles Duke': 2, 'Gene Kranz': 1, 'Glynn Lunney': 1, 'Jim Lovell': 1, 'Lyndon Johnson': 2, 'Buzz Aldrin': 1, 'Clifford E. Charlesworth': 1, 'Jack Benny': 1, 'Janet Armstrong': 1, 'Joan Ann Archer': 1, 'Johnny Carson': 1, 'Michael Collins': 1, 'Neil Armstrong': 1, 'Walter Cronkite': 1, 'David Thewlis': 3, 'Jennifer Jason Leigh': 2, 'Tom Noonan': 2, 'Kelsey Grammer': 1, 'Wayne Knight': 1, 'Angela Bassett': 2, 'Atandwa Kani': 1, 'Bambadjan Bamba': 1, 'Cecil M. Henry': 1, 'Chadwick Boseman': 3, 'Danai Gurira': 2, 'Daniel Kaluuya': 2, 'David S. Lee': 1, 'Florence Kasumba': 1, 'Jeremy Sample': 1, 'John Kani': 1, 'Martin Freeman': 2, 'Michael B. Jordan': 2, 'Michael David Yuhl': 1, 'Phylicia Rashad': 1, 'Sebastian Stan': 1, 'Stan Lee': 3, 'Sterling K. Brown': 2, 'Sydelle Noel': 1, 'Winston Duke': 2, 'Aine Ni Mhuiri': 1, 'Alisha Heng': 1, 'Alisha Reis': 1, 'Barbara Drennan': 1, 'Brid Brennan': 1, 'Domhnall Gleeson': 1, \"Eileen O'Higgins\": 1, 'Emily Bett Rickards': 1, 'Emma Lowe': 1, 'Emory Cohen': 1, 'Eva Birthistle': 1, 'Eve Macklin': 1, 'Fiona Glascott': 1, 'Gillian McCarthy': 1, 'Hugh Gormley': 1, 'James Corscadden': 1, 'Jane Brennan': 1, 'Jenn Murray': 2, 'Karen Belfo': 1, 'Maeve McGrath': 1, \"Mary O'Driscoll\": 1, 'Matt Glynn': 1, 'Michael Zegen': 1, 'Nora-Jane Noone': 1, 'Paulino Nuñes': 1, 'Peter Campion': 1, 'Hanae Kan': 1, 'Kazuyoshi Kushida': 1, \"Ken'ichi Endô\": 1, 'Sei Hiraizumi': 1, 'Takako Tate': 1, 'Yûichi Kimura': 1, 'Yukiko Okamoto': 1, 'Ayu Kitaura': 1, 'Hiei Kimura': 1, 'Momoko Shimizu': 1, 'Yûya Yagira': 1, 'Claire Skinner': 1, 'David Neilson': 1, 'Harriet Thorpe': 1, 'Jack Thorpe-Baker': 1, 'Moya Brady': 1, 'Paul Trussel': 1, 'Alison Steadman': 1, 'Anita White': 1, 'Ann Shirley': 1, 'Dave Mazzie': 1, 'Elizabeth Deering': 1, 'Julie Gambol': 1, 'Darlene Conley': 1, 'Dorothy Gulliver': 1, 'Gene Darfler': 1, 'Joanne Moore Jordan': 1, 'Lynn Carlin': 1, 'Seymour Cassel': 1, 'Val Avery': 1, 'Arthur Malet': 2, 'Arthur Treacher': 1, 'David Tomlinson': 1, 'Ed Wynn': 1, 'Glynis Johns': 1, 'Hermione Baddeley': 1, 'James Logan': 1, 'Karen Dotrice': 1, 'Matthew Garber': 1, 'Reginald Owen': 2, 'Reta Shaw': 1, 'Dick Van Dyke': 1, 'Julie Andrews': 1, 'Brad Dourif': 1, 'Bruce Hopkins': 1, 'Jed Brophy': 1, 'Paris Howe Strewe': 1, 'Sam Comery': 1, 'Anne Gerard': 1, 'Bernard Marbaix': 1, 'Delphine Tomson': 1, 'François Olivier': 1, 'Frédéric Bodson': 1, 'Jean-Claude Boniverd': 1, 'Jérémie Segard': 1, 'Leon Michaux': 1, 'Marie-Rose Roland': 1, 'Samuel De Ryck': 1, 'Stéphane Marsin': 1, 'Déborah François': 1, 'Jérémie Renier': 3, 'Sotiris Tzelios': 1, 'Thomas M. Wright': 1, 'Anni Finsterer': 1, 'Bryan Brown': 1, 'Ewen Leslie': 1, 'Gibson John': 1, 'Hamilton Morris': 1, 'Lachlan J. Modrzynski': 1, 'Matt Day': 1, 'Natassia Gorey Furber': 1, 'Tremayne Doolan': 1, 'Trevon Doolan': 1, 'Mary Luana Williams': 2, 'Jane Fonda': 1, 'Lily Tomlin': 3, 'Nathalie Vadim': 1, 'Paula Weinstein': 1, 'Richard Nixon': 3, 'Ted Turner': 1, 'Tom Hayden': 1, 'Troy Garity': 1, 'Da-wit Lee': 1, 'Hira Kim': 1, 'Jeong-hie Yun': 1, 'Nae-sang Ahn': 1, 'Yong-taek Kim': 1, 'Wendy Whelan': 2, 'Akira Ito': 1, 'Amy Ryan': 2, 'And Palladino': 1, 'Anna Hardwick': 1, 'Benjamin Kanes': 1, 'Bomber Hurley-Smith': 1, 'Carrie Ormond': 1, 'Clark Middleton': 1, 'Damian Young': 1, 'David Fierro': 1, 'David Itchkawitz': 1, 'Dusan Dukic': 1, 'Jamahl Garrison-Lowe': 1, 'Jeremy Shamos': 2, 'Joel Garland': 1, \"Katherine O'Sullivan\": 1, 'Keenan Shimizu': 1, 'Kelli Wilcoxen': 1, 'Kelly Southerland': 1, 'Kenny Chin': 1, 'Lindsay Duncan': 1, 'Marian Volk': 1, 'Naomi Watts': 2, 'Natalie Gold': 1, 'Paula Blum': 1, 'Raymond Mamrak': 1, 'Stefanie Bari': 1, 'Stefano Villabona': 1, 'Teena Byrd': 1, 'Zach Galifianakis': 2, 'Antony Sher': 1, 'Bridget McConnell': 1, 'Georgie Glen': 1, 'Judi Dench': 1, 'Martin Clunes': 1, 'Nicholas Boulton': 1, 'Patrick Barlow': 1, 'Sandra Reinton': 1, 'Simon Callow': 1, 'Steven Beard': 1, \"Steven O'Donnell\": 1, 'Joseph Fiennes': 1, 'Al Bridge': 1, 'Claud Allister': 1, 'Mary Forbes': 1, 'Ruth Cherrington': 1, 'Wyn Cahoon': 1, \"Alexander D'Arcy\": 1, 'Cecil Cunningham': 1, 'Esther Dale': 1, 'Joyce Compton': 1, 'Molly Lamont': 1, 'Robert Allen': 1, 'Robert Warwick': 1, 'Alice Kremelberg': 2, 'Anna Deavere Smith': 2, 'Anne Hollister': 1, 'Ben Rauch': 1, 'Brandon Scott Jones': 1, 'Joanna Adler': 2, 'Kevin Carolan': 1, 'Marc Evan Jackson': 2, 'Marcus Choi': 1, 'Mary B. McCann': 1, 'Michael Laurence': 1, 'Moisés Acevedo': 1, 'Rosal Colon': 1, \"Shae D'Lyn\": 2, 'Stephen Spinella': 2, 'Tiffany Blair': 1, 'Ben Falcone': 1, 'Christian Navarro': 1, 'Erik LaRay Harvey': 1, 'Gregory Korostishevsky': 1, 'Jane Curtin': 1, 'Jennifer Westfeldt': 1, 'Julie Ann Emery': 1, 'Melissa McCarthy': 1, 'Pun Bandhu': 1, 'Ben Andrews': 1, 'Gilly Fogg': 1, 'Jerome Burelbach': 1, 'Jon Kenny': 2, 'Michael McGrath': 1, 'Niamh Moyles': 2, 'Nora Twomey': 2, 'Oliver McGrath': 2, 'Paul Young': 2, 'Vince Drews': 1, 'Amy Dunne': 1, 'Eva Whittaker': 1, 'Honor Kneafsey': 1, 'John Morton': 1, 'Maria Doyle Kennedy': 1, 'Simon McBurney': 1, 'Tommy Tiernan': 1, 'Harry C. Bradley': 1, 'Alan Hale': 1, 'Arthur Hoyt': 1, 'Blanche Friderici': 1, 'Charles C. Wilson': 1, 'Clark Gable': 2, 'Claudette Colbert': 1, 'Ernie Adams': 1, 'Jameson Thomas': 1, 'Roscoe Karns': 1, 'Walter Connolly': 1, 'Anesha Bailey': 1, 'Charles Jarman': 1, 'Glenn Cho': 1, 'Joan Boisjoly': 1, 'Paul Jarrett': 1, 'Aidan Dee': 1, 'Anthony Bolognese': 1, 'Barbara Eve Harris': 1, 'Charlie Hannah': 1, 'Elle-Máijá Tailfeathers': 1, 'James Angus Cowan': 1, 'Jay Cardinal Villeneuve': 1, 'Sonny Surowiec': 1, 'Tony Massil': 1, 'Violet Nelson': 1, 'Randal Douc': 1, 'Donald Stuart': 1, 'Merle Tottenham': 1, 'Dudley Digges': 2, 'Gloria Stuart': 1, 'Harry Stubbs': 1, 'William Harrigan': 1, 'Eugenie Besserer': 1, 'Gus Arnheim': 1, 'Henry Armetta': 1, 'Inez Palange': 1, 'Ann Dvorak': 1, 'C. Henry Gordon': 1, 'Karen Morley': 1, 'Osgood Perkins': 1, 'Paul Muni': 1, 'Purnell Pratt': 1, 'Tully Marshall': 1, 'Vince Barnett': 1, 'Enrique Lucero': 1, 'Jack Knight': 1, 'Pancho Córdova': 1, 'Pepe Callahan': 1, 'Vincent Palmieri': 1, 'Elliott Gould': 1, 'Jim Bouton': 1, 'Jo Ann Brody': 1, 'Mark Rydell': 1, 'Nina van Pallandt': 1, 'Stephen Coit': 1, 'Warren Berlinger': 1, 'Ann Robinson': 1, 'David Tomack': 1, 'Lee Goodman': 1, 'Sandra Gould': 1, 'Troy Donahue': 1, \"Dan O'Herlihy\": 1, 'John Vivyan': 1, 'Juanita Moore': 1, 'Karin Dicker': 1, 'Lana Turner': 1, 'Robert Alda': 1, 'Sandra Dee': 1, 'Susan Kohner': 1, 'Terry Burnham': 1, 'Agustín Almodóvar': 2, 'Alba García': 1, 'César Vicente': 2, 'Eva Martín': 2, 'Julián López': 2, 'Pedro Casablanc': 1, 'Raúl Arévalo': 2, 'Sara Sierra': 1, 'Susi Sánchez': 2, 'Antonio Banderas': 1, 'Asier Etxeandia': 1, 'Asier Flores': 1, 'Cecilia Roth': 2, 'Julieta Serrano': 1, 'Leonardo Sbaraglia': 1, 'Nora Navas': 1, 'Rosalía': 1, \"Ariane L'Heureux\": 2, 'Guillaume Laurin': 1, 'Jean-Simon Leduc': 1, 'Mylène Mackay': 1, 'Noémi Lira': 1, 'Tayna V. Lavoie': 1, 'Antoine Marchand Gagnon': 1, 'Brett Dier': 1, 'Émile Bilodeau': 1, 'Emilie Bierre': 1, 'Étienne Galloy': 1, 'Marc Beaupré': 1, 'Marie Jasmina': 1, 'Noée Abita': 1, 'Paul Ahmarani': 1, 'Pier-Luc Funk': 1, 'Frank Locatell': 1, 'Heidi Hammel': 1, 'James F. Bell': 1, 'Jon Lomberg': 1, 'Suzanne Dodd': 1, 'Carolyn Porco': 1, 'Charley Kohlhase': 1, 'Edward Stone': 1, 'Fran Bagenal': 1, 'Frank Drake': 1, 'John Casani': 1, 'Larry Soderblom': 1, 'Lawrence Krauss': 1, 'Nick Sagan': 1, 'Timothy Ferris': 1, 'Angelo Aliberti': 1, 'Antonio Aiello': 1, 'Antonio Amato': 1, 'Carmine Paternoster': 1, 'Ciro Petrone': 1, 'Denis Bajrami': 1, 'Dora Angelone': 1, 'Gigio Morra': 1, 'Marco Macor': 1, 'Maria Nazionale': 1, 'Salvatore Cantalupo': 1, 'Vincenzo Altamura': 1, 'Gianfelice Imparato': 1, 'Salvatore Abruzzese': 1, 'Toni Servillo': 1, 'Alizé': 1, 'Axel': 1, 'Franck': 1, 'Georges Lopez': 1, 'Guillaume': 1, 'Jessie': 1, 'Johan': 1, 'Johann': 1, 'Jonathan': 1, 'Julien': 1, 'Laura': 1, 'Létitia': 1, 'Marie-Elizabeth': 1, 'Nathalie': 1, 'Olivier': 1, 'Adam Hollander': 1, 'Brent Le Page': 1, 'Brian Andrews': 1, 'John Michael Graham': 1, 'Kyle Richards': 1, 'Mickey Yablans': 1, 'Nancy Stephens': 1, 'Robert Phalen': 1, 'Donald Pleasence': 1, 'Jamie Lee Curtis': 1, 'Tony Moran': 1, 'Hal Landon Jr.': 1, 'Jennifer Chambers Lynch': 1, 'John Monez': 1, 'T. Max Graham': 1, 'Allen Joseph': 1, 'Charlotte Stewart': 1, 'Jack Fisk': 1, 'Jack Nance': 1, 'Jean Lange': 1, 'Jeanne Bates': 1, 'Judith Roberts': 1, 'Laurel Near': 1, 'Thomas Coulson': 1, 'V. Phipps-Wilson': 1, 'Beverly Younger': 1, 'Doug Kimball': 1, 'Edward Croke': 1, 'Marrian Walters': 1, 'Bob McAndrew': 1, 'Charles Geary': 1, 'Christine Bergstrom': 1, 'Harold Blankenship': 1, 'Marianna Hill': 1, 'Peter Bonerz': 1, 'Robert Forster': 1, 'Sid McCoy': 1, 'William Sickingen': 1, 'Francesco Mannino': 1, 'Francesco Paterna': 1, 'Giuseppe Fragapane': 1, 'Maria Costa': 1, 'Maria Signorello': 1, 'Mattias Cucina': 1, 'Pietro Bartolo': 1, 'Samuele Caruana': 1, 'Samuele Pucillo': 1, 'Andreas Katsulas': 1, 'Daniel Roebuck': 1, 'Jeroen Krabbé': 1, 'Joe Pantoliano': 1, 'John Drummond': 1, 'Joseph F. Kosala': 1, 'Julianne Moore': 1, 'L. Scott Caldwell': 1, 'Miguel Nino': 1, 'Ron Dean': 1, 'Sela Ward': 1, 'Tom Wood': 1, 'Tony Fosco': 1, 'Alexander Welles': 1, 'Gary Graver': 1, 'Howard Hughes': 1, 'Richard Drewett': 1, 'Clifford Irving': 1, 'David Walsh': 1, 'Edith Irving': 1, 'Elmyr de Hory': 1, 'François Reichenbach': 1, 'Oja Kodar': 1, 'Richard Wilson': 1, 'Ahmad Mehranfar': 1, 'Mani Haghighi': 1, \"Ra'na Azadivar\": 1, 'Saber Abbar': 1, 'Taraneh Alidoosti': 1, 'Ann Sears': 1, 'Heihachirô Ôkawa': 1, 'Keiichirô Katsumoto': 1, 'M.R.B. Chakrabandhu': 1, 'Geoffrey Horne': 1, 'James Donald': 1, 'Percy Herbert': 1, 'Peter Williams': 1, 'Sessue Hayakawa': 1, 'Austin Willis': 1, 'Bill Nagy': 1, 'Cec Linder': 1, 'Harold Sakata': 1, 'Lois Maxwell': 1, 'Martin Benson': 1, 'Michael Mellinger': 1, 'Nadja Regin': 1, 'Peter Cranwell': 1, 'Shirley Eaton': 1, 'Tania Mallet': 1, 'Gert Fröbe': 1, 'Honor Blackman': 1, 'Antonio Fierro': 1, 'Brent Feitl': 1, 'Gregory Bromfield': 1, 'James Ciesielski': 1, 'Jordan Rhone': 1, 'Phil Nardozzi': 1, 'Tony Amen': 1, 'Colman Domingo': 3, 'Dusan Brown': 1, 'Glynn Turman': 1, 'Jonathan Coyne': 1, 'Joshua Harto': 1, 'Michael Potts': 1, 'Taylour Paige': 1, 'Viola Davis': 1, 'Cynda Williams': 1, 'Derrick Williams': 1, 'Jim Metzler': 1, 'Jimmy Bridges': 1, \"Meredith 'Jeta' Donovan\": 1, 'Michael Beach': 2, 'Natalie Canerday': 1, 'Phyllis Kirklin': 1, 'Phyllis Sutton': 1, 'Robert Anthony Bell': 1, 'Robert Ginnaven': 1, 'Bill Paxton': 1, 'Billy Bob Thornton': 1, 'Alex Halpern': 1, 'Christopher Gabriel Núñez': 1, 'Delfino Solis': 1, 'Donal Brophy': 1, 'Ernesto Lucero': 1, 'Abel Perez': 1, 'Alejandro Huitzil': 1, 'Alfonso Velazquez': 1, 'Cristofer Huitzil': 1, 'Eduardo Espinosa': 1, 'Fernando Cardona': 1, 'Genoel Ramírez': 1, 'Gilberto Arenas': 1, 'Gilberto Jimenez': 1, 'Ricardo Gonzalez': 1, 'Jane Goodall': 1, 'Carl Gottlieb': 1, 'Chris Rebello': 1, 'Craig Kingsbury': 1, 'Jay Mello': 1, 'Jeffrey Kramer': 1, 'Jeffrey Voorhees': 1, 'Jonathan Filley': 1, 'Lee Fierro': 1, 'Lorraine Gary': 1, 'Susan Backlinie': 1, 'Ted Grossman': 1, 'Robert Shaw': 2, 'Roy Scheider': 1, 'Alexander Karlsson': 1, 'Alvin Strollo': 1, 'Ann-Sofie Rase': 1, 'Anna Rydgren': 1, 'Berndt': 1, 'Charlie Falk': 1, 'Clara Christiansson': 1, 'David Dencik': 1, 'Emrik Ekholm': 1, 'Henrik Dahl': 1, 'Johan Liljemark': 2, 'Jonathan Salomonsson': 1, 'Lena Carlsson': 1, 'Lena Nylén': 1, 'Lily Moodysson': 1, 'Liv LeMoyne': 2, 'Mads Korsgaard': 1, 'Mattias Wiberg': 1, 'Mira Barkhammar': 2, 'Mira Grosin': 2, 'Per Fenger-Krog': 1, 'Peter Eriksson': 1, 'Serina Bj': 1, 'Sofi Ahlström Helleday': 1, 'Steve Kratz': 1, 'Vanja Engstr': 1, 'Viveca Dahlén': 1, 'Ylva Olaison': 1, 'Charles Laughton': 2, 'Harold J. Stone': 1, 'Joanna Barnes': 1, 'John Dall': 1, 'John Ireland': 1, 'Nina Foch': 1, 'Peter Brocco': 1, 'Peter Ustinov': 1, 'Conor Lowson': 1, 'Eddie-Joe Robinson': 1, 'Jaden Oshenye': 1, 'Nathan Vidal': 1, 'Robert Godley-Harrod': 1, 'Calum Callaghan': 1, 'Ciarán Owens': 1, 'Jim Sturgeon': 1, 'John Boyega': 1, 'Joy Richardson': 1, 'Marina Hayter': 1, 'Martin Portlock': 1, 'Stephen Boxer': 1, 'Steve Toussaint': 1, 'Tyrone Huntley': 1, 'Anders Hellström': 1, 'Fanny Forsdik': 1, 'Göran Holm': 1, 'Jessica Louthander': 1, 'Mattias Königsson': 1, 'Stefan Karlsson': 1, 'Amanda Davies': 1, 'Ania Nova': 1, 'Anja Broms': 1, 'Anton Forsdik': 1, 'Bengt Bergius': 1, 'Gloria Ormandlaky': 1, 'Jan-Eje Ferling': 1, 'Karin Engman': 1, 'Lesley Leichtweis Bernardi': 1, 'Lotta Forsberg': 1, 'Marie Burman': 1, 'Martin Serner': 1, 'Tatiana Delaunay': 1, 'Thore Flygel': 1, 'Billy Zane': 1, 'Casey Siemaszko': 1, 'Claudia Wells': 1, 'Crispin Glover': 1, 'Frances Lee McCain': 1, 'George DiCenzo': 1, 'Harry Waters, Jr.': 1, 'J.J. Cohen': 1, 'James Tolkan': 1, 'Lea Thompson': 1, 'Marc McClure': 1, 'Thomas F. Wilson': 1, 'Wendie Jo Sperber': 1, 'Christopher Lloyd': 1, 'Michael J. Fox': 1, 'Aunjanue Ellis': 2, 'Brian Tyree Henry': 4, 'Doris McCarthy': 1, 'Ed Skrein': 2, 'Emily Rios': 2, 'Faith Logan': 1, 'Marcia Jean Kurtz': 2, 'Pedro Pascal': 2, 'Stephan James': 2, 'Teyonah Parris': 2, 'Dave Franco': 1, 'Dominique Thorne': 1, 'Ebony Obsidian': 1, 'KiKi Layne': 1, 'Regina King': 1, 'Antoine Duhamel': 1, 'Bertrand Tavernier': 2, 'Claude Chabrol': 2, 'Eddie Constantine': 2, 'Françoise Giroud': 1, 'Georges de Beauregard': 2, 'Jacques Becker': 2, 'Jean Gabin': 1, 'Jean-Paul Belmondo': 2, 'Jean-Paul Gaultier': 1, 'Marcel Carné': 2, 'Michel Deville': 2, 'Raoul Coutard': 2, 'Thierry Frémaux': 2, 'Dicken Ashworth': 1, 'Edward Kelsey': 1, 'Geraldine McEwan': 1, 'John Thomson': 1, 'Liz Smith': 1, 'Nicholas Smith': 1, 'Noni Lewis': 1, 'Pete Atkin': 1, 'Peter Kay': 1, 'Robert Horvath': 1, 'Vincent Ebrahim': 1, 'Peter Sallis': 1, 'Abby Wait': 1, 'Alexander Skarsgård': 2, 'Austin Lyon': 1, 'Bel Powley': 2, 'Carson Mell': 1, 'Charles Lewis III': 1, 'Christopher Meloni': 2, 'David Fine': 1, 'Davy Clements': 1, 'Domino The Cat': 1, 'Drew Benda': 1, 'Giovanni Miller': 1, 'John Parsons': 1, 'Madeleine Waters': 2, 'Margarita Levieva': 2, 'Miranda Bailey': 1, 'Natalie Stephany Aguilar': 1, 'Quinn Nagle': 1, 'Samantha Hyde': 1, 'Susannah Schulman': 1, 'Andrey Smirnov': 1, 'Nadezhda Markina': 1, 'A.J. Moss': 1, 'Ann Dowd': 2, 'Austin R. Grant': 2, 'Brock McKinney': 1, 'Chad Wright': 1, 'Gerry Garcia': 1, 'Heidi Méndez': 1, 'Jarrod Phillips': 2, 'Jason Miyagi': 1, 'John Forker': 2, 'Lorenzo Silva': 1, 'Mallory Bechtel': 2, 'Marilyn Miller': 2, 'Moises L. Tovar': 1, 'Rachelle Hardy': 2, 'Shane Morrisun': 1, 'Zachary Arthur': 2, 'Alex Wolff': 1, 'BriAnn Rachele': 1, 'Christy Summerhays': 1, 'Gabriel Monroe Eckert': 1, 'Harrison Nell': 1, 'Jake Brown': 1, 'Mark Blockovich': 1, 'Milly Shapiro': 1, 'Morgan Lund': 1, 'Toni Collette': 1, 'Albert Henderson': 1, 'Barbara Eda-Young': 1, 'Biff McGuire': 1, 'Cornelia Sharpe': 1, 'Damien Leake': 1, 'Edward Grover': 1, 'Hank Garrett': 1, 'Jack Kehoe': 1, 'John Medici': 1, 'Joseph Bova': 1, 'Norman Ornellas': 1, 'John Randolph': 1, 'Charles Albert Patiño': 1, 'Evangelina Morales': 1, 'Fabricio Suarez': 1, 'Jaime Osorio Gómez': 1, 'Johanna Andrea Mora': 1, 'John Álex Toro': 1, 'Juana Guarderas': 1, 'Mateo Suarez': 1, 'Rodrigo Sánchez Borhorquez': 1, 'Victor Macias': 1, 'Virgina Ariza': 1, 'Wilson Guerrero': 1, 'Yenny Paola Vega': 1, 'Catalina Sandino Moreno': 1, 'Guilied Lopez': 1, 'András M. Kecskés': 1, 'Áron Dimény': 1, 'Bálint Péntek': 1, 'Béla Dóra': 1, 'Dani Szabó': 1, 'Endre Harkányi': 1, 'Gábor Nyiri': 1, 'Jenö Nagy': 1, 'Marcell Nagy': 1, 'Márton Brezina': 1, 'Péter Fancsikai': 1, 'Péter Vida': 1, 'Tibor Mertz': 1, 'Zoltán Bukovszki': 1, 'Zsolt Dér': 1, 'Alessandro Genovesi': 2, 'Annunziata Capretto': 1, 'Antonio Salines': 2, 'Carlo Massimino': 2, 'Daria Pascal Attolini': 2, 'Davide Denci': 2, 'Ettore Scarpa': 1, 'Gala Othero Winter': 1, 'Giulia Caccavello': 1, 'Leonardo Nigro': 1, 'Luca Chikovani': 2, 'Adriano Tardiolo': 1, 'Agnese Graziani': 1, 'Alba Rohrwacher': 1, 'David Bennent': 1, 'Elisabetta Rocchetti': 1, 'Maddalena Baiocco': 1, 'Natalino Balasso': 1, 'Nicoletta Braschi': 1, 'Tommaso Ragno': 1, 'Barry Goldwater': 1, 'Curtis LeMay': 1, 'Errol Morris': 3, 'Franklin Delano Roosevelt': 1, 'Harry Reasoner': 1, 'Nikita Khrushchev': 1, 'Woodrow Wilson': 1, 'Fidel Castro': 1, 'John F. Kennedy': 1, 'Robert McNamara': 1, 'Jenjira Pongpas': 2, 'Matthieu Ly': 1, 'Sakda Kaewbuadee': 2, 'Thanapat Saisaymar': 1, 'Vien Pimdee': 1, 'Anna Faris': 1, 'Anne Hathaway': 1, 'David Harbour': 1, 'David Trimble': 1, 'Kate Mara': 1, 'Lachlan Mackintosh': 1, 'Larry Reese': 1, 'Linda Cardellini': 1, 'Marty Antonini': 1, 'Valerie Planche': 1, 'Víctor Reyes': 1, 'Heath Ledger': 1, 'Jake Gyllenhaal': 1, 'Apinya Unphanlam': 1, 'Banlop Lomnoi': 1, 'Bhattaratorn Senkraigul': 1, 'Boonyarak Bodlakorn': 1, 'Jarinpattra Rueangram': 1, 'Jenjira Jansuda': 1, 'Kammanit Sansuklerd': 1, 'Petcharat Chaiburi': 1, 'Pongsadhorn Lertsukon': 1, 'Richard Abramson': 1, 'Sasipim Piwansenee': 1, 'Sujittraporn Wongsrikeaw': 1, 'Tawatchai Buawat': 1, 'Wacharee Nagvichien': 1, 'Carl Jadot': 1, 'Cécile De France': 2, 'Claudy Delfosse': 1, 'Egon Di Mateo': 2, 'Frédéric Dussenne': 1, 'Jean-Michel Balthazar': 1, 'Samuel De Rijk': 1, 'Sandra Raco': 1, 'Thomas Doret': 2, 'Byron Russell': 1, 'Mamo Clark': 1, 'Movita': 1, 'Percy Waram': 1, 'Donald Crisp': 1, 'Franchot Tone': 1, 'Francis Lister': 1, 'Alycia Cooper': 1, 'Jessica Mikayla Adams': 1, 'John Mulaney': 2, 'Kathryn Hahn': 2, 'Kimiko Glenn': 2, 'Melanie Haynes': 2, 'Muneeb Rehman': 2, 'Natalie Morales': 2, 'Nick Jaine': 2, 'Nicolas Cage': 2, 'Shameik Moore': 2, 'Hailee Steinfeld': 1, 'Jake M. Johnson': 1, 'Lauren Vélez': 1, 'Barbara Rafferty': 1, 'Ian Campbell': 1, 'Leslie Blackater': 1, 'Peter Brewis': 1, 'Roy Boyd': 1, 'Aubrey Morris': 1, 'Britt Ekland': 1, 'Diane Cilento': 1, 'Edward Woodward': 1, 'Ingrid Pitt': 1, 'Irene Sunters': 1, 'Lindsay Kemp': 1, 'Russell Waters': 1, 'Walter Carr': 1, 'Chloë Sevigny': 2, 'Conor Lambert': 1, 'Conor MacNeill': 1, 'Emma Greenwell': 2, 'Frank Prendergast': 1, 'Jordan Waller': 1, 'Kate Beckinsale': 2, 'Kelly Campbell': 1, \"Lochlainn O'Mearain\": 1, 'Morfydd Clark': 1, 'Ross Mac Mahon': 1, 'Sophie Radermacher': 1, 'Stephen Fry': 1, 'Tom Bennett': 1, 'Xavier Samuel': 2, 'Albert de Roeck': 1, 'Andy Cohen': 1, 'Asmina Arvanitaki': 1, 'Christophe Clement': 1, 'David Kaplan': 1, 'Fabiola Gianotti': 1, 'James Beacham': 1, 'Jed Biesiada': 1, 'Katherine Copic': 1, 'Kyle Cranmer': 1, 'Martin Aleksa': 1, 'Mike Lamont': 1, 'Monica Dunford': 1, 'Nima Arkani-Hamed': 1, 'Savas Dimopoulos': 1, 'Adolph Davis': 1, 'Dagon James': 1, 'David Leblanc': 1, 'David Sanin Paz': 1, 'Greg Ayres': 1, 'Joshua Williams': 1, 'Michael Cox': 1, 'Michael Mouton': 1, 'Renee Leblanc': 1, 'Rosemary Davis': 1, 'Stacey Mowery': 1, 'Steve Caouette': 1, 'Vanda Stovall': 1, 'Vivian Kalinov': 1, 'Jonathan Caouette': 1, 'Jacques Perrin': 1, 'Andy Cohn': 1, 'Bob Lujano': 1, 'Christopher Igoe': 1, 'Dave Willsie': 1, 'Joe Bishop': 1, 'Kevin Orr': 1, 'Scott Hogsett': 1, 'Joe Soares': 1, 'Keith Cavill': 1, 'Mark Zupan': 1, 'A.O. Scott': 1, 'Ava DuVernay': 1, 'Chaz Ebert': 2, 'Gene Siskel': 2, 'Marlene Iglitzen': 1, 'Marlene Siskel': 1, 'Ramin Bahrani': 1, 'Roger Ebert': 2, 'Stephen Stanton': 1, 'Werner Herzog': 3, 'William Nack': 1, 'Allegra Fulton': 1, 'Amanda Smith': 1, 'Cyndy Day': 2, 'David Hewlett': 2, 'Dru Viergever': 1, 'Evgeny Akimov': 1, 'Jayden Greig': 1, 'John Kapelos': 2, 'Lauren Lee Smith': 2, 'Madison Ferguson': 1, 'Martin Roach': 1, 'Marvin Kaye': 1, 'Maxine Grossman': 1, 'Michael Shannon': 2, 'Morgan Kelly': 2, 'Richard Jenkins': 2, 'Nigel Bennett': 1, 'Stewart Arnott': 1, 'Alex Rafalowicz': 1, 'Chris Haywood': 1, 'Danielle Cox': 1, 'Gordon Poole': 1, 'John Cousins': 1, 'Justin Braine': 1, 'Marta Kaczmarek': 1, 'Nicholas Bell': 1, 'Paul Linkson': 1, 'Randall Berger': 1, 'Rebecca Gooden': 1, 'Sonia Todd': 1, 'Armin Mueller-Stahl': 1, 'Annie Graeme-Larkin': 2, 'Laurie McKenna': 1, 'Mel Ray': 1, 'Richard Hodges': 1, 'Steve Ray': 1, 'Sue Ray': 1, 'Aaron Gain': 1, 'Benjamin Joel Caron': 1, 'Charles Bethea': 1, 'Chris Dietz': 1, 'Dick Graeme': 1, 'Doug Graeme': 1, 'James West': 1, 'Ken Boe': 1, 'Mary Ellen Dunlap': 1, 'Mike Anderson': 1, 'Richard Graeme Iii': 1, 'Carol Dexter': 1, 'David Letterman': 1, 'Franc G. Fallico': 1, 'Jewel Palovak': 1, 'Kathleen Parker': 1, 'Marc Gaede': 1, 'Marnie Gaede': 1, 'Sam Egli': 1, 'Sven Haakanson Jr.': 1, 'Val Dexter': 1, 'Warren Queeney': 1, 'Willy Fulton': 1, 'Amie Huguenard': 1, 'Timothy Treadwell': 1, 'Bonnie Bannon': 1, 'Charles Bastin': 1, 'Elizabeth Flournoy': 1, 'Polly Moran': 1, 'Will Wright': 1, 'Clarence Kolb': 1, 'David Wayne': 1, 'Emerson Treacy': 1, 'Eve March': 1, 'Hope Emerson': 1, 'Judy Holliday': 1, 'Spencer Tracy': 1, 'Tom Ewell': 1, 'Gregory Crewdson': 1, \"Richard 'Rico' Sands\": 1, 'Adrian Bellani': 1, 'Erin Pickett': 1, 'Glenn Morshower': 1, 'James Shanklin': 1, 'Kathryn Morris': 1, 'Keith Middlebrook': 1, 'Olivia Dudley': 1, 'Sergio Garcia': 1, 'Stephen Bishop': 1, 'Tammy Blanchard': 1, 'Jonah Hill': 1, 'Robin Wright': 1, 'Charles de Gaulle': 1, 'Edward Gierek': 1, 'Elena Ceausescu': 1, 'Erich Honecker': 1, 'Jimmy Carter': 1, 'Kim Ir-Sen': 1, 'Leonid Brezhnev': 1, 'Mao Zedong': 1, 'Mikhail Gorbachev': 1, 'Nicolae Ceausescu': 1, 'Prince Philip': 1, 'Queen Elizabeth II': 1, 'Wladyslaw Gomulka': 1, 'Wojciech Jaruzelski': 1, 'Antonia San Juan': 1, 'Candela Peña': 1, 'Carlos Lozano': 1, 'Carmen Balagué': 1, 'Eloy Azorín': 1, 'Fernando Fernán Gómez': 1, 'Fernando Guillén': 1, 'José Luis Torrijo': 1, 'Juan José Otegui': 1, 'Manuel Morón': 1, 'Rosa Maria Sardà': 1, 'Toni Cantó': 1, 'Marisa Paredes': 1, 'Clive Merrison': 1, 'Geordie Johnson': 1, 'Hichem Rostom': 1, 'Julian Wadham': 1, 'Jürgen Prochnow': 1, 'Kevin Whately': 1, 'Naveen Andrews': 1, 'Nino Castelnuovo': 1, 'Peter Rühring': 1, 'Torri Higginson': 1, 'Juliette Binoche': 1, \"Chiara D'Anna\": 1, 'Eszter Tompa': 1, 'Eugenia Caruso': 1, 'Fatma Mohamed': 1, 'Kata Bartsch': 1, 'Monica Swinn': 2, 'Sidse Babett Knudsen': 2, 'Zita Kraszkó': 1, 'Cécile Garcia-Fogel': 2, 'Clémence Le Gall': 1, 'Elyot Milshtein': 1, 'Françoise Lebrun': 1, 'Irina Vavilova': 1, 'Kheifets Gregory': 1, 'Lily Taieb': 1, 'Lou Roy-Lecollinet': 2, 'Olivier Rabourdin': 1, 'Pierre Andrau': 1, 'Quentin Dolmaire': 2, 'Raphaël Cohen': 1, 'Théo Fernandez': 1, 'Angela McEwan': 1, 'Anthony G. Schmidt': 1, 'Bruce Dern': 2, 'Dennis McCoig': 1, 'Devin Ratray': 1, 'Elizabeth Moore': 1, 'Gelndora Stitt': 1, 'June Squibb': 2, 'Kevin Kunkel': 1, 'Mary Louise Wilson': 1, 'Melinda Simonsen': 1, 'Rance Howard': 1, 'Ronald Vosta': 1, 'Stephen Clayton': 1, 'Tim Driscoll': 1, 'Will Forte': 2, 'Heidi Schreck': 1, 'Mike Iveson': 1, 'Rosdely Ciprian': 1, 'Thursday Williams': 1, 'Billy Bevan': 1, 'Claude Gillingwater': 1, 'Isabel Jewell': 1, 'Mitchell Lewis': 1, 'Blanche Yurka': 1, 'Donald Woods': 1, 'Fritz Leiber': 1, 'Henry B. Walthall': 1, 'Ronald Colman': 1, 'Adrian Heinisch': 1, 'Brady Corbet': 1, 'Clara Wettergren': 2, 'Fanni Metelius': 1, 'Franco Moscon': 1, 'Jakob Granqvist': 1, 'Johannes Kuhnke': 2, 'Johannes Moustos': 1, 'Jorge Lattof': 1, 'Julie Roumogoux': 1, 'Karin Myrenberg': 1, 'Karl Pincon': 1, 'Kristofer Hivju': 2, 'Lisa Loven Kongsli': 2, 'Malin Dahl': 1, 'Michael Breitenberger': 1, 'Peter Gaunt': 1, 'Vincent Wettergren': 2, 'Fukumi Kuroda': 1, 'Hideji Ôtaki': 1, 'Kinzô Sakura': 1, 'Kôji Yakusho': 1, 'Mario Abe': 1, 'Masahiko Tsugawa': 1, 'Rikiya Yasuoka': 1, 'Sen Hara': 1, 'Setsuko Shinoi': 1, 'Yoriko Douguchi': 1, 'Yoshi Katô': 1, 'Yoshihiro Kato': 1, 'Nobuko Miyamoto': 1, 'Tsutomu Yamazaki': 1, 'Cindy Manion': 1, 'Curt May': 1, 'Deborah Everton': 1, 'John Aquino': 1, 'John McMartin': 1, 'Lori-Nan Engler': 1, 'Missy Cleveland': 1, 'Missy Crutchfield': 1, 'Peter Boyden': 1, 'Roger Wilson': 1, 'Dennis Franz': 1, 'John Lithgow': 1, 'Cara Yeates': 1, 'David Tuttle': 1, 'Jenny Kirlin': 1, 'Joe James': 1, 'Laura Knight': 1, 'Marcia Haufrecht': 1, 'Mike Hartman': 1, 'Patrick Husted': 1, 'Ray Iannicelli': 1, 'Andrea Martin': 1, 'Andrew Geher': 1, 'Celia Keenan-Bolger': 1, 'Dave Dyshuk': 1, \"Deirdre O'Connell\": 1, 'Diana Greenhut': 1, 'Dierdre Friel': 1, 'Estelle Parsons': 1, 'Jennifer Delora': 1, 'Joyce Van Patten': 1, 'Kerry Flanagan': 1, 'Lew Gardner': 1, 'Lorenzo Beronilla': 1, 'Mary Fuller': 1, 'Phyllis Somerville': 1, 'Teri Gibson': 1, 'Axel Düberg': 1, 'Oscar Ljung': 1, 'Ulla Sjöblom': 1, 'Erland Josephson': 1, 'Lars Ekborg': 1, 'Toivo Pawlo': 1, 'Cyril Thornton': 1, 'Edward Ellis': 1, 'Natalie Moorhead': 1, 'Cesar Romero': 1, 'Harold Huber': 1, 'Henry Wadsworth': 1, 'Nat Pendleton': 1, 'William Henry': 1, 'William Powell': 1, 'Aleksandr Chaban': 1, 'Alla Osipenko': 1, 'Artyom Strelnikov': 1, 'David Giorgobiani': 1, 'Leonid Mozgovoy': 1, 'Lev Yeliseyev': 1, 'Maksim Sergeyev': 1, 'Mariya Kuznetsova': 1, 'Mikhail Piotrovsky': 1, 'Natalya Nikulenko': 1, 'Oleg Khmelnitsky': 1, 'Sergei Dontsov': 1, 'Tamara Kurenkova': 1, 'Yelena Rufanova': 1, 'Yelena Spiridonova': 1, 'Kathleen Freeman': 1, 'Lawrence Hauben': 1, 'Roberta Haynes': 1, 'Susan Holloway': 1, 'Victor Creatore': 1, \"Carroll O'Connor\": 1, 'James Sikking': 1, 'Lloyd Bochner': 1, 'Sandra Warner': 1, 'Sharon Acker': 1, 'Bruce McGill': 1, 'David Costabile': 1, 'David Oyelowo': 1, 'Hal Holbrook': 1, 'James Spader': 2, 'Jared Harris': 1, 'Joseph Cross': 1, 'Joseph Gordon-Levitt': 1, 'Julie White': 1, 'Lee Pace': 1, 'Peter McRobbie': 1, 'Sally Field': 1, 'Tim Blake Nelson': 1, 'Walton Goggins': 1, 'Amalia Kassai': 1, 'Rainer Krause': 1, 'Binyuan Li': 1, 'Danyi Li': 1, 'Qing Li': 1, 'Suyun Li': 1, 'Yixin Kong': 1, 'Congxi Li': 1, 'Jing Guo': 1, 'Miaomiao He': 1, 'Uvin Wang': 1, 'Wei Kong': 1, 'Xiang Rong Dong': 1, 'Ximan Huang': 1, 'Yu Zhang': 1, 'Yuchang Peng': 1, 'Amanda Brugel': 1, 'Brad Wietersen': 1, 'Brie Larson': 2, 'Cas Anvar': 1, 'Chantelle Chung': 1, 'Jack Fulton': 1, 'Jacob Tremblay': 2, 'Jee-Yun Lee': 1, 'Joe Pingue': 1, 'Justin Mader': 1, 'Kate Drummond': 1, 'Matt Gordon': 1, 'Megan Park': 1, 'Randal Edwards': 1, 'Sandy McMaster': 1, 'Sean Bridgers': 1, 'Pat Tillman': 2, 'Richard Tillman': 1, 'Ali Reza Naderi': 1, 'Bahman Ghobadi': 1, 'Behzad Dorani': 1, 'Farzad Sohrabi': 1, 'Frangis Rahsepar': 1, 'Lida Soltani': 1, 'Masoameh Salimi': 1, 'Masood Mansouri': 1, 'Noghre Asadi': 1, 'Reihan Heidari': 1, 'Roushan Karam Elmi': 1, 'Shahpour Ghobadi': 1, 'Abigail Hopkins': 1, 'Ben Chaplin': 1, 'Caroline Hunt': 1, 'Christopher Reeve': 1, 'John Haycraft': 1, 'Patrick Godfrey': 1, 'Paula Jacobs': 1, 'Peter Cellier': 1, 'Peter Halliday': 1, 'Peter Vaughan': 1, 'Steve Dibben': 1, 'Alexandra Root': 1, 'David Foil': 1, 'Earl T. Taylor': 1, 'Laura San Giacomo': 1, 'Peter Gallagher': 1, 'Ron Vawter': 1, 'Steven Brill': 1, 'Andie MacDowell': 1, 'Carmine Foresta': 1, 'Estelle Omens': 1, 'Gary Springer': 1, 'James Broderick': 1, 'Amy Levitt': 1, 'Beulah Garrick': 1, 'John Marriott': 1, 'Penelope Allen': 1, 'Sandra Kazan': 1, 'Sully Boyar': 1}\n"
     ]
    }
   ],
   "source": [
    "dict_count = dict()\n",
    "for i in all_movie_cast:\n",
    "    dict_count[i] = dict_count.get(i, 0) + 1  # go through all the movie in the dict and keep a count of them\n",
    "print(dict_count)"
   ]
  },
  {
   "cell_type": "markdown",
   "metadata": {},
   "source": [
    "# Second Question"
   ]
  },
  {
   "cell_type": "code",
   "execution_count": 23,
   "metadata": {},
   "outputs": [],
   "source": [
    "## Program will create a dictionary of cast that have worked with the director and keep a count of it."
   ]
  },
  {
   "cell_type": "code",
   "execution_count": 24,
   "metadata": {},
   "outputs": [],
   "source": [
    "def cast_counting(user_director):\n",
    "    director_cast_dict = all_movies[0]\n",
    "    dire = user_director\n",
    "    \n",
    "    \n",
    "    # Extract Each Director and cast from the All movie and seperate the one which user inputs\n",
    "    list_of_common_dir = []\n",
    "    for i in director_cast_dict:\n",
    "        # create list of director\n",
    "        for j in director_cast_dict[i]:\n",
    "            if dire == j[0]:\n",
    "                list_of_common_dir.append(director_cast_dict[i])\n",
    "\n",
    "                \n",
    "                \n",
    "                \n",
    "    # Seperate the cast from the dictionary\n",
    "    list_of_cast_with_dir = []\n",
    "    for i in list_of_common_dir:\n",
    "        for key, val in i.items():\n",
    "            my_key = key[0]\n",
    "            list_of_cast_with_dir.append(val)\n",
    "\n",
    "    # append every cast in a list\n",
    "    count_cast = []\n",
    "    for bigList in list_of_cast_with_dir:\n",
    "        if bigList is None:\n",
    "            continue\n",
    "        for j in bigList:\n",
    "            count_cast.append(j)\n",
    "            \n",
    "    # Calculate the count\n",
    "    freq = {}\n",
    "    for item in count_cast:\n",
    "        if (item in freq):\n",
    "            freq[item] += 1\n",
    "        else:\n",
    "            freq[item] = 1\n",
    "            \n",
    "    dic = {dire : freq}\n",
    "    \n",
    "    \n",
    "    return dic"
   ]
  },
  {
   "cell_type": "markdown",
   "metadata": {},
   "source": [
    "## List of all directors inorder to select"
   ]
  },
  {
   "cell_type": "code",
   "execution_count": 25,
   "metadata": {},
   "outputs": [],
   "source": [
    "all_directors = tuple()\n",
    "all_movie_cast = []\n",
    "\n",
    "for i in range(len(all_movies[0])):\n",
    "    sub = list(movie_director.values())[i] #so this extracts the sub dictionary\n",
    "    sub_key = list(sub.keys())\n",
    "    sub_values = list(sub.values())\n",
    "    for tpl in sub_key:\n",
    "        all_directors += tpl\n",
    "    for lst in sub_values:\n",
    "        if lst is not None:\n",
    "            all_movie_cast += lst"
   ]
  },
  {
   "cell_type": "code",
   "execution_count": 26,
   "metadata": {},
   "outputs": [
    {
     "name": "stdout",
     "output_type": "stream",
     "text": [
      "{'Orson Welles': 5, 'Francis Ford Coppola': 5, 'Alfred Hitchcock': 12, 'Michael Curtiz': 4, 'Richard Linklater': 3, 'Krzysztof Kieslowski': 2, 'Gene Kelly': 1, 'Stanley Donen': 1, 'Charles Chaplin': 2, 'Barry Jenkins': 2, 'D.W. Griffith': 1, 'Ben Sharpsteen': 4, 'Bill Roberts': 4, 'Hamilton Luske': 2, 'Jack Kinney': 2, 'Norman Ferguson': 3, 'T. Hee': 2, 'Wilfred Jackson': 4, 'John Huston': 5, 'Guillermo del Toro': 2, 'Billy Wilder': 3, 'Steve James': 3, 'Akira Kurosawa': 2, 'Joseph L. Mankiewicz': 1, 'François Truffaut': 2, 'Sam Peckinpah': 1, 'Jim Sheridan': 1, 'Carol Reed': 2, 'Stanley Kubrick': 5, 'Jasmila Zbanic': 1, 'George Cukor': 6, 'Sam Wood': 1, 'Victor Fleming': 1, 'Cristian Mungiu': 1, 'Sergei M. Eisenstein': 1, 'Elia Kazan': 2, 'George Lucas': 2, 'John Elliotte': 1, 'Samuel Armstrong': 3, 'Alfonso Cuarón': 3, 'Ernst Lubitsch': 1, 'Sidney Lumet': 3, 'Kenneth Lonergan': 1, 'Roman Polanski': 2, 'Steve McQueen': 4, 'Charles Burnett': 1, 'Robert Altman': 4, 'Brad Bird': 2, 'Joon-ho Bong': 1, 'Sarah Gavron': 1, 'Nicolas Roeg': 1, 'John Ford': 5, 'Marcel Carné': 1, 'Martin Scorsese': 8, 'Preston Sturges': 1, 'David Hand': 3, 'Ford Beebe Jr.': 1, 'James Algar': 2, 'Jim Handley': 1, 'Paul Satterfield': 2, 'Hayao Miyazaki': 1, 'Gary Trousdale': 1, 'Kirk Wise': 1, 'John Lasseter': 2, 'James Whale': 3, 'David Fincher': 1, 'Céline Sciamma': 2, 'Raoul Peck': 1, 'Michael Wadleigh': 1, 'Larry Morey': 1, 'Perce Pearce': 1, 'William Cottrell': 1, 'Kathryn Bigelow': 2, 'Otto Preminger': 1, 'Alexander Nanau': 1, 'Asghar Farhadi': 2, 'Andrew Stanton': 2, 'Todd Haynes': 1, 'Michael Haneke': 2, 'Christopher Nolan': 1, 'Ahmir-Khalib Thompson': 1, 'Andrew Haigh': 1, 'Quentin Tarantino': 1, 'John Frankenheimer': 1, 'Mike Leigh': 4, 'Isao Takahata': 2, 'Alan Elliott': 1, 'Sydney Pollack': 2, 'Pete Docter': 2, 'Ronaldo Del Carmen': 1, 'Alexander Payne': 2, 'Steven Spielberg': 6, 'Vincente Minnelli': 2, 'Henry King': 1, 'Bill Weber': 1, 'David Weissman': 1, 'Greta Gerwig': 2, 'Peter Jackson': 4, 'Olivier Assayas': 1, 'Noah Baumbach': 1, 'Damien Chazelle': 2, 'Agnès Varda': 1, 'JR': 1, 'Ang Lee': 2, 'Chloé Zhao': 2, 'Joseph Losey': 1, 'Luca Guadagnino': 1, 'Fred Fleck': 1, 'Robert Wise': 1, 'Barbet Schroeder': 1, 'Spike Lee': 4, 'Hirokazu Koreeda': 5, 'Claude Lanzmann': 1, 'Leo McCarey': 3, 'Terrence Malick': 2, 'Maren Ade': 1, 'Edward Yang': 1, 'William Wyler': 1, 'Ethan Coen': 2, 'Joel Coen': 2, 'Jennifer Peedom': 1, 'Paul Thomas Anderson': 2, 'Peter Bogdanovich': 1, 'Nina Paley': 1, 'Penelope Spheeris': 1, 'Howard Hawks': 4, 'Bruce Sinofsky': 1, 'Joe Berlinger': 1, 'Terry Zwigoff': 2, 'Thomas McCarthy': 1, 'Andrew Dominik': 1, 'Julian Schnabel': 1, 'Don Siegel': 2, 'Laurent Cantet': 2, 'Oliver Stone': 1, 'Claire Denis': 2, 'Sean Baker': 1, 'Abderrahmane Sissako': 1, 'David Lean': 3, 'Stuart Rosenberg': 1, 'Mark Sandrich': 1, 'Woody Allen': 2, 'Robert Redford': 1, 'Andrei Zvyagintsev': 2, 'Ágnes Hranitzky': 1, 'Béla Tarr': 1, 'Lee Unkrich': 3, 'Rob Reiner': 1, 'Joshua Oppenheimer': 2, 'Keith Maitland': 1, 'Ousmane Sembene': 1, 'Zacharias Kunuk': 1, 'Garrett Bradley': 1, 'Rob Tregenza': 1, 'George Stevens': 1, 'Peter Yates': 1, 'Joanna Hogg': 1, 'László Nemes': 1, 'Federico Fellini': 1, 'Gillian Armstrong': 2, 'Sylvain Chomet': 1, 'Stephen Frears': 1, 'Lewis Milestone': 2, 'Patrick Wang': 2, 'Eliza Hittman': 1, 'Alexander Mackendrick': 1, 'Sarah Polley': 2, 'Anonymous': 1, 'Christine Cynn': 1, 'Lemohang Jeremiah Mosese': 1, 'Jafar Panahi': 2, 'Pawel Pawlikowski': 2, 'Ben Safdie': 1, 'Joshua Safdie': 1, 'Ari Folman': 1, 'Frederick Wiseman': 3, 'Franklin J. Schaffner': 1, 'Giorgos Lanthimos': 1, 'Atom Egoyan': 1, 'Philip Kaufman': 1, 'Graham Heid': 1, 'Norman Wright': 1, 'Jonas Poher Rasmussen': 1, 'Dror Moreh': 1, 'Patricio Guzmán': 1, 'Spike Jonze': 2, 'Neil Jordan': 1, 'Chang-dong Lee': 2, 'Debra Granik': 2, 'Maria Sødahl': 1, 'Ronit Elkabetz': 1, 'Shlomi Elkabetz': 1, 'Kasper Collin': 1, 'Robert Rossen': 1, 'Curtis Hanson': 1, 'Paul Greengrass': 2, 'Chris McKim': 1, 'Thomas Kail': 1, 'Yang Zhang': 1, 'Don Hertzfeldt': 1, 'Robin Hessman': 1, 'Mojtaba Mirtahmasb': 1, 'Masaki Kobayashi': 1, 'Ernest B. Schoedsack': 1, 'Merian C. Cooper': 1, 'Victor Kossakovsky': 1, 'Jacques Audiard': 1, 'Aleksei German': 1, 'Cameron Crowe': 1, 'Rachel Boynton': 1, 'Robert Pulcini': 1, 'Shari Springer Berman': 1, 'Jennifer Fox': 1, 'Anna Rose Holmer': 1, 'George Miller': 1, 'Andrew Jarecki': 1, 'Peter Weir': 1, 'David O. Russell': 1, 'Jim Jarmusch': 1, 'Marjane Satrapi': 1, 'Vincent Paronnaud': 1, 'Bing Liu': 1, 'Marco Tullio Giordana': 1, 'Jesse Moss': 1, 'Florian Henckel von Donnersmarck': 1, 'Monte Hellman': 1, 'Yimou Zhang': 1, 'Michael Apted': 1, 'Byron Haskin': 1, 'Sofia Coppola': 1, 'Abdel Kechiche': 1, 'Steven Zaillian': 1, 'John Carpenter': 2, 'James Marsh': 1, 'Edward Watts': 1, 'Waad Al-Khateab': 1, 'Abraham Polonsky': 1, 'Anurag Kashyap': 1, 'Hal Ashby': 1, 'Larry Charles': 1, 'Lee Isaac Chung': 1, 'Lulu Wang': 1, 'Paul Verhoeven': 1, 'Anna Sandilands': 1, 'Ewan McNicol': 1, 'Jean-Pierre Dardenne': 3, 'Luc Dardenne': 3, 'Bo Burnham': 1, 'Charles Ferguson': 2, 'Frank Capra': 2, 'Nicholas Hytner': 1, 'Christian Petzold': 1, 'Ramin Bahrani': 1, 'Bill Ross IV': 2, 'Turner Ross': 2, 'Jonathan Demme': 1, 'Dario Argento': 1, 'Michael Ritchie': 1, 'Ridley Scott': 2, 'Kogonada': 1, 'Kelly Reichardt': 1, 'George A. Romero': 1, 'Michel Hazanavicius': 1, 'Pedro Almodóvar': 3, 'Michel Gondry': 1, 'Jane Campion': 1, 'Bing Wang': 1, 'Lucrecia Martel': 1, 'Kirsten Johnson': 1, 'Fred Zinnemann': 1, 'Nicholas Ray': 1, 'Clint Eastwood': 1, 'John Cassavetes': 2, 'John Carney': 1, 'Clio Barnard': 1, 'Gan Bi': 1, 'Laurence Olivier': 1, 'Camilla Nielsson': 1, 'Rob Minkoff': 1, 'Roger Allers': 1, 'Ingmar Bergman': 3, 'Stephen T. Maing': 1, 'Paul King': 1, 'John Musker': 1, 'Ron Clements': 1, 'Bennett Miller': 2, 'Armando Iannucci': 1, 'George Seaton': 1, 'Sergei Dvortsevoy': 1, 'Mohammad Rasoulof': 1, 'Albert Maysles': 1, 'Benjamin Wu': 1, 'David Usui': 1, 'Lynn True': 1, 'Nelson Walker III': 1, 'Martin McDonagh': 1, 'Jonathan Olshefski': 1, 'Louis Malle': 1, 'Yael Hersonski': 1, 'Mia Hansen-Løve': 1, 'Wes Anderson': 1, 'Nuri Bilge Ceylan': 1, 'Bradley Cooper': 2, 'Laura Poitras': 1, 'Josef von Sternberg': 1, 'Samuel Maoz': 1, 'James Ivory': 2, 'Jack Clayton': 1, 'Florian Zeller': 1, 'Nick Park': 2, 'Peter Lord': 1, 'Tom Hooper': 1, 'David Mackenzie': 1, 'Bob Peterson': 1, 'Sandi Tan': 1, 'Bahman Ghobadi': 1, 'Robert Mulligan': 1, 'Kleber Mendonça Filho': 1, 'Xiaoshuai Wang': 1, 'Todd Douglas Miller': 1, 'Charlie Kaufman': 1, 'Duke Johnson': 1, 'Ash Brannon': 1, 'Ryan Coogler': 1, 'John Crowley': 1, 'Robert Stevenson': 1, 'Warwick Thornton': 1, 'Susan Lacy': 1, 'Kim A. Snyder': 1, 'Adam Schlesinger': 1, 'Linda Saffire': 1, 'Alejandro González Iñárritu': 1, 'John Madden': 1, 'Marielle Heller': 3, 'Ross Stewart': 1, 'Tomm Moore': 1, 'Elle-Máijá Tailfeathers': 1, 'Kathleen Hepburn': 1, 'Rithy Panh': 1, 'Karim Ainouz': 1, 'Marcelo Gomes': 1, 'Richard Rosson': 1, 'Laurent Bécue-Renard': 1, 'Douglas Sirk': 1, 'Philippe Lesage': 1, 'Emer Reynolds': 1, 'Matteo Garrone': 1, 'Nicolas Philibert': 1, 'David Lynch': 1, 'Haskell Wexler': 1, 'Gianfranco Rosi': 1, 'Andrew Davis': 1, 'François Reichenbach': 1, 'Gary Graver': 1, 'Oja Kodar': 1, 'Guy Hamilton': 1, 'George C. Wolfe': 1, 'Carl Franklin': 1, 'Jim McKay': 1, 'Brett Morgen': 1, 'Lukas Moodysson': 1, 'Roy Andersson': 1, 'Robert Zemeckis': 1, 'Bertrand Tavernier': 1, 'Steve Box': 1, 'J.C. Chandor': 1, 'Ari Aster': 1, 'Stevan Riley': 1, 'Dawn Porter': 1, 'Joshua Marston': 1, 'Lajos Koltai': 1, 'Alice Rohrwacher': 1, 'Errol Morris': 1, 'Apichatpong Weerasethakul': 2, 'Frank Lloyd': 1, 'Bob Persichetti': 1, 'Peter Ramsey': 1, 'Rodney Rothman': 1, 'Robin Hardy': 1, 'Whit Stillman': 1, 'Mark Levinson': 1, 'Jonathan Caouette': 1, 'Claude Nuridsany': 1, 'Marie Pérennou': 1, 'Dana Adam Shapiro': 1, 'Henry Alex Rubin': 1, 'Sasha Joseph Neulinger': 1, 'Scott Hicks': 1, 'Robert Greene': 1, 'Werner Herzog': 1, 'Ben Shapiro': 1, 'Andrei Ujica': 1, 'Anthony Minghella': 1, 'Peter Strickland': 1, 'Arnaud Desplechin': 1, 'Jack Conway': 1, 'Robert Z. Leonard': 1, 'Ruben Östlund': 1, 'Jûzô Itami': 1, 'Brian De Palma': 1, 'Kent Jones': 1, 'W.S. Van Dyke': 1, 'Aleksandr Sokurov': 1, 'John Boorman': 1, 'Cristóbal León': 1, 'Joaquín Cociña': 1, 'Bo Hu': 1, 'Lenny Abrahamson': 1, 'Amir Bar-Lev': 1, 'Abbas Kiarostami': 1, 'Steven Soderbergh': 1}\n"
     ]
    }
   ],
   "source": [
    "all_director_lst = list(all_directors)\n",
    "dictor_count = dict()\n",
    "for i in all_director_lst:\n",
    "    dictor_count[i] = dictor_count.get(i, 0) + 1  # go through all the director in the dict and keep a count of them\n",
    "print(dictor_count)"
   ]
  },
  {
   "cell_type": "code",
   "execution_count": 27,
   "metadata": {},
   "outputs": [
    {
     "name": "stdout",
     "output_type": "stream",
     "text": [
      "Enter First director name: Peter Weir\n",
      "Enter Second director name: Michel Gondry\n",
      "{'Peter Weir': {'Angel Schmiedt': 1, 'Blair Slater': 1, 'Brian Delate': 1, 'Don Taylor': 1, 'Fritz Dominique': 1, 'Heidi Schanz': 1, 'Holland Taylor': 1, 'Judy Clayton': 1, 'Laura Linney': 1, 'Natascha McElhone': 1, 'Noah Emmerich': 1, 'Peter Krause': 1, 'Ron Taylor': 1, 'Ted Raymond': 1, 'Jim Carrey': 1}}\n",
      "{'Michel Gondry': {'Amir Ali Said': 1, 'Brian Price': 1, 'David Cross': 1, 'Debbon Ayer': 1, 'Elijah Wood': 1, 'Gerry Robert Byrne': 1, 'Jane Adams': 1, 'Kirsten Dunst': 1, 'Mark Ruffalo': 1, 'Paulie Litt': 1, 'Ryan Whitney': 1, 'Thomas Jay Ryan': 1, 'Jim Carrey': 1, 'Kate Winslet': 1, 'Tom Wilkinson': 1}}\n"
     ]
    }
   ],
   "source": [
    "# Alfred Hitchcock\n",
    "# Orson Welles\n",
    "# Francis Ford Coppola\n",
    "# Michael Curtiz\n",
    "# Peter Weir\n",
    "# Michel Gondry\n",
    "\n",
    "dire_1 = input(\"Enter First director name: \")\n",
    "dire_2 = input(\"Enter Second director name: \")\n",
    "\n",
    "dire_1_one = 0\n",
    "dire_2_one = 0\n",
    "\n",
    "for i in directors:\n",
    "    if i[0] == dire_1:\n",
    "        dire_1_one = 1\n",
    "        \n",
    "for i in directors:\n",
    "    if i[0] == dire_2:\n",
    "        dire_2_one = 1\n",
    "        \n",
    "# print(dire_2_one)\n",
    "\n",
    "while True: \n",
    "    if dire_1 != '' and dire_2 != '' and dire_1_one == 1 and dire_2_one == 1:\n",
    "        break\n",
    "    else:\n",
    "        print(\"\\n\")\n",
    "        print(\"Enter a valid movie name\")\n",
    "        if dire_1_one != 1:\n",
    "            print(\" Your Director 1 name was wrong: Try again\")\n",
    "            dire_1 = input(\"Enter First director name: \")\n",
    "            for i in directors:\n",
    "                if i[0] == dire_1:\n",
    "                    dire_1_one = 1\n",
    "        if dire_2_one != 1:\n",
    "            print(\" Your Director 2 name was wrong. try again\")\n",
    "            dire_2 = input(\"Enter Second director name: \") \n",
    "            for i in directors:\n",
    "                if i[0] == dire_2:\n",
    "                    dire_2_one = 1\n",
    "\n",
    "\n",
    "# if my director is present in my list brea\n",
    "        \n",
    "dic1 = cast_counting(dire_1)\n",
    "print(dic1)\n",
    "dic2 = cast_counting(dire_2)\n",
    "print(dic2)\n",
    "\n",
    "       \n"
   ]
  },
  {
   "cell_type": "markdown",
   "metadata": {},
   "source": [
    "#### Append the dictionary that was returned into a common list"
   ]
  },
  {
   "cell_type": "code",
   "execution_count": 28,
   "metadata": {},
   "outputs": [
    {
     "name": "stdout",
     "output_type": "stream",
     "text": [
      "[{'Peter Weir': {'Angel Schmiedt': 1, 'Blair Slater': 1, 'Brian Delate': 1, 'Don Taylor': 1, 'Fritz Dominique': 1, 'Heidi Schanz': 1, 'Holland Taylor': 1, 'Judy Clayton': 1, 'Laura Linney': 1, 'Natascha McElhone': 1, 'Noah Emmerich': 1, 'Peter Krause': 1, 'Ron Taylor': 1, 'Ted Raymond': 1, 'Jim Carrey': 1}}, {'Michel Gondry': {'Amir Ali Said': 1, 'Brian Price': 1, 'David Cross': 1, 'Debbon Ayer': 1, 'Elijah Wood': 1, 'Gerry Robert Byrne': 1, 'Jane Adams': 1, 'Kirsten Dunst': 1, 'Mark Ruffalo': 1, 'Paulie Litt': 1, 'Ryan Whitney': 1, 'Thomas Jay Ryan': 1, 'Jim Carrey': 1, 'Kate Winslet': 1, 'Tom Wilkinson': 1}}]\n"
     ]
    }
   ],
   "source": [
    "all_movie = []\n",
    "all_movie.append(dic1)\n",
    "all_movie.append(dic2)\n",
    "print(all_movie)"
   ]
  },
  {
   "cell_type": "markdown",
   "metadata": {},
   "source": [
    "#### we first need to extract the list of actors and how many time they have worked together"
   ]
  },
  {
   "cell_type": "code",
   "execution_count": 29,
   "metadata": {},
   "outputs": [],
   "source": [
    "for i in all_movie:\n",
    "    for k, v in i.items():\n",
    "        if k == dire_1:     # if the director name matches as that of user input grab the cast\n",
    "            sub_dic1 = v\n",
    "\n",
    "for i in all_movie:\n",
    "    for k, v in i.items():\n",
    "        if k == dire_2:\n",
    "            sub_dic2 = v\n",
    "            \n",
    "# print(sub_dic1)\n",
    "# print(sub_dic2)"
   ]
  },
  {
   "cell_type": "markdown",
   "metadata": {},
   "source": [
    "### then program creates the combined list containing all actors that the 2 directors have worked with"
   ]
  },
  {
   "cell_type": "code",
   "execution_count": 30,
   "metadata": {},
   "outputs": [],
   "source": [
    "#first program extract the actor names, which are the keys\n",
    "sub_actor1 = list(sub_dic1.keys())\n",
    "sub_actor2 = list(sub_dic2.keys())\n",
    "\n",
    "#then program convert them into sets, so that it can find a combined set using the union function\n",
    "set_actor1 = set(sub_actor1)\n",
    "set_actor2 = set(sub_actor2)\n",
    "combine_set = set_actor1.union(set_actor2)\n",
    "\n",
    "# print(combine_set)"
   ]
  },
  {
   "cell_type": "code",
   "execution_count": 31,
   "metadata": {},
   "outputs": [
    {
     "name": "stdout",
     "output_type": "stream",
     "text": [
      "{'Tom Wilkinson': 0, 'Laura Linney': 0, 'Noah Emmerich': 0, 'Paulie Litt': 0, 'Elijah Wood': 0, 'Thomas Jay Ryan': 0, 'Ron Taylor': 0, 'David Cross': 0, 'Gerry Robert Byrne': 0, 'Blair Slater': 0, 'Heidi Schanz': 0, 'Debbon Ayer': 0, 'Mark Ruffalo': 0, 'Peter Krause': 0, 'Jim Carrey': 0, 'Angel Schmiedt': 0, 'Judy Clayton': 0, 'Jane Adams': 0, 'Don Taylor': 0, 'Ryan Whitney': 0, 'Holland Taylor': 0, 'Ted Raymond': 0, 'Kirsten Dunst': 0, 'Brian Delate': 0, 'Kate Winslet': 0, 'Fritz Dominique': 0, 'Natascha McElhone': 0, 'Brian Price': 0, 'Amir Ali Said': 0}\n",
      "{'Tom Wilkinson': 0, 'Laura Linney': 0, 'Noah Emmerich': 0, 'Paulie Litt': 0, 'Elijah Wood': 0, 'Thomas Jay Ryan': 0, 'Ron Taylor': 0, 'David Cross': 0, 'Gerry Robert Byrne': 0, 'Blair Slater': 0, 'Heidi Schanz': 0, 'Debbon Ayer': 0, 'Mark Ruffalo': 0, 'Peter Krause': 0, 'Jim Carrey': 0, 'Angel Schmiedt': 0, 'Judy Clayton': 0, 'Jane Adams': 0, 'Don Taylor': 0, 'Ryan Whitney': 0, 'Holland Taylor': 0, 'Ted Raymond': 0, 'Kirsten Dunst': 0, 'Brian Delate': 0, 'Kate Winslet': 0, 'Fritz Dominique': 0, 'Natascha McElhone': 0, 'Brian Price': 0, 'Amir Ali Said': 0}\n"
     ]
    }
   ],
   "source": [
    "#let's next create a dictionary out of the combined list, filling in 0 for all the values\n",
    "dir1_actor = {}\n",
    "for i in combine_set:\n",
    "    dir1_actor[i] = 0\n",
    "print(dir1_actor)\n",
    "\n",
    "dir2_actor = {}\n",
    "for i in combine_set:\n",
    "    dir2_actor[i] = 0\n",
    "print(dir2_actor)"
   ]
  },
  {
   "cell_type": "code",
   "execution_count": 32,
   "metadata": {},
   "outputs": [
    {
     "name": "stdout",
     "output_type": "stream",
     "text": [
      "{'Tom Wilkinson': 0, 'Laura Linney': 1, 'Noah Emmerich': 1, 'Paulie Litt': 0, 'Elijah Wood': 0, 'Thomas Jay Ryan': 0, 'Ron Taylor': 1, 'David Cross': 0, 'Gerry Robert Byrne': 0, 'Blair Slater': 1, 'Heidi Schanz': 1, 'Debbon Ayer': 0, 'Mark Ruffalo': 0, 'Peter Krause': 1, 'Jim Carrey': 1, 'Angel Schmiedt': 1, 'Judy Clayton': 1, 'Jane Adams': 0, 'Don Taylor': 1, 'Ryan Whitney': 0, 'Holland Taylor': 1, 'Ted Raymond': 1, 'Kirsten Dunst': 0, 'Brian Delate': 1, 'Kate Winslet': 0, 'Fritz Dominique': 1, 'Natascha McElhone': 1, 'Brian Price': 0, 'Amir Ali Said': 0}\n"
     ]
    }
   ],
   "source": [
    "#for those actors that director1 have worked with, replace the 0 with the actual values\n",
    "for key, value in dir1_actor.items():\n",
    "    for k, v in sub_dic1.items():\n",
    "        if key == k:\n",
    "            dir1_actor[key] = v\n",
    "print(dir1_actor)"
   ]
  },
  {
   "cell_type": "code",
   "execution_count": 33,
   "metadata": {},
   "outputs": [
    {
     "name": "stdout",
     "output_type": "stream",
     "text": [
      "{'Tom Wilkinson': 1, 'Laura Linney': 0, 'Noah Emmerich': 0, 'Paulie Litt': 1, 'Elijah Wood': 1, 'Thomas Jay Ryan': 1, 'Ron Taylor': 0, 'David Cross': 1, 'Gerry Robert Byrne': 1, 'Blair Slater': 0, 'Heidi Schanz': 0, 'Debbon Ayer': 1, 'Mark Ruffalo': 1, 'Peter Krause': 0, 'Jim Carrey': 1, 'Angel Schmiedt': 0, 'Judy Clayton': 0, 'Jane Adams': 1, 'Don Taylor': 0, 'Ryan Whitney': 1, 'Holland Taylor': 0, 'Ted Raymond': 0, 'Kirsten Dunst': 1, 'Brian Delate': 0, 'Kate Winslet': 1, 'Fritz Dominique': 0, 'Natascha McElhone': 0, 'Brian Price': 1, 'Amir Ali Said': 1}\n"
     ]
    }
   ],
   "source": [
    "#do the same thing for director2\n",
    "for key, value in dir2_actor.items():\n",
    "    for k, v in sub_dic2.items():\n",
    "        if key == k:\n",
    "            dir2_actor[key] = v\n",
    "print(dir2_actor)"
   ]
  },
  {
   "cell_type": "code",
   "execution_count": 34,
   "metadata": {},
   "outputs": [
    {
     "name": "stdout",
     "output_type": "stream",
     "text": [
      "[0, 1, 1, 0, 0, 0, 1, 0, 0, 1, 1, 0, 0, 1, 1, 1, 1, 0, 1, 0, 1, 1, 0, 1, 0, 1, 1, 0, 0]\n",
      "[1, 0, 0, 1, 1, 1, 0, 1, 1, 0, 0, 1, 1, 0, 1, 0, 0, 1, 0, 1, 0, 0, 1, 0, 1, 0, 0, 1, 1]\n"
     ]
    }
   ],
   "source": [
    "#now that we have a uniform dictionary across the 2 directors, we can extract the values in vectors\n",
    "#ready for comparison\n",
    "dir1_vector = list(dir1_actor.values())\n",
    "dir2_vector = list(dir2_actor.values())\n",
    "print(dir1_vector)\n",
    "print(dir2_vector)"
   ]
  },
  {
   "cell_type": "markdown",
   "metadata": {},
   "source": [
    "### calculate cosine similarity"
   ]
  },
  {
   "cell_type": "code",
   "execution_count": 35,
   "metadata": {},
   "outputs": [
    {
     "name": "stdout",
     "output_type": "stream",
     "text": [
      "1\n"
     ]
    }
   ],
   "source": [
    "divident = 0 \n",
    "for i in range(len(dir1_vector)):\n",
    "    summing = dir1_vector[i] * dir2_vector[i]\n",
    "    divident = divident + summing\n",
    "print(divident)"
   ]
  },
  {
   "cell_type": "code",
   "execution_count": 36,
   "metadata": {},
   "outputs": [
    {
     "name": "stdout",
     "output_type": "stream",
     "text": [
      "15.000000000000002\n"
     ]
    }
   ],
   "source": [
    "a = 0\n",
    "b = 0\n",
    "for i in range(len(dir1_vector)):\n",
    "    sum1 = (dir1_vector[i])**2\n",
    "    a = a + sum1\n",
    "    sum2 = (dir2_vector[i])**2\n",
    "    b = b + sum2\n",
    "divisor = (a**0.5)*(b**0.5)\n",
    "print(divisor)"
   ]
  },
  {
   "cell_type": "code",
   "execution_count": 37,
   "metadata": {},
   "outputs": [
    {
     "name": "stdout",
     "output_type": "stream",
     "text": [
      "The Cosine similarity of 2 directors are:  0.06666666666666665\n"
     ]
    }
   ],
   "source": [
    "cosine_similarity = divident/divisor\n",
    "print(\"The Cosine similarity of 2 directors are: \",cosine_similarity)"
   ]
  },
  {
   "cell_type": "markdown",
   "metadata": {},
   "source": [
    "# Third Question"
   ]
  },
  {
   "cell_type": "markdown",
   "metadata": {},
   "source": [
    "### Here the program creates a dictionary of all actor/actresses that have worked with one another"
   ]
  },
  {
   "cell_type": "code",
   "execution_count": 38,
   "metadata": {},
   "outputs": [],
   "source": [
    "def actor_counting(director_cast_dict,actor):\n",
    "        \n",
    "    # Extract Each Director and cast from the All movie and seperate the one which user inputs\n",
    "    list_of_all_casts = []\n",
    "    for i in director_cast_dict:\n",
    "\n",
    "        for key,value in director_cast_dict[i].items():\n",
    "            list_of_all_casts.append(value)\n",
    "\n",
    "    \n",
    "    # grab a list of cast with that specific actor in it\n",
    "    list_of_cast_with_actor = []\n",
    "    for i in list_of_all_casts:\n",
    "        if i is None:\n",
    "            continue\n",
    "    \n",
    "        if actor in i:\n",
    "            list_of_cast_with_actor.append(i)\n",
    "             \n",
    "            \n",
    "            \n",
    "    # remove that actor from the list\n",
    "    list_of_cast_without_actor = []\n",
    "    for lst in list_of_cast_with_actor:\n",
    "        for j in lst:\n",
    "            if j != actor:\n",
    "                list_of_cast_without_actor.append(j)\n",
    "\n",
    "    # count how many times each one have appeared in this list\n",
    "    frequ = {}\n",
    "    for item in list_of_cast_without_actor:\n",
    "        if (item in frequ):\n",
    "            frequ[item] += 1\n",
    "        else:\n",
    "            frequ[item] = 1\n",
    "            \n",
    "            \n",
    "    dic = {actor : frequ}\n",
    "    \n",
    "    return dic"
   ]
  },
  {
   "cell_type": "markdown",
   "metadata": {},
   "source": [
    "## Callling the function here. Checking Out the famous Actor each one had worked with."
   ]
  },
  {
   "cell_type": "code",
   "execution_count": 39,
   "metadata": {},
   "outputs": [
    {
     "name": "stdout",
     "output_type": "stream",
     "text": [
      "actor one is:  Orson Welles\n",
      "The Famous Actore Orson Welles has worked with is:  Joseph Cotten\n",
      "\n",
      "\n",
      "actor two is:  Agnes Moorehead\n",
      "The Famous Actore Agnes Moorehead has worked with is:  Erskine Sanford\n",
      "\n",
      "\n",
      "\n",
      "\n",
      "The cosine similarity of Orson Welles and Agnes Moorehead are:  0.6383450536225745\n",
      "\n",
      "\n",
      "---------------------------------------------------------------\n",
      "\n",
      "\n",
      "actor one is:  Orson Welles\n",
      "The Famous Actore Orson Welles has worked with is:  Joseph Cotten\n",
      "\n",
      "\n",
      "actor two is:  Ray Collins\n",
      "The Famous Actore Ray Collins has worked with is:  Orson Welles\n",
      "\n",
      "\n",
      "\n",
      "\n",
      "The cosine similarity of Orson Welles and Ray Collins are:  0.5970149490461657\n",
      "\n",
      "\n",
      "---------------------------------------------------------------\n",
      "\n",
      "\n",
      "actor one is:  Orson Welles\n",
      "The Famous Actore Orson Welles has worked with is:  Joseph Cotten\n",
      "\n",
      "\n",
      "actor two is:  Bradley Cooper\n",
      "The Famous Actore Bradley Cooper has worked with is:  Andrew Dice Clay\n",
      "\n",
      "\n",
      "\n",
      "\n",
      "The cosine similarity of Orson Welles and Bradley Cooper are:  0.0\n",
      "\n",
      "\n",
      "---------------------------------------------------------------\n",
      "\n",
      "\n",
      "actor one is:  Orson Welles\n",
      "The Famous Actore Orson Welles has worked with is:  Joseph Cotten\n",
      "\n",
      "\n",
      "actor two is:  Lady Gaga\n",
      "The Famous Actore Lady Gaga has worked with is:  Andrew Dice Clay\n",
      "\n",
      "\n",
      "\n",
      "\n",
      "The cosine similarity of Orson Welles and Lady Gaga are:  0.0\n",
      "\n",
      "\n",
      "---------------------------------------------------------------\n",
      "\n",
      "\n",
      "actor one is:  Agnes Moorehead\n",
      "The Famous Actore Agnes Moorehead has worked with is:  Erskine Sanford\n",
      "\n",
      "\n",
      "actor two is:  Ray Collins\n",
      "The Famous Actore Ray Collins has worked with is:  Orson Welles\n",
      "\n",
      "\n",
      "\n",
      "\n",
      "The cosine similarity of Agnes Moorehead and Ray Collins are:  0.7031374768163903\n",
      "\n",
      "\n",
      "---------------------------------------------------------------\n",
      "\n",
      "\n",
      "actor one is:  Agnes Moorehead\n",
      "The Famous Actore Agnes Moorehead has worked with is:  Erskine Sanford\n",
      "\n",
      "\n",
      "actor two is:  Bradley Cooper\n",
      "The Famous Actore Bradley Cooper has worked with is:  Andrew Dice Clay\n",
      "\n",
      "\n",
      "\n",
      "\n",
      "The cosine similarity of Agnes Moorehead and Bradley Cooper are:  0.0\n",
      "\n",
      "\n",
      "---------------------------------------------------------------\n",
      "\n",
      "\n",
      "actor one is:  Agnes Moorehead\n",
      "The Famous Actore Agnes Moorehead has worked with is:  Erskine Sanford\n",
      "\n",
      "\n",
      "actor two is:  Lady Gaga\n",
      "The Famous Actore Lady Gaga has worked with is:  Andrew Dice Clay\n",
      "\n",
      "\n",
      "\n",
      "\n",
      "The cosine similarity of Agnes Moorehead and Lady Gaga are:  0.0\n",
      "\n",
      "\n",
      "---------------------------------------------------------------\n",
      "\n",
      "\n",
      "actor one is:  Ray Collins\n",
      "The Famous Actore Ray Collins has worked with is:  Orson Welles\n",
      "\n",
      "\n",
      "actor two is:  Bradley Cooper\n",
      "The Famous Actore Bradley Cooper has worked with is:  Andrew Dice Clay\n",
      "\n",
      "\n",
      "\n",
      "\n",
      "The cosine similarity of Ray Collins and Bradley Cooper are:  0.0\n",
      "\n",
      "\n",
      "---------------------------------------------------------------\n",
      "\n",
      "\n",
      "actor one is:  Ray Collins\n",
      "The Famous Actore Ray Collins has worked with is:  Orson Welles\n",
      "\n",
      "\n",
      "actor two is:  Lady Gaga\n",
      "The Famous Actore Lady Gaga has worked with is:  Andrew Dice Clay\n",
      "\n",
      "\n",
      "\n",
      "\n",
      "The cosine similarity of Ray Collins and Lady Gaga are:  0.0\n",
      "\n",
      "\n",
      "---------------------------------------------------------------\n",
      "\n",
      "\n",
      "actor one is:  Bradley Cooper\n",
      "The Famous Actore Bradley Cooper has worked with is:  Andrew Dice Clay\n",
      "\n",
      "\n",
      "actor two is:  Lady Gaga\n",
      "The Famous Actore Lady Gaga has worked with is:  Andrew Dice Clay\n",
      "\n",
      "\n",
      "\n",
      "\n",
      "The cosine similarity of Bradley Cooper and Lady Gaga are:  0.8728767972360391\n",
      "\n",
      "\n",
      "---------------------------------------------------------------\n",
      "\n",
      "\n"
     ]
    }
   ],
   "source": [
    "import operator\n",
    "director_cast_dict = all_movies[0]\n",
    "\n",
    "# created a list of 5 actors\n",
    "\n",
    "# l1 = [\"Orson Welles\",\"Agnes Moorehead\",\"Joseph Cotten\",\"Ray Collins\",'Erskine Sanford']\n",
    "# l1 = [\"Orson Welles\",\"Agnes Moorehead\",\"Joseph Cotten\",\"Ray Collins\",'Lady Gaga']\n",
    "# l1 = [\"Orson Welles\",\"Agnes Moorehead\",\"Joseph Cotten\",\"Bradley Cooper\",'Lady Gaga']\n",
    "l1 = [\"Orson Welles\",\"Agnes Moorehead\",\"Ray Collins\",\"Bradley Cooper\",'Lady Gaga']\n",
    "\n",
    "five_actor = []\n",
    "\n",
    "# looping through the list so as to compare each actor with one another\n",
    "# eg 1 with 2,3,4,5 and 2 with 3,4,5 and so on\n",
    "for i in range(len(l1)-1):\n",
    "    actor_one= l1[i]\n",
    "    for j in range(i+1,len(l1)):\n",
    "        actor_two = l1[j]\n",
    "        l2 = [actor_one,actor_two]\n",
    "        five_actor.append(l2)\n",
    "\n",
    "cos = []\n",
    "all_movie = []\n",
    "for i in five_actor:\n",
    "#     print(i)\n",
    "    actor_one = i[0]\n",
    "    actor_two = i[1]\n",
    "    \n",
    "    dic_one = actor_counting(director_cast_dict,actor_one)\n",
    "    \n",
    "    print(\"actor one is: \",actor_one)\n",
    "#     print(\"\\n\")\n",
    "#     print(dic_one)\n",
    "#     print(\"\\n\\n\")\n",
    "    \n",
    "    list_of_dict_values_one = list(dic_one.values())\n",
    "    for i in list_of_dict_values_one:\n",
    "        print(\"The Famous Actore\",actor_one,\"has worked with is: \",max(i.items(), key=operator.itemgetter(1))[0])\n",
    "        \n",
    "    print(\"\\n\")\n",
    "    \n",
    "    dic_two = actor_counting(director_cast_dict,actor_two)\n",
    "    print(\"actor two is: \",actor_two)\n",
    "#     print(\"\\n\")\n",
    "#     print(dic_two)\n",
    "#     print(\"\\n\")\n",
    "    \n",
    "    list_of_dict_values_two = list(dic_two.values())\n",
    "    for i in list_of_dict_values_two:\n",
    "        print(\"The Famous Actore\",actor_two,\"has worked with is: \",max(i.items(), key=operator.itemgetter(1))[0])\n",
    "    print(\"\\n\")\n",
    "       \n",
    "    all_movie.append(dic_one)\n",
    "    all_movie.append(dic_two)\n",
    "#     print(all_movie)\n",
    "    \n",
    "    #we first need to extract the list of actors and how many time they have worked together\n",
    "    for i in all_movie:\n",
    "        for k, v in i.items():\n",
    "            if k == actor_one:\n",
    "                sub_dic1 = v\n",
    "\n",
    "    for i in all_movie:\n",
    "        for k, v in i.items():\n",
    "            if k == actor_two:\n",
    "                sub_dic2 = v\n",
    "\n",
    "#     print(sub_dic1)\n",
    "#     print(sub_dic2)\n",
    "\n",
    "\n",
    "    #then we need to create the combined list containing all actors that the 2 actors have worked with\n",
    "    #first we extract the actor names, which are the keys\n",
    "    sub_actor1 = list(sub_dic1.keys())\n",
    "    sub_actor2 = list(sub_dic2.keys())\n",
    "\n",
    "    #then we convert them into sets, so that we can find a combined set using the union function\n",
    "    set_actor1 = set(sub_actor1)\n",
    "    set_actor2 = set(sub_actor2)\n",
    "    combine_set = set_actor1.union(set_actor2)\n",
    "\n",
    "#     print(combine_set)    \n",
    "    \n",
    "\n",
    "    #let's next create a dictionary out of the combined list, filling in 0 for all the values\n",
    "    # you will see why in the next step\n",
    "    dir1_actor = dict()\n",
    "    for i in combine_set:\n",
    "        dir1_actor[i] = 0\n",
    "#     print(dir1_actor)\n",
    "\n",
    "    dir2_actor = dict()\n",
    "    for i in combine_set:\n",
    "        dir2_actor[i] = 0\n",
    "#     print(dir2_actor)    \n",
    "\n",
    "    #for those actors that actor_1 have worked with, replace the 0 with the actual values\n",
    "    for key, value in dir1_actor.items():\n",
    "        for k, v in sub_dic1.items():\n",
    "            if key == k:\n",
    "                dir1_actor[key] = v\n",
    "#     print(dir1_actor)\n",
    "\n",
    "    #do the same thing for director2\n",
    "    for key, value in dir2_actor.items():\n",
    "        for k, v in sub_dic2.items():\n",
    "            if key == k:\n",
    "                dir2_actor[key] = v\n",
    "#     print(dir2_actor)   \n",
    "    \n",
    "    #now that we have a uniform dictionary across the 2 directors, we can extract the values in vectors\n",
    "    #ready for comparison\n",
    "    dir1_vector = list(dir1_actor.values())\n",
    "    dir2_vector = list(dir2_actor.values())\n",
    "#     print(dir1_vector)\n",
    "#     print(dir2_vector)\n",
    "\n",
    "    divident = 0 \n",
    "    for i in range(len(dir1_vector)):\n",
    "        summing = dir1_vector[i] * dir2_vector[i]\n",
    "        divident = divident + summing\n",
    "#     print(divident)    \n",
    "    \n",
    "    a = 0\n",
    "    b = 0\n",
    "    for i in range(len(dir1_vector)):\n",
    "        sum1 = (dir1_vector[i])**2\n",
    "        a = a + sum1\n",
    "        sum2 = (dir2_vector[i])**2\n",
    "        b = b + sum2\n",
    "    divisor = (a**0.5)*(b**0.5)\n",
    "#     print(divisor)    \n",
    "    \n",
    "    cosine_similarity = divident/divisor\n",
    "    print(\"\\n\")\n",
    "    print(\"The cosine similarity of\", actor_one ,\"and\", actor_two ,\"are: \",cosine_similarity)\n",
    "    print(\"\\n\")\n",
    "    print(\"---------------------------------------------------------------\")\n",
    "    print(\"\\n\")\n",
    "    cos.append(cosine_similarity)"
   ]
  },
  {
   "cell_type": "markdown",
   "metadata": {},
   "source": [
    "## The Combined Cosine Similarity are"
   ]
  },
  {
   "cell_type": "code",
   "execution_count": 40,
   "metadata": {},
   "outputs": [
    {
     "name": "stdout",
     "output_type": "stream",
     "text": [
      "The Cosine similarity is :  [0.6383450536225745, 0.5970149490461657, 0.0, 0.0, 0.7031374768163903, 0.0, 0.0, 0.0, 0.0, 0.8728767972360391]\n"
     ]
    }
   ],
   "source": [
    "print(\"The Cosine similarity is : \",cos)"
   ]
  },
  {
   "cell_type": "markdown",
   "metadata": {},
   "source": [
    "## Cosine Similarity Of One actor with Remaining Actors"
   ]
  },
  {
   "cell_type": "code",
   "execution_count": 41,
   "metadata": {},
   "outputs": [
    {
     "name": "stdout",
     "output_type": "stream",
     "text": [
      "cosine similarity of  Orson Welles  with Agnes Moorehead , Ray Collins , Bradley Cooper , Lady Gaga is :  1.2353600026687404\n",
      "cosine similarity of  Agnes Moorehead  with Orson Welles , Ray Collins , Bradley Cooper , Lady Gaga is :  1.3414825304389648\n",
      "cosine similarity of  Ray Collins  with Orson Welles , Agnes Moorehead , Bradley Cooper , Lady Gaga is :  1.300152425862556\n",
      "cosine similarity of  Bradley Cooper  with Orson Welles , Agnes Moorehead , Ray Collins , Lady Gaga is :  0.8728767972360391\n",
      "cosine similarity of  Lady Gaga with Orson Welles , Agnes Moorehead , Ray Collins , Bradley Cooper is :  0.8728767972360391\n"
     ]
    }
   ],
   "source": [
    "cosine_similarity_of_actor_one = cos[0] + cos[1] + cos[2] + cos[3]\n",
    "cosine_similarity_of_actor_two = cos[0] + cos[4] + cos[5] + cos[6]\n",
    "cosine_similarity_of_actor_three = cos[1] + cos[4] + cos[7] + cos[8]\n",
    "cosine_similarity_of_actor_four = cos[2] + cos[5] + cos[7] + cos[9]\n",
    "cosine_similarity_of_actor_five = cos[3] + cos[6] + cos[8] + cos[9]\n",
    "\n",
    "print(\"cosine similarity of \",l1[0],\" with\", l1[1],\",\",l1[2],\",\",l1[3],\",\",l1[4],\"is : \",cosine_similarity_of_actor_one)\n",
    "print(\"cosine similarity of \",l1[1],\" with\",l1[0],\",\",l1[2],\",\",l1[3],\",\",l1[4], \"is : \",cosine_similarity_of_actor_two)\n",
    "print(\"cosine similarity of \",l1[2],\" with\" ,l1[0],\",\",l1[1],\",\",l1[3],\",\",l1[4],\"is : \",cosine_similarity_of_actor_three)\n",
    "print(\"cosine similarity of \",l1[3],\" with\" ,l1[0],\",\",l1[1],\",\",l1[2],\",\",l1[4], \"is : \",cosine_similarity_of_actor_four)\n",
    "print(\"cosine similarity of \",l1[4],\"with\" ,l1[0],\",\",l1[1],\",\",l1[2],\",\",l1[3], \"is : \",cosine_similarity_of_actor_five)"
   ]
  },
  {
   "cell_type": "code",
   "execution_count": null,
   "metadata": {},
   "outputs": [],
   "source": []
  }
 ],
 "metadata": {
  "kernelspec": {
   "display_name": "Python 3",
   "language": "python",
   "name": "python3"
  },
  "language_info": {
   "codemirror_mode": {
    "name": "ipython",
    "version": 3
   },
   "file_extension": ".py",
   "mimetype": "text/x-python",
   "name": "python",
   "nbconvert_exporter": "python",
   "pygments_lexer": "ipython3",
   "version": "3.8.5"
  }
 },
 "nbformat": 4,
 "nbformat_minor": 4
}
